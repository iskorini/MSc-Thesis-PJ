{
 "cells": [
  {
   "cell_type": "code",
   "execution_count": 1,
   "metadata": {},
   "outputs": [
    {
     "name": "stderr",
     "output_type": "stream",
     "text": [
      "Using TensorFlow backend.\n"
     ]
    },
    {
     "name": "stdout",
     "output_type": "stream",
     "text": [
      "2 Physical GPUs, 1 Logical GPUs\n"
     ]
    }
   ],
   "source": [
    "%matplotlib inline\n",
    "\n",
    "import os\n",
    "\n",
    "#import comet_ml\n",
    "from comet_ml import Experiment\n",
    "from comet_ml import Optimizer\n",
    "API_KEY = 'spsZWUefep11cUugBplS6AKQm' #os.environ['COMET_API_KEY']\n",
    "\n",
    "# import keras\n",
    "import keras\n",
    "from keras import backend as K \n",
    "\n",
    "# import keras_retinanet\n",
    "from keras_retinanet import models\n",
    "from keras_retinanet.utils.image import read_image_bgr, preprocess_image, resize_image\n",
    "from keras_retinanet.utils.visualization import draw_box, draw_caption\n",
    "from keras_retinanet.utils.colors import label_color\n",
    "from keras_retinanet.utils.gpu import setup_gpu\n",
    "from keras_retinanet.losses import smooth_l1, focal\n",
    "from keras_retinanet.preprocessing import csv_generator\n",
    "from keras_retinanet.utils.eval import evaluate\n",
    "\n",
    "# other imports\n",
    "from pathlib import Path\n",
    "import numpy as np\n",
    "import matplotlib.pyplot as plt\n",
    "\n",
    "setup_gpu(0)"
   ]
  },
  {
   "cell_type": "code",
   "execution_count": 2,
   "metadata": {},
   "outputs": [],
   "source": [
    "default_params = {\n",
    "    'N': 3,\n",
    "    'M': 10\n",
    "}\n",
    "dataset_path = Path('/data/students_home/fschipani/thesis/MSc-Thesis-PJ/Dataset/KAIST_MPD/fine_tuning_kaist_cars/ds')\n",
    "train_annotations = dataset_path.joinpath('train_no_people.csv')\n",
    "test_annotations = dataset_path.joinpath('test_w_people.csv')\n",
    "classes = Path('/data/students_home/fschipani/thesis/MSc-Thesis-PJ/Dataset/KAIST_MPD/class_name_to_ID_CARS.csv')\n",
    "\n",
    "def create_train_generator(N, M):\n",
    "    train_generator = csv_generator.CSVGenerator(\n",
    "        train_annotations,\n",
    "        classes,\n",
    "        transform_generator=None,\n",
    "        visual_effect_generator=None,\n",
    "        image_min_side=800,\n",
    "        image_max_side=1333,\n",
    "        auto_augment=None,\n",
    "        rand_augment=(N,M),\n",
    "        config=None\n",
    "        )\n",
    "    return train_generator\n",
    "\n",
    "def create_test_generator():\n",
    "    test_generator = csv_generator.CSVGenerator(\n",
    "    test_annotations,\n",
    "    classes,\n",
    "    shuffle_groups=False,\n",
    "    auto_augment=None,\n",
    "    rand_augment=None,\n",
    "    config=None)\n",
    "    return test_generator\n",
    "    \n",
    "train_generator = create_train_generator(default_params['N'], default_params['M'])\n",
    "test_generator = create_test_generator()"
   ]
  },
  {
   "cell_type": "code",
   "execution_count": 3,
   "metadata": {},
   "outputs": [],
   "source": [
    "def create_model():\n",
    "    model_path = Path('/data/students_home/fschipani/thesis/keras-retinanet/snapshots/resnet50_coco_best_v2.1.0.h5')\n",
    "    model = models.backbone('resnet50').retinanet(num_classes=train_generator.num_classes())\n",
    "    model.load_weights(model_path, by_name=True, skip_mismatch=True)\n",
    "    model.compile(\n",
    "        loss={\n",
    "            'regression'    : smooth_l1(),\n",
    "            'classification': focal()\n",
    "        },\n",
    "        optimizer=keras.optimizers.adam(lr=1e-5, clipnorm=0.001)\n",
    "    )\n",
    "    return model"
   ]
  },
  {
   "cell_type": "code",
   "execution_count": 4,
   "metadata": {},
   "outputs": [
    {
     "name": "stderr",
     "output_type": "stream",
     "text": [
      "/data/students_home/fschipani/.local/lib/python3.7/site-packages/keras/engine/saving.py:1319: UserWarning: Skipping loading of weights for layer classification_submodel due to mismatch in shape ((3, 3, 256, 27) vs (720, 256, 3, 3)).\n",
      "  weight_values[i].shape))\n",
      "/data/students_home/fschipani/.local/lib/python3.7/site-packages/keras/engine/saving.py:1319: UserWarning: Skipping loading of weights for layer classification_submodel due to mismatch in shape ((27,) vs (720,)).\n",
      "  weight_values[i].shape))\n"
     ]
    },
    {
     "name": "stdout",
     "output_type": "stream",
     "text": [
      "tracking <tf.Variable 'Variable:0' shape=(9, 4) dtype=float32, numpy=\n",
      "array([[-22.627417, -11.313708,  22.627417,  11.313708],\n",
      "       [-28.50876 , -14.25438 ,  28.50876 ,  14.25438 ],\n",
      "       [-35.918785, -17.959393,  35.918785,  17.959393],\n",
      "       [-16.      , -16.      ,  16.      ,  16.      ],\n",
      "       [-20.158737, -20.158737,  20.158737,  20.158737],\n",
      "       [-25.398417, -25.398417,  25.398417,  25.398417],\n",
      "       [-11.313708, -22.627417,  11.313708,  22.627417],\n",
      "       [-14.25438 , -28.50876 ,  14.25438 ,  28.50876 ],\n",
      "       [-17.959393, -35.918785,  17.959393,  35.918785]], dtype=float32)> anchors\n",
      "tracking <tf.Variable 'Variable:0' shape=(9, 4) dtype=float32, numpy=\n",
      "array([[-45.254833, -22.627417,  45.254833,  22.627417],\n",
      "       [-57.01752 , -28.50876 ,  57.01752 ,  28.50876 ],\n",
      "       [-71.83757 , -35.918785,  71.83757 ,  35.918785],\n",
      "       [-32.      , -32.      ,  32.      ,  32.      ],\n",
      "       [-40.317474, -40.317474,  40.317474,  40.317474],\n",
      "       [-50.796833, -50.796833,  50.796833,  50.796833],\n",
      "       [-22.627417, -45.254833,  22.627417,  45.254833],\n",
      "       [-28.50876 , -57.01752 ,  28.50876 ,  57.01752 ],\n",
      "       [-35.918785, -71.83757 ,  35.918785,  71.83757 ]], dtype=float32)> anchors\n",
      "tracking <tf.Variable 'Variable:0' shape=(9, 4) dtype=float32, numpy=\n",
      "array([[ -90.50967 ,  -45.254833,   90.50967 ,   45.254833],\n",
      "       [-114.03504 ,  -57.01752 ,  114.03504 ,   57.01752 ],\n",
      "       [-143.67514 ,  -71.83757 ,  143.67514 ,   71.83757 ],\n",
      "       [ -64.      ,  -64.      ,   64.      ,   64.      ],\n",
      "       [ -80.63495 ,  -80.63495 ,   80.63495 ,   80.63495 ],\n",
      "       [-101.593666, -101.593666,  101.593666,  101.593666],\n",
      "       [ -45.254833,  -90.50967 ,   45.254833,   90.50967 ],\n",
      "       [ -57.01752 , -114.03504 ,   57.01752 ,  114.03504 ],\n",
      "       [ -71.83757 , -143.67514 ,   71.83757 ,  143.67514 ]],\n",
      "      dtype=float32)> anchors\n",
      "tracking <tf.Variable 'Variable:0' shape=(9, 4) dtype=float32, numpy=\n",
      "array([[-181.01933,  -90.50967,  181.01933,   90.50967],\n",
      "       [-228.07008, -114.03504,  228.07008,  114.03504],\n",
      "       [-287.35028, -143.67514,  287.35028,  143.67514],\n",
      "       [-128.     , -128.     ,  128.     ,  128.     ],\n",
      "       [-161.2699 , -161.2699 ,  161.2699 ,  161.2699 ],\n",
      "       [-203.18733, -203.18733,  203.18733,  203.18733],\n",
      "       [ -90.50967, -181.01933,   90.50967,  181.01933],\n",
      "       [-114.03504, -228.07008,  114.03504,  228.07008],\n",
      "       [-143.67514, -287.35028,  143.67514,  287.35028]], dtype=float32)> anchors\n",
      "tracking <tf.Variable 'Variable:0' shape=(9, 4) dtype=float32, numpy=\n",
      "array([[-362.03867, -181.01933,  362.03867,  181.01933],\n",
      "       [-456.14017, -228.07008,  456.14017,  228.07008],\n",
      "       [-574.70056, -287.35028,  574.70056,  287.35028],\n",
      "       [-256.     , -256.     ,  256.     ,  256.     ],\n",
      "       [-322.5398 , -322.5398 ,  322.5398 ,  322.5398 ],\n",
      "       [-406.37466, -406.37466,  406.37466,  406.37466],\n",
      "       [-181.01933, -362.03867,  181.01933,  362.03867],\n",
      "       [-228.07008, -456.14017,  228.07008,  456.14017],\n",
      "       [-287.35028, -574.70056,  287.35028,  574.70056]], dtype=float32)> anchors\n"
     ]
    },
    {
     "name": "stderr",
     "output_type": "stream",
     "text": [
      "Running network: 100% (400 of 400) |#####| Elapsed Time: 0:00:54 Time:  0:00:54\n",
      "Parsing annotations: 100% (400 of 400) |#| Elapsed Time: 0:00:00 Time:  0:00:00\n"
     ]
    }
   ],
   "source": [
    "def test_model(model, generator, score_threshold):\n",
    "    result = evaluate(\n",
    "        generator,\n",
    "        models.convert_model(model, None),\n",
    "        score_threshold=score_threshold,\n",
    "        iou_threshold=0.5,\n",
    "        max_detections=100,\n",
    "        save_path=None\n",
    "    )\n",
    "    return result\n",
    "\n",
    "test_results = test_model(create_model(), create_test_generator(), 0.3)"
   ]
  },
  {
   "cell_type": "code",
   "execution_count": 5,
   "metadata": {},
   "outputs": [
    {
     "data": {
      "text/plain": [
       "0.0"
      ]
     },
     "execution_count": 5,
     "metadata": {},
     "output_type": "execute_result"
    }
   ],
   "source": [
    "test_results[2][0] #mAP for person"
   ]
  },
  {
   "cell_type": "code",
   "execution_count": 6,
   "metadata": {},
   "outputs": [
    {
     "name": "stderr",
     "output_type": "stream",
     "text": [
      "COMET WARNING: Passing Experiment through Optimizer constructor is deprecated; pass them to Optimizer.get_experiments or Optimizer.next\n",
      "COMET INFO: COMET_OPTIMIZER_ID=45a65ba8c57c4d9f8f13662335f86f52\n",
      "COMET INFO: Using optimizer config: {'algorithm': 'bayes', 'configSpaceSize': 'infinite', 'endTime': None, 'id': '45a65ba8c57c4d9f8f13662335f86f52', 'lastUpdateTime': None, 'maxCombo': 0, 'name': '45a65ba8c57c4d9f8f13662335f86f52', 'parameters': {'M': {'max': 30, 'min': 5, 'scalingType': 'uniform', 'type': 'integer'}, 'N': {'max': 3, 'min': 1, 'scalingType': 'uniform', 'type': 'integer'}}, 'predictor': None, 'spec': {'gridSize': 10, 'maxCombo': 0, 'metric': 'mAP', 'minSampleSize': 100, 'objective': 'minimize', 'retryAssignLimit': 0, 'retryLimit': 20, 'seed': 1689429647}, 'startTime': 10618996743, 'state': {'sequence_i': 0, 'sequence_pid': None, 'sequence_retry': 0}, 'status': 'running', 'suggestion_count': 0, 'trials': 1, 'version': '1.0.24'}\n"
     ]
    }
   ],
   "source": [
    "config = {\n",
    "      \"algorithm\": \"bayes\",\n",
    "      \"parameters\": {\n",
    "          \"N\": {\"type\": \"integer\", \"min\": 1, \"max\": 3},\n",
    "          \"M\": {\"type\": \"integer\", \"min\": 5, \"max\": 30},\n",
    "      },\n",
    "      \"spec\": {\n",
    "          \"metric\": \"mAP\",\n",
    "          \"objective\": \"minimize\",\n",
    "      },\n",
    "  }\n",
    "opt = Optimizer(config, api_key=API_KEY, project_name=\"MSC-Thesis-PJ\")\n"
   ]
  },
  {
   "cell_type": "code",
   "execution_count": null,
   "metadata": {},
   "outputs": [
    {
     "name": "stderr",
     "output_type": "stream",
     "text": [
      "COMET INFO: Experiment is live on comet.ml https://www.comet.ml/iskorini/msc-thesis-pj/18756effed4840609fb7a8512dc40bd6\n",
      "\n",
      "/data/students_home/fschipani/.local/lib/python3.7/site-packages/keras/engine/saving.py:1319: UserWarning: Skipping loading of weights for layer classification_submodel due to mismatch in shape ((3, 3, 256, 27) vs (720, 256, 3, 3)).\n",
      "  weight_values[i].shape))\n",
      "/data/students_home/fschipani/.local/lib/python3.7/site-packages/keras/engine/saving.py:1319: UserWarning: Skipping loading of weights for layer classification_submodel due to mismatch in shape ((27,) vs (720,)).\n",
      "  weight_values[i].shape))\n",
      "COMET INFO: Ignoring automatic log_parameter('verbose') because 'keras:verbose' is in COMET_LOGGING_PARAMETERS_IGNORE\n",
      "COMET INFO: Ignoring automatic log_parameter('do_validation') because 'keras:do_validation' is in COMET_LOGGING_PARAMETERS_IGNORE\n"
     ]
    },
    {
     "name": "stdout",
     "output_type": "stream",
     "text": [
      "Epoch 1/5\n"
     ]
    },
    {
     "name": "stderr",
     "output_type": "stream",
     "text": [
      "WARNING: Logging before flag parsing goes to stderr.\n",
      "W1206 14:16:49.277272 140009638913792 def_function.py:474] 5 out of the last 5 calls to <function to_4D_image at 0x7f562630d488> triggered tf.function retracing. Tracing is expensive and the excessive number of tracings is likely due to passing python objects instead of tensors. Also, tf.function has experimental_relax_shapes=True option that relaxes argument shapes that can avoid unnecessary retracing. Please refer to https://www.tensorflow.org/beta/tutorials/eager/tf_function#python_or_tensor_args and https://www.tensorflow.org/api_docs/python/tf/function for more details.\n",
      "W1206 14:16:49.293356 140009638913792 def_function.py:474] 5 out of the last 5 calls to <function from_4D_image at 0x7f562630d620> triggered tf.function retracing. Tracing is expensive and the excessive number of tracings is likely due to passing python objects instead of tensors. Also, tf.function has experimental_relax_shapes=True option that relaxes argument shapes that can avoid unnecessary retracing. Please refer to https://www.tensorflow.org/beta/tutorials/eager/tf_function#python_or_tensor_args and https://www.tensorflow.org/api_docs/python/tf/function for more details.\n",
      "W1206 14:16:49.297526 140009638913792 def_function.py:474] 5 out of the last 5 calls to <function transform at 0x7f562631db70> triggered tf.function retracing. Tracing is expensive and the excessive number of tracings is likely due to passing python objects instead of tensors. Also, tf.function has experimental_relax_shapes=True option that relaxes argument shapes that can avoid unnecessary retracing. Please refer to https://www.tensorflow.org/beta/tutorials/eager/tf_function#python_or_tensor_args and https://www.tensorflow.org/api_docs/python/tf/function for more details.\n",
      "W1206 14:16:49.501982 140009638913792 def_function.py:474] 5 out of the last 5 calls to <function translate at 0x7f5625b68d90> triggered tf.function retracing. Tracing is expensive and the excessive number of tracings is likely due to passing python objects instead of tensors. Also, tf.function has experimental_relax_shapes=True option that relaxes argument shapes that can avoid unnecessary retracing. Please refer to https://www.tensorflow.org/beta/tutorials/eager/tf_function#python_or_tensor_args and https://www.tensorflow.org/api_docs/python/tf/function for more details.\n"
     ]
    },
    {
     "name": "stdout",
     "output_type": "stream",
     "text": [
      "------------------------------------------------\n",
      "tf.Tensor(0.3171875, shape=(), dtype=float32)\n",
      "tf.Tensor(0.3625, shape=(), dtype=float32)\n",
      "tf.Tensor(402, shape=(), dtype=int32)\n",
      "[<tf.Tensor: id=40564, shape=(), dtype=int32, numpy=46>, <tf.Tensor: id=40566, shape=(), dtype=int32, numpy=50>]\n",
      "------------------------------------------------\n"
     ]
    },
    {
     "name": "stderr",
     "output_type": "stream",
     "text": [
      "W1206 14:16:50.116267 140009638913792 def_function.py:474] 6 out of the last 6 calls to <function to_4D_image at 0x7f562630d488> triggered tf.function retracing. Tracing is expensive and the excessive number of tracings is likely due to passing python objects instead of tensors. Also, tf.function has experimental_relax_shapes=True option that relaxes argument shapes that can avoid unnecessary retracing. Please refer to https://www.tensorflow.org/beta/tutorials/eager/tf_function#python_or_tensor_args and https://www.tensorflow.org/api_docs/python/tf/function for more details.\n",
      "W1206 14:16:50.429927 140009638913792 def_function.py:474] 7 out of the last 7 calls to <function to_4D_image at 0x7f562630d488> triggered tf.function retracing. Tracing is expensive and the excessive number of tracings is likely due to passing python objects instead of tensors. Also, tf.function has experimental_relax_shapes=True option that relaxes argument shapes that can avoid unnecessary retracing. Please refer to https://www.tensorflow.org/beta/tutorials/eager/tf_function#python_or_tensor_args and https://www.tensorflow.org/api_docs/python/tf/function for more details.\n",
      "W1206 14:16:50.439297 140009638913792 def_function.py:474] 6 out of the last 6 calls to <function from_4D_image at 0x7f562630d620> triggered tf.function retracing. Tracing is expensive and the excessive number of tracings is likely due to passing python objects instead of tensors. Also, tf.function has experimental_relax_shapes=True option that relaxes argument shapes that can avoid unnecessary retracing. Please refer to https://www.tensorflow.org/beta/tutorials/eager/tf_function#python_or_tensor_args and https://www.tensorflow.org/api_docs/python/tf/function for more details.\n",
      "W1206 14:16:50.442942 140009638913792 def_function.py:474] 6 out of the last 7 calls to <function transform at 0x7f562631db70> triggered tf.function retracing. Tracing is expensive and the excessive number of tracings is likely due to passing python objects instead of tensors. Also, tf.function has experimental_relax_shapes=True option that relaxes argument shapes that can avoid unnecessary retracing. Please refer to https://www.tensorflow.org/beta/tutorials/eager/tf_function#python_or_tensor_args and https://www.tensorflow.org/api_docs/python/tf/function for more details.\n",
      "W1206 14:16:50.449039 140009638913792 def_function.py:474] 7 out of the last 7 calls to <function from_4D_image at 0x7f562630d620> triggered tf.function retracing. Tracing is expensive and the excessive number of tracings is likely due to passing python objects instead of tensors. Also, tf.function has experimental_relax_shapes=True option that relaxes argument shapes that can avoid unnecessary retracing. Please refer to https://www.tensorflow.org/beta/tutorials/eager/tf_function#python_or_tensor_args and https://www.tensorflow.org/api_docs/python/tf/function for more details.\n",
      "W1206 14:16:50.672627 140009638913792 def_function.py:474] 7 out of the last 8 calls to <function transform at 0x7f562631db70> triggered tf.function retracing. Tracing is expensive and the excessive number of tracings is likely due to passing python objects instead of tensors. Also, tf.function has experimental_relax_shapes=True option that relaxes argument shapes that can avoid unnecessary retracing. Please refer to https://www.tensorflow.org/beta/tutorials/eager/tf_function#python_or_tensor_args and https://www.tensorflow.org/api_docs/python/tf/function for more details.\n",
      "W1206 14:16:50.687113 140009638913792 def_function.py:474] 6 out of the last 6 calls to <function translate at 0x7f5625b68d90> triggered tf.function retracing. Tracing is expensive and the excessive number of tracings is likely due to passing python objects instead of tensors. Also, tf.function has experimental_relax_shapes=True option that relaxes argument shapes that can avoid unnecessary retracing. Please refer to https://www.tensorflow.org/beta/tutorials/eager/tf_function#python_or_tensor_args and https://www.tensorflow.org/api_docs/python/tf/function for more details.\n",
      "W1206 14:16:50.993214 140009638913792 def_function.py:474] 8 out of the last 9 calls to <function to_4D_image at 0x7f562630d488> triggered tf.function retracing. Tracing is expensive and the excessive number of tracings is likely due to passing python objects instead of tensors. Also, tf.function has experimental_relax_shapes=True option that relaxes argument shapes that can avoid unnecessary retracing. Please refer to https://www.tensorflow.org/beta/tutorials/eager/tf_function#python_or_tensor_args and https://www.tensorflow.org/api_docs/python/tf/function for more details.\n",
      "W1206 14:16:51.003900 140009638913792 def_function.py:474] 8 out of the last 9 calls to <function from_4D_image at 0x7f562630d620> triggered tf.function retracing. Tracing is expensive and the excessive number of tracings is likely due to passing python objects instead of tensors. Also, tf.function has experimental_relax_shapes=True option that relaxes argument shapes that can avoid unnecessary retracing. Please refer to https://www.tensorflow.org/beta/tutorials/eager/tf_function#python_or_tensor_args and https://www.tensorflow.org/api_docs/python/tf/function for more details.\n",
      "W1206 14:16:51.007748 140009638913792 def_function.py:474] 8 out of the last 10 calls to <function transform at 0x7f562631db70> triggered tf.function retracing. Tracing is expensive and the excessive number of tracings is likely due to passing python objects instead of tensors. Also, tf.function has experimental_relax_shapes=True option that relaxes argument shapes that can avoid unnecessary retracing. Please refer to https://www.tensorflow.org/beta/tutorials/eager/tf_function#python_or_tensor_args and https://www.tensorflow.org/api_docs/python/tf/function for more details.\n",
      "W1206 14:16:51.022682 140009638913792 def_function.py:474] 7 out of the last 7 calls to <function translate at 0x7f5625b68d90> triggered tf.function retracing. Tracing is expensive and the excessive number of tracings is likely due to passing python objects instead of tensors. Also, tf.function has experimental_relax_shapes=True option that relaxes argument shapes that can avoid unnecessary retracing. Please refer to https://www.tensorflow.org/beta/tutorials/eager/tf_function#python_or_tensor_args and https://www.tensorflow.org/api_docs/python/tf/function for more details.\n",
      "W1206 14:16:51.049710 140009638913792 def_function.py:474] 9 out of the last 10 calls to <function to_4D_image at 0x7f562630d488> triggered tf.function retracing. Tracing is expensive and the excessive number of tracings is likely due to passing python objects instead of tensors. Also, tf.function has experimental_relax_shapes=True option that relaxes argument shapes that can avoid unnecessary retracing. Please refer to https://www.tensorflow.org/beta/tutorials/eager/tf_function#python_or_tensor_args and https://www.tensorflow.org/api_docs/python/tf/function for more details.\n",
      "W1206 14:16:51.059551 140009638913792 def_function.py:474] 9 out of the last 10 calls to <function from_4D_image at 0x7f562630d620> triggered tf.function retracing. Tracing is expensive and the excessive number of tracings is likely due to passing python objects instead of tensors. Also, tf.function has experimental_relax_shapes=True option that relaxes argument shapes that can avoid unnecessary retracing. Please refer to https://www.tensorflow.org/beta/tutorials/eager/tf_function#python_or_tensor_args and https://www.tensorflow.org/api_docs/python/tf/function for more details.\n",
      "W1206 14:16:51.067052 140009638913792 def_function.py:474] 9 out of the last 11 calls to <function transform at 0x7f562631db70> triggered tf.function retracing. Tracing is expensive and the excessive number of tracings is likely due to passing python objects instead of tensors. Also, tf.function has experimental_relax_shapes=True option that relaxes argument shapes that can avoid unnecessary retracing. Please refer to https://www.tensorflow.org/beta/tutorials/eager/tf_function#python_or_tensor_args and https://www.tensorflow.org/api_docs/python/tf/function for more details.\n",
      "W1206 14:16:51.085687 140009638913792 def_function.py:474] 8 out of the last 8 calls to <function translate at 0x7f5625b68d90> triggered tf.function retracing. Tracing is expensive and the excessive number of tracings is likely due to passing python objects instead of tensors. Also, tf.function has experimental_relax_shapes=True option that relaxes argument shapes that can avoid unnecessary retracing. Please refer to https://www.tensorflow.org/beta/tutorials/eager/tf_function#python_or_tensor_args and https://www.tensorflow.org/api_docs/python/tf/function for more details.\n"
     ]
    },
    {
     "name": "stderr",
     "output_type": "stream",
     "text": [
      "W1206 14:16:51.117125 140009638913792 def_function.py:474] 10 out of the last 11 calls to <function to_4D_image at 0x7f562630d488> triggered tf.function retracing. Tracing is expensive and the excessive number of tracings is likely due to passing python objects instead of tensors. Also, tf.function has experimental_relax_shapes=True option that relaxes argument shapes that can avoid unnecessary retracing. Please refer to https://www.tensorflow.org/beta/tutorials/eager/tf_function#python_or_tensor_args and https://www.tensorflow.org/api_docs/python/tf/function for more details.\n",
      "W1206 14:16:51.129998 140009638913792 def_function.py:474] 10 out of the last 11 calls to <function from_4D_image at 0x7f562630d620> triggered tf.function retracing. Tracing is expensive and the excessive number of tracings is likely due to passing python objects instead of tensors. Also, tf.function has experimental_relax_shapes=True option that relaxes argument shapes that can avoid unnecessary retracing. Please refer to https://www.tensorflow.org/beta/tutorials/eager/tf_function#python_or_tensor_args and https://www.tensorflow.org/api_docs/python/tf/function for more details.\n",
      "W1206 14:16:51.134314 140009638913792 def_function.py:474] 9 out of the last 11 calls to <function transform at 0x7f562631db70> triggered tf.function retracing. Tracing is expensive and the excessive number of tracings is likely due to passing python objects instead of tensors. Also, tf.function has experimental_relax_shapes=True option that relaxes argument shapes that can avoid unnecessary retracing. Please refer to https://www.tensorflow.org/beta/tutorials/eager/tf_function#python_or_tensor_args and https://www.tensorflow.org/api_docs/python/tf/function for more details.\n",
      "W1206 14:16:51.151558 140009638913792 def_function.py:474] 9 out of the last 9 calls to <function translate at 0x7f5625b68d90> triggered tf.function retracing. Tracing is expensive and the excessive number of tracings is likely due to passing python objects instead of tensors. Also, tf.function has experimental_relax_shapes=True option that relaxes argument shapes that can avoid unnecessary retracing. Please refer to https://www.tensorflow.org/beta/tutorials/eager/tf_function#python_or_tensor_args and https://www.tensorflow.org/api_docs/python/tf/function for more details.\n",
      "W1206 14:16:51.537694 140009638913792 def_function.py:474] 9 out of the last 11 calls to <function to_4D_image at 0x7f562630d488> triggered tf.function retracing. Tracing is expensive and the excessive number of tracings is likely due to passing python objects instead of tensors. Also, tf.function has experimental_relax_shapes=True option that relaxes argument shapes that can avoid unnecessary retracing. Please refer to https://www.tensorflow.org/beta/tutorials/eager/tf_function#python_or_tensor_args and https://www.tensorflow.org/api_docs/python/tf/function for more details.\n",
      "W1206 14:16:51.547403 140009638913792 def_function.py:474] 10 out of the last 11 calls to <function from_4D_image at 0x7f562630d620> triggered tf.function retracing. Tracing is expensive and the excessive number of tracings is likely due to passing python objects instead of tensors. Also, tf.function has experimental_relax_shapes=True option that relaxes argument shapes that can avoid unnecessary retracing. Please refer to https://www.tensorflow.org/beta/tutorials/eager/tf_function#python_or_tensor_args and https://www.tensorflow.org/api_docs/python/tf/function for more details.\n",
      "W1206 14:16:51.552643 140009638913792 def_function.py:474] 9 out of the last 11 calls to <function transform at 0x7f562631db70> triggered tf.function retracing. Tracing is expensive and the excessive number of tracings is likely due to passing python objects instead of tensors. Also, tf.function has experimental_relax_shapes=True option that relaxes argument shapes that can avoid unnecessary retracing. Please refer to https://www.tensorflow.org/beta/tutorials/eager/tf_function#python_or_tensor_args and https://www.tensorflow.org/api_docs/python/tf/function for more details.\n",
      "W1206 14:16:51.716059 140009638913792 def_function.py:474] 9 out of the last 11 calls to <function to_4D_image at 0x7f562630d488> triggered tf.function retracing. Tracing is expensive and the excessive number of tracings is likely due to passing python objects instead of tensors. Also, tf.function has experimental_relax_shapes=True option that relaxes argument shapes that can avoid unnecessary retracing. Please refer to https://www.tensorflow.org/beta/tutorials/eager/tf_function#python_or_tensor_args and https://www.tensorflow.org/api_docs/python/tf/function for more details.\n",
      "W1206 14:16:51.728650 140009638913792 def_function.py:474] 9 out of the last 11 calls to <function from_4D_image at 0x7f562630d620> triggered tf.function retracing. Tracing is expensive and the excessive number of tracings is likely due to passing python objects instead of tensors. Also, tf.function has experimental_relax_shapes=True option that relaxes argument shapes that can avoid unnecessary retracing. Please refer to https://www.tensorflow.org/beta/tutorials/eager/tf_function#python_or_tensor_args and https://www.tensorflow.org/api_docs/python/tf/function for more details.\n",
      "W1206 14:16:51.733374 140009638913792 def_function.py:474] 9 out of the last 11 calls to <function transform at 0x7f562631db70> triggered tf.function retracing. Tracing is expensive and the excessive number of tracings is likely due to passing python objects instead of tensors. Also, tf.function has experimental_relax_shapes=True option that relaxes argument shapes that can avoid unnecessary retracing. Please refer to https://www.tensorflow.org/beta/tutorials/eager/tf_function#python_or_tensor_args and https://www.tensorflow.org/api_docs/python/tf/function for more details.\n",
      "W1206 14:16:51.749225 140009638913792 def_function.py:474] 10 out of the last 10 calls to <function translate at 0x7f5625b68d90> triggered tf.function retracing. Tracing is expensive and the excessive number of tracings is likely due to passing python objects instead of tensors. Also, tf.function has experimental_relax_shapes=True option that relaxes argument shapes that can avoid unnecessary retracing. Please refer to https://www.tensorflow.org/beta/tutorials/eager/tf_function#python_or_tensor_args and https://www.tensorflow.org/api_docs/python/tf/function for more details.\n",
      "W1206 14:16:51.942968 140009638913792 def_function.py:474] 9 out of the last 11 calls to <function transform at 0x7f562631db70> triggered tf.function retracing. Tracing is expensive and the excessive number of tracings is likely due to passing python objects instead of tensors. Also, tf.function has experimental_relax_shapes=True option that relaxes argument shapes that can avoid unnecessary retracing. Please refer to https://www.tensorflow.org/beta/tutorials/eager/tf_function#python_or_tensor_args and https://www.tensorflow.org/api_docs/python/tf/function for more details.\n"
     ]
    },
    {
     "name": "stdout",
     "output_type": "stream",
     "text": [
      "\r",
      "    1/10000 [..............................] - ETA: 37:26:31 - loss: 2.7684 - regression_loss: 1.6791 - classification_loss: 1.0893"
     ]
    },
    {
     "name": "stderr",
     "output_type": "stream",
     "text": [
      "COMET INFO: Ignoring automatic log_metric('batch_batch') because 'keras:batch_batch' is in COMET_LOGGING_METRICS_IGNORE\n",
      "COMET INFO: Ignoring automatic log_metric('batch_size') because 'keras:batch_size' is in COMET_LOGGING_METRICS_IGNORE\n"
     ]
    },
    {
     "name": "stdout",
     "output_type": "stream",
     "text": [
      "   15/10000 [..............................] - ETA: 3:23:24 - loss: 3.3007 - regression_loss: 2.2044 - classification_loss: 1.0963"
     ]
    },
    {
     "name": "stderr",
     "output_type": "stream",
     "text": [
      "W1206 14:17:05.149530 140009638913792 def_function.py:474] 8 out of the last 11 calls to <function transform at 0x7f562631db70> triggered tf.function retracing. Tracing is expensive and the excessive number of tracings is likely due to passing python objects instead of tensors. Also, tf.function has experimental_relax_shapes=True option that relaxes argument shapes that can avoid unnecessary retracing. Please refer to https://www.tensorflow.org/beta/tutorials/eager/tf_function#python_or_tensor_args and https://www.tensorflow.org/api_docs/python/tf/function for more details.\n"
     ]
    },
    {
     "name": "stdout",
     "output_type": "stream",
     "text": [
      "\b\b\b\b\b\b\b\b\b\b\b\b\b\b\b\b\b\b\b\b\b\b\b\b\b\b\b\b\b\b\b\b\b\b\b\b\b\b\b\b\b\b\b\b\b\b\b\b\b\b\b\b\b\b\b\b\b\b\b\b\b\b\b\b\b\b\b\b\b\b\b\b\b\b\b\b\b\b\b\b\b\b\b\b\b\b\b\b\b\b\b\b\b\b\b\b\b\b\b\b\b\b\b\b\b\b\b\b\b\b\b\b\b\b\b\b\b\b\b\b\b\b\b\b\b\b\b\b\b\b\r",
      "   16/10000 [..............................] - ETA: 3:15:43 - loss: 3.2982 - regression_loss: 2.2004 - classification_loss: 1.0978"
     ]
    },
    {
     "name": "stderr",
     "output_type": "stream",
     "text": [
      "W1206 14:17:05.595017 140009638913792 def_function.py:474] 7 out of the last 11 calls to <function to_4D_image at 0x7f562630d488> triggered tf.function retracing. Tracing is expensive and the excessive number of tracings is likely due to passing python objects instead of tensors. Also, tf.function has experimental_relax_shapes=True option that relaxes argument shapes that can avoid unnecessary retracing. Please refer to https://www.tensorflow.org/beta/tutorials/eager/tf_function#python_or_tensor_args and https://www.tensorflow.org/api_docs/python/tf/function for more details.\n",
      "W1206 14:17:05.607155 140009638913792 def_function.py:474] 7 out of the last 11 calls to <function from_4D_image at 0x7f562630d620> triggered tf.function retracing. Tracing is expensive and the excessive number of tracings is likely due to passing python objects instead of tensors. Also, tf.function has experimental_relax_shapes=True option that relaxes argument shapes that can avoid unnecessary retracing. Please refer to https://www.tensorflow.org/beta/tutorials/eager/tf_function#python_or_tensor_args and https://www.tensorflow.org/api_docs/python/tf/function for more details.\n",
      "W1206 14:17:05.616771 140009638913792 def_function.py:474] 9 out of the last 12 calls to <function transform at 0x7f562631db70> triggered tf.function retracing. Tracing is expensive and the excessive number of tracings is likely due to passing python objects instead of tensors. Also, tf.function has experimental_relax_shapes=True option that relaxes argument shapes that can avoid unnecessary retracing. Please refer to https://www.tensorflow.org/beta/tutorials/eager/tf_function#python_or_tensor_args and https://www.tensorflow.org/api_docs/python/tf/function for more details.\n",
      "W1206 14:17:05.665181 140009638913792 def_function.py:474] 9 out of the last 11 calls to <function transform at 0x7f562631db70> triggered tf.function retracing. Tracing is expensive and the excessive number of tracings is likely due to passing python objects instead of tensors. Also, tf.function has experimental_relax_shapes=True option that relaxes argument shapes that can avoid unnecessary retracing. Please refer to https://www.tensorflow.org/beta/tutorials/eager/tf_function#python_or_tensor_args and https://www.tensorflow.org/api_docs/python/tf/function for more details.\n",
      "W1206 14:17:05.751503 140009638913792 def_function.py:474] 7 out of the last 11 calls to <function to_4D_image at 0x7f562630d488> triggered tf.function retracing. Tracing is expensive and the excessive number of tracings is likely due to passing python objects instead of tensors. Also, tf.function has experimental_relax_shapes=True option that relaxes argument shapes that can avoid unnecessary retracing. Please refer to https://www.tensorflow.org/beta/tutorials/eager/tf_function#python_or_tensor_args and https://www.tensorflow.org/api_docs/python/tf/function for more details.\n",
      "W1206 14:17:05.762165 140009638913792 def_function.py:474] 7 out of the last 11 calls to <function from_4D_image at 0x7f562630d620> triggered tf.function retracing. Tracing is expensive and the excessive number of tracings is likely due to passing python objects instead of tensors. Also, tf.function has experimental_relax_shapes=True option that relaxes argument shapes that can avoid unnecessary retracing. Please refer to https://www.tensorflow.org/beta/tutorials/eager/tf_function#python_or_tensor_args and https://www.tensorflow.org/api_docs/python/tf/function for more details.\n",
      "W1206 14:17:05.766298 140009638913792 def_function.py:474] 9 out of the last 11 calls to <function transform at 0x7f562631db70> triggered tf.function retracing. Tracing is expensive and the excessive number of tracings is likely due to passing python objects instead of tensors. Also, tf.function has experimental_relax_shapes=True option that relaxes argument shapes that can avoid unnecessary retracing. Please refer to https://www.tensorflow.org/beta/tutorials/eager/tf_function#python_or_tensor_args and https://www.tensorflow.org/api_docs/python/tf/function for more details.\n",
      "W1206 14:17:05.781215 140009638913792 def_function.py:474] 9 out of the last 11 calls to <function translate at 0x7f5625b68d90> triggered tf.function retracing. Tracing is expensive and the excessive number of tracings is likely due to passing python objects instead of tensors. Also, tf.function has experimental_relax_shapes=True option that relaxes argument shapes that can avoid unnecessary retracing. Please refer to https://www.tensorflow.org/beta/tutorials/eager/tf_function#python_or_tensor_args and https://www.tensorflow.org/api_docs/python/tf/function for more details.\n"
     ]
    },
    {
     "name": "stdout",
     "output_type": "stream",
     "text": [
      "   19/10000 [..............................] - ETA: 2:56:42 - loss: 3.1861 - regression_loss: 2.1143 - classification_loss: 1.0718"
     ]
    },
    {
     "name": "stderr",
     "output_type": "stream",
     "text": [
      "W1206 14:17:06.950061 140009638913792 def_function.py:474] 7 out of the last 11 calls to <function to_4D_image at 0x7f562630d488> triggered tf.function retracing. Tracing is expensive and the excessive number of tracings is likely due to passing python objects instead of tensors. Also, tf.function has experimental_relax_shapes=True option that relaxes argument shapes that can avoid unnecessary retracing. Please refer to https://www.tensorflow.org/beta/tutorials/eager/tf_function#python_or_tensor_args and https://www.tensorflow.org/api_docs/python/tf/function for more details.\n",
      "W1206 14:17:06.978719 140009638913792 def_function.py:474] 7 out of the last 11 calls to <function to_4D_image at 0x7f562630d488> triggered tf.function retracing. Tracing is expensive and the excessive number of tracings is likely due to passing python objects instead of tensors. Also, tf.function has experimental_relax_shapes=True option that relaxes argument shapes that can avoid unnecessary retracing. Please refer to https://www.tensorflow.org/beta/tutorials/eager/tf_function#python_or_tensor_args and https://www.tensorflow.org/api_docs/python/tf/function for more details.\n",
      "W1206 14:17:06.992269 140009638913792 def_function.py:474] 7 out of the last 11 calls to <function from_4D_image at 0x7f562630d620> triggered tf.function retracing. Tracing is expensive and the excessive number of tracings is likely due to passing python objects instead of tensors. Also, tf.function has experimental_relax_shapes=True option that relaxes argument shapes that can avoid unnecessary retracing. Please refer to https://www.tensorflow.org/beta/tutorials/eager/tf_function#python_or_tensor_args and https://www.tensorflow.org/api_docs/python/tf/function for more details.\n",
      "W1206 14:17:06.996896 140009638913792 def_function.py:474] 9 out of the last 11 calls to <function transform at 0x7f562631db70> triggered tf.function retracing. Tracing is expensive and the excessive number of tracings is likely due to passing python objects instead of tensors. Also, tf.function has experimental_relax_shapes=True option that relaxes argument shapes that can avoid unnecessary retracing. Please refer to https://www.tensorflow.org/beta/tutorials/eager/tf_function#python_or_tensor_args and https://www.tensorflow.org/api_docs/python/tf/function for more details.\n",
      "W1206 14:17:07.004703 140009638913792 def_function.py:474] 7 out of the last 11 calls to <function from_4D_image at 0x7f562630d620> triggered tf.function retracing. Tracing is expensive and the excessive number of tracings is likely due to passing python objects instead of tensors. Also, tf.function has experimental_relax_shapes=True option that relaxes argument shapes that can avoid unnecessary retracing. Please refer to https://www.tensorflow.org/beta/tutorials/eager/tf_function#python_or_tensor_args and https://www.tensorflow.org/api_docs/python/tf/function for more details.\n"
     ]
    },
    {
     "name": "stdout",
     "output_type": "stream",
     "text": [
      "   21/10000 [..............................] - ETA: 2:46:34 - loss: 3.0710 - regression_loss: 2.0267 - classification_loss: 1.0443"
     ]
    },
    {
     "name": "stderr",
     "output_type": "stream",
     "text": [
      "W1206 14:17:07.938956 140009638913792 def_function.py:474] 8 out of the last 11 calls to <function translate at 0x7f5625b68d90> triggered tf.function retracing. Tracing is expensive and the excessive number of tracings is likely due to passing python objects instead of tensors. Also, tf.function has experimental_relax_shapes=True option that relaxes argument shapes that can avoid unnecessary retracing. Please refer to https://www.tensorflow.org/beta/tutorials/eager/tf_function#python_or_tensor_args and https://www.tensorflow.org/api_docs/python/tf/function for more details.\n"
     ]
    },
    {
     "name": "stdout",
     "output_type": "stream",
     "text": [
      "------------------------------------------------\n",
      "tf.Tensor(0.475, shape=(), dtype=float32)\n",
      "tf.Tensor(0.5484375, shape=(), dtype=float32)\n",
      "tf.Tensor(274, shape=(), dtype=int32)\n",
      "[<tf.Tensor: id=62283, shape=(), dtype=int32, numpy=224>, <tf.Tensor: id=62285, shape=(), dtype=int32, numpy=82>]\n",
      "------------------------------------------------\n",
      "   22/10000 [..............................] - ETA: 2:43:23 - loss: 3.1227 - regression_loss: 2.0753 - classification_loss: 1.0474"
     ]
    },
    {
     "name": "stderr",
     "output_type": "stream",
     "text": [
      "W1206 14:17:08.427413 140009638913792 def_function.py:474] 8 out of the last 11 calls to <function transform at 0x7f562631db70> triggered tf.function retracing. Tracing is expensive and the excessive number of tracings is likely due to passing python objects instead of tensors. Also, tf.function has experimental_relax_shapes=True option that relaxes argument shapes that can avoid unnecessary retracing. Please refer to https://www.tensorflow.org/beta/tutorials/eager/tf_function#python_or_tensor_args and https://www.tensorflow.org/api_docs/python/tf/function for more details.\n"
     ]
    },
    {
     "name": "stdout",
     "output_type": "stream",
     "text": [
      "\b\b\b\b\b\b\b\b\b\b\b\b\b\b\b\b\b\b\b\b\b\b\b\b\b\b\b\b\b\b\b\b\b\b\b\b\b\b\b\b\b\b\b\b\b\b\b\b\b\b\b\b\b\b\b\b\b\b\b\b\b\b\b\b\b\b\b\b\b\b\b\b\b\b\b\b\b\b\b\b\b\b\b\b\b\b\b\b\b\b\b\b\b\b\b\b\b\b\b\b\b\b\b\b\b\b\b\b\b\b\b\b\b\b\b\b\b\b\b\b\b\b\b\b\b\b\b\b\b\b\r",
      "   23/10000 [..............................] - ETA: 2:39:50 - loss: 3.1530 - regression_loss: 2.1024 - classification_loss: 1.0506"
     ]
    },
    {
     "name": "stderr",
     "output_type": "stream",
     "text": [
      "W1206 14:17:08.886302 140009638913792 def_function.py:474] 8 out of the last 11 calls to <function translate at 0x7f5625b68d90> triggered tf.function retracing. Tracing is expensive and the excessive number of tracings is likely due to passing python objects instead of tensors. Also, tf.function has experimental_relax_shapes=True option that relaxes argument shapes that can avoid unnecessary retracing. Please refer to https://www.tensorflow.org/beta/tutorials/eager/tf_function#python_or_tensor_args and https://www.tensorflow.org/api_docs/python/tf/function for more details.\n"
     ]
    },
    {
     "name": "stdout",
     "output_type": "stream",
     "text": [
      "\b\b\b\b\b\b\b\b\b\b\b\b\b\b\b\b\b\b\b\b\b\b\b\b\b\b\b\b\b\b\b\b\b\b\b\b\b\b\b\b\b\b\b\b\b\b\b\b\b\b\b\b\b\b\b\b\b\b\b\b\b\b\b\b\b\b\b\b\b\b\b\b\b\b\b\b\b\b\b\b\b\b\b\b\b\b\b\b\b\b\b\b\b\b\b\b\b\b\b\b\b\b\b\b\b\b\b\b\b\b\b\b\b\b\b\b\b\b\b\b\b\b\b\b\b\b\b\b\b\b\r",
      "   24/10000 [..............................] - ETA: 2:36:32 - loss: 3.2110 - regression_loss: 2.1570 - classification_loss: 1.0540"
     ]
    },
    {
     "name": "stderr",
     "output_type": "stream",
     "text": [
      "W1206 14:17:09.449506 140009638913792 def_function.py:474] 7 out of the last 11 calls to <function to_4D_image at 0x7f562630d488> triggered tf.function retracing. Tracing is expensive and the excessive number of tracings is likely due to passing python objects instead of tensors. Also, tf.function has experimental_relax_shapes=True option that relaxes argument shapes that can avoid unnecessary retracing. Please refer to https://www.tensorflow.org/beta/tutorials/eager/tf_function#python_or_tensor_args and https://www.tensorflow.org/api_docs/python/tf/function for more details.\n",
      "W1206 14:17:09.465022 140009638913792 def_function.py:474] 7 out of the last 12 calls to <function from_4D_image at 0x7f562630d620> triggered tf.function retracing. Tracing is expensive and the excessive number of tracings is likely due to passing python objects instead of tensors. Also, tf.function has experimental_relax_shapes=True option that relaxes argument shapes that can avoid unnecessary retracing. Please refer to https://www.tensorflow.org/beta/tutorials/eager/tf_function#python_or_tensor_args and https://www.tensorflow.org/api_docs/python/tf/function for more details.\n",
      "W1206 14:17:09.476935 140009638913792 def_function.py:474] 8 out of the last 12 calls to <function transform at 0x7f562631db70> triggered tf.function retracing. Tracing is expensive and the excessive number of tracings is likely due to passing python objects instead of tensors. Also, tf.function has experimental_relax_shapes=True option that relaxes argument shapes that can avoid unnecessary retracing. Please refer to https://www.tensorflow.org/beta/tutorials/eager/tf_function#python_or_tensor_args and https://www.tensorflow.org/api_docs/python/tf/function for more details.\n"
     ]
    },
    {
     "name": "stdout",
     "output_type": "stream",
     "text": [
      "------------------------------------------------\n",
      "tf.Tensor(0.559375, shape=(), dtype=float32)\n",
      "tf.Tensor(0.6640625, shape=(), dtype=float32)\n",
      "tf.Tensor(179, shape=(), dtype=int32)\n",
      "[<tf.Tensor: id=66877, shape=(), dtype=int32, numpy=58>, <tf.Tensor: id=66879, shape=(), dtype=int32, numpy=116>]\n",
      "------------------------------------------------\n",
      "   26/10000 [..............................] - ETA: 2:30:47 - loss: 3.2766 - regression_loss: 2.2195 - classification_loss: 1.0571"
     ]
    },
    {
     "name": "stderr",
     "output_type": "stream",
     "text": [
      "W1206 14:17:10.431453 140009638913792 def_function.py:474] 9 out of the last 13 calls to <function transform at 0x7f562631db70> triggered tf.function retracing. Tracing is expensive and the excessive number of tracings is likely due to passing python objects instead of tensors. Also, tf.function has experimental_relax_shapes=True option that relaxes argument shapes that can avoid unnecessary retracing. Please refer to https://www.tensorflow.org/beta/tutorials/eager/tf_function#python_or_tensor_args and https://www.tensorflow.org/api_docs/python/tf/function for more details.\n"
     ]
    },
    {
     "name": "stdout",
     "output_type": "stream",
     "text": [
      "   30/10000 [..............................] - ETA: 2:21:36 - loss: 3.2856 - regression_loss: 2.2185 - classification_loss: 1.0671"
     ]
    },
    {
     "name": "stderr",
     "output_type": "stream",
     "text": [
      "W1206 14:17:12.350066 140009638913792 def_function.py:474] 7 out of the last 13 calls to <function to_4D_image at 0x7f562630d488> triggered tf.function retracing. Tracing is expensive and the excessive number of tracings is likely due to passing python objects instead of tensors. Also, tf.function has experimental_relax_shapes=True option that relaxes argument shapes that can avoid unnecessary retracing. Please refer to https://www.tensorflow.org/beta/tutorials/eager/tf_function#python_or_tensor_args and https://www.tensorflow.org/api_docs/python/tf/function for more details.\n",
      "W1206 14:17:12.366423 140009638913792 def_function.py:474] 7 out of the last 13 calls to <function from_4D_image at 0x7f562630d620> triggered tf.function retracing. Tracing is expensive and the excessive number of tracings is likely due to passing python objects instead of tensors. Also, tf.function has experimental_relax_shapes=True option that relaxes argument shapes that can avoid unnecessary retracing. Please refer to https://www.tensorflow.org/beta/tutorials/eager/tf_function#python_or_tensor_args and https://www.tensorflow.org/api_docs/python/tf/function for more details.\n",
      "W1206 14:17:12.379009 140009638913792 def_function.py:474] 8 out of the last 11 calls to <function transform at 0x7f562631db70> triggered tf.function retracing. Tracing is expensive and the excessive number of tracings is likely due to passing python objects instead of tensors. Also, tf.function has experimental_relax_shapes=True option that relaxes argument shapes that can avoid unnecessary retracing. Please refer to https://www.tensorflow.org/beta/tutorials/eager/tf_function#python_or_tensor_args and https://www.tensorflow.org/api_docs/python/tf/function for more details.\n",
      "W1206 14:17:12.415351 140009638913792 def_function.py:474] 7 out of the last 11 calls to <function to_4D_image at 0x7f562630d488> triggered tf.function retracing. Tracing is expensive and the excessive number of tracings is likely due to passing python objects instead of tensors. Also, tf.function has experimental_relax_shapes=True option that relaxes argument shapes that can avoid unnecessary retracing. Please refer to https://www.tensorflow.org/beta/tutorials/eager/tf_function#python_or_tensor_args and https://www.tensorflow.org/api_docs/python/tf/function for more details.\n",
      "W1206 14:17:12.433452 140009638913792 def_function.py:474] 7 out of the last 11 calls to <function from_4D_image at 0x7f562630d620> triggered tf.function retracing. Tracing is expensive and the excessive number of tracings is likely due to passing python objects instead of tensors. Also, tf.function has experimental_relax_shapes=True option that relaxes argument shapes that can avoid unnecessary retracing. Please refer to https://www.tensorflow.org/beta/tutorials/eager/tf_function#python_or_tensor_args and https://www.tensorflow.org/api_docs/python/tf/function for more details.\n",
      "W1206 14:17:12.447083 140009638913792 def_function.py:474] 8 out of the last 11 calls to <function transform at 0x7f562631db70> triggered tf.function retracing. Tracing is expensive and the excessive number of tracings is likely due to passing python objects instead of tensors. Also, tf.function has experimental_relax_shapes=True option that relaxes argument shapes that can avoid unnecessary retracing. Please refer to https://www.tensorflow.org/beta/tutorials/eager/tf_function#python_or_tensor_args and https://www.tensorflow.org/api_docs/python/tf/function for more details.\n",
      "W1206 14:17:12.476608 140009638913792 def_function.py:474] 8 out of the last 12 calls to <function to_4D_image at 0x7f562630d488> triggered tf.function retracing. Tracing is expensive and the excessive number of tracings is likely due to passing python objects instead of tensors. Also, tf.function has experimental_relax_shapes=True option that relaxes argument shapes that can avoid unnecessary retracing. Please refer to https://www.tensorflow.org/beta/tutorials/eager/tf_function#python_or_tensor_args and https://www.tensorflow.org/api_docs/python/tf/function for more details.\n",
      "W1206 14:17:12.492164 140009638913792 def_function.py:474] 8 out of the last 12 calls to <function from_4D_image at 0x7f562630d620> triggered tf.function retracing. Tracing is expensive and the excessive number of tracings is likely due to passing python objects instead of tensors. Also, tf.function has experimental_relax_shapes=True option that relaxes argument shapes that can avoid unnecessary retracing. Please refer to https://www.tensorflow.org/beta/tutorials/eager/tf_function#python_or_tensor_args and https://www.tensorflow.org/api_docs/python/tf/function for more details.\n",
      "W1206 14:17:12.505261 140009638913792 def_function.py:474] 8 out of the last 11 calls to <function transform at 0x7f562631db70> triggered tf.function retracing. Tracing is expensive and the excessive number of tracings is likely due to passing python objects instead of tensors. Also, tf.function has experimental_relax_shapes=True option that relaxes argument shapes that can avoid unnecessary retracing. Please refer to https://www.tensorflow.org/beta/tutorials/eager/tf_function#python_or_tensor_args and https://www.tensorflow.org/api_docs/python/tf/function for more details.\n"
     ]
    },
    {
     "name": "stdout",
     "output_type": "stream",
     "text": [
      "------------------------------------------------\n",
      "tf.Tensor(0.778125, shape=(), dtype=float32)\n",
      "tf.Tensor(0.9015625, shape=(), dtype=float32)\n",
      "tf.Tensor(57, shape=(), dtype=int32)\n",
      "[<tf.Tensor: id=76622, shape=(), dtype=int32, numpy=134>, <tf.Tensor: id=76624, shape=(), dtype=int32, numpy=138>]\n",
      "------------------------------------------------\n",
      "   31/10000 [..............................] - ETA: 2:20:57 - loss: 3.2887 - regression_loss: 2.2198 - classification_loss: 1.0689"
     ]
    },
    {
     "name": "stderr",
     "output_type": "stream",
     "text": [
      "W1206 14:17:13.134722 140009638913792 def_function.py:474] 8 out of the last 11 calls to <function to_4D_image at 0x7f562630d488> triggered tf.function retracing. Tracing is expensive and the excessive number of tracings is likely due to passing python objects instead of tensors. Also, tf.function has experimental_relax_shapes=True option that relaxes argument shapes that can avoid unnecessary retracing. Please refer to https://www.tensorflow.org/beta/tutorials/eager/tf_function#python_or_tensor_args and https://www.tensorflow.org/api_docs/python/tf/function for more details.\n",
      "W1206 14:17:13.156244 140009638913792 def_function.py:474] 8 out of the last 11 calls to <function to_4D_image at 0x7f562630d488> triggered tf.function retracing. Tracing is expensive and the excessive number of tracings is likely due to passing python objects instead of tensors. Also, tf.function has experimental_relax_shapes=True option that relaxes argument shapes that can avoid unnecessary retracing. Please refer to https://www.tensorflow.org/beta/tutorials/eager/tf_function#python_or_tensor_args and https://www.tensorflow.org/api_docs/python/tf/function for more details.\n",
      "W1206 14:17:13.167145 140009638913792 def_function.py:474] 8 out of the last 11 calls to <function from_4D_image at 0x7f562630d620> triggered tf.function retracing. Tracing is expensive and the excessive number of tracings is likely due to passing python objects instead of tensors. Also, tf.function has experimental_relax_shapes=True option that relaxes argument shapes that can avoid unnecessary retracing. Please refer to https://www.tensorflow.org/beta/tutorials/eager/tf_function#python_or_tensor_args and https://www.tensorflow.org/api_docs/python/tf/function for more details.\n",
      "W1206 14:17:13.170742 140009638913792 def_function.py:474] 8 out of the last 12 calls to <function transform at 0x7f562631db70> triggered tf.function retracing. Tracing is expensive and the excessive number of tracings is likely due to passing python objects instead of tensors. Also, tf.function has experimental_relax_shapes=True option that relaxes argument shapes that can avoid unnecessary retracing. Please refer to https://www.tensorflow.org/beta/tutorials/eager/tf_function#python_or_tensor_args and https://www.tensorflow.org/api_docs/python/tf/function for more details.\n",
      "W1206 14:17:13.177121 140009638913792 def_function.py:474] 8 out of the last 11 calls to <function from_4D_image at 0x7f562630d620> triggered tf.function retracing. Tracing is expensive and the excessive number of tracings is likely due to passing python objects instead of tensors. Also, tf.function has experimental_relax_shapes=True option that relaxes argument shapes that can avoid unnecessary retracing. Please refer to https://www.tensorflow.org/beta/tutorials/eager/tf_function#python_or_tensor_args and https://www.tensorflow.org/api_docs/python/tf/function for more details.\n",
      "W1206 14:17:13.194876 140009638913792 def_function.py:474] 5 out of the last 6 calls to <function rotate at 0x7f5625b68378> triggered tf.function retracing. Tracing is expensive and the excessive number of tracings is likely due to passing python objects instead of tensors. Also, tf.function has experimental_relax_shapes=True option that relaxes argument shapes that can avoid unnecessary retracing. Please refer to https://www.tensorflow.org/beta/tutorials/eager/tf_function#python_or_tensor_args and https://www.tensorflow.org/api_docs/python/tf/function for more details.\n",
      "W1206 14:17:13.216866 140009638913792 def_function.py:474] 8 out of the last 11 calls to <function to_4D_image at 0x7f562630d488> triggered tf.function retracing. Tracing is expensive and the excessive number of tracings is likely due to passing python objects instead of tensors. Also, tf.function has experimental_relax_shapes=True option that relaxes argument shapes that can avoid unnecessary retracing. Please refer to https://www.tensorflow.org/beta/tutorials/eager/tf_function#python_or_tensor_args and https://www.tensorflow.org/api_docs/python/tf/function for more details.\n",
      "W1206 14:17:13.247626 140009638913792 def_function.py:474] 9 out of the last 12 calls to <function to_4D_image at 0x7f562630d488> triggered tf.function retracing. Tracing is expensive and the excessive number of tracings is likely due to passing python objects instead of tensors. Also, tf.function has experimental_relax_shapes=True option that relaxes argument shapes that can avoid unnecessary retracing. Please refer to https://www.tensorflow.org/beta/tutorials/eager/tf_function#python_or_tensor_args and https://www.tensorflow.org/api_docs/python/tf/function for more details.\n",
      "W1206 14:17:13.260267 140009638913792 def_function.py:474] 8 out of the last 11 calls to <function from_4D_image at 0x7f562630d620> triggered tf.function retracing. Tracing is expensive and the excessive number of tracings is likely due to passing python objects instead of tensors. Also, tf.function has experimental_relax_shapes=True option that relaxes argument shapes that can avoid unnecessary retracing. Please refer to https://www.tensorflow.org/beta/tutorials/eager/tf_function#python_or_tensor_args and https://www.tensorflow.org/api_docs/python/tf/function for more details.\n",
      "W1206 14:17:13.264390 140009638913792 def_function.py:474] 8 out of the last 11 calls to <function transform at 0x7f562631db70> triggered tf.function retracing. Tracing is expensive and the excessive number of tracings is likely due to passing python objects instead of tensors. Also, tf.function has experimental_relax_shapes=True option that relaxes argument shapes that can avoid unnecessary retracing. Please refer to https://www.tensorflow.org/beta/tutorials/eager/tf_function#python_or_tensor_args and https://www.tensorflow.org/api_docs/python/tf/function for more details.\n",
      "W1206 14:17:13.271630 140009638913792 def_function.py:474] 9 out of the last 12 calls to <function from_4D_image at 0x7f562630d620> triggered tf.function retracing. Tracing is expensive and the excessive number of tracings is likely due to passing python objects instead of tensors. Also, tf.function has experimental_relax_shapes=True option that relaxes argument shapes that can avoid unnecessary retracing. Please refer to https://www.tensorflow.org/beta/tutorials/eager/tf_function#python_or_tensor_args and https://www.tensorflow.org/api_docs/python/tf/function for more details.\n",
      "W1206 14:17:13.293217 140009638913792 def_function.py:474] 6 out of the last 7 calls to <function rotate at 0x7f5625b68378> triggered tf.function retracing. Tracing is expensive and the excessive number of tracings is likely due to passing python objects instead of tensors. Also, tf.function has experimental_relax_shapes=True option that relaxes argument shapes that can avoid unnecessary retracing. Please refer to https://www.tensorflow.org/beta/tutorials/eager/tf_function#python_or_tensor_args and https://www.tensorflow.org/api_docs/python/tf/function for more details.\n"
     ]
    },
    {
     "name": "stdout",
     "output_type": "stream",
     "text": [
      "\b\b\b\b\b\b\b\b\b\b\b\b\b\b\b\b\b\b\b\b\b\b\b\b\b\b\b\b\b\b\b\b\b\b\b\b\b\b\b\b\b\b\b\b\b\b\b\b\b\b\b\b\b\b\b\b\b\b\b\b\b\b\b\b\b\b\b\b\b\b\b\b\b\b\b\b\b\b\b\b\b\b\b\b\b\b\b\b\b\b\b\b\b\b\b\b\b\b\b\b\b\b\b\b\b\b\b\b\b\b\b\b\b\b\b\b\b\b\b\b\b\b\b\b\b\b\b\b\b\b\r",
      "   32/10000 [..............................] - ETA: 2:19:43 - loss: 3.2859 - regression_loss: 2.2167 - classification_loss: 1.0691"
     ]
    },
    {
     "name": "stderr",
     "output_type": "stream",
     "text": [
      "W1206 14:17:13.696886 140009638913792 def_function.py:474] 9 out of the last 11 calls to <function to_4D_image at 0x7f562630d488> triggered tf.function retracing. Tracing is expensive and the excessive number of tracings is likely due to passing python objects instead of tensors. Also, tf.function has experimental_relax_shapes=True option that relaxes argument shapes that can avoid unnecessary retracing. Please refer to https://www.tensorflow.org/beta/tutorials/eager/tf_function#python_or_tensor_args and https://www.tensorflow.org/api_docs/python/tf/function for more details.\n",
      "W1206 14:17:13.707283 140009638913792 def_function.py:474] 9 out of the last 11 calls to <function from_4D_image at 0x7f562630d620> triggered tf.function retracing. Tracing is expensive and the excessive number of tracings is likely due to passing python objects instead of tensors. Also, tf.function has experimental_relax_shapes=True option that relaxes argument shapes that can avoid unnecessary retracing. Please refer to https://www.tensorflow.org/beta/tutorials/eager/tf_function#python_or_tensor_args and https://www.tensorflow.org/api_docs/python/tf/function for more details.\n",
      "W1206 14:17:13.710928 140009638913792 def_function.py:474] 9 out of the last 12 calls to <function transform at 0x7f562631db70> triggered tf.function retracing. Tracing is expensive and the excessive number of tracings is likely due to passing python objects instead of tensors. Also, tf.function has experimental_relax_shapes=True option that relaxes argument shapes that can avoid unnecessary retracing. Please refer to https://www.tensorflow.org/beta/tutorials/eager/tf_function#python_or_tensor_args and https://www.tensorflow.org/api_docs/python/tf/function for more details.\n",
      "W1206 14:17:13.724868 140009638913792 def_function.py:474] 8 out of the last 11 calls to <function translate at 0x7f5625b68d90> triggered tf.function retracing. Tracing is expensive and the excessive number of tracings is likely due to passing python objects instead of tensors. Also, tf.function has experimental_relax_shapes=True option that relaxes argument shapes that can avoid unnecessary retracing. Please refer to https://www.tensorflow.org/beta/tutorials/eager/tf_function#python_or_tensor_args and https://www.tensorflow.org/api_docs/python/tf/function for more details.\n"
     ]
    },
    {
     "name": "stdout",
     "output_type": "stream",
     "text": [
      "   36/10000 [..............................] - ETA: 2:12:47 - loss: 3.3157 - regression_loss: 2.2411 - classification_loss: 1.0746------------------------------------------------\n",
      "tf.Tensor(0.603125, shape=(), dtype=float32)\n",
      "tf.Tensor(0.99375, shape=(), dtype=float32)\n",
      "tf.Tensor(12, shape=(), dtype=int32)\n",
      "[<tf.Tensor: id=85924, shape=(), dtype=int32, numpy=224>, <tf.Tensor: id=85926, shape=(), dtype=int32, numpy=432>]\n",
      "------------------------------------------------\n",
      "   37/10000 [..............................] - ETA: 2:11:11 - loss: 3.3341 - regression_loss: 2.2593 - classification_loss: 1.0748"
     ]
    },
    {
     "name": "stderr",
     "output_type": "stream",
     "text": [
      "W1206 14:17:16.025332 140009638913792 def_function.py:474] 10 out of the last 12 calls to <function to_4D_image at 0x7f562630d488> triggered tf.function retracing. Tracing is expensive and the excessive number of tracings is likely due to passing python objects instead of tensors. Also, tf.function has experimental_relax_shapes=True option that relaxes argument shapes that can avoid unnecessary retracing. Please refer to https://www.tensorflow.org/beta/tutorials/eager/tf_function#python_or_tensor_args and https://www.tensorflow.org/api_docs/python/tf/function for more details.\n",
      "W1206 14:17:16.037801 140009638913792 def_function.py:474] 10 out of the last 12 calls to <function from_4D_image at 0x7f562630d620> triggered tf.function retracing. Tracing is expensive and the excessive number of tracings is likely due to passing python objects instead of tensors. Also, tf.function has experimental_relax_shapes=True option that relaxes argument shapes that can avoid unnecessary retracing. Please refer to https://www.tensorflow.org/beta/tutorials/eager/tf_function#python_or_tensor_args and https://www.tensorflow.org/api_docs/python/tf/function for more details.\n",
      "W1206 14:17:16.042181 140009638913792 def_function.py:474] 9 out of the last 11 calls to <function transform at 0x7f562631db70> triggered tf.function retracing. Tracing is expensive and the excessive number of tracings is likely due to passing python objects instead of tensors. Also, tf.function has experimental_relax_shapes=True option that relaxes argument shapes that can avoid unnecessary retracing. Please refer to https://www.tensorflow.org/beta/tutorials/eager/tf_function#python_or_tensor_args and https://www.tensorflow.org/api_docs/python/tf/function for more details.\n",
      "W1206 14:17:16.062744 140009638913792 def_function.py:474] 8 out of the last 11 calls to <function translate at 0x7f5625b68d90> triggered tf.function retracing. Tracing is expensive and the excessive number of tracings is likely due to passing python objects instead of tensors. Also, tf.function has experimental_relax_shapes=True option that relaxes argument shapes that can avoid unnecessary retracing. Please refer to https://www.tensorflow.org/beta/tutorials/eager/tf_function#python_or_tensor_args and https://www.tensorflow.org/api_docs/python/tf/function for more details.\n",
      "W1206 14:17:16.472286 140009638913792 def_function.py:474] 10 out of the last 11 calls to <function to_4D_image at 0x7f562630d488> triggered tf.function retracing. Tracing is expensive and the excessive number of tracings is likely due to passing python objects instead of tensors. Also, tf.function has experimental_relax_shapes=True option that relaxes argument shapes that can avoid unnecessary retracing. Please refer to https://www.tensorflow.org/beta/tutorials/eager/tf_function#python_or_tensor_args and https://www.tensorflow.org/api_docs/python/tf/function for more details.\n",
      "W1206 14:17:16.482127 140009638913792 def_function.py:474] 11 out of the last 13 calls to <function from_4D_image at 0x7f562630d620> triggered tf.function retracing. Tracing is expensive and the excessive number of tracings is likely due to passing python objects instead of tensors. Also, tf.function has experimental_relax_shapes=True option that relaxes argument shapes that can avoid unnecessary retracing. Please refer to https://www.tensorflow.org/beta/tutorials/eager/tf_function#python_or_tensor_args and https://www.tensorflow.org/api_docs/python/tf/function for more details.\n",
      "W1206 14:17:16.485777 140009638913792 def_function.py:474] 9 out of the last 11 calls to <function transform at 0x7f562631db70> triggered tf.function retracing. Tracing is expensive and the excessive number of tracings is likely due to passing python objects instead of tensors. Also, tf.function has experimental_relax_shapes=True option that relaxes argument shapes that can avoid unnecessary retracing. Please refer to https://www.tensorflow.org/beta/tutorials/eager/tf_function#python_or_tensor_args and https://www.tensorflow.org/api_docs/python/tf/function for more details.\n",
      "W1206 14:17:16.505988 140009638913792 def_function.py:474] 7 out of the last 8 calls to <function rotate at 0x7f5625b68378> triggered tf.function retracing. Tracing is expensive and the excessive number of tracings is likely due to passing python objects instead of tensors. Also, tf.function has experimental_relax_shapes=True option that relaxes argument shapes that can avoid unnecessary retracing. Please refer to https://www.tensorflow.org/beta/tutorials/eager/tf_function#python_or_tensor_args and https://www.tensorflow.org/api_docs/python/tf/function for more details.\n"
     ]
    },
    {
     "name": "stdout",
     "output_type": "stream",
     "text": [
      "\b\b\b\b\b\b\b\b\b\b\b\b\b\b\b\b\b\b\b\b\b\b\b\b\b\b\b\b\b\b\b\b\b\b\b\b\b\b\b\b\b\b\b\b\b\b\b\b\b\b\b\b\b\b\b\b\b\b\b\b\b\b\b\b\b\b\b\b\b\b\b\b\b\b\b\b\b\b\b\b\b\b\b\b\b\b\b\b\b\b\b\b\b\b\b\b\b\b\b\b\b\b\b\b\b\b\b\b\b\b\b\b\b\b\b\b\b\b\b\b\b\b\b\b\b\b\b\b\b\b\r",
      "   38/10000 [..............................] - ETA: 2:12:08 - loss: 3.3478 - regression_loss: 2.2724 - classification_loss: 1.0754"
     ]
    },
    {
     "name": "stderr",
     "output_type": "stream",
     "text": [
      "W1206 14:17:17.084486 140009638913792 def_function.py:474] 10 out of the last 11 calls to <function to_4D_image at 0x7f562630d488> triggered tf.function retracing. Tracing is expensive and the excessive number of tracings is likely due to passing python objects instead of tensors. Also, tf.function has experimental_relax_shapes=True option that relaxes argument shapes that can avoid unnecessary retracing. Please refer to https://www.tensorflow.org/beta/tutorials/eager/tf_function#python_or_tensor_args and https://www.tensorflow.org/api_docs/python/tf/function for more details.\n",
      "W1206 14:17:17.105222 140009638913792 def_function.py:474] 10 out of the last 11 calls to <function to_4D_image at 0x7f562630d488> triggered tf.function retracing. Tracing is expensive and the excessive number of tracings is likely due to passing python objects instead of tensors. Also, tf.function has experimental_relax_shapes=True option that relaxes argument shapes that can avoid unnecessary retracing. Please refer to https://www.tensorflow.org/beta/tutorials/eager/tf_function#python_or_tensor_args and https://www.tensorflow.org/api_docs/python/tf/function for more details.\n",
      "W1206 14:17:17.116055 140009638913792 def_function.py:474] 10 out of the last 11 calls to <function from_4D_image at 0x7f562630d620> triggered tf.function retracing. Tracing is expensive and the excessive number of tracings is likely due to passing python objects instead of tensors. Also, tf.function has experimental_relax_shapes=True option that relaxes argument shapes that can avoid unnecessary retracing. Please refer to https://www.tensorflow.org/beta/tutorials/eager/tf_function#python_or_tensor_args and https://www.tensorflow.org/api_docs/python/tf/function for more details.\n",
      "W1206 14:17:17.119724 140009638913792 def_function.py:474] 10 out of the last 12 calls to <function transform at 0x7f562631db70> triggered tf.function retracing. Tracing is expensive and the excessive number of tracings is likely due to passing python objects instead of tensors. Also, tf.function has experimental_relax_shapes=True option that relaxes argument shapes that can avoid unnecessary retracing. Please refer to https://www.tensorflow.org/beta/tutorials/eager/tf_function#python_or_tensor_args and https://www.tensorflow.org/api_docs/python/tf/function for more details.\n",
      "W1206 14:17:17.126199 140009638913792 def_function.py:474] 10 out of the last 11 calls to <function from_4D_image at 0x7f562630d620> triggered tf.function retracing. Tracing is expensive and the excessive number of tracings is likely due to passing python objects instead of tensors. Also, tf.function has experimental_relax_shapes=True option that relaxes argument shapes that can avoid unnecessary retracing. Please refer to https://www.tensorflow.org/beta/tutorials/eager/tf_function#python_or_tensor_args and https://www.tensorflow.org/api_docs/python/tf/function for more details.\n",
      "W1206 14:17:17.144660 140009638913792 def_function.py:474] 8 out of the last 9 calls to <function rotate at 0x7f5625b68378> triggered tf.function retracing. Tracing is expensive and the excessive number of tracings is likely due to passing python objects instead of tensors. Also, tf.function has experimental_relax_shapes=True option that relaxes argument shapes that can avoid unnecessary retracing. Please refer to https://www.tensorflow.org/beta/tutorials/eager/tf_function#python_or_tensor_args and https://www.tensorflow.org/api_docs/python/tf/function for more details.\n",
      "W1206 14:17:17.170671 140009638913792 def_function.py:474] 10 out of the last 11 calls to <function to_4D_image at 0x7f562630d488> triggered tf.function retracing. Tracing is expensive and the excessive number of tracings is likely due to passing python objects instead of tensors. Also, tf.function has experimental_relax_shapes=True option that relaxes argument shapes that can avoid unnecessary retracing. Please refer to https://www.tensorflow.org/beta/tutorials/eager/tf_function#python_or_tensor_args and https://www.tensorflow.org/api_docs/python/tf/function for more details.\n",
      "W1206 14:17:17.192221 140009638913792 def_function.py:474] 10 out of the last 11 calls to <function to_4D_image at 0x7f562630d488> triggered tf.function retracing. Tracing is expensive and the excessive number of tracings is likely due to passing python objects instead of tensors. Also, tf.function has experimental_relax_shapes=True option that relaxes argument shapes that can avoid unnecessary retracing. Please refer to https://www.tensorflow.org/beta/tutorials/eager/tf_function#python_or_tensor_args and https://www.tensorflow.org/api_docs/python/tf/function for more details.\n",
      "W1206 14:17:17.202361 140009638913792 def_function.py:474] 10 out of the last 11 calls to <function from_4D_image at 0x7f562630d620> triggered tf.function retracing. Tracing is expensive and the excessive number of tracings is likely due to passing python objects instead of tensors. Also, tf.function has experimental_relax_shapes=True option that relaxes argument shapes that can avoid unnecessary retracing. Please refer to https://www.tensorflow.org/beta/tutorials/eager/tf_function#python_or_tensor_args and https://www.tensorflow.org/api_docs/python/tf/function for more details.\n",
      "W1206 14:17:17.206115 140009638913792 def_function.py:474] 10 out of the last 11 calls to <function transform at 0x7f562631db70> triggered tf.function retracing. Tracing is expensive and the excessive number of tracings is likely due to passing python objects instead of tensors. Also, tf.function has experimental_relax_shapes=True option that relaxes argument shapes that can avoid unnecessary retracing. Please refer to https://www.tensorflow.org/beta/tutorials/eager/tf_function#python_or_tensor_args and https://www.tensorflow.org/api_docs/python/tf/function for more details.\n",
      "W1206 14:17:17.212916 140009638913792 def_function.py:474] 10 out of the last 11 calls to <function from_4D_image at 0x7f562630d620> triggered tf.function retracing. Tracing is expensive and the excessive number of tracings is likely due to passing python objects instead of tensors. Also, tf.function has experimental_relax_shapes=True option that relaxes argument shapes that can avoid unnecessary retracing. Please refer to https://www.tensorflow.org/beta/tutorials/eager/tf_function#python_or_tensor_args and https://www.tensorflow.org/api_docs/python/tf/function for more details.\n",
      "W1206 14:17:17.231090 140009638913792 def_function.py:474] 9 out of the last 10 calls to <function rotate at 0x7f5625b68378> triggered tf.function retracing. Tracing is expensive and the excessive number of tracings is likely due to passing python objects instead of tensors. Also, tf.function has experimental_relax_shapes=True option that relaxes argument shapes that can avoid unnecessary retracing. Please refer to https://www.tensorflow.org/beta/tutorials/eager/tf_function#python_or_tensor_args and https://www.tensorflow.org/api_docs/python/tf/function for more details.\n"
     ]
    },
    {
     "name": "stdout",
     "output_type": "stream",
     "text": [
      "   40/10000 [..............................] - ETA: 2:10:16 - loss: 3.3485 - regression_loss: 2.2712 - classification_loss: 1.0773"
     ]
    },
    {
     "name": "stderr",
     "output_type": "stream",
     "text": [
      "W1206 14:17:18.243675 140009638913792 def_function.py:474] 9 out of the last 11 calls to <function rotate at 0x7f5625b68378> triggered tf.function retracing. Tracing is expensive and the excessive number of tracings is likely due to passing python objects instead of tensors. Also, tf.function has experimental_relax_shapes=True option that relaxes argument shapes that can avoid unnecessary retracing. Please refer to https://www.tensorflow.org/beta/tutorials/eager/tf_function#python_or_tensor_args and https://www.tensorflow.org/api_docs/python/tf/function for more details.\n"
     ]
    },
    {
     "name": "stdout",
     "output_type": "stream",
     "text": [
      "   44/10000 [..............................] - ETA: 2:05:36 - loss: 3.3733 - regression_loss: 2.2937 - classification_loss: 1.0797"
     ]
    },
    {
     "name": "stderr",
     "output_type": "stream",
     "text": [
      "W1206 14:17:20.112881 140009638913792 def_function.py:474] 9 out of the last 11 calls to <function to_4D_image at 0x7f562630d488> triggered tf.function retracing. Tracing is expensive and the excessive number of tracings is likely due to passing python objects instead of tensors. Also, tf.function has experimental_relax_shapes=True option that relaxes argument shapes that can avoid unnecessary retracing. Please refer to https://www.tensorflow.org/beta/tutorials/eager/tf_function#python_or_tensor_args and https://www.tensorflow.org/api_docs/python/tf/function for more details.\n",
      "W1206 14:17:20.127640 140009638913792 def_function.py:474] 9 out of the last 11 calls to <function from_4D_image at 0x7f562630d620> triggered tf.function retracing. Tracing is expensive and the excessive number of tracings is likely due to passing python objects instead of tensors. Also, tf.function has experimental_relax_shapes=True option that relaxes argument shapes that can avoid unnecessary retracing. Please refer to https://www.tensorflow.org/beta/tutorials/eager/tf_function#python_or_tensor_args and https://www.tensorflow.org/api_docs/python/tf/function for more details.\n",
      "W1206 14:17:20.139142 140009638913792 def_function.py:474] 9 out of the last 11 calls to <function transform at 0x7f562631db70> triggered tf.function retracing. Tracing is expensive and the excessive number of tracings is likely due to passing python objects instead of tensors. Also, tf.function has experimental_relax_shapes=True option that relaxes argument shapes that can avoid unnecessary retracing. Please refer to https://www.tensorflow.org/beta/tutorials/eager/tf_function#python_or_tensor_args and https://www.tensorflow.org/api_docs/python/tf/function for more details.\n"
     ]
    },
    {
     "name": "stdout",
     "output_type": "stream",
     "text": [
      "   50/10000 [..............................] - ETA: 2:00:06 - loss: 3.4089 - regression_loss: 2.3254 - classification_loss: 1.0834------------------------------------------------\n",
      "tf.Tensor(0.45, shape=(), dtype=float32)\n",
      "tf.Tensor(0.5125, shape=(), dtype=float32)\n",
      "tf.Tensor(290, shape=(), dtype=int32)\n",
      "[<tf.Tensor: id=109301, shape=(), dtype=int32, numpy=58>, <tf.Tensor: id=109303, shape=(), dtype=int32, numpy=70>]\n",
      "------------------------------------------------\n",
      "   52/10000 [..............................] - ETA: 1:58:39 - loss: 3.4294 - regression_loss: 2.3446 - classification_loss: 1.0848------------------------------------------------\n",
      "tf.Tensor(0.4875, shape=(), dtype=float32)\n",
      "tf.Tensor(0.6171875, shape=(), dtype=float32)\n",
      "tf.Tensor(223, shape=(), dtype=int32)\n",
      "[<tf.Tensor: id=112785, shape=(), dtype=int32, numpy=116>, <tf.Tensor: id=112787, shape=(), dtype=int32, numpy=144>]\n",
      "------------------------------------------------\n",
      "   55/10000 [..............................] - ETA: 1:56:29 - loss: 3.4256 - regression_loss: 2.3396 - classification_loss: 1.0860------------------------------------------------\n",
      "tf.Tensor(0.278125, shape=(), dtype=float32)\n",
      "tf.Tensor(0.3453125, shape=(), dtype=float32)\n",
      "tf.Tensor(391, shape=(), dtype=int32)\n",
      "[<tf.Tensor: id=118047, shape=(), dtype=int32, numpy=51>, <tf.Tensor: id=118049, shape=(), dtype=int32, numpy=74>]\n",
      "------------------------------------------------\n",
      "   58/10000 [..............................] - ETA: 1:54:41 - loss: 3.4521 - regression_loss: 2.3655 - classification_loss: 1.0866"
     ]
    },
    {
     "name": "stderr",
     "output_type": "stream",
     "text": [
      "W1206 14:17:26.966979 140009638913792 def_function.py:474] 7 out of the last 13 calls to <function translate at 0x7f5625b68d90> triggered tf.function retracing. Tracing is expensive and the excessive number of tracings is likely due to passing python objects instead of tensors. Also, tf.function has experimental_relax_shapes=True option that relaxes argument shapes that can avoid unnecessary retracing. Please refer to https://www.tensorflow.org/beta/tutorials/eager/tf_function#python_or_tensor_args and https://www.tensorflow.org/api_docs/python/tf/function for more details.\n"
     ]
    },
    {
     "name": "stdout",
     "output_type": "stream",
     "text": [
      "\b\b\b\b\b\b\b\b\b\b\b\b\b\b\b\b\b\b\b\b\b\b\b\b\b\b\b\b\b\b\b\b\b\b\b\b\b\b\b\b\b\b\b\b\b\b\b\b\b\b\b\b\b\b\b\b\b\b\b\b\b\b\b\b\b\b\b\b\b\b\b\b\b\b\b\b\b\b\b\b\b\b\b\b\b\b\b\b\b\b\b\b\b\b\b\b\b\b\b\b\b\b\b\b\b\b\b\b\b\b\b\b\b\b\b\b\b\b\b\b\b\b\b\b\b\b\b\b\b\b\r",
      "   59/10000 [..............................] - ETA: 1:54:24 - loss: 3.4552 - regression_loss: 2.3687 - classification_loss: 1.0865"
     ]
    },
    {
     "name": "stderr",
     "output_type": "stream",
     "text": [
      "W1206 14:17:27.517900 140009638913792 def_function.py:474] 9 out of the last 11 calls to <function to_4D_image at 0x7f562630d488> triggered tf.function retracing. Tracing is expensive and the excessive number of tracings is likely due to passing python objects instead of tensors. Also, tf.function has experimental_relax_shapes=True option that relaxes argument shapes that can avoid unnecessary retracing. Please refer to https://www.tensorflow.org/beta/tutorials/eager/tf_function#python_or_tensor_args and https://www.tensorflow.org/api_docs/python/tf/function for more details.\n",
      "W1206 14:17:27.544784 140009638913792 def_function.py:474] 9 out of the last 11 calls to <function to_4D_image at 0x7f562630d488> triggered tf.function retracing. Tracing is expensive and the excessive number of tracings is likely due to passing python objects instead of tensors. Also, tf.function has experimental_relax_shapes=True option that relaxes argument shapes that can avoid unnecessary retracing. Please refer to https://www.tensorflow.org/beta/tutorials/eager/tf_function#python_or_tensor_args and https://www.tensorflow.org/api_docs/python/tf/function for more details.\n",
      "W1206 14:17:27.556881 140009638913792 def_function.py:474] 9 out of the last 11 calls to <function from_4D_image at 0x7f562630d620> triggered tf.function retracing. Tracing is expensive and the excessive number of tracings is likely due to passing python objects instead of tensors. Also, tf.function has experimental_relax_shapes=True option that relaxes argument shapes that can avoid unnecessary retracing. Please refer to https://www.tensorflow.org/beta/tutorials/eager/tf_function#python_or_tensor_args and https://www.tensorflow.org/api_docs/python/tf/function for more details.\n",
      "W1206 14:17:27.561159 140009638913792 def_function.py:474] 7 out of the last 11 calls to <function transform at 0x7f562631db70> triggered tf.function retracing. Tracing is expensive and the excessive number of tracings is likely due to passing python objects instead of tensors. Also, tf.function has experimental_relax_shapes=True option that relaxes argument shapes that can avoid unnecessary retracing. Please refer to https://www.tensorflow.org/beta/tutorials/eager/tf_function#python_or_tensor_args and https://www.tensorflow.org/api_docs/python/tf/function for more details.\n",
      "W1206 14:17:27.568852 140009638913792 def_function.py:474] 9 out of the last 11 calls to <function from_4D_image at 0x7f562630d620> triggered tf.function retracing. Tracing is expensive and the excessive number of tracings is likely due to passing python objects instead of tensors. Also, tf.function has experimental_relax_shapes=True option that relaxes argument shapes that can avoid unnecessary retracing. Please refer to https://www.tensorflow.org/beta/tutorials/eager/tf_function#python_or_tensor_args and https://www.tensorflow.org/api_docs/python/tf/function for more details.\n",
      "W1206 14:17:27.590406 140009638913792 def_function.py:474] 6 out of the last 11 calls to <function rotate at 0x7f5625b68378> triggered tf.function retracing. Tracing is expensive and the excessive number of tracings is likely due to passing python objects instead of tensors. Also, tf.function has experimental_relax_shapes=True option that relaxes argument shapes that can avoid unnecessary retracing. Please refer to https://www.tensorflow.org/beta/tutorials/eager/tf_function#python_or_tensor_args and https://www.tensorflow.org/api_docs/python/tf/function for more details.\n",
      "W1206 14:17:27.619210 140009638913792 def_function.py:474] 10 out of the last 12 calls to <function to_4D_image at 0x7f562630d488> triggered tf.function retracing. Tracing is expensive and the excessive number of tracings is likely due to passing python objects instead of tensors. Also, tf.function has experimental_relax_shapes=True option that relaxes argument shapes that can avoid unnecessary retracing. Please refer to https://www.tensorflow.org/beta/tutorials/eager/tf_function#python_or_tensor_args and https://www.tensorflow.org/api_docs/python/tf/function for more details.\n",
      "W1206 14:17:27.645089 140009638913792 def_function.py:474] 10 out of the last 11 calls to <function to_4D_image at 0x7f562630d488> triggered tf.function retracing. Tracing is expensive and the excessive number of tracings is likely due to passing python objects instead of tensors. Also, tf.function has experimental_relax_shapes=True option that relaxes argument shapes that can avoid unnecessary retracing. Please refer to https://www.tensorflow.org/beta/tutorials/eager/tf_function#python_or_tensor_args and https://www.tensorflow.org/api_docs/python/tf/function for more details.\n",
      "W1206 14:17:27.655388 140009638913792 def_function.py:474] 9 out of the last 11 calls to <function from_4D_image at 0x7f562630d620> triggered tf.function retracing. Tracing is expensive and the excessive number of tracings is likely due to passing python objects instead of tensors. Also, tf.function has experimental_relax_shapes=True option that relaxes argument shapes that can avoid unnecessary retracing. Please refer to https://www.tensorflow.org/beta/tutorials/eager/tf_function#python_or_tensor_args and https://www.tensorflow.org/api_docs/python/tf/function for more details.\n",
      "W1206 14:17:27.659301 140009638913792 def_function.py:474] 7 out of the last 11 calls to <function transform at 0x7f562631db70> triggered tf.function retracing. Tracing is expensive and the excessive number of tracings is likely due to passing python objects instead of tensors. Also, tf.function has experimental_relax_shapes=True option that relaxes argument shapes that can avoid unnecessary retracing. Please refer to https://www.tensorflow.org/beta/tutorials/eager/tf_function#python_or_tensor_args and https://www.tensorflow.org/api_docs/python/tf/function for more details.\n",
      "W1206 14:17:27.666195 140009638913792 def_function.py:474] 10 out of the last 12 calls to <function from_4D_image at 0x7f562630d620> triggered tf.function retracing. Tracing is expensive and the excessive number of tracings is likely due to passing python objects instead of tensors. Also, tf.function has experimental_relax_shapes=True option that relaxes argument shapes that can avoid unnecessary retracing. Please refer to https://www.tensorflow.org/beta/tutorials/eager/tf_function#python_or_tensor_args and https://www.tensorflow.org/api_docs/python/tf/function for more details.\n",
      "W1206 14:17:27.685989 140009638913792 def_function.py:474] 6 out of the last 11 calls to <function rotate at 0x7f5625b68378> triggered tf.function retracing. Tracing is expensive and the excessive number of tracings is likely due to passing python objects instead of tensors. Also, tf.function has experimental_relax_shapes=True option that relaxes argument shapes that can avoid unnecessary retracing. Please refer to https://www.tensorflow.org/beta/tutorials/eager/tf_function#python_or_tensor_args and https://www.tensorflow.org/api_docs/python/tf/function for more details.\n",
      "W1206 14:17:27.708311 140009638913792 def_function.py:474] 10 out of the last 11 calls to <function to_4D_image at 0x7f562630d488> triggered tf.function retracing. Tracing is expensive and the excessive number of tracings is likely due to passing python objects instead of tensors. Also, tf.function has experimental_relax_shapes=True option that relaxes argument shapes that can avoid unnecessary retracing. Please refer to https://www.tensorflow.org/beta/tutorials/eager/tf_function#python_or_tensor_args and https://www.tensorflow.org/api_docs/python/tf/function for more details.\n",
      "W1206 14:17:27.729686 140009638913792 def_function.py:474] 10 out of the last 11 calls to <function to_4D_image at 0x7f562630d488> triggered tf.function retracing. Tracing is expensive and the excessive number of tracings is likely due to passing python objects instead of tensors. Also, tf.function has experimental_relax_shapes=True option that relaxes argument shapes that can avoid unnecessary retracing. Please refer to https://www.tensorflow.org/beta/tutorials/eager/tf_function#python_or_tensor_args and https://www.tensorflow.org/api_docs/python/tf/function for more details.\n",
      "W1206 14:17:27.740391 140009638913792 def_function.py:474] 10 out of the last 11 calls to <function from_4D_image at 0x7f562630d620> triggered tf.function retracing. Tracing is expensive and the excessive number of tracings is likely due to passing python objects instead of tensors. Also, tf.function has experimental_relax_shapes=True option that relaxes argument shapes that can avoid unnecessary retracing. Please refer to https://www.tensorflow.org/beta/tutorials/eager/tf_function#python_or_tensor_args and https://www.tensorflow.org/api_docs/python/tf/function for more details.\n"
     ]
    },
    {
     "name": "stderr",
     "output_type": "stream",
     "text": [
      "W1206 14:17:27.743864 140009638913792 def_function.py:474] 7 out of the last 11 calls to <function transform at 0x7f562631db70> triggered tf.function retracing. Tracing is expensive and the excessive number of tracings is likely due to passing python objects instead of tensors. Also, tf.function has experimental_relax_shapes=True option that relaxes argument shapes that can avoid unnecessary retracing. Please refer to https://www.tensorflow.org/beta/tutorials/eager/tf_function#python_or_tensor_args and https://www.tensorflow.org/api_docs/python/tf/function for more details.\n",
      "W1206 14:17:27.750476 140009638913792 def_function.py:474] 10 out of the last 11 calls to <function from_4D_image at 0x7f562630d620> triggered tf.function retracing. Tracing is expensive and the excessive number of tracings is likely due to passing python objects instead of tensors. Also, tf.function has experimental_relax_shapes=True option that relaxes argument shapes that can avoid unnecessary retracing. Please refer to https://www.tensorflow.org/beta/tutorials/eager/tf_function#python_or_tensor_args and https://www.tensorflow.org/api_docs/python/tf/function for more details.\n",
      "W1206 14:17:27.768764 140009638913792 def_function.py:474] 6 out of the last 11 calls to <function rotate at 0x7f5625b68378> triggered tf.function retracing. Tracing is expensive and the excessive number of tracings is likely due to passing python objects instead of tensors. Also, tf.function has experimental_relax_shapes=True option that relaxes argument shapes that can avoid unnecessary retracing. Please refer to https://www.tensorflow.org/beta/tutorials/eager/tf_function#python_or_tensor_args and https://www.tensorflow.org/api_docs/python/tf/function for more details.\n"
     ]
    },
    {
     "name": "stdout",
     "output_type": "stream",
     "text": [
      "   61/10000 [..............................] - ETA: 1:54:10 - loss: 3.4691 - regression_loss: 2.3825 - classification_loss: 1.0865"
     ]
    },
    {
     "name": "stderr",
     "output_type": "stream",
     "text": [
      "W1206 14:17:28.898082 140009638913792 def_function.py:474] 10 out of the last 11 calls to <function to_4D_image at 0x7f562630d488> triggered tf.function retracing. Tracing is expensive and the excessive number of tracings is likely due to passing python objects instead of tensors. Also, tf.function has experimental_relax_shapes=True option that relaxes argument shapes that can avoid unnecessary retracing. Please refer to https://www.tensorflow.org/beta/tutorials/eager/tf_function#python_or_tensor_args and https://www.tensorflow.org/api_docs/python/tf/function for more details.\n",
      "W1206 14:17:28.924778 140009638913792 def_function.py:474] 10 out of the last 11 calls to <function to_4D_image at 0x7f562630d488> triggered tf.function retracing. Tracing is expensive and the excessive number of tracings is likely due to passing python objects instead of tensors. Also, tf.function has experimental_relax_shapes=True option that relaxes argument shapes that can avoid unnecessary retracing. Please refer to https://www.tensorflow.org/beta/tutorials/eager/tf_function#python_or_tensor_args and https://www.tensorflow.org/api_docs/python/tf/function for more details.\n",
      "W1206 14:17:28.941746 140009638913792 def_function.py:474] 10 out of the last 11 calls to <function from_4D_image at 0x7f562630d620> triggered tf.function retracing. Tracing is expensive and the excessive number of tracings is likely due to passing python objects instead of tensors. Also, tf.function has experimental_relax_shapes=True option that relaxes argument shapes that can avoid unnecessary retracing. Please refer to https://www.tensorflow.org/beta/tutorials/eager/tf_function#python_or_tensor_args and https://www.tensorflow.org/api_docs/python/tf/function for more details.\n",
      "W1206 14:17:28.946208 140009638913792 def_function.py:474] 7 out of the last 11 calls to <function transform at 0x7f562631db70> triggered tf.function retracing. Tracing is expensive and the excessive number of tracings is likely due to passing python objects instead of tensors. Also, tf.function has experimental_relax_shapes=True option that relaxes argument shapes that can avoid unnecessary retracing. Please refer to https://www.tensorflow.org/beta/tutorials/eager/tf_function#python_or_tensor_args and https://www.tensorflow.org/api_docs/python/tf/function for more details.\n",
      "W1206 14:17:28.953773 140009638913792 def_function.py:474] 10 out of the last 11 calls to <function from_4D_image at 0x7f562630d620> triggered tf.function retracing. Tracing is expensive and the excessive number of tracings is likely due to passing python objects instead of tensors. Also, tf.function has experimental_relax_shapes=True option that relaxes argument shapes that can avoid unnecessary retracing. Please refer to https://www.tensorflow.org/beta/tutorials/eager/tf_function#python_or_tensor_args and https://www.tensorflow.org/api_docs/python/tf/function for more details.\n",
      "W1206 14:17:28.975950 140009638913792 def_function.py:474] 6 out of the last 12 calls to <function rotate at 0x7f5625b68378> triggered tf.function retracing. Tracing is expensive and the excessive number of tracings is likely due to passing python objects instead of tensors. Also, tf.function has experimental_relax_shapes=True option that relaxes argument shapes that can avoid unnecessary retracing. Please refer to https://www.tensorflow.org/beta/tutorials/eager/tf_function#python_or_tensor_args and https://www.tensorflow.org/api_docs/python/tf/function for more details.\n",
      "W1206 14:17:29.003543 140009638913792 def_function.py:474] 11 out of the last 12 calls to <function to_4D_image at 0x7f562630d488> triggered tf.function retracing. Tracing is expensive and the excessive number of tracings is likely due to passing python objects instead of tensors. Also, tf.function has experimental_relax_shapes=True option that relaxes argument shapes that can avoid unnecessary retracing. Please refer to https://www.tensorflow.org/beta/tutorials/eager/tf_function#python_or_tensor_args and https://www.tensorflow.org/api_docs/python/tf/function for more details.\n",
      "W1206 14:17:29.030083 140009638913792 def_function.py:474] 11 out of the last 11 calls to <function to_4D_image at 0x7f562630d488> triggered tf.function retracing. Tracing is expensive and the excessive number of tracings is likely due to passing python objects instead of tensors. Also, tf.function has experimental_relax_shapes=True option that relaxes argument shapes that can avoid unnecessary retracing. Please refer to https://www.tensorflow.org/beta/tutorials/eager/tf_function#python_or_tensor_args and https://www.tensorflow.org/api_docs/python/tf/function for more details.\n",
      "W1206 14:17:29.042197 140009638913792 def_function.py:474] 11 out of the last 12 calls to <function from_4D_image at 0x7f562630d620> triggered tf.function retracing. Tracing is expensive and the excessive number of tracings is likely due to passing python objects instead of tensors. Also, tf.function has experimental_relax_shapes=True option that relaxes argument shapes that can avoid unnecessary retracing. Please refer to https://www.tensorflow.org/beta/tutorials/eager/tf_function#python_or_tensor_args and https://www.tensorflow.org/api_docs/python/tf/function for more details.\n",
      "W1206 14:17:29.046834 140009638913792 def_function.py:474] 7 out of the last 11 calls to <function transform at 0x7f562631db70> triggered tf.function retracing. Tracing is expensive and the excessive number of tracings is likely due to passing python objects instead of tensors. Also, tf.function has experimental_relax_shapes=True option that relaxes argument shapes that can avoid unnecessary retracing. Please refer to https://www.tensorflow.org/beta/tutorials/eager/tf_function#python_or_tensor_args and https://www.tensorflow.org/api_docs/python/tf/function for more details.\n",
      "W1206 14:17:29.053925 140009638913792 def_function.py:474] 11 out of the last 11 calls to <function from_4D_image at 0x7f562630d620> triggered tf.function retracing. Tracing is expensive and the excessive number of tracings is likely due to passing python objects instead of tensors. Also, tf.function has experimental_relax_shapes=True option that relaxes argument shapes that can avoid unnecessary retracing. Please refer to https://www.tensorflow.org/beta/tutorials/eager/tf_function#python_or_tensor_args and https://www.tensorflow.org/api_docs/python/tf/function for more details.\n",
      "W1206 14:17:29.073482 140009638913792 def_function.py:474] 6 out of the last 11 calls to <function rotate at 0x7f5625b68378> triggered tf.function retracing. Tracing is expensive and the excessive number of tracings is likely due to passing python objects instead of tensors. Also, tf.function has experimental_relax_shapes=True option that relaxes argument shapes that can avoid unnecessary retracing. Please refer to https://www.tensorflow.org/beta/tutorials/eager/tf_function#python_or_tensor_args and https://www.tensorflow.org/api_docs/python/tf/function for more details.\n"
     ]
    },
    {
     "name": "stdout",
     "output_type": "stream",
     "text": [
      "\b\b\b\b\b\b\b\b\b\b\b\b\b\b\b\b\b\b\b\b\b\b\b\b\b\b\b\b\b\b\b\b\b\b\b\b\b\b\b\b\b\b\b\b\b\b\b\b\b\b\b\b\b\b\b\b\b\b\b\b\b\b\b\b\b\b\b\b\b\b\b\b\b\b\b\b\b\b\b\b\b\b\b\b\b\b\b\b\b\b\b\b\b\b\b\b\b\b\b\b\b\b\b\b\b\b\b\b\b\b\b\b\b\b\b\b\b\b\b\b\b\b\b\b\b\b\b\b\b\b\r",
      "   62/10000 [..............................] - ETA: 1:54:03 - loss: 3.4729 - regression_loss: 2.3858 - classification_loss: 1.0872"
     ]
    },
    {
     "name": "stderr",
     "output_type": "stream",
     "text": [
      "W1206 14:17:29.480238 140009638913792 def_function.py:474] 11 out of the last 11 calls to <function to_4D_image at 0x7f562630d488> triggered tf.function retracing. Tracing is expensive and the excessive number of tracings is likely due to passing python objects instead of tensors. Also, tf.function has experimental_relax_shapes=True option that relaxes argument shapes that can avoid unnecessary retracing. Please refer to https://www.tensorflow.org/beta/tutorials/eager/tf_function#python_or_tensor_args and https://www.tensorflow.org/api_docs/python/tf/function for more details.\n",
      "W1206 14:17:29.495820 140009638913792 def_function.py:474] 11 out of the last 11 calls to <function from_4D_image at 0x7f562630d620> triggered tf.function retracing. Tracing is expensive and the excessive number of tracings is likely due to passing python objects instead of tensors. Also, tf.function has experimental_relax_shapes=True option that relaxes argument shapes that can avoid unnecessary retracing. Please refer to https://www.tensorflow.org/beta/tutorials/eager/tf_function#python_or_tensor_args and https://www.tensorflow.org/api_docs/python/tf/function for more details.\n",
      "W1206 14:17:29.507381 140009638913792 def_function.py:474] 8 out of the last 12 calls to <function transform at 0x7f562631db70> triggered tf.function retracing. Tracing is expensive and the excessive number of tracings is likely due to passing python objects instead of tensors. Also, tf.function has experimental_relax_shapes=True option that relaxes argument shapes that can avoid unnecessary retracing. Please refer to https://www.tensorflow.org/beta/tutorials/eager/tf_function#python_or_tensor_args and https://www.tensorflow.org/api_docs/python/tf/function for more details.\n"
     ]
    },
    {
     "name": "stdout",
     "output_type": "stream",
     "text": [
      "   65/10000 [..............................] - ETA: 1:52:40 - loss: 3.4788 - regression_loss: 2.3912 - classification_loss: 1.0877"
     ]
    },
    {
     "name": "stderr",
     "output_type": "stream",
     "text": [
      "W1206 14:17:31.067121 140009638913792 def_function.py:474] 6 out of the last 11 calls to <function translate at 0x7f5625b68d90> triggered tf.function retracing. Tracing is expensive and the excessive number of tracings is likely due to passing python objects instead of tensors. Also, tf.function has experimental_relax_shapes=True option that relaxes argument shapes that can avoid unnecessary retracing. Please refer to https://www.tensorflow.org/beta/tutorials/eager/tf_function#python_or_tensor_args and https://www.tensorflow.org/api_docs/python/tf/function for more details.\n"
     ]
    },
    {
     "name": "stdout",
     "output_type": "stream",
     "text": [
      "   69/10000 [..............................] - ETA: 1:50:55 - loss: 3.4984 - regression_loss: 2.4091 - classification_loss: 1.0893"
     ]
    },
    {
     "name": "stderr",
     "output_type": "stream",
     "text": [
      "W1206 14:17:33.041297 140009638913792 def_function.py:474] 11 out of the last 11 calls to <function to_4D_image at 0x7f562630d488> triggered tf.function retracing. Tracing is expensive and the excessive number of tracings is likely due to passing python objects instead of tensors. Also, tf.function has experimental_relax_shapes=True option that relaxes argument shapes that can avoid unnecessary retracing. Please refer to https://www.tensorflow.org/beta/tutorials/eager/tf_function#python_or_tensor_args and https://www.tensorflow.org/api_docs/python/tf/function for more details.\n",
      "W1206 14:17:33.066291 140009638913792 def_function.py:474] 11 out of the last 11 calls to <function to_4D_image at 0x7f562630d488> triggered tf.function retracing. Tracing is expensive and the excessive number of tracings is likely due to passing python objects instead of tensors. Also, tf.function has experimental_relax_shapes=True option that relaxes argument shapes that can avoid unnecessary retracing. Please refer to https://www.tensorflow.org/beta/tutorials/eager/tf_function#python_or_tensor_args and https://www.tensorflow.org/api_docs/python/tf/function for more details.\n",
      "W1206 14:17:33.077751 140009638913792 def_function.py:474] 11 out of the last 11 calls to <function from_4D_image at 0x7f562630d620> triggered tf.function retracing. Tracing is expensive and the excessive number of tracings is likely due to passing python objects instead of tensors. Also, tf.function has experimental_relax_shapes=True option that relaxes argument shapes that can avoid unnecessary retracing. Please refer to https://www.tensorflow.org/beta/tutorials/eager/tf_function#python_or_tensor_args and https://www.tensorflow.org/api_docs/python/tf/function for more details.\n",
      "W1206 14:17:33.081886 140009638913792 def_function.py:474] 7 out of the last 11 calls to <function transform at 0x7f562631db70> triggered tf.function retracing. Tracing is expensive and the excessive number of tracings is likely due to passing python objects instead of tensors. Also, tf.function has experimental_relax_shapes=True option that relaxes argument shapes that can avoid unnecessary retracing. Please refer to https://www.tensorflow.org/beta/tutorials/eager/tf_function#python_or_tensor_args and https://www.tensorflow.org/api_docs/python/tf/function for more details.\n",
      "W1206 14:17:33.089082 140009638913792 def_function.py:474] 11 out of the last 11 calls to <function from_4D_image at 0x7f562630d620> triggered tf.function retracing. Tracing is expensive and the excessive number of tracings is likely due to passing python objects instead of tensors. Also, tf.function has experimental_relax_shapes=True option that relaxes argument shapes that can avoid unnecessary retracing. Please refer to https://www.tensorflow.org/beta/tutorials/eager/tf_function#python_or_tensor_args and https://www.tensorflow.org/api_docs/python/tf/function for more details.\n",
      "W1206 14:17:33.110481 140009638913792 def_function.py:474] 7 out of the last 12 calls to <function rotate at 0x7f5625b68378> triggered tf.function retracing. Tracing is expensive and the excessive number of tracings is likely due to passing python objects instead of tensors. Also, tf.function has experimental_relax_shapes=True option that relaxes argument shapes that can avoid unnecessary retracing. Please refer to https://www.tensorflow.org/beta/tutorials/eager/tf_function#python_or_tensor_args and https://www.tensorflow.org/api_docs/python/tf/function for more details.\n"
     ]
    },
    {
     "name": "stdout",
     "output_type": "stream",
     "text": [
      "   71/10000 [..............................] - ETA: 1:50:06 - loss: 3.4700 - regression_loss: 2.3813 - classification_loss: 1.0888"
     ]
    },
    {
     "name": "stderr",
     "output_type": "stream",
     "text": [
      "W1206 14:17:34.066407 140009638913792 def_function.py:474] 7 out of the last 11 calls to <function transform at 0x7f562631db70> triggered tf.function retracing. Tracing is expensive and the excessive number of tracings is likely due to passing python objects instead of tensors. Also, tf.function has experimental_relax_shapes=True option that relaxes argument shapes that can avoid unnecessary retracing. Please refer to https://www.tensorflow.org/beta/tutorials/eager/tf_function#python_or_tensor_args and https://www.tensorflow.org/api_docs/python/tf/function for more details.\n"
     ]
    },
    {
     "name": "stdout",
     "output_type": "stream",
     "text": [
      "   75/10000 [..............................] - ETA: 1:48:32 - loss: 3.4653 - regression_loss: 2.3757 - classification_loss: 1.0897------------------------------------------------\n",
      "tf.Tensor(0.2953125, shape=(), dtype=float32)\n",
      "tf.Tensor(0.325, shape=(), dtype=float32)\n",
      "tf.Tensor(421, shape=(), dtype=int32)\n",
      "[<tf.Tensor: id=152379, shape=(), dtype=int32, numpy=30>, <tf.Tensor: id=152381, shape=(), dtype=int32, numpy=34>]\n",
      "------------------------------------------------\n",
      "   82/10000 [..............................] - ETA: 1:46:27 - loss: 3.4939 - regression_loss: 2.4042 - classification_loss: 1.0897------------------------------------------------\n",
      "tf.Tensor(0.1078125, shape=(), dtype=float32)\n",
      "tf.Tensor(0.1828125, shape=(), dtype=float32)\n",
      "tf.Tensor(523, shape=(), dtype=int32)\n",
      "[<tf.Tensor: id=163631, shape=(), dtype=int32, numpy=50>, <tf.Tensor: id=163633, shape=(), dtype=int32, numpy=84>]\n",
      "------------------------------------------------\n",
      "------------------------------------------------\n",
      "tf.Tensor(0.1078125, shape=(), dtype=float32)\n",
      "tf.Tensor(0.1828125, shape=(), dtype=float32)\n",
      "tf.Tensor(497, shape=(), dtype=int32)\n",
      "[<tf.Tensor: id=164092, shape=(), dtype=int32, numpy=50>, <tf.Tensor: id=164094, shape=(), dtype=int32, numpy=84>]\n",
      "------------------------------------------------\n",
      "   83/10000 [..............................] - ETA: 1:46:06 - loss: 3.5018 - regression_loss: 2.4117 - classification_loss: 1.0901"
     ]
    },
    {
     "name": "stderr",
     "output_type": "stream",
     "text": [
      "W1206 14:17:40.173067 140009638913792 def_function.py:474] 9 out of the last 11 calls to <function to_4D_image at 0x7f562630d488> triggered tf.function retracing. Tracing is expensive and the excessive number of tracings is likely due to passing python objects instead of tensors. Also, tf.function has experimental_relax_shapes=True option that relaxes argument shapes that can avoid unnecessary retracing. Please refer to https://www.tensorflow.org/beta/tutorials/eager/tf_function#python_or_tensor_args and https://www.tensorflow.org/api_docs/python/tf/function for more details.\n",
      "W1206 14:17:40.188344 140009638913792 def_function.py:474] 9 out of the last 11 calls to <function from_4D_image at 0x7f562630d620> triggered tf.function retracing. Tracing is expensive and the excessive number of tracings is likely due to passing python objects instead of tensors. Also, tf.function has experimental_relax_shapes=True option that relaxes argument shapes that can avoid unnecessary retracing. Please refer to https://www.tensorflow.org/beta/tutorials/eager/tf_function#python_or_tensor_args and https://www.tensorflow.org/api_docs/python/tf/function for more details.\n",
      "W1206 14:17:40.200596 140009638913792 def_function.py:474] 5 out of the last 15 calls to <function transform at 0x7f562631db70> triggered tf.function retracing. Tracing is expensive and the excessive number of tracings is likely due to passing python objects instead of tensors. Also, tf.function has experimental_relax_shapes=True option that relaxes argument shapes that can avoid unnecessary retracing. Please refer to https://www.tensorflow.org/beta/tutorials/eager/tf_function#python_or_tensor_args and https://www.tensorflow.org/api_docs/python/tf/function for more details.\n",
      "W1206 14:17:40.230527 140009638913792 def_function.py:474] 9 out of the last 11 calls to <function to_4D_image at 0x7f562630d488> triggered tf.function retracing. Tracing is expensive and the excessive number of tracings is likely due to passing python objects instead of tensors. Also, tf.function has experimental_relax_shapes=True option that relaxes argument shapes that can avoid unnecessary retracing. Please refer to https://www.tensorflow.org/beta/tutorials/eager/tf_function#python_or_tensor_args and https://www.tensorflow.org/api_docs/python/tf/function for more details.\n",
      "W1206 14:17:40.243940 140009638913792 def_function.py:474] 9 out of the last 11 calls to <function from_4D_image at 0x7f562630d620> triggered tf.function retracing. Tracing is expensive and the excessive number of tracings is likely due to passing python objects instead of tensors. Also, tf.function has experimental_relax_shapes=True option that relaxes argument shapes that can avoid unnecessary retracing. Please refer to https://www.tensorflow.org/beta/tutorials/eager/tf_function#python_or_tensor_args and https://www.tensorflow.org/api_docs/python/tf/function for more details.\n",
      "W1206 14:17:40.255540 140009638913792 def_function.py:474] 5 out of the last 11 calls to <function transform at 0x7f562631db70> triggered tf.function retracing. Tracing is expensive and the excessive number of tracings is likely due to passing python objects instead of tensors. Also, tf.function has experimental_relax_shapes=True option that relaxes argument shapes that can avoid unnecessary retracing. Please refer to https://www.tensorflow.org/beta/tutorials/eager/tf_function#python_or_tensor_args and https://www.tensorflow.org/api_docs/python/tf/function for more details.\n",
      "W1206 14:17:40.313959 140009638913792 def_function.py:474] 9 out of the last 11 calls to <function to_4D_image at 0x7f562630d488> triggered tf.function retracing. Tracing is expensive and the excessive number of tracings is likely due to passing python objects instead of tensors. Also, tf.function has experimental_relax_shapes=True option that relaxes argument shapes that can avoid unnecessary retracing. Please refer to https://www.tensorflow.org/beta/tutorials/eager/tf_function#python_or_tensor_args and https://www.tensorflow.org/api_docs/python/tf/function for more details.\n",
      "W1206 14:17:40.324952 140009638913792 def_function.py:474] 9 out of the last 11 calls to <function from_4D_image at 0x7f562630d620> triggered tf.function retracing. Tracing is expensive and the excessive number of tracings is likely due to passing python objects instead of tensors. Also, tf.function has experimental_relax_shapes=True option that relaxes argument shapes that can avoid unnecessary retracing. Please refer to https://www.tensorflow.org/beta/tutorials/eager/tf_function#python_or_tensor_args and https://www.tensorflow.org/api_docs/python/tf/function for more details.\n",
      "W1206 14:17:40.328937 140009638913792 def_function.py:474] 5 out of the last 11 calls to <function transform at 0x7f562631db70> triggered tf.function retracing. Tracing is expensive and the excessive number of tracings is likely due to passing python objects instead of tensors. Also, tf.function has experimental_relax_shapes=True option that relaxes argument shapes that can avoid unnecessary retracing. Please refer to https://www.tensorflow.org/beta/tutorials/eager/tf_function#python_or_tensor_args and https://www.tensorflow.org/api_docs/python/tf/function for more details.\n",
      "W1206 14:17:40.370393 140009638913792 def_function.py:474] 9 out of the last 11 calls to <function to_4D_image at 0x7f562630d488> triggered tf.function retracing. Tracing is expensive and the excessive number of tracings is likely due to passing python objects instead of tensors. Also, tf.function has experimental_relax_shapes=True option that relaxes argument shapes that can avoid unnecessary retracing. Please refer to https://www.tensorflow.org/beta/tutorials/eager/tf_function#python_or_tensor_args and https://www.tensorflow.org/api_docs/python/tf/function for more details.\n",
      "W1206 14:17:40.380829 140009638913792 def_function.py:474] 9 out of the last 11 calls to <function from_4D_image at 0x7f562630d620> triggered tf.function retracing. Tracing is expensive and the excessive number of tracings is likely due to passing python objects instead of tensors. Also, tf.function has experimental_relax_shapes=True option that relaxes argument shapes that can avoid unnecessary retracing. Please refer to https://www.tensorflow.org/beta/tutorials/eager/tf_function#python_or_tensor_args and https://www.tensorflow.org/api_docs/python/tf/function for more details.\n",
      "W1206 14:17:40.385070 140009638913792 def_function.py:474] 6 out of the last 12 calls to <function transform at 0x7f562631db70> triggered tf.function retracing. Tracing is expensive and the excessive number of tracings is likely due to passing python objects instead of tensors. Also, tf.function has experimental_relax_shapes=True option that relaxes argument shapes that can avoid unnecessary retracing. Please refer to https://www.tensorflow.org/beta/tutorials/eager/tf_function#python_or_tensor_args and https://www.tensorflow.org/api_docs/python/tf/function for more details.\n"
     ]
    },
    {
     "name": "stdout",
     "output_type": "stream",
     "text": [
      "   84/10000 [..............................] - ETA: 1:46:18 - loss: 3.4956 - regression_loss: 2.4058 - classification_loss: 1.0897------------------------------------------------\n",
      "tf.Tensor(0.1078125, shape=(), dtype=float32)\n",
      "tf.Tensor(0.2859375, shape=(), dtype=float32)\n",
      "tf.Tensor(451, shape=(), dtype=int32)\n",
      "[<tf.Tensor: id=168019, shape=(), dtype=int32, numpy=162>, <tf.Tensor: id=168021, shape=(), dtype=int32, numpy=189>]\n",
      "------------------------------------------------\n",
      "   86/10000 [..............................] - ETA: 1:45:40 - loss: 3.5017 - regression_loss: 2.4111 - classification_loss: 1.0905"
     ]
    },
    {
     "name": "stderr",
     "output_type": "stream",
     "text": [
      "W1206 14:17:41.789283 140009638913792 def_function.py:474] 9 out of the last 11 calls to <function to_4D_image at 0x7f562630d488> triggered tf.function retracing. Tracing is expensive and the excessive number of tracings is likely due to passing python objects instead of tensors. Also, tf.function has experimental_relax_shapes=True option that relaxes argument shapes that can avoid unnecessary retracing. Please refer to https://www.tensorflow.org/beta/tutorials/eager/tf_function#python_or_tensor_args and https://www.tensorflow.org/api_docs/python/tf/function for more details.\n",
      "W1206 14:17:41.801798 140009638913792 def_function.py:474] 9 out of the last 11 calls to <function from_4D_image at 0x7f562630d620> triggered tf.function retracing. Tracing is expensive and the excessive number of tracings is likely due to passing python objects instead of tensors. Also, tf.function has experimental_relax_shapes=True option that relaxes argument shapes that can avoid unnecessary retracing. Please refer to https://www.tensorflow.org/beta/tutorials/eager/tf_function#python_or_tensor_args and https://www.tensorflow.org/api_docs/python/tf/function for more details.\n",
      "W1206 14:17:41.806078 140009638913792 def_function.py:474] 7 out of the last 13 calls to <function transform at 0x7f562631db70> triggered tf.function retracing. Tracing is expensive and the excessive number of tracings is likely due to passing python objects instead of tensors. Also, tf.function has experimental_relax_shapes=True option that relaxes argument shapes that can avoid unnecessary retracing. Please refer to https://www.tensorflow.org/beta/tutorials/eager/tf_function#python_or_tensor_args and https://www.tensorflow.org/api_docs/python/tf/function for more details.\n",
      "W1206 14:17:41.822118 140009638913792 def_function.py:474] 5 out of the last 12 calls to <function translate at 0x7f5625b68d90> triggered tf.function retracing. Tracing is expensive and the excessive number of tracings is likely due to passing python objects instead of tensors. Also, tf.function has experimental_relax_shapes=True option that relaxes argument shapes that can avoid unnecessary retracing. Please refer to https://www.tensorflow.org/beta/tutorials/eager/tf_function#python_or_tensor_args and https://www.tensorflow.org/api_docs/python/tf/function for more details.\n"
     ]
    },
    {
     "name": "stdout",
     "output_type": "stream",
     "text": [
      "   90/10000 [..............................] - ETA: 1:44:21 - loss: 3.5138 - regression_loss: 2.4220 - classification_loss: 1.0918"
     ]
    },
    {
     "name": "stderr",
     "output_type": "stream",
     "text": [
      "W1206 14:17:43.677948 140009638913792 def_function.py:474] 9 out of the last 11 calls to <function to_4D_image at 0x7f562630d488> triggered tf.function retracing. Tracing is expensive and the excessive number of tracings is likely due to passing python objects instead of tensors. Also, tf.function has experimental_relax_shapes=True option that relaxes argument shapes that can avoid unnecessary retracing. Please refer to https://www.tensorflow.org/beta/tutorials/eager/tf_function#python_or_tensor_args and https://www.tensorflow.org/api_docs/python/tf/function for more details.\n",
      "W1206 14:17:43.688227 140009638913792 def_function.py:474] 9 out of the last 11 calls to <function from_4D_image at 0x7f562630d620> triggered tf.function retracing. Tracing is expensive and the excessive number of tracings is likely due to passing python objects instead of tensors. Also, tf.function has experimental_relax_shapes=True option that relaxes argument shapes that can avoid unnecessary retracing. Please refer to https://www.tensorflow.org/beta/tutorials/eager/tf_function#python_or_tensor_args and https://www.tensorflow.org/api_docs/python/tf/function for more details.\n",
      "W1206 14:17:43.691384 140009638913792 def_function.py:474] 8 out of the last 15 calls to <function transform at 0x7f562631db70> triggered tf.function retracing. Tracing is expensive and the excessive number of tracings is likely due to passing python objects instead of tensors. Also, tf.function has experimental_relax_shapes=True option that relaxes argument shapes that can avoid unnecessary retracing. Please refer to https://www.tensorflow.org/beta/tutorials/eager/tf_function#python_or_tensor_args and https://www.tensorflow.org/api_docs/python/tf/function for more details.\n",
      "W1206 14:17:43.705477 140009638913792 def_function.py:474] 6 out of the last 14 calls to <function translate at 0x7f5625b68d90> triggered tf.function retracing. Tracing is expensive and the excessive number of tracings is likely due to passing python objects instead of tensors. Also, tf.function has experimental_relax_shapes=True option that relaxes argument shapes that can avoid unnecessary retracing. Please refer to https://www.tensorflow.org/beta/tutorials/eager/tf_function#python_or_tensor_args and https://www.tensorflow.org/api_docs/python/tf/function for more details.\n"
     ]
    },
    {
     "name": "stdout",
     "output_type": "stream",
     "text": [
      "\b\b\b\b\b\b\b\b\b\b\b\b\b\b\b\b\b\b\b\b\b\b\b\b\b\b\b\b\b\b\b\b\b\b\b\b\b\b\b\b\b\b\b\b\b\b\b\b\b\b\b\b\b\b\b\b\b\b\b\b\b\b\b\b\b\b\b\b\b\b\b\b\b\b\b\b\b\b\b\b\b\b\b\b\b\b\b\b\b\b\b\b\b\b\b\b\b\b\b\b\b\b\b\b\b\b\b\b\b\b\b\b\b\b\b\b\b\b\b\b\b\b\b\b\b\b\b\b\b\b\r",
      "   91/10000 [..............................] - ETA: 1:44:09 - loss: 3.5130 - regression_loss: 2.4215 - classification_loss: 1.0914"
     ]
    },
    {
     "name": "stderr",
     "output_type": "stream",
     "text": [
      "W1206 14:17:44.331552 140009638913792 def_function.py:474] 9 out of the last 11 calls to <function to_4D_image at 0x7f562630d488> triggered tf.function retracing. Tracing is expensive and the excessive number of tracings is likely due to passing python objects instead of tensors. Also, tf.function has experimental_relax_shapes=True option that relaxes argument shapes that can avoid unnecessary retracing. Please refer to https://www.tensorflow.org/beta/tutorials/eager/tf_function#python_or_tensor_args and https://www.tensorflow.org/api_docs/python/tf/function for more details.\n",
      "W1206 14:17:44.356648 140009638913792 def_function.py:474] 9 out of the last 11 calls to <function to_4D_image at 0x7f562630d488> triggered tf.function retracing. Tracing is expensive and the excessive number of tracings is likely due to passing python objects instead of tensors. Also, tf.function has experimental_relax_shapes=True option that relaxes argument shapes that can avoid unnecessary retracing. Please refer to https://www.tensorflow.org/beta/tutorials/eager/tf_function#python_or_tensor_args and https://www.tensorflow.org/api_docs/python/tf/function for more details.\n",
      "W1206 14:17:44.368168 140009638913792 def_function.py:474] 9 out of the last 11 calls to <function from_4D_image at 0x7f562630d620> triggered tf.function retracing. Tracing is expensive and the excessive number of tracings is likely due to passing python objects instead of tensors. Also, tf.function has experimental_relax_shapes=True option that relaxes argument shapes that can avoid unnecessary retracing. Please refer to https://www.tensorflow.org/beta/tutorials/eager/tf_function#python_or_tensor_args and https://www.tensorflow.org/api_docs/python/tf/function for more details.\n",
      "W1206 14:17:44.372415 140009638913792 def_function.py:474] 8 out of the last 11 calls to <function transform at 0x7f562631db70> triggered tf.function retracing. Tracing is expensive and the excessive number of tracings is likely due to passing python objects instead of tensors. Also, tf.function has experimental_relax_shapes=True option that relaxes argument shapes that can avoid unnecessary retracing. Please refer to https://www.tensorflow.org/beta/tutorials/eager/tf_function#python_or_tensor_args and https://www.tensorflow.org/api_docs/python/tf/function for more details.\n",
      "W1206 14:17:44.379771 140009638913792 def_function.py:474] 9 out of the last 11 calls to <function from_4D_image at 0x7f562630d620> triggered tf.function retracing. Tracing is expensive and the excessive number of tracings is likely due to passing python objects instead of tensors. Also, tf.function has experimental_relax_shapes=True option that relaxes argument shapes that can avoid unnecessary retracing. Please refer to https://www.tensorflow.org/beta/tutorials/eager/tf_function#python_or_tensor_args and https://www.tensorflow.org/api_docs/python/tf/function for more details.\n",
      "W1206 14:17:44.401833 140009638913792 def_function.py:474] 6 out of the last 11 calls to <function rotate at 0x7f5625b68378> triggered tf.function retracing. Tracing is expensive and the excessive number of tracings is likely due to passing python objects instead of tensors. Also, tf.function has experimental_relax_shapes=True option that relaxes argument shapes that can avoid unnecessary retracing. Please refer to https://www.tensorflow.org/beta/tutorials/eager/tf_function#python_or_tensor_args and https://www.tensorflow.org/api_docs/python/tf/function for more details.\n"
     ]
    },
    {
     "name": "stdout",
     "output_type": "stream",
     "text": [
      "   94/10000 [..............................] - ETA: 1:43:35 - loss: 3.5150 - regression_loss: 2.4235 - classification_loss: 1.0915------------------------------------------------\n",
      "tf.Tensor(0.4796875, shape=(), dtype=float32)\n",
      "tf.Tensor(0.5, shape=(), dtype=float32)\n",
      "tf.Tensor(318, shape=(), dtype=int32)\n",
      "[<tf.Tensor: id=183782, shape=(), dtype=int32, numpy=24>, <tf.Tensor: id=183784, shape=(), dtype=int32, numpy=24>]\n",
      "------------------------------------------------\n",
      "   95/10000 [..............................] - ETA: 1:43:25 - loss: 3.5181 - regression_loss: 2.4266 - classification_loss: 1.0915------------------------------------------------\n",
      "tf.Tensor(0.3671875, shape=(), dtype=float32)\n",
      "tf.Tensor(0.4625, shape=(), dtype=float32)\n",
      "tf.Tensor(304, shape=(), dtype=int32)\n",
      "[<tf.Tensor: id=185841, shape=(), dtype=int32, numpy=84>, <tf.Tensor: id=185843, shape=(), dtype=int32, numpy=106>]\n",
      "------------------------------------------------\n",
      "   96/10000 [..............................] - ETA: 1:43:09 - loss: 3.5179 - regression_loss: 2.4265 - classification_loss: 1.0914------------------------------------------------\n",
      "tf.Tensor(0.4484375, shape=(), dtype=float32)\n",
      "tf.Tensor(0.5328125, shape=(), dtype=float32)\n",
      "tf.Tensor(278, shape=(), dtype=int32)\n",
      "[<tf.Tensor: id=188245, shape=(), dtype=int32, numpy=72>, <tf.Tensor: id=188247, shape=(), dtype=int32, numpy=94>]\n",
      "------------------------------------------------\n",
      "   99/10000 [..............................] - ETA: 1:42:33 - loss: 3.5290 - regression_loss: 2.4366 - classification_loss: 1.0924------------------------------------------------\n",
      "tf.Tensor(0.421875, shape=(), dtype=float32)\n",
      "tf.Tensor(0.4671875, shape=(), dtype=float32)\n",
      "tf.Tensor(328, shape=(), dtype=int32)\n",
      "[<tf.Tensor: id=192215, shape=(), dtype=int32, numpy=46>, <tf.Tensor: id=192217, shape=(), dtype=int32, numpy=50>]\n",
      "------------------------------------------------\n",
      "  100/10000 [..............................] - ETA: 1:42:17 - loss: 3.5328 - regression_loss: 2.4405 - classification_loss: 1.0923"
     ]
    },
    {
     "name": "stderr",
     "output_type": "stream",
     "text": [
      "W1206 14:17:48.853954 140009638913792 def_function.py:474] 10 out of the last 12 calls to <function to_4D_image at 0x7f562630d488> triggered tf.function retracing. Tracing is expensive and the excessive number of tracings is likely due to passing python objects instead of tensors. Also, tf.function has experimental_relax_shapes=True option that relaxes argument shapes that can avoid unnecessary retracing. Please refer to https://www.tensorflow.org/beta/tutorials/eager/tf_function#python_or_tensor_args and https://www.tensorflow.org/api_docs/python/tf/function for more details.\n",
      "W1206 14:17:48.866656 140009638913792 def_function.py:474] 10 out of the last 12 calls to <function from_4D_image at 0x7f562630d620> triggered tf.function retracing. Tracing is expensive and the excessive number of tracings is likely due to passing python objects instead of tensors. Also, tf.function has experimental_relax_shapes=True option that relaxes argument shapes that can avoid unnecessary retracing. Please refer to https://www.tensorflow.org/beta/tutorials/eager/tf_function#python_or_tensor_args and https://www.tensorflow.org/api_docs/python/tf/function for more details.\n",
      "W1206 14:17:48.877183 140009638913792 def_function.py:474] 8 out of the last 11 calls to <function transform at 0x7f562631db70> triggered tf.function retracing. Tracing is expensive and the excessive number of tracings is likely due to passing python objects instead of tensors. Also, tf.function has experimental_relax_shapes=True option that relaxes argument shapes that can avoid unnecessary retracing. Please refer to https://www.tensorflow.org/beta/tutorials/eager/tf_function#python_or_tensor_args and https://www.tensorflow.org/api_docs/python/tf/function for more details.\n"
     ]
    },
    {
     "name": "stdout",
     "output_type": "stream",
     "text": [
      "------------------------------------------------\n",
      "tf.Tensor(0.38125, shape=(), dtype=float32)\n",
      "tf.Tensor(0.5265625, shape=(), dtype=float32)\n",
      "tf.Tensor(311, shape=(), dtype=int32)\n",
      "[<tf.Tensor: id=193746, shape=(), dtype=int32, numpy=122>, <tf.Tensor: id=193748, shape=(), dtype=int32, numpy=162>]\n",
      "------------------------------------------------\n",
      "  101/10000 [..............................] - ETA: 1:42:05 - loss: 3.5378 - regression_loss: 2.4458 - classification_loss: 1.0920"
     ]
    },
    {
     "name": "stderr",
     "output_type": "stream",
     "text": [
      "W1206 14:17:49.328769 140009638913792 def_function.py:474] 11 out of the last 13 calls to <function to_4D_image at 0x7f562630d488> triggered tf.function retracing. Tracing is expensive and the excessive number of tracings is likely due to passing python objects instead of tensors. Also, tf.function has experimental_relax_shapes=True option that relaxes argument shapes that can avoid unnecessary retracing. Please refer to https://www.tensorflow.org/beta/tutorials/eager/tf_function#python_or_tensor_args and https://www.tensorflow.org/api_docs/python/tf/function for more details.\n",
      "W1206 14:17:49.341080 140009638913792 def_function.py:474] 11 out of the last 13 calls to <function from_4D_image at 0x7f562630d620> triggered tf.function retracing. Tracing is expensive and the excessive number of tracings is likely due to passing python objects instead of tensors. Also, tf.function has experimental_relax_shapes=True option that relaxes argument shapes that can avoid unnecessary retracing. Please refer to https://www.tensorflow.org/beta/tutorials/eager/tf_function#python_or_tensor_args and https://www.tensorflow.org/api_docs/python/tf/function for more details.\n",
      "W1206 14:17:49.345268 140009638913792 def_function.py:474] 8 out of the last 11 calls to <function transform at 0x7f562631db70> triggered tf.function retracing. Tracing is expensive and the excessive number of tracings is likely due to passing python objects instead of tensors. Also, tf.function has experimental_relax_shapes=True option that relaxes argument shapes that can avoid unnecessary retracing. Please refer to https://www.tensorflow.org/beta/tutorials/eager/tf_function#python_or_tensor_args and https://www.tensorflow.org/api_docs/python/tf/function for more details.\n",
      "W1206 14:17:49.362070 140009638913792 def_function.py:474] 6 out of the last 13 calls to <function translate at 0x7f5625b68d90> triggered tf.function retracing. Tracing is expensive and the excessive number of tracings is likely due to passing python objects instead of tensors. Also, tf.function has experimental_relax_shapes=True option that relaxes argument shapes that can avoid unnecessary retracing. Please refer to https://www.tensorflow.org/beta/tutorials/eager/tf_function#python_or_tensor_args and https://www.tensorflow.org/api_docs/python/tf/function for more details.\n"
     ]
    },
    {
     "name": "stdout",
     "output_type": "stream",
     "text": [
      "  105/10000 [..............................] - ETA: 1:41:16 - loss: 3.5314 - regression_loss: 2.4398 - classification_loss: 1.0917"
     ]
    },
    {
     "name": "stderr",
     "output_type": "stream",
     "text": [
      "W1206 14:17:51.261707 140009638913792 def_function.py:474] 11 out of the last 11 calls to <function to_4D_image at 0x7f562630d488> triggered tf.function retracing. Tracing is expensive and the excessive number of tracings is likely due to passing python objects instead of tensors. Also, tf.function has experimental_relax_shapes=True option that relaxes argument shapes that can avoid unnecessary retracing. Please refer to https://www.tensorflow.org/beta/tutorials/eager/tf_function#python_or_tensor_args and https://www.tensorflow.org/api_docs/python/tf/function for more details.\n",
      "W1206 14:17:51.277517 140009638913792 def_function.py:474] 11 out of the last 11 calls to <function from_4D_image at 0x7f562630d620> triggered tf.function retracing. Tracing is expensive and the excessive number of tracings is likely due to passing python objects instead of tensors. Also, tf.function has experimental_relax_shapes=True option that relaxes argument shapes that can avoid unnecessary retracing. Please refer to https://www.tensorflow.org/beta/tutorials/eager/tf_function#python_or_tensor_args and https://www.tensorflow.org/api_docs/python/tf/function for more details.\n",
      "W1206 14:17:51.289091 140009638913792 def_function.py:474] 7 out of the last 11 calls to <function transform at 0x7f562631db70> triggered tf.function retracing. Tracing is expensive and the excessive number of tracings is likely due to passing python objects instead of tensors. Also, tf.function has experimental_relax_shapes=True option that relaxes argument shapes that can avoid unnecessary retracing. Please refer to https://www.tensorflow.org/beta/tutorials/eager/tf_function#python_or_tensor_args and https://www.tensorflow.org/api_docs/python/tf/function for more details.\n"
     ]
    },
    {
     "name": "stdout",
     "output_type": "stream",
     "text": [
      "  111/10000 [..............................] - ETA: 1:39:57 - loss: 3.4967 - regression_loss: 2.4103 - classification_loss: 1.0864"
     ]
    },
    {
     "name": "stderr",
     "output_type": "stream",
     "text": [
      "W1206 14:17:54.181587 140009638913792 def_function.py:474] 11 out of the last 11 calls to <function to_4D_image at 0x7f562630d488> triggered tf.function retracing. Tracing is expensive and the excessive number of tracings is likely due to passing python objects instead of tensors. Also, tf.function has experimental_relax_shapes=True option that relaxes argument shapes that can avoid unnecessary retracing. Please refer to https://www.tensorflow.org/beta/tutorials/eager/tf_function#python_or_tensor_args and https://www.tensorflow.org/api_docs/python/tf/function for more details.\n",
      "W1206 14:17:54.196565 140009638913792 def_function.py:474] 11 out of the last 11 calls to <function from_4D_image at 0x7f562630d620> triggered tf.function retracing. Tracing is expensive and the excessive number of tracings is likely due to passing python objects instead of tensors. Also, tf.function has experimental_relax_shapes=True option that relaxes argument shapes that can avoid unnecessary retracing. Please refer to https://www.tensorflow.org/beta/tutorials/eager/tf_function#python_or_tensor_args and https://www.tensorflow.org/api_docs/python/tf/function for more details.\n",
      "W1206 14:17:54.207151 140009638913792 def_function.py:474] 7 out of the last 12 calls to <function transform at 0x7f562631db70> triggered tf.function retracing. Tracing is expensive and the excessive number of tracings is likely due to passing python objects instead of tensors. Also, tf.function has experimental_relax_shapes=True option that relaxes argument shapes that can avoid unnecessary retracing. Please refer to https://www.tensorflow.org/beta/tutorials/eager/tf_function#python_or_tensor_args and https://www.tensorflow.org/api_docs/python/tf/function for more details.\n"
     ]
    },
    {
     "name": "stdout",
     "output_type": "stream",
     "text": [
      "  120/10000 [..............................] - ETA: 1:38:36 - loss: 3.5024 - regression_loss: 2.4165 - classification_loss: 1.0859"
     ]
    },
    {
     "name": "stderr",
     "output_type": "stream",
     "text": [
      "W1206 14:17:58.718315 140009638913792 def_function.py:474] 11 out of the last 11 calls to <function to_4D_image at 0x7f562630d488> triggered tf.function retracing. Tracing is expensive and the excessive number of tracings is likely due to passing python objects instead of tensors. Also, tf.function has experimental_relax_shapes=True option that relaxes argument shapes that can avoid unnecessary retracing. Please refer to https://www.tensorflow.org/beta/tutorials/eager/tf_function#python_or_tensor_args and https://www.tensorflow.org/api_docs/python/tf/function for more details.\n",
      "W1206 14:17:58.745933 140009638913792 def_function.py:474] 11 out of the last 11 calls to <function to_4D_image at 0x7f562630d488> triggered tf.function retracing. Tracing is expensive and the excessive number of tracings is likely due to passing python objects instead of tensors. Also, tf.function has experimental_relax_shapes=True option that relaxes argument shapes that can avoid unnecessary retracing. Please refer to https://www.tensorflow.org/beta/tutorials/eager/tf_function#python_or_tensor_args and https://www.tensorflow.org/api_docs/python/tf/function for more details.\n",
      "W1206 14:17:58.758162 140009638913792 def_function.py:474] 11 out of the last 11 calls to <function from_4D_image at 0x7f562630d620> triggered tf.function retracing. Tracing is expensive and the excessive number of tracings is likely due to passing python objects instead of tensors. Also, tf.function has experimental_relax_shapes=True option that relaxes argument shapes that can avoid unnecessary retracing. Please refer to https://www.tensorflow.org/beta/tutorials/eager/tf_function#python_or_tensor_args and https://www.tensorflow.org/api_docs/python/tf/function for more details.\n",
      "W1206 14:17:58.762453 140009638913792 def_function.py:474] 6 out of the last 13 calls to <function transform at 0x7f562631db70> triggered tf.function retracing. Tracing is expensive and the excessive number of tracings is likely due to passing python objects instead of tensors. Also, tf.function has experimental_relax_shapes=True option that relaxes argument shapes that can avoid unnecessary retracing. Please refer to https://www.tensorflow.org/beta/tutorials/eager/tf_function#python_or_tensor_args and https://www.tensorflow.org/api_docs/python/tf/function for more details.\n",
      "W1206 14:17:58.770068 140009638913792 def_function.py:474] 11 out of the last 11 calls to <function from_4D_image at 0x7f562630d620> triggered tf.function retracing. Tracing is expensive and the excessive number of tracings is likely due to passing python objects instead of tensors. Also, tf.function has experimental_relax_shapes=True option that relaxes argument shapes that can avoid unnecessary retracing. Please refer to https://www.tensorflow.org/beta/tutorials/eager/tf_function#python_or_tensor_args and https://www.tensorflow.org/api_docs/python/tf/function for more details.\n"
     ]
    },
    {
     "name": "stdout",
     "output_type": "stream",
     "text": [
      "  123/10000 [..............................] - ETA: 1:38:05 - loss: 3.4791 - regression_loss: 2.3976 - classification_loss: 1.0815------------------------------------------------\n",
      "tf.Tensor(0.2546875, shape=(), dtype=float32)\n",
      "tf.Tensor(0.475, shape=(), dtype=float32)\n",
      "tf.Tensor(247, shape=(), dtype=int32)\n",
      "[<tf.Tensor: id=229296, shape=(), dtype=int32, numpy=192>, <tf.Tensor: id=229298, shape=(), dtype=int32, numpy=244>]\n",
      "------------------------------------------------\n",
      "  125/10000 [..............................] - ETA: 1:37:51 - loss: 3.4815 - regression_loss: 2.3997 - classification_loss: 1.0818------------------------------------------------\n",
      "tf.Tensor(0.5515625, shape=(), dtype=float32)\n",
      "tf.Tensor(0.66875, shape=(), dtype=float32)\n",
      "tf.Tensor(220, shape=(), dtype=int32)\n",
      "[<tf.Tensor: id=232759, shape=(), dtype=int32, numpy=70>, <tf.Tensor: id=232761, shape=(), dtype=int32, numpy=130>]\n",
      "------------------------------------------------\n",
      "  126/10000 [..............................] - ETA: 1:37:43 - loss: 3.4827 - regression_loss: 2.4008 - classification_loss: 1.0819"
     ]
    },
    {
     "name": "stderr",
     "output_type": "stream",
     "text": [
      "W1206 14:18:01.663556 140009638913792 def_function.py:474] 11 out of the last 11 calls to <function to_4D_image at 0x7f562630d488> triggered tf.function retracing. Tracing is expensive and the excessive number of tracings is likely due to passing python objects instead of tensors. Also, tf.function has experimental_relax_shapes=True option that relaxes argument shapes that can avoid unnecessary retracing. Please refer to https://www.tensorflow.org/beta/tutorials/eager/tf_function#python_or_tensor_args and https://www.tensorflow.org/api_docs/python/tf/function for more details.\n",
      "W1206 14:18:01.676753 140009638913792 def_function.py:474] 11 out of the last 11 calls to <function from_4D_image at 0x7f562630d620> triggered tf.function retracing. Tracing is expensive and the excessive number of tracings is likely due to passing python objects instead of tensors. Also, tf.function has experimental_relax_shapes=True option that relaxes argument shapes that can avoid unnecessary retracing. Please refer to https://www.tensorflow.org/beta/tutorials/eager/tf_function#python_or_tensor_args and https://www.tensorflow.org/api_docs/python/tf/function for more details.\n",
      "W1206 14:18:01.681156 140009638913792 def_function.py:474] 5 out of the last 12 calls to <function transform at 0x7f562631db70> triggered tf.function retracing. Tracing is expensive and the excessive number of tracings is likely due to passing python objects instead of tensors. Also, tf.function has experimental_relax_shapes=True option that relaxes argument shapes that can avoid unnecessary retracing. Please refer to https://www.tensorflow.org/beta/tutorials/eager/tf_function#python_or_tensor_args and https://www.tensorflow.org/api_docs/python/tf/function for more details.\n"
     ]
    },
    {
     "name": "stdout",
     "output_type": "stream",
     "text": [
      "  131/10000 [..............................] - ETA: 1:36:56 - loss: 3.4802 - regression_loss: 2.3984 - classification_loss: 1.0818------------------------------------------------\n",
      "tf.Tensor(0.5890625, shape=(), dtype=float32)\n",
      "tf.Tensor(0.640625, shape=(), dtype=float32)\n",
      "tf.Tensor(206, shape=(), dtype=int32)\n",
      "[<tf.Tensor: id=241238, shape=(), dtype=int32, numpy=122>, <tf.Tensor: id=241240, shape=(), dtype=int32, numpy=58>]\n",
      "------------------------------------------------\n",
      "  133/10000 [..............................] - ETA: 1:36:43 - loss: 3.4811 - regression_loss: 2.3994 - classification_loss: 1.0817------------------------------------------------\n",
      "tf.Tensor(0.275, shape=(), dtype=float32)\n",
      "tf.Tensor(0.3828125, shape=(), dtype=float32)\n",
      "tf.Tensor(351, shape=(), dtype=int32)\n",
      "[<tf.Tensor: id=245416, shape=(), dtype=int32, numpy=84>, <tf.Tensor: id=245418, shape=(), dtype=int32, numpy=120>]\n",
      "------------------------------------------------\n",
      "  145/10000 [..............................] - ETA: 1:34:57 - loss: 3.4596 - regression_loss: 2.3830 - classification_loss: 1.0766"
     ]
    },
    {
     "name": "stderr",
     "output_type": "stream",
     "text": [
      "W1206 14:18:10.671391 140009638913792 def_function.py:474] 11 out of the last 11 calls to <function to_4D_image at 0x7f562630d488> triggered tf.function retracing. Tracing is expensive and the excessive number of tracings is likely due to passing python objects instead of tensors. Also, tf.function has experimental_relax_shapes=True option that relaxes argument shapes that can avoid unnecessary retracing. Please refer to https://www.tensorflow.org/beta/tutorials/eager/tf_function#python_or_tensor_args and https://www.tensorflow.org/api_docs/python/tf/function for more details.\n",
      "W1206 14:18:10.683106 140009638913792 def_function.py:474] 11 out of the last 11 calls to <function from_4D_image at 0x7f562630d620> triggered tf.function retracing. Tracing is expensive and the excessive number of tracings is likely due to passing python objects instead of tensors. Also, tf.function has experimental_relax_shapes=True option that relaxes argument shapes that can avoid unnecessary retracing. Please refer to https://www.tensorflow.org/beta/tutorials/eager/tf_function#python_or_tensor_args and https://www.tensorflow.org/api_docs/python/tf/function for more details.\n",
      "W1206 14:18:10.728701 140009638913792 def_function.py:474] 11 out of the last 11 calls to <function to_4D_image at 0x7f562630d488> triggered tf.function retracing. Tracing is expensive and the excessive number of tracings is likely due to passing python objects instead of tensors. Also, tf.function has experimental_relax_shapes=True option that relaxes argument shapes that can avoid unnecessary retracing. Please refer to https://www.tensorflow.org/beta/tutorials/eager/tf_function#python_or_tensor_args and https://www.tensorflow.org/api_docs/python/tf/function for more details.\n",
      "W1206 14:18:10.740512 140009638913792 def_function.py:474] 11 out of the last 11 calls to <function from_4D_image at 0x7f562630d620> triggered tf.function retracing. Tracing is expensive and the excessive number of tracings is likely due to passing python objects instead of tensors. Also, tf.function has experimental_relax_shapes=True option that relaxes argument shapes that can avoid unnecessary retracing. Please refer to https://www.tensorflow.org/beta/tutorials/eager/tf_function#python_or_tensor_args and https://www.tensorflow.org/api_docs/python/tf/function for more details.\n",
      "W1206 14:18:10.744323 140009638913792 def_function.py:474] 5 out of the last 13 calls to <function transform at 0x7f562631db70> triggered tf.function retracing. Tracing is expensive and the excessive number of tracings is likely due to passing python objects instead of tensors. Also, tf.function has experimental_relax_shapes=True option that relaxes argument shapes that can avoid unnecessary retracing. Please refer to https://www.tensorflow.org/beta/tutorials/eager/tf_function#python_or_tensor_args and https://www.tensorflow.org/api_docs/python/tf/function for more details.\n"
     ]
    },
    {
     "name": "stdout",
     "output_type": "stream",
     "text": [
      "  147/10000 [..............................] - ETA: 1:34:59 - loss: 3.4563 - regression_loss: 2.3802 - classification_loss: 1.0761------------------------------------------------\n",
      "tf.Tensor(0.0109375, shape=(), dtype=float32)\n",
      "tf.Tensor(0.24375, shape=(), dtype=float32)\n",
      "tf.Tensor(392, shape=(), dtype=int32)\n",
      "[<tf.Tensor: id=264993, shape=(), dtype=int32, numpy=192>, <tf.Tensor: id=264995, shape=(), dtype=int32, numpy=248>]\n",
      "------------------------------------------------\n",
      "  148/10000 [..............................] - ETA: 1:34:54 - loss: 3.4557 - regression_loss: 2.3797 - classification_loss: 1.0760------------------------------------------------\n",
      "tf.Tensor(0.003125, shape=(), dtype=float32)\n",
      "tf.Tensor(0.2, shape=(), dtype=float32)\n",
      "tf.Tensor(464, shape=(), dtype=int32)\n",
      "[<tf.Tensor: id=266982, shape=(), dtype=int32, numpy=176>, <tf.Tensor: id=266984, shape=(), dtype=int32, numpy=176>]\n",
      "------------------------------------------------\n",
      "  151/10000 [..............................] - ETA: 1:34:23 - loss: 3.4393 - regression_loss: 2.3667 - classification_loss: 1.0727"
     ]
    },
    {
     "name": "stderr",
     "output_type": "stream",
     "text": [
      "W1206 14:18:13.684118 140009638913792 def_function.py:474] 11 out of the last 11 calls to <function to_4D_image at 0x7f562630d488> triggered tf.function retracing. Tracing is expensive and the excessive number of tracings is likely due to passing python objects instead of tensors. Also, tf.function has experimental_relax_shapes=True option that relaxes argument shapes that can avoid unnecessary retracing. Please refer to https://www.tensorflow.org/beta/tutorials/eager/tf_function#python_or_tensor_args and https://www.tensorflow.org/api_docs/python/tf/function for more details.\n",
      "W1206 14:18:13.699793 140009638913792 def_function.py:474] 11 out of the last 11 calls to <function from_4D_image at 0x7f562630d620> triggered tf.function retracing. Tracing is expensive and the excessive number of tracings is likely due to passing python objects instead of tensors. Also, tf.function has experimental_relax_shapes=True option that relaxes argument shapes that can avoid unnecessary retracing. Please refer to https://www.tensorflow.org/beta/tutorials/eager/tf_function#python_or_tensor_args and https://www.tensorflow.org/api_docs/python/tf/function for more details.\n",
      "W1206 14:18:13.712965 140009638913792 def_function.py:474] 5 out of the last 12 calls to <function transform at 0x7f562631db70> triggered tf.function retracing. Tracing is expensive and the excessive number of tracings is likely due to passing python objects instead of tensors. Also, tf.function has experimental_relax_shapes=True option that relaxes argument shapes that can avoid unnecessary retracing. Please refer to https://www.tensorflow.org/beta/tutorials/eager/tf_function#python_or_tensor_args and https://www.tensorflow.org/api_docs/python/tf/function for more details.\n"
     ]
    },
    {
     "name": "stdout",
     "output_type": "stream",
     "text": [
      "\b\b\b\b\b\b\b\b\b\b\b\b\b\b\b\b\b\b\b\b\b\b\b\b\b\b\b\b\b\b\b\b\b\b\b\b\b\b\b\b\b\b\b\b\b\b\b\b\b\b\b\b\b\b\b\b\b\b\b\b\b\b\b\b\b\b\b\b\b\b\b\b\b\b\b\b\b\b\b\b\b\b\b\b\b\b\b\b\b\b\b\b\b\b\b\b\b\b\b\b\b\b\b\b\b\b\b\b\b\b\b\b\b\b\b\b\b\b\b\b\b\b\b\b\b\b\b\b\b\b\r",
      "  152/10000 [..............................] - ETA: 1:34:20 - loss: 3.4428 - regression_loss: 2.3703 - classification_loss: 1.0725"
     ]
    },
    {
     "name": "stderr",
     "output_type": "stream",
     "text": [
      "W1206 14:18:14.161934 140009638913792 def_function.py:474] 11 out of the last 11 calls to <function to_4D_image at 0x7f562630d488> triggered tf.function retracing. Tracing is expensive and the excessive number of tracings is likely due to passing python objects instead of tensors. Also, tf.function has experimental_relax_shapes=True option that relaxes argument shapes that can avoid unnecessary retracing. Please refer to https://www.tensorflow.org/beta/tutorials/eager/tf_function#python_or_tensor_args and https://www.tensorflow.org/api_docs/python/tf/function for more details.\n",
      "W1206 14:18:14.177750 140009638913792 def_function.py:474] 11 out of the last 11 calls to <function from_4D_image at 0x7f562630d620> triggered tf.function retracing. Tracing is expensive and the excessive number of tracings is likely due to passing python objects instead of tensors. Also, tf.function has experimental_relax_shapes=True option that relaxes argument shapes that can avoid unnecessary retracing. Please refer to https://www.tensorflow.org/beta/tutorials/eager/tf_function#python_or_tensor_args and https://www.tensorflow.org/api_docs/python/tf/function for more details.\n",
      "W1206 14:18:14.189754 140009638913792 def_function.py:474] 6 out of the last 13 calls to <function transform at 0x7f562631db70> triggered tf.function retracing. Tracing is expensive and the excessive number of tracings is likely due to passing python objects instead of tensors. Also, tf.function has experimental_relax_shapes=True option that relaxes argument shapes that can avoid unnecessary retracing. Please refer to https://www.tensorflow.org/beta/tutorials/eager/tf_function#python_or_tensor_args and https://www.tensorflow.org/api_docs/python/tf/function for more details.\n",
      "W1206 14:18:14.220247 140009638913792 def_function.py:474] 11 out of the last 11 calls to <function to_4D_image at 0x7f562630d488> triggered tf.function retracing. Tracing is expensive and the excessive number of tracings is likely due to passing python objects instead of tensors. Also, tf.function has experimental_relax_shapes=True option that relaxes argument shapes that can avoid unnecessary retracing. Please refer to https://www.tensorflow.org/beta/tutorials/eager/tf_function#python_or_tensor_args and https://www.tensorflow.org/api_docs/python/tf/function for more details.\n",
      "W1206 14:18:14.235111 140009638913792 def_function.py:474] 11 out of the last 11 calls to <function from_4D_image at 0x7f562630d620> triggered tf.function retracing. Tracing is expensive and the excessive number of tracings is likely due to passing python objects instead of tensors. Also, tf.function has experimental_relax_shapes=True option that relaxes argument shapes that can avoid unnecessary retracing. Please refer to https://www.tensorflow.org/beta/tutorials/eager/tf_function#python_or_tensor_args and https://www.tensorflow.org/api_docs/python/tf/function for more details.\n",
      "W1206 14:18:14.247422 140009638913792 def_function.py:474] 6 out of the last 11 calls to <function transform at 0x7f562631db70> triggered tf.function retracing. Tracing is expensive and the excessive number of tracings is likely due to passing python objects instead of tensors. Also, tf.function has experimental_relax_shapes=True option that relaxes argument shapes that can avoid unnecessary retracing. Please refer to https://www.tensorflow.org/beta/tutorials/eager/tf_function#python_or_tensor_args and https://www.tensorflow.org/api_docs/python/tf/function for more details.\n"
     ]
    },
    {
     "name": "stdout",
     "output_type": "stream",
     "text": [
      "  157/10000 [..............................] - ETA: 1:33:56 - loss: 3.4404 - regression_loss: 2.3674 - classification_loss: 1.0730------------------------------------------------\n",
      "tf.Tensor(0.8890625, shape=(), dtype=float32)\n",
      "tf.Tensor(0.9890625, shape=(), dtype=float32)\n",
      "tf.Tensor(3, shape=(), dtype=int32)\n",
      "[<tf.Tensor: id=279096, shape=(), dtype=int32, numpy=126>, <tf.Tensor: id=279098, shape=(), dtype=int32, numpy=112>]\n",
      "------------------------------------------------\n",
      "  159/10000 [..............................] - ETA: 1:33:45 - loss: 3.4385 - regression_loss: 2.3656 - classification_loss: 1.0729"
     ]
    },
    {
     "name": "stderr",
     "output_type": "stream",
     "text": [
      "W1206 14:18:17.680076 140009638913792 def_function.py:474] 11 out of the last 11 calls to <function to_4D_image at 0x7f562630d488> triggered tf.function retracing. Tracing is expensive and the excessive number of tracings is likely due to passing python objects instead of tensors. Also, tf.function has experimental_relax_shapes=True option that relaxes argument shapes that can avoid unnecessary retracing. Please refer to https://www.tensorflow.org/beta/tutorials/eager/tf_function#python_or_tensor_args and https://www.tensorflow.org/api_docs/python/tf/function for more details.\n",
      "W1206 14:18:17.695728 140009638913792 def_function.py:474] 11 out of the last 11 calls to <function from_4D_image at 0x7f562630d620> triggered tf.function retracing. Tracing is expensive and the excessive number of tracings is likely due to passing python objects instead of tensors. Also, tf.function has experimental_relax_shapes=True option that relaxes argument shapes that can avoid unnecessary retracing. Please refer to https://www.tensorflow.org/beta/tutorials/eager/tf_function#python_or_tensor_args and https://www.tensorflow.org/api_docs/python/tf/function for more details.\n",
      "W1206 14:18:17.708062 140009638913792 def_function.py:474] 7 out of the last 14 calls to <function transform at 0x7f562631db70> triggered tf.function retracing. Tracing is expensive and the excessive number of tracings is likely due to passing python objects instead of tensors. Also, tf.function has experimental_relax_shapes=True option that relaxes argument shapes that can avoid unnecessary retracing. Please refer to https://www.tensorflow.org/beta/tutorials/eager/tf_function#python_or_tensor_args and https://www.tensorflow.org/api_docs/python/tf/function for more details.\n"
     ]
    },
    {
     "name": "stdout",
     "output_type": "stream",
     "text": [
      "------------------------------------------------\n",
      "tf.Tensor(0.7703125, shape=(), dtype=float32)\n",
      "tf.Tensor(0.8078125, shape=(), dtype=float32)\n",
      "tf.Tensor(111, shape=(), dtype=int32)\n",
      "[<tf.Tensor: id=282925, shape=(), dtype=int32, numpy=86>, <tf.Tensor: id=282927, shape=(), dtype=int32, numpy=42>]\n",
      "------------------------------------------------\n",
      "  161/10000 [..............................] - ETA: 1:33:34 - loss: 3.4364 - regression_loss: 2.3635 - classification_loss: 1.0730------------------------------------------------\n",
      "tf.Tensor(0.7, shape=(), dtype=float32)\n",
      "tf.Tensor(0.7890625, shape=(), dtype=float32)\n",
      "tf.Tensor(102, shape=(), dtype=int32)\n",
      "[<tf.Tensor: id=285317, shape=(), dtype=int32, numpy=320>, <tf.Tensor: id=285319, shape=(), dtype=int32, numpy=100>]\n",
      "------------------------------------------------\n",
      "  165/10000 [..............................] - ETA: 1:33:04 - loss: 3.4380 - regression_loss: 2.3646 - classification_loss: 1.0734"
     ]
    },
    {
     "name": "stderr",
     "output_type": "stream",
     "text": [
      "W1206 14:18:20.554760 140009638913792 def_function.py:474] 11 out of the last 11 calls to <function to_4D_image at 0x7f562630d488> triggered tf.function retracing. Tracing is expensive and the excessive number of tracings is likely due to passing python objects instead of tensors. Also, tf.function has experimental_relax_shapes=True option that relaxes argument shapes that can avoid unnecessary retracing. Please refer to https://www.tensorflow.org/beta/tutorials/eager/tf_function#python_or_tensor_args and https://www.tensorflow.org/api_docs/python/tf/function for more details.\n",
      "W1206 14:18:20.582096 140009638913792 def_function.py:474] 11 out of the last 11 calls to <function to_4D_image at 0x7f562630d488> triggered tf.function retracing. Tracing is expensive and the excessive number of tracings is likely due to passing python objects instead of tensors. Also, tf.function has experimental_relax_shapes=True option that relaxes argument shapes that can avoid unnecessary retracing. Please refer to https://www.tensorflow.org/beta/tutorials/eager/tf_function#python_or_tensor_args and https://www.tensorflow.org/api_docs/python/tf/function for more details.\n",
      "W1206 14:18:20.594209 140009638913792 def_function.py:474] 11 out of the last 11 calls to <function from_4D_image at 0x7f562630d620> triggered tf.function retracing. Tracing is expensive and the excessive number of tracings is likely due to passing python objects instead of tensors. Also, tf.function has experimental_relax_shapes=True option that relaxes argument shapes that can avoid unnecessary retracing. Please refer to https://www.tensorflow.org/beta/tutorials/eager/tf_function#python_or_tensor_args and https://www.tensorflow.org/api_docs/python/tf/function for more details.\n",
      "W1206 14:18:20.598690 140009638913792 def_function.py:474] 6 out of the last 11 calls to <function transform at 0x7f562631db70> triggered tf.function retracing. Tracing is expensive and the excessive number of tracings is likely due to passing python objects instead of tensors. Also, tf.function has experimental_relax_shapes=True option that relaxes argument shapes that can avoid unnecessary retracing. Please refer to https://www.tensorflow.org/beta/tutorials/eager/tf_function#python_or_tensor_args and https://www.tensorflow.org/api_docs/python/tf/function for more details.\n",
      "W1206 14:18:20.606407 140009638913792 def_function.py:474] 11 out of the last 11 calls to <function from_4D_image at 0x7f562630d620> triggered tf.function retracing. Tracing is expensive and the excessive number of tracings is likely due to passing python objects instead of tensors. Also, tf.function has experimental_relax_shapes=True option that relaxes argument shapes that can avoid unnecessary retracing. Please refer to https://www.tensorflow.org/beta/tutorials/eager/tf_function#python_or_tensor_args and https://www.tensorflow.org/api_docs/python/tf/function for more details.\n"
     ]
    },
    {
     "name": "stdout",
     "output_type": "stream",
     "text": [
      "  167/10000 [..............................] - ETA: 1:33:06 - loss: 3.4384 - regression_loss: 2.3653 - classification_loss: 1.0731"
     ]
    },
    {
     "name": "stderr",
     "output_type": "stream",
     "text": [
      "W1206 14:18:21.665674 140009638913792 def_function.py:474] 11 out of the last 11 calls to <function to_4D_image at 0x7f562630d488> triggered tf.function retracing. Tracing is expensive and the excessive number of tracings is likely due to passing python objects instead of tensors. Also, tf.function has experimental_relax_shapes=True option that relaxes argument shapes that can avoid unnecessary retracing. Please refer to https://www.tensorflow.org/beta/tutorials/eager/tf_function#python_or_tensor_args and https://www.tensorflow.org/api_docs/python/tf/function for more details.\n",
      "W1206 14:18:21.675817 140009638913792 def_function.py:474] 11 out of the last 11 calls to <function from_4D_image at 0x7f562630d620> triggered tf.function retracing. Tracing is expensive and the excessive number of tracings is likely due to passing python objects instead of tensors. Also, tf.function has experimental_relax_shapes=True option that relaxes argument shapes that can avoid unnecessary retracing. Please refer to https://www.tensorflow.org/beta/tutorials/eager/tf_function#python_or_tensor_args and https://www.tensorflow.org/api_docs/python/tf/function for more details.\n",
      "W1206 14:18:21.679654 140009638913792 def_function.py:474] 7 out of the last 13 calls to <function transform at 0x7f562631db70> triggered tf.function retracing. Tracing is expensive and the excessive number of tracings is likely due to passing python objects instead of tensors. Also, tf.function has experimental_relax_shapes=True option that relaxes argument shapes that can avoid unnecessary retracing. Please refer to https://www.tensorflow.org/beta/tutorials/eager/tf_function#python_or_tensor_args and https://www.tensorflow.org/api_docs/python/tf/function for more details.\n"
     ]
    },
    {
     "name": "stdout",
     "output_type": "stream",
     "text": [
      "  170/10000 [..............................] - ETA: 1:32:49 - loss: 3.4322 - regression_loss: 2.3591 - classification_loss: 1.0731"
     ]
    },
    {
     "name": "stderr",
     "output_type": "stream",
     "text": [
      "W1206 14:18:23.162406 140009638913792 def_function.py:474] 11 out of the last 11 calls to <function to_4D_image at 0x7f562630d488> triggered tf.function retracing. Tracing is expensive and the excessive number of tracings is likely due to passing python objects instead of tensors. Also, tf.function has experimental_relax_shapes=True option that relaxes argument shapes that can avoid unnecessary retracing. Please refer to https://www.tensorflow.org/beta/tutorials/eager/tf_function#python_or_tensor_args and https://www.tensorflow.org/api_docs/python/tf/function for more details.\n",
      "W1206 14:18:23.177465 140009638913792 def_function.py:474] 11 out of the last 11 calls to <function from_4D_image at 0x7f562630d620> triggered tf.function retracing. Tracing is expensive and the excessive number of tracings is likely due to passing python objects instead of tensors. Also, tf.function has experimental_relax_shapes=True option that relaxes argument shapes that can avoid unnecessary retracing. Please refer to https://www.tensorflow.org/beta/tutorials/eager/tf_function#python_or_tensor_args and https://www.tensorflow.org/api_docs/python/tf/function for more details.\n",
      "W1206 14:18:23.188408 140009638913792 def_function.py:474] 7 out of the last 11 calls to <function transform at 0x7f562631db70> triggered tf.function retracing. Tracing is expensive and the excessive number of tracings is likely due to passing python objects instead of tensors. Also, tf.function has experimental_relax_shapes=True option that relaxes argument shapes that can avoid unnecessary retracing. Please refer to https://www.tensorflow.org/beta/tutorials/eager/tf_function#python_or_tensor_args and https://www.tensorflow.org/api_docs/python/tf/function for more details.\n"
     ]
    },
    {
     "name": "stdout",
     "output_type": "stream",
     "text": [
      "  173/10000 [..............................] - ETA: 1:32:34 - loss: 3.4296 - regression_loss: 2.3572 - classification_loss: 1.0724"
     ]
    },
    {
     "name": "stderr",
     "output_type": "stream",
     "text": [
      "W1206 14:18:24.588184 140009638913792 def_function.py:474] 11 out of the last 11 calls to <function to_4D_image at 0x7f562630d488> triggered tf.function retracing. Tracing is expensive and the excessive number of tracings is likely due to passing python objects instead of tensors. Also, tf.function has experimental_relax_shapes=True option that relaxes argument shapes that can avoid unnecessary retracing. Please refer to https://www.tensorflow.org/beta/tutorials/eager/tf_function#python_or_tensor_args and https://www.tensorflow.org/api_docs/python/tf/function for more details.\n",
      "W1206 14:18:24.603559 140009638913792 def_function.py:474] 11 out of the last 11 calls to <function from_4D_image at 0x7f562630d620> triggered tf.function retracing. Tracing is expensive and the excessive number of tracings is likely due to passing python objects instead of tensors. Also, tf.function has experimental_relax_shapes=True option that relaxes argument shapes that can avoid unnecessary retracing. Please refer to https://www.tensorflow.org/beta/tutorials/eager/tf_function#python_or_tensor_args and https://www.tensorflow.org/api_docs/python/tf/function for more details.\n",
      "W1206 14:18:24.615519 140009638913792 def_function.py:474] 7 out of the last 11 calls to <function transform at 0x7f562631db70> triggered tf.function retracing. Tracing is expensive and the excessive number of tracings is likely due to passing python objects instead of tensors. Also, tf.function has experimental_relax_shapes=True option that relaxes argument shapes that can avoid unnecessary retracing. Please refer to https://www.tensorflow.org/beta/tutorials/eager/tf_function#python_or_tensor_args and https://www.tensorflow.org/api_docs/python/tf/function for more details.\n",
      "W1206 14:18:24.644242 140009638913792 def_function.py:474] 11 out of the last 11 calls to <function to_4D_image at 0x7f562630d488> triggered tf.function retracing. Tracing is expensive and the excessive number of tracings is likely due to passing python objects instead of tensors. Also, tf.function has experimental_relax_shapes=True option that relaxes argument shapes that can avoid unnecessary retracing. Please refer to https://www.tensorflow.org/beta/tutorials/eager/tf_function#python_or_tensor_args and https://www.tensorflow.org/api_docs/python/tf/function for more details.\n",
      "W1206 14:18:24.658910 140009638913792 def_function.py:474] 11 out of the last 11 calls to <function from_4D_image at 0x7f562630d620> triggered tf.function retracing. Tracing is expensive and the excessive number of tracings is likely due to passing python objects instead of tensors. Also, tf.function has experimental_relax_shapes=True option that relaxes argument shapes that can avoid unnecessary retracing. Please refer to https://www.tensorflow.org/beta/tutorials/eager/tf_function#python_or_tensor_args and https://www.tensorflow.org/api_docs/python/tf/function for more details.\n",
      "W1206 14:18:24.671410 140009638913792 def_function.py:474] 7 out of the last 11 calls to <function transform at 0x7f562631db70> triggered tf.function retracing. Tracing is expensive and the excessive number of tracings is likely due to passing python objects instead of tensors. Also, tf.function has experimental_relax_shapes=True option that relaxes argument shapes that can avoid unnecessary retracing. Please refer to https://www.tensorflow.org/beta/tutorials/eager/tf_function#python_or_tensor_args and https://www.tensorflow.org/api_docs/python/tf/function for more details.\n"
     ]
    },
    {
     "name": "stdout",
     "output_type": "stream",
     "text": [
      "\b\b\b\b\b\b\b\b\b\b\b\b\b\b\b\b\b\b\b\b\b\b\b\b\b\b\b\b\b\b\b\b\b\b\b\b\b\b\b\b\b\b\b\b\b\b\b\b\b\b\b\b\b\b\b\b\b\b\b\b\b\b\b\b\b\b\b\b\b\b\b\b\b\b\b\b\b\b\b\b\b\b\b\b\b\b\b\b\b\b\b\b\b\b\b\b\b\b\b\b\b\b\b\b\b\b\b\b\b\b\b\b\b\b\b\b\b\b\b\b\b\b\b\b\b\b\b\b\b\b\r",
      "  174/10000 [..............................] - ETA: 1:32:37 - loss: 3.4265 - regression_loss: 2.3543 - classification_loss: 1.0722"
     ]
    },
    {
     "name": "stderr",
     "output_type": "stream",
     "text": [
      "W1206 14:18:25.194332 140009638913792 def_function.py:474] 11 out of the last 11 calls to <function to_4D_image at 0x7f562630d488> triggered tf.function retracing. Tracing is expensive and the excessive number of tracings is likely due to passing python objects instead of tensors. Also, tf.function has experimental_relax_shapes=True option that relaxes argument shapes that can avoid unnecessary retracing. Please refer to https://www.tensorflow.org/beta/tutorials/eager/tf_function#python_or_tensor_args and https://www.tensorflow.org/api_docs/python/tf/function for more details.\n",
      "W1206 14:18:25.218883 140009638913792 def_function.py:474] 11 out of the last 11 calls to <function to_4D_image at 0x7f562630d488> triggered tf.function retracing. Tracing is expensive and the excessive number of tracings is likely due to passing python objects instead of tensors. Also, tf.function has experimental_relax_shapes=True option that relaxes argument shapes that can avoid unnecessary retracing. Please refer to https://www.tensorflow.org/beta/tutorials/eager/tf_function#python_or_tensor_args and https://www.tensorflow.org/api_docs/python/tf/function for more details.\n",
      "W1206 14:18:25.229684 140009638913792 def_function.py:474] 11 out of the last 11 calls to <function from_4D_image at 0x7f562630d620> triggered tf.function retracing. Tracing is expensive and the excessive number of tracings is likely due to passing python objects instead of tensors. Also, tf.function has experimental_relax_shapes=True option that relaxes argument shapes that can avoid unnecessary retracing. Please refer to https://www.tensorflow.org/beta/tutorials/eager/tf_function#python_or_tensor_args and https://www.tensorflow.org/api_docs/python/tf/function for more details.\n",
      "W1206 14:18:25.233556 140009638913792 def_function.py:474] 8 out of the last 12 calls to <function transform at 0x7f562631db70> triggered tf.function retracing. Tracing is expensive and the excessive number of tracings is likely due to passing python objects instead of tensors. Also, tf.function has experimental_relax_shapes=True option that relaxes argument shapes that can avoid unnecessary retracing. Please refer to https://www.tensorflow.org/beta/tutorials/eager/tf_function#python_or_tensor_args and https://www.tensorflow.org/api_docs/python/tf/function for more details.\n",
      "W1206 14:18:25.240219 140009638913792 def_function.py:474] 11 out of the last 11 calls to <function from_4D_image at 0x7f562630d620> triggered tf.function retracing. Tracing is expensive and the excessive number of tracings is likely due to passing python objects instead of tensors. Also, tf.function has experimental_relax_shapes=True option that relaxes argument shapes that can avoid unnecessary retracing. Please refer to https://www.tensorflow.org/beta/tutorials/eager/tf_function#python_or_tensor_args and https://www.tensorflow.org/api_docs/python/tf/function for more details.\n"
     ]
    },
    {
     "name": "stdout",
     "output_type": "stream",
     "text": [
      "  182/10000 [..............................] - ETA: 1:31:55 - loss: 3.4390 - regression_loss: 2.3670 - classification_loss: 1.0720"
     ]
    },
    {
     "name": "stderr",
     "output_type": "stream",
     "text": [
      "W1206 14:18:29.044112 140009638913792 def_function.py:474] 11 out of the last 11 calls to <function to_4D_image at 0x7f562630d488> triggered tf.function retracing. Tracing is expensive and the excessive number of tracings is likely due to passing python objects instead of tensors. Also, tf.function has experimental_relax_shapes=True option that relaxes argument shapes that can avoid unnecessary retracing. Please refer to https://www.tensorflow.org/beta/tutorials/eager/tf_function#python_or_tensor_args and https://www.tensorflow.org/api_docs/python/tf/function for more details.\n",
      "W1206 14:18:29.065238 140009638913792 def_function.py:474] 11 out of the last 11 calls to <function to_4D_image at 0x7f562630d488> triggered tf.function retracing. Tracing is expensive and the excessive number of tracings is likely due to passing python objects instead of tensors. Also, tf.function has experimental_relax_shapes=True option that relaxes argument shapes that can avoid unnecessary retracing. Please refer to https://www.tensorflow.org/beta/tutorials/eager/tf_function#python_or_tensor_args and https://www.tensorflow.org/api_docs/python/tf/function for more details.\n",
      "W1206 14:18:29.074545 140009638913792 def_function.py:474] 11 out of the last 11 calls to <function from_4D_image at 0x7f562630d620> triggered tf.function retracing. Tracing is expensive and the excessive number of tracings is likely due to passing python objects instead of tensors. Also, tf.function has experimental_relax_shapes=True option that relaxes argument shapes that can avoid unnecessary retracing. Please refer to https://www.tensorflow.org/beta/tutorials/eager/tf_function#python_or_tensor_args and https://www.tensorflow.org/api_docs/python/tf/function for more details.\n",
      "W1206 14:18:29.077649 140009638913792 def_function.py:474] 8 out of the last 11 calls to <function transform at 0x7f562631db70> triggered tf.function retracing. Tracing is expensive and the excessive number of tracings is likely due to passing python objects instead of tensors. Also, tf.function has experimental_relax_shapes=True option that relaxes argument shapes that can avoid unnecessary retracing. Please refer to https://www.tensorflow.org/beta/tutorials/eager/tf_function#python_or_tensor_args and https://www.tensorflow.org/api_docs/python/tf/function for more details.\n",
      "W1206 14:18:29.083638 140009638913792 def_function.py:474] 11 out of the last 11 calls to <function from_4D_image at 0x7f562630d620> triggered tf.function retracing. Tracing is expensive and the excessive number of tracings is likely due to passing python objects instead of tensors. Also, tf.function has experimental_relax_shapes=True option that relaxes argument shapes that can avoid unnecessary retracing. Please refer to https://www.tensorflow.org/beta/tutorials/eager/tf_function#python_or_tensor_args and https://www.tensorflow.org/api_docs/python/tf/function for more details.\n"
     ]
    },
    {
     "name": "stdout",
     "output_type": "stream",
     "text": [
      "  185/10000 [..............................] - ETA: 1:31:40 - loss: 3.4398 - regression_loss: 2.3682 - classification_loss: 1.0716------------------------------------------------\n",
      "tf.Tensor(0.153125, shape=(), dtype=float32)\n",
      "tf.Tensor(0.284375, shape=(), dtype=float32)\n",
      "tf.Tensor(425, shape=(), dtype=int32)\n",
      "[<tf.Tensor: id=322370, shape=(), dtype=int32, numpy=406>, <tf.Tensor: id=322372, shape=(), dtype=int32, numpy=146>]\n",
      "------------------------------------------------\n",
      "  188/10000 [..............................] - ETA: 1:31:28 - loss: 3.4398 - regression_loss: 2.3687 - classification_loss: 1.0712"
     ]
    },
    {
     "name": "stderr",
     "output_type": "stream",
     "text": [
      "W1206 14:18:31.935916 140009638913792 def_function.py:474] 11 out of the last 11 calls to <function to_4D_image at 0x7f562630d488> triggered tf.function retracing. Tracing is expensive and the excessive number of tracings is likely due to passing python objects instead of tensors. Also, tf.function has experimental_relax_shapes=True option that relaxes argument shapes that can avoid unnecessary retracing. Please refer to https://www.tensorflow.org/beta/tutorials/eager/tf_function#python_or_tensor_args and https://www.tensorflow.org/api_docs/python/tf/function for more details.\n",
      "W1206 14:18:31.948176 140009638913792 def_function.py:474] 11 out of the last 11 calls to <function from_4D_image at 0x7f562630d620> triggered tf.function retracing. Tracing is expensive and the excessive number of tracings is likely due to passing python objects instead of tensors. Also, tf.function has experimental_relax_shapes=True option that relaxes argument shapes that can avoid unnecessary retracing. Please refer to https://www.tensorflow.org/beta/tutorials/eager/tf_function#python_or_tensor_args and https://www.tensorflow.org/api_docs/python/tf/function for more details.\n",
      "W1206 14:18:31.957834 140009638913792 def_function.py:474] 9 out of the last 12 calls to <function transform at 0x7f562631db70> triggered tf.function retracing. Tracing is expensive and the excessive number of tracings is likely due to passing python objects instead of tensors. Also, tf.function has experimental_relax_shapes=True option that relaxes argument shapes that can avoid unnecessary retracing. Please refer to https://www.tensorflow.org/beta/tutorials/eager/tf_function#python_or_tensor_args and https://www.tensorflow.org/api_docs/python/tf/function for more details.\n"
     ]
    },
    {
     "name": "stdout",
     "output_type": "stream",
     "text": [
      "  191/10000 [..............................] - ETA: 1:31:16 - loss: 3.4383 - regression_loss: 2.3680 - classification_loss: 1.0703"
     ]
    },
    {
     "name": "stderr",
     "output_type": "stream",
     "text": [
      "W1206 14:18:33.433409 140009638913792 def_function.py:474] 11 out of the last 11 calls to <function to_4D_image at 0x7f562630d488> triggered tf.function retracing. Tracing is expensive and the excessive number of tracings is likely due to passing python objects instead of tensors. Also, tf.function has experimental_relax_shapes=True option that relaxes argument shapes that can avoid unnecessary retracing. Please refer to https://www.tensorflow.org/beta/tutorials/eager/tf_function#python_or_tensor_args and https://www.tensorflow.org/api_docs/python/tf/function for more details.\n",
      "W1206 14:18:33.450141 140009638913792 def_function.py:474] 11 out of the last 11 calls to <function from_4D_image at 0x7f562630d620> triggered tf.function retracing. Tracing is expensive and the excessive number of tracings is likely due to passing python objects instead of tensors. Also, tf.function has experimental_relax_shapes=True option that relaxes argument shapes that can avoid unnecessary retracing. Please refer to https://www.tensorflow.org/beta/tutorials/eager/tf_function#python_or_tensor_args and https://www.tensorflow.org/api_docs/python/tf/function for more details.\n",
      "W1206 14:18:33.462148 140009638913792 def_function.py:474] 9 out of the last 11 calls to <function transform at 0x7f562631db70> triggered tf.function retracing. Tracing is expensive and the excessive number of tracings is likely due to passing python objects instead of tensors. Also, tf.function has experimental_relax_shapes=True option that relaxes argument shapes that can avoid unnecessary retracing. Please refer to https://www.tensorflow.org/beta/tutorials/eager/tf_function#python_or_tensor_args and https://www.tensorflow.org/api_docs/python/tf/function for more details.\n"
     ]
    },
    {
     "name": "stdout",
     "output_type": "stream",
     "text": [
      "  192/10000 [..............................] - ETA: 1:31:19 - loss: 3.4395 - regression_loss: 2.3692 - classification_loss: 1.0703------------------------------------------------\n",
      "tf.Tensor(0.95, shape=(), dtype=float32)\n",
      "tf.Tensor(1.0, shape=(), dtype=float32)\n",
      "tf.Tensor(0, shape=(), dtype=int32)\n",
      "[<tf.Tensor: id=335449, shape=(), dtype=int32, numpy=78>, <tf.Tensor: id=335451, shape=(), dtype=int32, numpy=49>]\n",
      "------------------------------------------------\n",
      "  195/10000 [..............................] - ETA: 1:31:04 - loss: 3.4362 - regression_loss: 2.3650 - classification_loss: 1.0711"
     ]
    },
    {
     "name": "stderr",
     "output_type": "stream",
     "text": [
      "W1206 14:18:35.497395 140009638913792 def_function.py:474] 11 out of the last 11 calls to <function to_4D_image at 0x7f562630d488> triggered tf.function retracing. Tracing is expensive and the excessive number of tracings is likely due to passing python objects instead of tensors. Also, tf.function has experimental_relax_shapes=True option that relaxes argument shapes that can avoid unnecessary retracing. Please refer to https://www.tensorflow.org/beta/tutorials/eager/tf_function#python_or_tensor_args and https://www.tensorflow.org/api_docs/python/tf/function for more details.\n",
      "W1206 14:18:35.510236 140009638913792 def_function.py:474] 11 out of the last 11 calls to <function from_4D_image at 0x7f562630d620> triggered tf.function retracing. Tracing is expensive and the excessive number of tracings is likely due to passing python objects instead of tensors. Also, tf.function has experimental_relax_shapes=True option that relaxes argument shapes that can avoid unnecessary retracing. Please refer to https://www.tensorflow.org/beta/tutorials/eager/tf_function#python_or_tensor_args and https://www.tensorflow.org/api_docs/python/tf/function for more details.\n",
      "W1206 14:18:35.514847 140009638913792 def_function.py:474] 10 out of the last 12 calls to <function transform at 0x7f562631db70> triggered tf.function retracing. Tracing is expensive and the excessive number of tracings is likely due to passing python objects instead of tensors. Also, tf.function has experimental_relax_shapes=True option that relaxes argument shapes that can avoid unnecessary retracing. Please refer to https://www.tensorflow.org/beta/tutorials/eager/tf_function#python_or_tensor_args and https://www.tensorflow.org/api_docs/python/tf/function for more details.\n"
     ]
    },
    {
     "name": "stdout",
     "output_type": "stream",
     "text": [
      "\b\b\b\b\b\b\b\b\b\b\b\b\b\b\b\b\b\b\b\b\b\b\b\b\b\b\b\b\b\b\b\b\b\b\b\b\b\b\b\b\b\b\b\b\b\b\b\b\b\b\b\b\b\b\b\b\b\b\b\b\b\b\b\b\b\b\b\b\b\b\b\b\b\b\b\b\b\b\b\b\b\b\b\b\b\b\b\b\b\b\b\b\b\b\b\b\b\b\b\b\b\b\b\b\b\b\b\b\b\b\b\b\b\b\b\b\b\b\b\b\b\b\b\b\b\b\b\b\b\b\r",
      "  196/10000 [..............................] - ETA: 1:31:01 - loss: 3.4284 - regression_loss: 2.3579 - classification_loss: 1.0705"
     ]
    },
    {
     "name": "stderr",
     "output_type": "stream",
     "text": [
      "W1206 14:18:35.967653 140009638913792 def_function.py:474] 11 out of the last 11 calls to <function to_4D_image at 0x7f562630d488> triggered tf.function retracing. Tracing is expensive and the excessive number of tracings is likely due to passing python objects instead of tensors. Also, tf.function has experimental_relax_shapes=True option that relaxes argument shapes that can avoid unnecessary retracing. Please refer to https://www.tensorflow.org/beta/tutorials/eager/tf_function#python_or_tensor_args and https://www.tensorflow.org/api_docs/python/tf/function for more details.\n",
      "W1206 14:18:35.978188 140009638913792 def_function.py:474] 11 out of the last 11 calls to <function from_4D_image at 0x7f562630d620> triggered tf.function retracing. Tracing is expensive and the excessive number of tracings is likely due to passing python objects instead of tensors. Also, tf.function has experimental_relax_shapes=True option that relaxes argument shapes that can avoid unnecessary retracing. Please refer to https://www.tensorflow.org/beta/tutorials/eager/tf_function#python_or_tensor_args and https://www.tensorflow.org/api_docs/python/tf/function for more details.\n",
      "W1206 14:18:35.982427 140009638913792 def_function.py:474] 10 out of the last 11 calls to <function transform at 0x7f562631db70> triggered tf.function retracing. Tracing is expensive and the excessive number of tracings is likely due to passing python objects instead of tensors. Also, tf.function has experimental_relax_shapes=True option that relaxes argument shapes that can avoid unnecessary retracing. Please refer to https://www.tensorflow.org/beta/tutorials/eager/tf_function#python_or_tensor_args and https://www.tensorflow.org/api_docs/python/tf/function for more details.\n"
     ]
    },
    {
     "name": "stdout",
     "output_type": "stream",
     "text": [
      "\b\b\b\b\b\b\b\b\b\b\b\b\b\b\b\b\b\b\b\b\b\b\b\b\b\b\b\b\b\b\b\b\b\b\b\b\b\b\b\b\b\b\b\b\b\b\b\b\b\b\b\b\b\b\b\b\b\b\b\b\b\b\b\b\b\b\b\b\b\b\b\b\b\b\b\b\b\b\b\b\b\b\b\b\b\b\b\b\b\b\b\b\b\b\b\b\b\b\b\b\b\b\b\b\b\b\b\b\b\b\b\b\b\b\b\b\b\b\b\b\b\b\b\b\b\b\b\b\b\b\r",
      "  197/10000 [..............................] - ETA: 1:30:59 - loss: 3.4277 - regression_loss: 2.3574 - classification_loss: 1.0703"
     ]
    },
    {
     "name": "stderr",
     "output_type": "stream",
     "text": [
      "W1206 14:18:36.620611 140009638913792 def_function.py:474] 11 out of the last 11 calls to <function to_4D_image at 0x7f562630d488> triggered tf.function retracing. Tracing is expensive and the excessive number of tracings is likely due to passing python objects instead of tensors. Also, tf.function has experimental_relax_shapes=True option that relaxes argument shapes that can avoid unnecessary retracing. Please refer to https://www.tensorflow.org/beta/tutorials/eager/tf_function#python_or_tensor_args and https://www.tensorflow.org/api_docs/python/tf/function for more details.\n",
      "W1206 14:18:36.635036 140009638913792 def_function.py:474] 11 out of the last 11 calls to <function from_4D_image at 0x7f562630d620> triggered tf.function retracing. Tracing is expensive and the excessive number of tracings is likely due to passing python objects instead of tensors. Also, tf.function has experimental_relax_shapes=True option that relaxes argument shapes that can avoid unnecessary retracing. Please refer to https://www.tensorflow.org/beta/tutorials/eager/tf_function#python_or_tensor_args and https://www.tensorflow.org/api_docs/python/tf/function for more details.\n",
      "W1206 14:18:36.647281 140009638913792 def_function.py:474] 9 out of the last 11 calls to <function transform at 0x7f562631db70> triggered tf.function retracing. Tracing is expensive and the excessive number of tracings is likely due to passing python objects instead of tensors. Also, tf.function has experimental_relax_shapes=True option that relaxes argument shapes that can avoid unnecessary retracing. Please refer to https://www.tensorflow.org/beta/tutorials/eager/tf_function#python_or_tensor_args and https://www.tensorflow.org/api_docs/python/tf/function for more details.\n",
      "W1206 14:18:36.671606 140009638913792 def_function.py:474] 11 out of the last 11 calls to <function to_4D_image at 0x7f562630d488> triggered tf.function retracing. Tracing is expensive and the excessive number of tracings is likely due to passing python objects instead of tensors. Also, tf.function has experimental_relax_shapes=True option that relaxes argument shapes that can avoid unnecessary retracing. Please refer to https://www.tensorflow.org/beta/tutorials/eager/tf_function#python_or_tensor_args and https://www.tensorflow.org/api_docs/python/tf/function for more details.\n",
      "W1206 14:18:36.685393 140009638913792 def_function.py:474] 11 out of the last 11 calls to <function from_4D_image at 0x7f562630d620> triggered tf.function retracing. Tracing is expensive and the excessive number of tracings is likely due to passing python objects instead of tensors. Also, tf.function has experimental_relax_shapes=True option that relaxes argument shapes that can avoid unnecessary retracing. Please refer to https://www.tensorflow.org/beta/tutorials/eager/tf_function#python_or_tensor_args and https://www.tensorflow.org/api_docs/python/tf/function for more details.\n",
      "W1206 14:18:36.697013 140009638913792 def_function.py:474] 9 out of the last 11 calls to <function transform at 0x7f562631db70> triggered tf.function retracing. Tracing is expensive and the excessive number of tracings is likely due to passing python objects instead of tensors. Also, tf.function has experimental_relax_shapes=True option that relaxes argument shapes that can avoid unnecessary retracing. Please refer to https://www.tensorflow.org/beta/tutorials/eager/tf_function#python_or_tensor_args and https://www.tensorflow.org/api_docs/python/tf/function for more details.\n"
     ]
    },
    {
     "name": "stdout",
     "output_type": "stream",
     "text": [
      "\b\b\b\b\b\b\b\b\b\b\b\b\b\b\b\b\b\b\b\b\b\b\b\b\b\b\b\b\b\b\b\b\b\b\b\b\b\b\b\b\b\b\b\b\b\b\b\b\b\b\b\b\b\b\b\b\b\b\b\b\b\b\b\b\b\b\b\b\b\b\b\b\b\b\b\b\b\b\b\b\b\b\b\b\b\b\b\b\b\b\b\b\b\b\b\b\b\b\b\b\b\b\b\b\b\b\b\b\b\b\b\b\b\b\b\b\b\b\b\b\b\b\b\b\b\b\b\b\b\b\r",
      "  198/10000 [..............................] - ETA: 1:31:01 - loss: 3.4256 - regression_loss: 2.3556 - classification_loss: 1.0700"
     ]
    },
    {
     "name": "stderr",
     "output_type": "stream",
     "text": [
      "W1206 14:18:37.160390 140009638913792 def_function.py:474] 11 out of the last 11 calls to <function to_4D_image at 0x7f562630d488> triggered tf.function retracing. Tracing is expensive and the excessive number of tracings is likely due to passing python objects instead of tensors. Also, tf.function has experimental_relax_shapes=True option that relaxes argument shapes that can avoid unnecessary retracing. Please refer to https://www.tensorflow.org/beta/tutorials/eager/tf_function#python_or_tensor_args and https://www.tensorflow.org/api_docs/python/tf/function for more details.\n",
      "W1206 14:18:37.172021 140009638913792 def_function.py:474] 11 out of the last 11 calls to <function from_4D_image at 0x7f562630d620> triggered tf.function retracing. Tracing is expensive and the excessive number of tracings is likely due to passing python objects instead of tensors. Also, tf.function has experimental_relax_shapes=True option that relaxes argument shapes that can avoid unnecessary retracing. Please refer to https://www.tensorflow.org/beta/tutorials/eager/tf_function#python_or_tensor_args and https://www.tensorflow.org/api_docs/python/tf/function for more details.\n",
      "W1206 14:18:37.175745 140009638913792 def_function.py:474] 9 out of the last 11 calls to <function transform at 0x7f562631db70> triggered tf.function retracing. Tracing is expensive and the excessive number of tracings is likely due to passing python objects instead of tensors. Also, tf.function has experimental_relax_shapes=True option that relaxes argument shapes that can avoid unnecessary retracing. Please refer to https://www.tensorflow.org/beta/tutorials/eager/tf_function#python_or_tensor_args and https://www.tensorflow.org/api_docs/python/tf/function for more details.\n"
     ]
    },
    {
     "name": "stdout",
     "output_type": "stream",
     "text": [
      "  199/10000 [..............................] - ETA: 1:30:57 - loss: 3.4222 - regression_loss: 2.3530 - classification_loss: 1.0693------------------------------------------------\n",
      "tf.Tensor(0.2984375, shape=(), dtype=float32)\n",
      "tf.Tensor(0.36875, shape=(), dtype=float32)\n",
      "tf.Tensor(402, shape=(), dtype=int32)\n",
      "[<tf.Tensor: id=345569, shape=(), dtype=int32, numpy=50>, <tf.Tensor: id=345571, shape=(), dtype=int32, numpy=78>]\n",
      "------------------------------------------------\n",
      "  203/10000 [..............................] - ETA: 1:30:36 - loss: 3.4229 - regression_loss: 2.3546 - classification_loss: 1.0683"
     ]
    },
    {
     "name": "stderr",
     "output_type": "stream",
     "text": [
      "W1206 14:18:39.439341 140009638913792 def_function.py:474] 11 out of the last 11 calls to <function to_4D_image at 0x7f562630d488> triggered tf.function retracing. Tracing is expensive and the excessive number of tracings is likely due to passing python objects instead of tensors. Also, tf.function has experimental_relax_shapes=True option that relaxes argument shapes that can avoid unnecessary retracing. Please refer to https://www.tensorflow.org/beta/tutorials/eager/tf_function#python_or_tensor_args and https://www.tensorflow.org/api_docs/python/tf/function for more details.\n",
      "W1206 14:18:39.450721 140009638913792 def_function.py:474] 11 out of the last 11 calls to <function from_4D_image at 0x7f562630d620> triggered tf.function retracing. Tracing is expensive and the excessive number of tracings is likely due to passing python objects instead of tensors. Also, tf.function has experimental_relax_shapes=True option that relaxes argument shapes that can avoid unnecessary retracing. Please refer to https://www.tensorflow.org/beta/tutorials/eager/tf_function#python_or_tensor_args and https://www.tensorflow.org/api_docs/python/tf/function for more details.\n",
      "W1206 14:18:39.454747 140009638913792 def_function.py:474] 10 out of the last 12 calls to <function transform at 0x7f562631db70> triggered tf.function retracing. Tracing is expensive and the excessive number of tracings is likely due to passing python objects instead of tensors. Also, tf.function has experimental_relax_shapes=True option that relaxes argument shapes that can avoid unnecessary retracing. Please refer to https://www.tensorflow.org/beta/tutorials/eager/tf_function#python_or_tensor_args and https://www.tensorflow.org/api_docs/python/tf/function for more details.\n",
      "W1206 14:18:39.469589 140009638913792 def_function.py:474] 5 out of the last 17 calls to <function translate at 0x7f5625b68d90> triggered tf.function retracing. Tracing is expensive and the excessive number of tracings is likely due to passing python objects instead of tensors. Also, tf.function has experimental_relax_shapes=True option that relaxes argument shapes that can avoid unnecessary retracing. Please refer to https://www.tensorflow.org/beta/tutorials/eager/tf_function#python_or_tensor_args and https://www.tensorflow.org/api_docs/python/tf/function for more details.\n",
      "W1206 14:18:39.496993 140009638913792 def_function.py:474] 11 out of the last 11 calls to <function to_4D_image at 0x7f562630d488> triggered tf.function retracing. Tracing is expensive and the excessive number of tracings is likely due to passing python objects instead of tensors. Also, tf.function has experimental_relax_shapes=True option that relaxes argument shapes that can avoid unnecessary retracing. Please refer to https://www.tensorflow.org/beta/tutorials/eager/tf_function#python_or_tensor_args and https://www.tensorflow.org/api_docs/python/tf/function for more details.\n",
      "W1206 14:18:39.508288 140009638913792 def_function.py:474] 11 out of the last 11 calls to <function from_4D_image at 0x7f562630d620> triggered tf.function retracing. Tracing is expensive and the excessive number of tracings is likely due to passing python objects instead of tensors. Also, tf.function has experimental_relax_shapes=True option that relaxes argument shapes that can avoid unnecessary retracing. Please refer to https://www.tensorflow.org/beta/tutorials/eager/tf_function#python_or_tensor_args and https://www.tensorflow.org/api_docs/python/tf/function for more details.\n",
      "W1206 14:18:39.511837 140009638913792 def_function.py:474] 10 out of the last 11 calls to <function transform at 0x7f562631db70> triggered tf.function retracing. Tracing is expensive and the excessive number of tracings is likely due to passing python objects instead of tensors. Also, tf.function has experimental_relax_shapes=True option that relaxes argument shapes that can avoid unnecessary retracing. Please refer to https://www.tensorflow.org/beta/tutorials/eager/tf_function#python_or_tensor_args and https://www.tensorflow.org/api_docs/python/tf/function for more details.\n",
      "W1206 14:18:39.526358 140009638913792 def_function.py:474] 6 out of the last 18 calls to <function translate at 0x7f5625b68d90> triggered tf.function retracing. Tracing is expensive and the excessive number of tracings is likely due to passing python objects instead of tensors. Also, tf.function has experimental_relax_shapes=True option that relaxes argument shapes that can avoid unnecessary retracing. Please refer to https://www.tensorflow.org/beta/tutorials/eager/tf_function#python_or_tensor_args and https://www.tensorflow.org/api_docs/python/tf/function for more details.\n"
     ]
    },
    {
     "name": "stdout",
     "output_type": "stream",
     "text": [
      "  209/10000 [..............................] - ETA: 1:30:17 - loss: 3.4193 - regression_loss: 2.3531 - classification_loss: 1.0662"
     ]
    },
    {
     "name": "stderr",
     "output_type": "stream",
     "text": [
      "W1206 14:18:42.439370 140009638913792 def_function.py:474] 11 out of the last 11 calls to <function to_4D_image at 0x7f562630d488> triggered tf.function retracing. Tracing is expensive and the excessive number of tracings is likely due to passing python objects instead of tensors. Also, tf.function has experimental_relax_shapes=True option that relaxes argument shapes that can avoid unnecessary retracing. Please refer to https://www.tensorflow.org/beta/tutorials/eager/tf_function#python_or_tensor_args and https://www.tensorflow.org/api_docs/python/tf/function for more details.\n",
      "W1206 14:18:42.455274 140009638913792 def_function.py:474] 11 out of the last 11 calls to <function from_4D_image at 0x7f562630d620> triggered tf.function retracing. Tracing is expensive and the excessive number of tracings is likely due to passing python objects instead of tensors. Also, tf.function has experimental_relax_shapes=True option that relaxes argument shapes that can avoid unnecessary retracing. Please refer to https://www.tensorflow.org/beta/tutorials/eager/tf_function#python_or_tensor_args and https://www.tensorflow.org/api_docs/python/tf/function for more details.\n",
      "W1206 14:18:42.467538 140009638913792 def_function.py:474] 9 out of the last 11 calls to <function transform at 0x7f562631db70> triggered tf.function retracing. Tracing is expensive and the excessive number of tracings is likely due to passing python objects instead of tensors. Also, tf.function has experimental_relax_shapes=True option that relaxes argument shapes that can avoid unnecessary retracing. Please refer to https://www.tensorflow.org/beta/tutorials/eager/tf_function#python_or_tensor_args and https://www.tensorflow.org/api_docs/python/tf/function for more details.\n"
     ]
    },
    {
     "name": "stdout",
     "output_type": "stream",
     "text": [
      "  210/10000 [..............................] - ETA: 1:30:14 - loss: 3.4192 - regression_loss: 2.3530 - classification_loss: 1.0662------------------------------------------------\n",
      "tf.Tensor(0.7203125, shape=(), dtype=float32)\n",
      "tf.Tensor(0.825, shape=(), dtype=float32)\n",
      "tf.Tensor(70, shape=(), dtype=int32)\n",
      "[<tf.Tensor: id=363968, shape=(), dtype=int32, numpy=230>, <tf.Tensor: id=363970, shape=(), dtype=int32, numpy=116>]\n",
      "------------------------------------------------\n",
      "  211/10000 [..............................] - ETA: 1:30:09 - loss: 3.4208 - regression_loss: 2.3548 - classification_loss: 1.0660------------------------------------------------\n",
      "tf.Tensor(0.1671875, shape=(), dtype=float32)\n",
      "tf.Tensor(0.3203125, shape=(), dtype=float32)\n",
      "tf.Tensor(427, shape=(), dtype=int32)\n",
      "[<tf.Tensor: id=365273, shape=(), dtype=int32, numpy=108>, <tf.Tensor: id=365275, shape=(), dtype=int32, numpy=170>]\n",
      "------------------------------------------------\n",
      "  213/10000 [..............................] - ETA: 1:30:00 - loss: 3.4089 - regression_loss: 2.3434 - classification_loss: 1.0654"
     ]
    },
    {
     "name": "stderr",
     "output_type": "stream",
     "text": [
      "W1206 14:18:44.340482 140009638913792 def_function.py:474] 11 out of the last 11 calls to <function to_4D_image at 0x7f562630d488> triggered tf.function retracing. Tracing is expensive and the excessive number of tracings is likely due to passing python objects instead of tensors. Also, tf.function has experimental_relax_shapes=True option that relaxes argument shapes that can avoid unnecessary retracing. Please refer to https://www.tensorflow.org/beta/tutorials/eager/tf_function#python_or_tensor_args and https://www.tensorflow.org/api_docs/python/tf/function for more details.\n",
      "W1206 14:18:44.352922 140009638913792 def_function.py:474] 11 out of the last 11 calls to <function from_4D_image at 0x7f562630d620> triggered tf.function retracing. Tracing is expensive and the excessive number of tracings is likely due to passing python objects instead of tensors. Also, tf.function has experimental_relax_shapes=True option that relaxes argument shapes that can avoid unnecessary retracing. Please refer to https://www.tensorflow.org/beta/tutorials/eager/tf_function#python_or_tensor_args and https://www.tensorflow.org/api_docs/python/tf/function for more details.\n",
      "W1206 14:18:44.357197 140009638913792 def_function.py:474] 8 out of the last 11 calls to <function transform at 0x7f562631db70> triggered tf.function retracing. Tracing is expensive and the excessive number of tracings is likely due to passing python objects instead of tensors. Also, tf.function has experimental_relax_shapes=True option that relaxes argument shapes that can avoid unnecessary retracing. Please refer to https://www.tensorflow.org/beta/tutorials/eager/tf_function#python_or_tensor_args and https://www.tensorflow.org/api_docs/python/tf/function for more details.\n"
     ]
    },
    {
     "name": "stdout",
     "output_type": "stream",
     "text": [
      "\b\b\b\b\b\b\b\b\b\b\b\b\b\b\b\b\b\b\b\b\b\b\b\b\b\b\b\b\b\b\b\b\b\b\b\b\b\b\b\b\b\b\b\b\b\b\b\b\b\b\b\b\b\b\b\b\b\b\b\b\b\b\b\b\b\b\b\b\b\b\b\b\b\b\b\b\b\b\b\b\b\b\b\b\b\b\b\b\b\b\b\b\b\b\b\b\b\b\b\b\b\b\b\b\b\b\b\b\b\b\b\b\b\b\b\b\b\b\b\b\b\b\b\b\b\b\b\b\b\b\r",
      "  214/10000 [..............................] - ETA: 1:29:58 - loss: 3.4055 - regression_loss: 2.3398 - classification_loss: 1.0657"
     ]
    },
    {
     "name": "stderr",
     "output_type": "stream",
     "text": [
      "W1206 14:18:44.855046 140009638913792 def_function.py:474] 11 out of the last 11 calls to <function to_4D_image at 0x7f562630d488> triggered tf.function retracing. Tracing is expensive and the excessive number of tracings is likely due to passing python objects instead of tensors. Also, tf.function has experimental_relax_shapes=True option that relaxes argument shapes that can avoid unnecessary retracing. Please refer to https://www.tensorflow.org/beta/tutorials/eager/tf_function#python_or_tensor_args and https://www.tensorflow.org/api_docs/python/tf/function for more details.\n",
      "W1206 14:18:44.867694 140009638913792 def_function.py:474] 11 out of the last 11 calls to <function from_4D_image at 0x7f562630d620> triggered tf.function retracing. Tracing is expensive and the excessive number of tracings is likely due to passing python objects instead of tensors. Also, tf.function has experimental_relax_shapes=True option that relaxes argument shapes that can avoid unnecessary retracing. Please refer to https://www.tensorflow.org/beta/tutorials/eager/tf_function#python_or_tensor_args and https://www.tensorflow.org/api_docs/python/tf/function for more details.\n",
      "W1206 14:18:44.871941 140009638913792 def_function.py:474] 9 out of the last 12 calls to <function transform at 0x7f562631db70> triggered tf.function retracing. Tracing is expensive and the excessive number of tracings is likely due to passing python objects instead of tensors. Also, tf.function has experimental_relax_shapes=True option that relaxes argument shapes that can avoid unnecessary retracing. Please refer to https://www.tensorflow.org/beta/tutorials/eager/tf_function#python_or_tensor_args and https://www.tensorflow.org/api_docs/python/tf/function for more details.\n",
      "W1206 14:18:44.888046 140009638913792 def_function.py:474] 5 out of the last 12 calls to <function translate at 0x7f5625b68d90> triggered tf.function retracing. Tracing is expensive and the excessive number of tracings is likely due to passing python objects instead of tensors. Also, tf.function has experimental_relax_shapes=True option that relaxes argument shapes that can avoid unnecessary retracing. Please refer to https://www.tensorflow.org/beta/tutorials/eager/tf_function#python_or_tensor_args and https://www.tensorflow.org/api_docs/python/tf/function for more details.\n"
     ]
    },
    {
     "name": "stdout",
     "output_type": "stream",
     "text": [
      "\b\b\b\b\b\b\b\b\b\b\b\b\b\b\b\b\b\b\b\b\b\b\b\b\b\b\b\b\b\b\b\b\b\b\b\b\b\b\b\b\b\b\b\b\b\b\b\b\b\b\b\b\b\b\b\b\b\b\b\b\b\b\b\b\b\b\b\b\b\b\b\b\b\b\b\b\b\b\b\b\b\b\b\b\b\b\b\b\b\b\b\b\b\b\b\b\b\b\b\b\b\b\b\b\b\b\b\b\b\b\b\b\b\b\b\b\b\b\b\b\b\b\b\b\b\b\b\b\b\b\r",
      "  215/10000 [..............................] - ETA: 1:29:58 - loss: 3.4036 - regression_loss: 2.3382 - classification_loss: 1.0654"
     ]
    },
    {
     "name": "stderr",
     "output_type": "stream",
     "text": [
      "W1206 14:18:45.442715 140009638913792 def_function.py:474] 11 out of the last 11 calls to <function to_4D_image at 0x7f562630d488> triggered tf.function retracing. Tracing is expensive and the excessive number of tracings is likely due to passing python objects instead of tensors. Also, tf.function has experimental_relax_shapes=True option that relaxes argument shapes that can avoid unnecessary retracing. Please refer to https://www.tensorflow.org/beta/tutorials/eager/tf_function#python_or_tensor_args and https://www.tensorflow.org/api_docs/python/tf/function for more details.\n",
      "W1206 14:18:45.453579 140009638913792 def_function.py:474] 11 out of the last 11 calls to <function from_4D_image at 0x7f562630d620> triggered tf.function retracing. Tracing is expensive and the excessive number of tracings is likely due to passing python objects instead of tensors. Also, tf.function has experimental_relax_shapes=True option that relaxes argument shapes that can avoid unnecessary retracing. Please refer to https://www.tensorflow.org/beta/tutorials/eager/tf_function#python_or_tensor_args and https://www.tensorflow.org/api_docs/python/tf/function for more details.\n",
      "W1206 14:18:45.457601 140009638913792 def_function.py:474] 9 out of the last 11 calls to <function transform at 0x7f562631db70> triggered tf.function retracing. Tracing is expensive and the excessive number of tracings is likely due to passing python objects instead of tensors. Also, tf.function has experimental_relax_shapes=True option that relaxes argument shapes that can avoid unnecessary retracing. Please refer to https://www.tensorflow.org/beta/tutorials/eager/tf_function#python_or_tensor_args and https://www.tensorflow.org/api_docs/python/tf/function for more details.\n",
      "W1206 14:18:45.471942 140009638913792 def_function.py:474] 6 out of the last 13 calls to <function translate at 0x7f5625b68d90> triggered tf.function retracing. Tracing is expensive and the excessive number of tracings is likely due to passing python objects instead of tensors. Also, tf.function has experimental_relax_shapes=True option that relaxes argument shapes that can avoid unnecessary retracing. Please refer to https://www.tensorflow.org/beta/tutorials/eager/tf_function#python_or_tensor_args and https://www.tensorflow.org/api_docs/python/tf/function for more details.\n",
      "W1206 14:18:45.499796 140009638913792 def_function.py:474] 11 out of the last 11 calls to <function to_4D_image at 0x7f562630d488> triggered tf.function retracing. Tracing is expensive and the excessive number of tracings is likely due to passing python objects instead of tensors. Also, tf.function has experimental_relax_shapes=True option that relaxes argument shapes that can avoid unnecessary retracing. Please refer to https://www.tensorflow.org/beta/tutorials/eager/tf_function#python_or_tensor_args and https://www.tensorflow.org/api_docs/python/tf/function for more details.\n",
      "W1206 14:18:45.509967 140009638913792 def_function.py:474] 11 out of the last 11 calls to <function from_4D_image at 0x7f562630d620> triggered tf.function retracing. Tracing is expensive and the excessive number of tracings is likely due to passing python objects instead of tensors. Also, tf.function has experimental_relax_shapes=True option that relaxes argument shapes that can avoid unnecessary retracing. Please refer to https://www.tensorflow.org/beta/tutorials/eager/tf_function#python_or_tensor_args and https://www.tensorflow.org/api_docs/python/tf/function for more details.\n",
      "W1206 14:18:45.514024 140009638913792 def_function.py:474] 9 out of the last 11 calls to <function transform at 0x7f562631db70> triggered tf.function retracing. Tracing is expensive and the excessive number of tracings is likely due to passing python objects instead of tensors. Also, tf.function has experimental_relax_shapes=True option that relaxes argument shapes that can avoid unnecessary retracing. Please refer to https://www.tensorflow.org/beta/tutorials/eager/tf_function#python_or_tensor_args and https://www.tensorflow.org/api_docs/python/tf/function for more details.\n",
      "W1206 14:18:45.528752 140009638913792 def_function.py:474] 7 out of the last 14 calls to <function translate at 0x7f5625b68d90> triggered tf.function retracing. Tracing is expensive and the excessive number of tracings is likely due to passing python objects instead of tensors. Also, tf.function has experimental_relax_shapes=True option that relaxes argument shapes that can avoid unnecessary retracing. Please refer to https://www.tensorflow.org/beta/tutorials/eager/tf_function#python_or_tensor_args and https://www.tensorflow.org/api_docs/python/tf/function for more details.\n",
      "W1206 14:18:45.563232 140009638913792 def_function.py:474] 11 out of the last 11 calls to <function to_4D_image at 0x7f562630d488> triggered tf.function retracing. Tracing is expensive and the excessive number of tracings is likely due to passing python objects instead of tensors. Also, tf.function has experimental_relax_shapes=True option that relaxes argument shapes that can avoid unnecessary retracing. Please refer to https://www.tensorflow.org/beta/tutorials/eager/tf_function#python_or_tensor_args and https://www.tensorflow.org/api_docs/python/tf/function for more details.\n",
      "W1206 14:18:45.573478 140009638913792 def_function.py:474] 11 out of the last 11 calls to <function from_4D_image at 0x7f562630d620> triggered tf.function retracing. Tracing is expensive and the excessive number of tracings is likely due to passing python objects instead of tensors. Also, tf.function has experimental_relax_shapes=True option that relaxes argument shapes that can avoid unnecessary retracing. Please refer to https://www.tensorflow.org/beta/tutorials/eager/tf_function#python_or_tensor_args and https://www.tensorflow.org/api_docs/python/tf/function for more details.\n",
      "W1206 14:18:45.577045 140009638913792 def_function.py:474] 9 out of the last 11 calls to <function transform at 0x7f562631db70> triggered tf.function retracing. Tracing is expensive and the excessive number of tracings is likely due to passing python objects instead of tensors. Also, tf.function has experimental_relax_shapes=True option that relaxes argument shapes that can avoid unnecessary retracing. Please refer to https://www.tensorflow.org/beta/tutorials/eager/tf_function#python_or_tensor_args and https://www.tensorflow.org/api_docs/python/tf/function for more details.\n",
      "W1206 14:18:45.591676 140009638913792 def_function.py:474] 8 out of the last 15 calls to <function translate at 0x7f5625b68d90> triggered tf.function retracing. Tracing is expensive and the excessive number of tracings is likely due to passing python objects instead of tensors. Also, tf.function has experimental_relax_shapes=True option that relaxes argument shapes that can avoid unnecessary retracing. Please refer to https://www.tensorflow.org/beta/tutorials/eager/tf_function#python_or_tensor_args and https://www.tensorflow.org/api_docs/python/tf/function for more details.\n",
      "W1206 14:18:45.621627 140009638913792 def_function.py:474] 11 out of the last 11 calls to <function to_4D_image at 0x7f562630d488> triggered tf.function retracing. Tracing is expensive and the excessive number of tracings is likely due to passing python objects instead of tensors. Also, tf.function has experimental_relax_shapes=True option that relaxes argument shapes that can avoid unnecessary retracing. Please refer to https://www.tensorflow.org/beta/tutorials/eager/tf_function#python_or_tensor_args and https://www.tensorflow.org/api_docs/python/tf/function for more details.\n",
      "W1206 14:18:45.632948 140009638913792 def_function.py:474] 11 out of the last 11 calls to <function from_4D_image at 0x7f562630d620> triggered tf.function retracing. Tracing is expensive and the excessive number of tracings is likely due to passing python objects instead of tensors. Also, tf.function has experimental_relax_shapes=True option that relaxes argument shapes that can avoid unnecessary retracing. Please refer to https://www.tensorflow.org/beta/tutorials/eager/tf_function#python_or_tensor_args and https://www.tensorflow.org/api_docs/python/tf/function for more details.\n",
      "W1206 14:18:45.636741 140009638913792 def_function.py:474] 9 out of the last 11 calls to <function transform at 0x7f562631db70> triggered tf.function retracing. Tracing is expensive and the excessive number of tracings is likely due to passing python objects instead of tensors. Also, tf.function has experimental_relax_shapes=True option that relaxes argument shapes that can avoid unnecessary retracing. Please refer to https://www.tensorflow.org/beta/tutorials/eager/tf_function#python_or_tensor_args and https://www.tensorflow.org/api_docs/python/tf/function for more details.\n"
     ]
    },
    {
     "name": "stderr",
     "output_type": "stream",
     "text": [
      "W1206 14:18:45.652135 140009638913792 def_function.py:474] 8 out of the last 11 calls to <function translate at 0x7f5625b68d90> triggered tf.function retracing. Tracing is expensive and the excessive number of tracings is likely due to passing python objects instead of tensors. Also, tf.function has experimental_relax_shapes=True option that relaxes argument shapes that can avoid unnecessary retracing. Please refer to https://www.tensorflow.org/beta/tutorials/eager/tf_function#python_or_tensor_args and https://www.tensorflow.org/api_docs/python/tf/function for more details.\n"
     ]
    },
    {
     "name": "stdout",
     "output_type": "stream",
     "text": [
      "  219/10000 [..............................] - ETA: 1:29:49 - loss: 3.4015 - regression_loss: 2.3366 - classification_loss: 1.0649"
     ]
    },
    {
     "name": "stderr",
     "output_type": "stream",
     "text": [
      "W1206 14:18:47.555852 140009638913792 def_function.py:474] 11 out of the last 11 calls to <function to_4D_image at 0x7f562630d488> triggered tf.function retracing. Tracing is expensive and the excessive number of tracings is likely due to passing python objects instead of tensors. Also, tf.function has experimental_relax_shapes=True option that relaxes argument shapes that can avoid unnecessary retracing. Please refer to https://www.tensorflow.org/beta/tutorials/eager/tf_function#python_or_tensor_args and https://www.tensorflow.org/api_docs/python/tf/function for more details.\n",
      "W1206 14:18:47.582426 140009638913792 def_function.py:474] 11 out of the last 11 calls to <function to_4D_image at 0x7f562630d488> triggered tf.function retracing. Tracing is expensive and the excessive number of tracings is likely due to passing python objects instead of tensors. Also, tf.function has experimental_relax_shapes=True option that relaxes argument shapes that can avoid unnecessary retracing. Please refer to https://www.tensorflow.org/beta/tutorials/eager/tf_function#python_or_tensor_args and https://www.tensorflow.org/api_docs/python/tf/function for more details.\n",
      "W1206 14:18:47.594371 140009638913792 def_function.py:474] 11 out of the last 11 calls to <function from_4D_image at 0x7f562630d620> triggered tf.function retracing. Tracing is expensive and the excessive number of tracings is likely due to passing python objects instead of tensors. Also, tf.function has experimental_relax_shapes=True option that relaxes argument shapes that can avoid unnecessary retracing. Please refer to https://www.tensorflow.org/beta/tutorials/eager/tf_function#python_or_tensor_args and https://www.tensorflow.org/api_docs/python/tf/function for more details.\n",
      "W1206 14:18:47.598571 140009638913792 def_function.py:474] 8 out of the last 11 calls to <function transform at 0x7f562631db70> triggered tf.function retracing. Tracing is expensive and the excessive number of tracings is likely due to passing python objects instead of tensors. Also, tf.function has experimental_relax_shapes=True option that relaxes argument shapes that can avoid unnecessary retracing. Please refer to https://www.tensorflow.org/beta/tutorials/eager/tf_function#python_or_tensor_args and https://www.tensorflow.org/api_docs/python/tf/function for more details.\n",
      "W1206 14:18:47.605929 140009638913792 def_function.py:474] 11 out of the last 11 calls to <function from_4D_image at 0x7f562630d620> triggered tf.function retracing. Tracing is expensive and the excessive number of tracings is likely due to passing python objects instead of tensors. Also, tf.function has experimental_relax_shapes=True option that relaxes argument shapes that can avoid unnecessary retracing. Please refer to https://www.tensorflow.org/beta/tutorials/eager/tf_function#python_or_tensor_args and https://www.tensorflow.org/api_docs/python/tf/function for more details.\n"
     ]
    },
    {
     "name": "stdout",
     "output_type": "stream",
     "text": [
      "  223/10000 [..............................] - ETA: 1:29:42 - loss: 3.3968 - regression_loss: 2.3328 - classification_loss: 1.0640"
     ]
    },
    {
     "name": "stderr",
     "output_type": "stream",
     "text": [
      "W1206 14:18:49.603866 140009638913792 def_function.py:474] 11 out of the last 11 calls to <function to_4D_image at 0x7f562630d488> triggered tf.function retracing. Tracing is expensive and the excessive number of tracings is likely due to passing python objects instead of tensors. Also, tf.function has experimental_relax_shapes=True option that relaxes argument shapes that can avoid unnecessary retracing. Please refer to https://www.tensorflow.org/beta/tutorials/eager/tf_function#python_or_tensor_args and https://www.tensorflow.org/api_docs/python/tf/function for more details.\n",
      "W1206 14:18:49.618252 140009638913792 def_function.py:474] 11 out of the last 11 calls to <function from_4D_image at 0x7f562630d620> triggered tf.function retracing. Tracing is expensive and the excessive number of tracings is likely due to passing python objects instead of tensors. Also, tf.function has experimental_relax_shapes=True option that relaxes argument shapes that can avoid unnecessary retracing. Please refer to https://www.tensorflow.org/beta/tutorials/eager/tf_function#python_or_tensor_args and https://www.tensorflow.org/api_docs/python/tf/function for more details.\n",
      "W1206 14:18:49.630340 140009638913792 def_function.py:474] 8 out of the last 11 calls to <function transform at 0x7f562631db70> triggered tf.function retracing. Tracing is expensive and the excessive number of tracings is likely due to passing python objects instead of tensors. Also, tf.function has experimental_relax_shapes=True option that relaxes argument shapes that can avoid unnecessary retracing. Please refer to https://www.tensorflow.org/beta/tutorials/eager/tf_function#python_or_tensor_args and https://www.tensorflow.org/api_docs/python/tf/function for more details.\n"
     ]
    },
    {
     "name": "stdout",
     "output_type": "stream",
     "text": [
      "  225/10000 [..............................] - ETA: 1:29:34 - loss: 3.3889 - regression_loss: 2.3260 - classification_loss: 1.0629"
     ]
    },
    {
     "name": "stderr",
     "output_type": "stream",
     "text": [
      "W1206 14:18:50.525509 140009638913792 def_function.py:474] 11 out of the last 11 calls to <function to_4D_image at 0x7f562630d488> triggered tf.function retracing. Tracing is expensive and the excessive number of tracings is likely due to passing python objects instead of tensors. Also, tf.function has experimental_relax_shapes=True option that relaxes argument shapes that can avoid unnecessary retracing. Please refer to https://www.tensorflow.org/beta/tutorials/eager/tf_function#python_or_tensor_args and https://www.tensorflow.org/api_docs/python/tf/function for more details.\n",
      "W1206 14:18:50.536989 140009638913792 def_function.py:474] 11 out of the last 11 calls to <function from_4D_image at 0x7f562630d620> triggered tf.function retracing. Tracing is expensive and the excessive number of tracings is likely due to passing python objects instead of tensors. Also, tf.function has experimental_relax_shapes=True option that relaxes argument shapes that can avoid unnecessary retracing. Please refer to https://www.tensorflow.org/beta/tutorials/eager/tf_function#python_or_tensor_args and https://www.tensorflow.org/api_docs/python/tf/function for more details.\n",
      "W1206 14:18:50.540816 140009638913792 def_function.py:474] 8 out of the last 11 calls to <function transform at 0x7f562631db70> triggered tf.function retracing. Tracing is expensive and the excessive number of tracings is likely due to passing python objects instead of tensors. Also, tf.function has experimental_relax_shapes=True option that relaxes argument shapes that can avoid unnecessary retracing. Please refer to https://www.tensorflow.org/beta/tutorials/eager/tf_function#python_or_tensor_args and https://www.tensorflow.org/api_docs/python/tf/function for more details.\n",
      "W1206 14:18:50.555510 140009638913792 def_function.py:474] 8 out of the last 12 calls to <function translate at 0x7f5625b68d90> triggered tf.function retracing. Tracing is expensive and the excessive number of tracings is likely due to passing python objects instead of tensors. Also, tf.function has experimental_relax_shapes=True option that relaxes argument shapes that can avoid unnecessary retracing. Please refer to https://www.tensorflow.org/beta/tutorials/eager/tf_function#python_or_tensor_args and https://www.tensorflow.org/api_docs/python/tf/function for more details.\n"
     ]
    },
    {
     "name": "stdout",
     "output_type": "stream",
     "text": [
      "  228/10000 [..............................] - ETA: 1:29:23 - loss: 3.3871 - regression_loss: 2.3252 - classification_loss: 1.0619"
     ]
    },
    {
     "name": "stderr",
     "output_type": "stream",
     "text": [
      "W1206 14:18:51.912382 140009638913792 def_function.py:474] 11 out of the last 11 calls to <function to_4D_image at 0x7f562630d488> triggered tf.function retracing. Tracing is expensive and the excessive number of tracings is likely due to passing python objects instead of tensors. Also, tf.function has experimental_relax_shapes=True option that relaxes argument shapes that can avoid unnecessary retracing. Please refer to https://www.tensorflow.org/beta/tutorials/eager/tf_function#python_or_tensor_args and https://www.tensorflow.org/api_docs/python/tf/function for more details.\n",
      "W1206 14:18:51.926617 140009638913792 def_function.py:474] 11 out of the last 11 calls to <function from_4D_image at 0x7f562630d620> triggered tf.function retracing. Tracing is expensive and the excessive number of tracings is likely due to passing python objects instead of tensors. Also, tf.function has experimental_relax_shapes=True option that relaxes argument shapes that can avoid unnecessary retracing. Please refer to https://www.tensorflow.org/beta/tutorials/eager/tf_function#python_or_tensor_args and https://www.tensorflow.org/api_docs/python/tf/function for more details.\n",
      "W1206 14:18:51.938058 140009638913792 def_function.py:474] 8 out of the last 11 calls to <function transform at 0x7f562631db70> triggered tf.function retracing. Tracing is expensive and the excessive number of tracings is likely due to passing python objects instead of tensors. Also, tf.function has experimental_relax_shapes=True option that relaxes argument shapes that can avoid unnecessary retracing. Please refer to https://www.tensorflow.org/beta/tutorials/eager/tf_function#python_or_tensor_args and https://www.tensorflow.org/api_docs/python/tf/function for more details.\n",
      "W1206 14:18:51.964738 140009638913792 def_function.py:474] 11 out of the last 11 calls to <function to_4D_image at 0x7f562630d488> triggered tf.function retracing. Tracing is expensive and the excessive number of tracings is likely due to passing python objects instead of tensors. Also, tf.function has experimental_relax_shapes=True option that relaxes argument shapes that can avoid unnecessary retracing. Please refer to https://www.tensorflow.org/beta/tutorials/eager/tf_function#python_or_tensor_args and https://www.tensorflow.org/api_docs/python/tf/function for more details.\n",
      "W1206 14:18:51.978815 140009638913792 def_function.py:474] 11 out of the last 11 calls to <function from_4D_image at 0x7f562630d620> triggered tf.function retracing. Tracing is expensive and the excessive number of tracings is likely due to passing python objects instead of tensors. Also, tf.function has experimental_relax_shapes=True option that relaxes argument shapes that can avoid unnecessary retracing. Please refer to https://www.tensorflow.org/beta/tutorials/eager/tf_function#python_or_tensor_args and https://www.tensorflow.org/api_docs/python/tf/function for more details.\n",
      "W1206 14:18:51.990907 140009638913792 def_function.py:474] 8 out of the last 11 calls to <function transform at 0x7f562631db70> triggered tf.function retracing. Tracing is expensive and the excessive number of tracings is likely due to passing python objects instead of tensors. Also, tf.function has experimental_relax_shapes=True option that relaxes argument shapes that can avoid unnecessary retracing. Please refer to https://www.tensorflow.org/beta/tutorials/eager/tf_function#python_or_tensor_args and https://www.tensorflow.org/api_docs/python/tf/function for more details.\n",
      "W1206 14:18:52.015640 140009638913792 def_function.py:474] 11 out of the last 11 calls to <function to_4D_image at 0x7f562630d488> triggered tf.function retracing. Tracing is expensive and the excessive number of tracings is likely due to passing python objects instead of tensors. Also, tf.function has experimental_relax_shapes=True option that relaxes argument shapes that can avoid unnecessary retracing. Please refer to https://www.tensorflow.org/beta/tutorials/eager/tf_function#python_or_tensor_args and https://www.tensorflow.org/api_docs/python/tf/function for more details.\n",
      "W1206 14:18:52.029753 140009638913792 def_function.py:474] 11 out of the last 11 calls to <function from_4D_image at 0x7f562630d620> triggered tf.function retracing. Tracing is expensive and the excessive number of tracings is likely due to passing python objects instead of tensors. Also, tf.function has experimental_relax_shapes=True option that relaxes argument shapes that can avoid unnecessary retracing. Please refer to https://www.tensorflow.org/beta/tutorials/eager/tf_function#python_or_tensor_args and https://www.tensorflow.org/api_docs/python/tf/function for more details.\n",
      "W1206 14:18:52.041546 140009638913792 def_function.py:474] 8 out of the last 11 calls to <function transform at 0x7f562631db70> triggered tf.function retracing. Tracing is expensive and the excessive number of tracings is likely due to passing python objects instead of tensors. Also, tf.function has experimental_relax_shapes=True option that relaxes argument shapes that can avoid unnecessary retracing. Please refer to https://www.tensorflow.org/beta/tutorials/eager/tf_function#python_or_tensor_args and https://www.tensorflow.org/api_docs/python/tf/function for more details.\n"
     ]
    },
    {
     "name": "stdout",
     "output_type": "stream",
     "text": [
      "  233/10000 [..............................] - ETA: 1:29:10 - loss: 3.3903 - regression_loss: 2.3300 - classification_loss: 1.0603"
     ]
    },
    {
     "name": "stderr",
     "output_type": "stream",
     "text": [
      "W1206 14:18:54.453799 140009638913792 def_function.py:474] 11 out of the last 11 calls to <function to_4D_image at 0x7f562630d488> triggered tf.function retracing. Tracing is expensive and the excessive number of tracings is likely due to passing python objects instead of tensors. Also, tf.function has experimental_relax_shapes=True option that relaxes argument shapes that can avoid unnecessary retracing. Please refer to https://www.tensorflow.org/beta/tutorials/eager/tf_function#python_or_tensor_args and https://www.tensorflow.org/api_docs/python/tf/function for more details.\n",
      "W1206 14:18:54.468218 140009638913792 def_function.py:474] 11 out of the last 11 calls to <function from_4D_image at 0x7f562630d620> triggered tf.function retracing. Tracing is expensive and the excessive number of tracings is likely due to passing python objects instead of tensors. Also, tf.function has experimental_relax_shapes=True option that relaxes argument shapes that can avoid unnecessary retracing. Please refer to https://www.tensorflow.org/beta/tutorials/eager/tf_function#python_or_tensor_args and https://www.tensorflow.org/api_docs/python/tf/function for more details.\n",
      "W1206 14:18:54.480230 140009638913792 def_function.py:474] 8 out of the last 11 calls to <function transform at 0x7f562631db70> triggered tf.function retracing. Tracing is expensive and the excessive number of tracings is likely due to passing python objects instead of tensors. Also, tf.function has experimental_relax_shapes=True option that relaxes argument shapes that can avoid unnecessary retracing. Please refer to https://www.tensorflow.org/beta/tutorials/eager/tf_function#python_or_tensor_args and https://www.tensorflow.org/api_docs/python/tf/function for more details.\n"
     ]
    },
    {
     "name": "stdout",
     "output_type": "stream",
     "text": [
      "  235/10000 [..............................] - ETA: 1:29:08 - loss: 3.3886 - regression_loss: 2.3292 - classification_loss: 1.0594"
     ]
    },
    {
     "name": "stderr",
     "output_type": "stream",
     "text": [
      "W1206 14:18:55.536688 140009638913792 def_function.py:474] 11 out of the last 11 calls to <function to_4D_image at 0x7f562630d488> triggered tf.function retracing. Tracing is expensive and the excessive number of tracings is likely due to passing python objects instead of tensors. Also, tf.function has experimental_relax_shapes=True option that relaxes argument shapes that can avoid unnecessary retracing. Please refer to https://www.tensorflow.org/beta/tutorials/eager/tf_function#python_or_tensor_args and https://www.tensorflow.org/api_docs/python/tf/function for more details.\n",
      "W1206 14:18:55.548783 140009638913792 def_function.py:474] 11 out of the last 11 calls to <function from_4D_image at 0x7f562630d620> triggered tf.function retracing. Tracing is expensive and the excessive number of tracings is likely due to passing python objects instead of tensors. Also, tf.function has experimental_relax_shapes=True option that relaxes argument shapes that can avoid unnecessary retracing. Please refer to https://www.tensorflow.org/beta/tutorials/eager/tf_function#python_or_tensor_args and https://www.tensorflow.org/api_docs/python/tf/function for more details.\n",
      "W1206 14:18:55.559086 140009638913792 def_function.py:474] 9 out of the last 13 calls to <function transform at 0x7f562631db70> triggered tf.function retracing. Tracing is expensive and the excessive number of tracings is likely due to passing python objects instead of tensors. Also, tf.function has experimental_relax_shapes=True option that relaxes argument shapes that can avoid unnecessary retracing. Please refer to https://www.tensorflow.org/beta/tutorials/eager/tf_function#python_or_tensor_args and https://www.tensorflow.org/api_docs/python/tf/function for more details.\n"
     ]
    },
    {
     "name": "stdout",
     "output_type": "stream",
     "text": [
      "  239/10000 [..............................] - ETA: 1:28:49 - loss: 3.3713 - regression_loss: 2.3131 - classification_loss: 1.0581"
     ]
    },
    {
     "name": "stderr",
     "output_type": "stream",
     "text": [
      "W1206 14:18:57.282846 140009638913792 def_function.py:474] 11 out of the last 11 calls to <function to_4D_image at 0x7f562630d488> triggered tf.function retracing. Tracing is expensive and the excessive number of tracings is likely due to passing python objects instead of tensors. Also, tf.function has experimental_relax_shapes=True option that relaxes argument shapes that can avoid unnecessary retracing. Please refer to https://www.tensorflow.org/beta/tutorials/eager/tf_function#python_or_tensor_args and https://www.tensorflow.org/api_docs/python/tf/function for more details.\n",
      "W1206 14:18:57.297672 140009638913792 def_function.py:474] 11 out of the last 11 calls to <function from_4D_image at 0x7f562630d620> triggered tf.function retracing. Tracing is expensive and the excessive number of tracings is likely due to passing python objects instead of tensors. Also, tf.function has experimental_relax_shapes=True option that relaxes argument shapes that can avoid unnecessary retracing. Please refer to https://www.tensorflow.org/beta/tutorials/eager/tf_function#python_or_tensor_args and https://www.tensorflow.org/api_docs/python/tf/function for more details.\n",
      "W1206 14:18:57.310004 140009638913792 def_function.py:474] 9 out of the last 11 calls to <function transform at 0x7f562631db70> triggered tf.function retracing. Tracing is expensive and the excessive number of tracings is likely due to passing python objects instead of tensors. Also, tf.function has experimental_relax_shapes=True option that relaxes argument shapes that can avoid unnecessary retracing. Please refer to https://www.tensorflow.org/beta/tutorials/eager/tf_function#python_or_tensor_args and https://www.tensorflow.org/api_docs/python/tf/function for more details.\n"
     ]
    },
    {
     "name": "stdout",
     "output_type": "stream",
     "text": [
      "  241/10000 [..............................] - ETA: 1:28:42 - loss: 3.3656 - regression_loss: 2.3093 - classification_loss: 1.0563"
     ]
    },
    {
     "name": "stderr",
     "output_type": "stream",
     "text": [
      "W1206 14:18:58.264901 140009638913792 def_function.py:474] 11 out of the last 11 calls to <function to_4D_image at 0x7f562630d488> triggered tf.function retracing. Tracing is expensive and the excessive number of tracings is likely due to passing python objects instead of tensors. Also, tf.function has experimental_relax_shapes=True option that relaxes argument shapes that can avoid unnecessary retracing. Please refer to https://www.tensorflow.org/beta/tutorials/eager/tf_function#python_or_tensor_args and https://www.tensorflow.org/api_docs/python/tf/function for more details.\n",
      "W1206 14:18:58.278158 140009638913792 def_function.py:474] 11 out of the last 11 calls to <function from_4D_image at 0x7f562630d620> triggered tf.function retracing. Tracing is expensive and the excessive number of tracings is likely due to passing python objects instead of tensors. Also, tf.function has experimental_relax_shapes=True option that relaxes argument shapes that can avoid unnecessary retracing. Please refer to https://www.tensorflow.org/beta/tutorials/eager/tf_function#python_or_tensor_args and https://www.tensorflow.org/api_docs/python/tf/function for more details.\n",
      "W1206 14:18:58.282519 140009638913792 def_function.py:474] 10 out of the last 12 calls to <function transform at 0x7f562631db70> triggered tf.function retracing. Tracing is expensive and the excessive number of tracings is likely due to passing python objects instead of tensors. Also, tf.function has experimental_relax_shapes=True option that relaxes argument shapes that can avoid unnecessary retracing. Please refer to https://www.tensorflow.org/beta/tutorials/eager/tf_function#python_or_tensor_args and https://www.tensorflow.org/api_docs/python/tf/function for more details.\n",
      "W1206 14:18:58.303902 140009638913792 def_function.py:474] 7 out of the last 11 calls to <function translate at 0x7f5625b68d90> triggered tf.function retracing. Tracing is expensive and the excessive number of tracings is likely due to passing python objects instead of tensors. Also, tf.function has experimental_relax_shapes=True option that relaxes argument shapes that can avoid unnecessary retracing. Please refer to https://www.tensorflow.org/beta/tutorials/eager/tf_function#python_or_tensor_args and https://www.tensorflow.org/api_docs/python/tf/function for more details.\n",
      "W1206 14:18:58.335157 140009638913792 def_function.py:474] 11 out of the last 11 calls to <function to_4D_image at 0x7f562630d488> triggered tf.function retracing. Tracing is expensive and the excessive number of tracings is likely due to passing python objects instead of tensors. Also, tf.function has experimental_relax_shapes=True option that relaxes argument shapes that can avoid unnecessary retracing. Please refer to https://www.tensorflow.org/beta/tutorials/eager/tf_function#python_or_tensor_args and https://www.tensorflow.org/api_docs/python/tf/function for more details.\n",
      "W1206 14:18:58.347042 140009638913792 def_function.py:474] 11 out of the last 11 calls to <function from_4D_image at 0x7f562630d620> triggered tf.function retracing. Tracing is expensive and the excessive number of tracings is likely due to passing python objects instead of tensors. Also, tf.function has experimental_relax_shapes=True option that relaxes argument shapes that can avoid unnecessary retracing. Please refer to https://www.tensorflow.org/beta/tutorials/eager/tf_function#python_or_tensor_args and https://www.tensorflow.org/api_docs/python/tf/function for more details.\n",
      "W1206 14:18:58.350808 140009638913792 def_function.py:474] 10 out of the last 11 calls to <function transform at 0x7f562631db70> triggered tf.function retracing. Tracing is expensive and the excessive number of tracings is likely due to passing python objects instead of tensors. Also, tf.function has experimental_relax_shapes=True option that relaxes argument shapes that can avoid unnecessary retracing. Please refer to https://www.tensorflow.org/beta/tutorials/eager/tf_function#python_or_tensor_args and https://www.tensorflow.org/api_docs/python/tf/function for more details.\n",
      "W1206 14:18:58.366303 140009638913792 def_function.py:474] 7 out of the last 11 calls to <function translate at 0x7f5625b68d90> triggered tf.function retracing. Tracing is expensive and the excessive number of tracings is likely due to passing python objects instead of tensors. Also, tf.function has experimental_relax_shapes=True option that relaxes argument shapes that can avoid unnecessary retracing. Please refer to https://www.tensorflow.org/beta/tutorials/eager/tf_function#python_or_tensor_args and https://www.tensorflow.org/api_docs/python/tf/function for more details.\n",
      "W1206 14:18:58.392820 140009638913792 def_function.py:474] 11 out of the last 11 calls to <function to_4D_image at 0x7f562630d488> triggered tf.function retracing. Tracing is expensive and the excessive number of tracings is likely due to passing python objects instead of tensors. Also, tf.function has experimental_relax_shapes=True option that relaxes argument shapes that can avoid unnecessary retracing. Please refer to https://www.tensorflow.org/beta/tutorials/eager/tf_function#python_or_tensor_args and https://www.tensorflow.org/api_docs/python/tf/function for more details.\n",
      "W1206 14:18:58.403078 140009638913792 def_function.py:474] 11 out of the last 11 calls to <function from_4D_image at 0x7f562630d620> triggered tf.function retracing. Tracing is expensive and the excessive number of tracings is likely due to passing python objects instead of tensors. Also, tf.function has experimental_relax_shapes=True option that relaxes argument shapes that can avoid unnecessary retracing. Please refer to https://www.tensorflow.org/beta/tutorials/eager/tf_function#python_or_tensor_args and https://www.tensorflow.org/api_docs/python/tf/function for more details.\n",
      "W1206 14:18:58.407117 140009638913792 def_function.py:474] 10 out of the last 11 calls to <function transform at 0x7f562631db70> triggered tf.function retracing. Tracing is expensive and the excessive number of tracings is likely due to passing python objects instead of tensors. Also, tf.function has experimental_relax_shapes=True option that relaxes argument shapes that can avoid unnecessary retracing. Please refer to https://www.tensorflow.org/beta/tutorials/eager/tf_function#python_or_tensor_args and https://www.tensorflow.org/api_docs/python/tf/function for more details.\n",
      "W1206 14:18:58.421871 140009638913792 def_function.py:474] 7 out of the last 11 calls to <function translate at 0x7f5625b68d90> triggered tf.function retracing. Tracing is expensive and the excessive number of tracings is likely due to passing python objects instead of tensors. Also, tf.function has experimental_relax_shapes=True option that relaxes argument shapes that can avoid unnecessary retracing. Please refer to https://www.tensorflow.org/beta/tutorials/eager/tf_function#python_or_tensor_args and https://www.tensorflow.org/api_docs/python/tf/function for more details.\n",
      "W1206 14:18:58.449022 140009638913792 def_function.py:474] 11 out of the last 11 calls to <function to_4D_image at 0x7f562630d488> triggered tf.function retracing. Tracing is expensive and the excessive number of tracings is likely due to passing python objects instead of tensors. Also, tf.function has experimental_relax_shapes=True option that relaxes argument shapes that can avoid unnecessary retracing. Please refer to https://www.tensorflow.org/beta/tutorials/eager/tf_function#python_or_tensor_args and https://www.tensorflow.org/api_docs/python/tf/function for more details.\n",
      "W1206 14:18:58.459685 140009638913792 def_function.py:474] 11 out of the last 11 calls to <function from_4D_image at 0x7f562630d620> triggered tf.function retracing. Tracing is expensive and the excessive number of tracings is likely due to passing python objects instead of tensors. Also, tf.function has experimental_relax_shapes=True option that relaxes argument shapes that can avoid unnecessary retracing. Please refer to https://www.tensorflow.org/beta/tutorials/eager/tf_function#python_or_tensor_args and https://www.tensorflow.org/api_docs/python/tf/function for more details.\n",
      "W1206 14:18:58.463440 140009638913792 def_function.py:474] 10 out of the last 11 calls to <function transform at 0x7f562631db70> triggered tf.function retracing. Tracing is expensive and the excessive number of tracings is likely due to passing python objects instead of tensors. Also, tf.function has experimental_relax_shapes=True option that relaxes argument shapes that can avoid unnecessary retracing. Please refer to https://www.tensorflow.org/beta/tutorials/eager/tf_function#python_or_tensor_args and https://www.tensorflow.org/api_docs/python/tf/function for more details.\n"
     ]
    },
    {
     "name": "stderr",
     "output_type": "stream",
     "text": [
      "W1206 14:18:58.478300 140009638913792 def_function.py:474] 7 out of the last 11 calls to <function translate at 0x7f5625b68d90> triggered tf.function retracing. Tracing is expensive and the excessive number of tracings is likely due to passing python objects instead of tensors. Also, tf.function has experimental_relax_shapes=True option that relaxes argument shapes that can avoid unnecessary retracing. Please refer to https://www.tensorflow.org/beta/tutorials/eager/tf_function#python_or_tensor_args and https://www.tensorflow.org/api_docs/python/tf/function for more details.\n"
     ]
    },
    {
     "name": "stdout",
     "output_type": "stream",
     "text": [
      "  250/10000 [..............................] - ETA: 1:28:19 - loss: 3.3425 - regression_loss: 2.2879 - classification_loss: 1.0546"
     ]
    },
    {
     "name": "stderr",
     "output_type": "stream",
     "text": [
      "W1206 14:19:02.663690 140009638913792 def_function.py:474] 11 out of the last 11 calls to <function to_4D_image at 0x7f562630d488> triggered tf.function retracing. Tracing is expensive and the excessive number of tracings is likely due to passing python objects instead of tensors. Also, tf.function has experimental_relax_shapes=True option that relaxes argument shapes that can avoid unnecessary retracing. Please refer to https://www.tensorflow.org/beta/tutorials/eager/tf_function#python_or_tensor_args and https://www.tensorflow.org/api_docs/python/tf/function for more details.\n",
      "W1206 14:19:02.679653 140009638913792 def_function.py:474] 11 out of the last 11 calls to <function from_4D_image at 0x7f562630d620> triggered tf.function retracing. Tracing is expensive and the excessive number of tracings is likely due to passing python objects instead of tensors. Also, tf.function has experimental_relax_shapes=True option that relaxes argument shapes that can avoid unnecessary retracing. Please refer to https://www.tensorflow.org/beta/tutorials/eager/tf_function#python_or_tensor_args and https://www.tensorflow.org/api_docs/python/tf/function for more details.\n",
      "W1206 14:19:02.692762 140009638913792 def_function.py:474] 8 out of the last 12 calls to <function transform at 0x7f562631db70> triggered tf.function retracing. Tracing is expensive and the excessive number of tracings is likely due to passing python objects instead of tensors. Also, tf.function has experimental_relax_shapes=True option that relaxes argument shapes that can avoid unnecessary retracing. Please refer to https://www.tensorflow.org/beta/tutorials/eager/tf_function#python_or_tensor_args and https://www.tensorflow.org/api_docs/python/tf/function for more details.\n",
      "W1206 14:19:02.723151 140009638913792 def_function.py:474] 11 out of the last 11 calls to <function to_4D_image at 0x7f562630d488> triggered tf.function retracing. Tracing is expensive and the excessive number of tracings is likely due to passing python objects instead of tensors. Also, tf.function has experimental_relax_shapes=True option that relaxes argument shapes that can avoid unnecessary retracing. Please refer to https://www.tensorflow.org/beta/tutorials/eager/tf_function#python_or_tensor_args and https://www.tensorflow.org/api_docs/python/tf/function for more details.\n",
      "W1206 14:19:02.739008 140009638913792 def_function.py:474] 11 out of the last 11 calls to <function from_4D_image at 0x7f562630d620> triggered tf.function retracing. Tracing is expensive and the excessive number of tracings is likely due to passing python objects instead of tensors. Also, tf.function has experimental_relax_shapes=True option that relaxes argument shapes that can avoid unnecessary retracing. Please refer to https://www.tensorflow.org/beta/tutorials/eager/tf_function#python_or_tensor_args and https://www.tensorflow.org/api_docs/python/tf/function for more details.\n",
      "W1206 14:19:02.764473 140009638913792 def_function.py:474] 8 out of the last 11 calls to <function transform at 0x7f562631db70> triggered tf.function retracing. Tracing is expensive and the excessive number of tracings is likely due to passing python objects instead of tensors. Also, tf.function has experimental_relax_shapes=True option that relaxes argument shapes that can avoid unnecessary retracing. Please refer to https://www.tensorflow.org/beta/tutorials/eager/tf_function#python_or_tensor_args and https://www.tensorflow.org/api_docs/python/tf/function for more details.\n",
      "W1206 14:19:02.795447 140009638913792 def_function.py:474] 11 out of the last 11 calls to <function to_4D_image at 0x7f562630d488> triggered tf.function retracing. Tracing is expensive and the excessive number of tracings is likely due to passing python objects instead of tensors. Also, tf.function has experimental_relax_shapes=True option that relaxes argument shapes that can avoid unnecessary retracing. Please refer to https://www.tensorflow.org/beta/tutorials/eager/tf_function#python_or_tensor_args and https://www.tensorflow.org/api_docs/python/tf/function for more details.\n",
      "W1206 14:19:02.812457 140009638913792 def_function.py:474] 11 out of the last 11 calls to <function from_4D_image at 0x7f562630d620> triggered tf.function retracing. Tracing is expensive and the excessive number of tracings is likely due to passing python objects instead of tensors. Also, tf.function has experimental_relax_shapes=True option that relaxes argument shapes that can avoid unnecessary retracing. Please refer to https://www.tensorflow.org/beta/tutorials/eager/tf_function#python_or_tensor_args and https://www.tensorflow.org/api_docs/python/tf/function for more details.\n",
      "W1206 14:19:02.830048 140009638913792 def_function.py:474] 8 out of the last 11 calls to <function transform at 0x7f562631db70> triggered tf.function retracing. Tracing is expensive and the excessive number of tracings is likely due to passing python objects instead of tensors. Also, tf.function has experimental_relax_shapes=True option that relaxes argument shapes that can avoid unnecessary retracing. Please refer to https://www.tensorflow.org/beta/tutorials/eager/tf_function#python_or_tensor_args and https://www.tensorflow.org/api_docs/python/tf/function for more details.\n"
     ]
    },
    {
     "name": "stdout",
     "output_type": "stream",
     "text": [
      "\b\b\b\b\b\b\b\b\b\b\b\b\b\b\b\b\b\b\b\b\b\b\b\b\b\b\b\b\b\b\b\b\b\b\b\b\b\b\b\b\b\b\b\b\b\b\b\b\b\b\b\b\b\b\b\b\b\b\b\b\b\b\b\b\b\b\b\b\b\b\b\b\b\b\b\b\b\b\b\b\b\b\b\b\b\b\b\b\b\b\b\b\b\b\b\b\b\b\b\b\b\b\b\b\b\b\b\b\b\b\b\b\b\b\b\b\b\b\b\b\b\b\b\b\b\b\b\b\b\b\r",
      "  251/10000 [..............................] - ETA: 1:28:25 - loss: 3.3431 - regression_loss: 2.2889 - classification_loss: 1.0543"
     ]
    },
    {
     "name": "stderr",
     "output_type": "stream",
     "text": [
      "W1206 14:19:03.433920 140009638913792 def_function.py:474] 11 out of the last 11 calls to <function to_4D_image at 0x7f562630d488> triggered tf.function retracing. Tracing is expensive and the excessive number of tracings is likely due to passing python objects instead of tensors. Also, tf.function has experimental_relax_shapes=True option that relaxes argument shapes that can avoid unnecessary retracing. Please refer to https://www.tensorflow.org/beta/tutorials/eager/tf_function#python_or_tensor_args and https://www.tensorflow.org/api_docs/python/tf/function for more details.\n",
      "W1206 14:19:03.446035 140009638913792 def_function.py:474] 11 out of the last 11 calls to <function from_4D_image at 0x7f562630d620> triggered tf.function retracing. Tracing is expensive and the excessive number of tracings is likely due to passing python objects instead of tensors. Also, tf.function has experimental_relax_shapes=True option that relaxes argument shapes that can avoid unnecessary retracing. Please refer to https://www.tensorflow.org/beta/tutorials/eager/tf_function#python_or_tensor_args and https://www.tensorflow.org/api_docs/python/tf/function for more details.\n",
      "W1206 14:19:03.450264 140009638913792 def_function.py:474] 8 out of the last 11 calls to <function transform at 0x7f562631db70> triggered tf.function retracing. Tracing is expensive and the excessive number of tracings is likely due to passing python objects instead of tensors. Also, tf.function has experimental_relax_shapes=True option that relaxes argument shapes that can avoid unnecessary retracing. Please refer to https://www.tensorflow.org/beta/tutorials/eager/tf_function#python_or_tensor_args and https://www.tensorflow.org/api_docs/python/tf/function for more details.\n",
      "W1206 14:19:03.465617 140009638913792 def_function.py:474] 6 out of the last 12 calls to <function translate at 0x7f5625b68d90> triggered tf.function retracing. Tracing is expensive and the excessive number of tracings is likely due to passing python objects instead of tensors. Also, tf.function has experimental_relax_shapes=True option that relaxes argument shapes that can avoid unnecessary retracing. Please refer to https://www.tensorflow.org/beta/tutorials/eager/tf_function#python_or_tensor_args and https://www.tensorflow.org/api_docs/python/tf/function for more details.\n",
      "W1206 14:19:03.497590 140009638913792 def_function.py:474] 11 out of the last 11 calls to <function to_4D_image at 0x7f562630d488> triggered tf.function retracing. Tracing is expensive and the excessive number of tracings is likely due to passing python objects instead of tensors. Also, tf.function has experimental_relax_shapes=True option that relaxes argument shapes that can avoid unnecessary retracing. Please refer to https://www.tensorflow.org/beta/tutorials/eager/tf_function#python_or_tensor_args and https://www.tensorflow.org/api_docs/python/tf/function for more details.\n",
      "W1206 14:19:03.508989 140009638913792 def_function.py:474] 11 out of the last 11 calls to <function from_4D_image at 0x7f562630d620> triggered tf.function retracing. Tracing is expensive and the excessive number of tracings is likely due to passing python objects instead of tensors. Also, tf.function has experimental_relax_shapes=True option that relaxes argument shapes that can avoid unnecessary retracing. Please refer to https://www.tensorflow.org/beta/tutorials/eager/tf_function#python_or_tensor_args and https://www.tensorflow.org/api_docs/python/tf/function for more details.\n",
      "W1206 14:19:03.512626 140009638913792 def_function.py:474] 8 out of the last 11 calls to <function transform at 0x7f562631db70> triggered tf.function retracing. Tracing is expensive and the excessive number of tracings is likely due to passing python objects instead of tensors. Also, tf.function has experimental_relax_shapes=True option that relaxes argument shapes that can avoid unnecessary retracing. Please refer to https://www.tensorflow.org/beta/tutorials/eager/tf_function#python_or_tensor_args and https://www.tensorflow.org/api_docs/python/tf/function for more details.\n",
      "W1206 14:19:03.527501 140009638913792 def_function.py:474] 7 out of the last 13 calls to <function translate at 0x7f5625b68d90> triggered tf.function retracing. Tracing is expensive and the excessive number of tracings is likely due to passing python objects instead of tensors. Also, tf.function has experimental_relax_shapes=True option that relaxes argument shapes that can avoid unnecessary retracing. Please refer to https://www.tensorflow.org/beta/tutorials/eager/tf_function#python_or_tensor_args and https://www.tensorflow.org/api_docs/python/tf/function for more details.\n"
     ]
    },
    {
     "name": "stdout",
     "output_type": "stream",
     "text": [
      "\b\b\b\b\b\b\b\b\b\b\b\b\b\b\b\b\b\b\b\b\b\b\b\b\b\b\b\b\b\b\b\b\b\b\b\b\b\b\b\b\b\b\b\b\b\b\b\b\b\b\b\b\b\b\b\b\b\b\b\b\b\b\b\b\b\b\b\b\b\b\b\b\b\b\b\b\b\b\b\b\b\b\b\b\b\b\b\b\b\b\b\b\b\b\b\b\b\b\b\b\b\b\b\b\b\b\b\b\b\b\b\b\b\b\b\b\b\b\b\b\b\b\b\b\b\b\b\b\b\b\r",
      "  252/10000 [..............................] - ETA: 1:28:26 - loss: 3.3426 - regression_loss: 2.2889 - classification_loss: 1.0537"
     ]
    },
    {
     "name": "stderr",
     "output_type": "stream",
     "text": [
      "W1206 14:19:03.983165 140009638913792 def_function.py:474] 11 out of the last 11 calls to <function to_4D_image at 0x7f562630d488> triggered tf.function retracing. Tracing is expensive and the excessive number of tracings is likely due to passing python objects instead of tensors. Also, tf.function has experimental_relax_shapes=True option that relaxes argument shapes that can avoid unnecessary retracing. Please refer to https://www.tensorflow.org/beta/tutorials/eager/tf_function#python_or_tensor_args and https://www.tensorflow.org/api_docs/python/tf/function for more details.\n",
      "W1206 14:19:03.996376 140009638913792 def_function.py:474] 11 out of the last 11 calls to <function from_4D_image at 0x7f562630d620> triggered tf.function retracing. Tracing is expensive and the excessive number of tracings is likely due to passing python objects instead of tensors. Also, tf.function has experimental_relax_shapes=True option that relaxes argument shapes that can avoid unnecessary retracing. Please refer to https://www.tensorflow.org/beta/tutorials/eager/tf_function#python_or_tensor_args and https://www.tensorflow.org/api_docs/python/tf/function for more details.\n",
      "W1206 14:19:04.000895 140009638913792 def_function.py:474] 8 out of the last 11 calls to <function transform at 0x7f562631db70> triggered tf.function retracing. Tracing is expensive and the excessive number of tracings is likely due to passing python objects instead of tensors. Also, tf.function has experimental_relax_shapes=True option that relaxes argument shapes that can avoid unnecessary retracing. Please refer to https://www.tensorflow.org/beta/tutorials/eager/tf_function#python_or_tensor_args and https://www.tensorflow.org/api_docs/python/tf/function for more details.\n",
      "W1206 14:19:04.017709 140009638913792 def_function.py:474] 8 out of the last 14 calls to <function translate at 0x7f5625b68d90> triggered tf.function retracing. Tracing is expensive and the excessive number of tracings is likely due to passing python objects instead of tensors. Also, tf.function has experimental_relax_shapes=True option that relaxes argument shapes that can avoid unnecessary retracing. Please refer to https://www.tensorflow.org/beta/tutorials/eager/tf_function#python_or_tensor_args and https://www.tensorflow.org/api_docs/python/tf/function for more details.\n",
      "W1206 14:19:04.077458 140009638913792 def_function.py:474] 11 out of the last 11 calls to <function to_4D_image at 0x7f562630d488> triggered tf.function retracing. Tracing is expensive and the excessive number of tracings is likely due to passing python objects instead of tensors. Also, tf.function has experimental_relax_shapes=True option that relaxes argument shapes that can avoid unnecessary retracing. Please refer to https://www.tensorflow.org/beta/tutorials/eager/tf_function#python_or_tensor_args and https://www.tensorflow.org/api_docs/python/tf/function for more details.\n",
      "W1206 14:19:04.091942 140009638913792 def_function.py:474] 11 out of the last 11 calls to <function from_4D_image at 0x7f562630d620> triggered tf.function retracing. Tracing is expensive and the excessive number of tracings is likely due to passing python objects instead of tensors. Also, tf.function has experimental_relax_shapes=True option that relaxes argument shapes that can avoid unnecessary retracing. Please refer to https://www.tensorflow.org/beta/tutorials/eager/tf_function#python_or_tensor_args and https://www.tensorflow.org/api_docs/python/tf/function for more details.\n",
      "W1206 14:19:04.103661 140009638913792 def_function.py:474] 8 out of the last 11 calls to <function transform at 0x7f562631db70> triggered tf.function retracing. Tracing is expensive and the excessive number of tracings is likely due to passing python objects instead of tensors. Also, tf.function has experimental_relax_shapes=True option that relaxes argument shapes that can avoid unnecessary retracing. Please refer to https://www.tensorflow.org/beta/tutorials/eager/tf_function#python_or_tensor_args and https://www.tensorflow.org/api_docs/python/tf/function for more details.\n",
      "W1206 14:19:04.133126 140009638913792 def_function.py:474] 11 out of the last 11 calls to <function to_4D_image at 0x7f562630d488> triggered tf.function retracing. Tracing is expensive and the excessive number of tracings is likely due to passing python objects instead of tensors. Also, tf.function has experimental_relax_shapes=True option that relaxes argument shapes that can avoid unnecessary retracing. Please refer to https://www.tensorflow.org/beta/tutorials/eager/tf_function#python_or_tensor_args and https://www.tensorflow.org/api_docs/python/tf/function for more details.\n",
      "W1206 14:19:04.145401 140009638913792 def_function.py:474] 11 out of the last 11 calls to <function from_4D_image at 0x7f562630d620> triggered tf.function retracing. Tracing is expensive and the excessive number of tracings is likely due to passing python objects instead of tensors. Also, tf.function has experimental_relax_shapes=True option that relaxes argument shapes that can avoid unnecessary retracing. Please refer to https://www.tensorflow.org/beta/tutorials/eager/tf_function#python_or_tensor_args and https://www.tensorflow.org/api_docs/python/tf/function for more details.\n",
      "W1206 14:19:04.155994 140009638913792 def_function.py:474] 9 out of the last 12 calls to <function transform at 0x7f562631db70> triggered tf.function retracing. Tracing is expensive and the excessive number of tracings is likely due to passing python objects instead of tensors. Also, tf.function has experimental_relax_shapes=True option that relaxes argument shapes that can avoid unnecessary retracing. Please refer to https://www.tensorflow.org/beta/tutorials/eager/tf_function#python_or_tensor_args and https://www.tensorflow.org/api_docs/python/tf/function for more details.\n"
     ]
    },
    {
     "name": "stdout",
     "output_type": "stream",
     "text": [
      "  257/10000 [..............................] - ETA: 1:28:15 - loss: 3.3389 - regression_loss: 2.2882 - classification_loss: 1.0507------------------------------------------------\n",
      "tf.Tensor(0.3109375, shape=(), dtype=float32)\n",
      "tf.Tensor(0.3421875, shape=(), dtype=float32)\n",
      "tf.Tensor(422, shape=(), dtype=int32)\n",
      "[<tf.Tensor: id=435752, shape=(), dtype=int32, numpy=32>, <tf.Tensor: id=435754, shape=(), dtype=int32, numpy=36>]\n",
      "------------------------------------------------\n",
      "  262/10000 [..............................] - ETA: 1:27:53 - loss: 3.3351 - regression_loss: 2.2866 - classification_loss: 1.0485"
     ]
    },
    {
     "name": "stderr",
     "output_type": "stream",
     "text": [
      "W1206 14:19:08.715074 140009638913792 def_function.py:474] 11 out of the last 11 calls to <function to_4D_image at 0x7f562630d488> triggered tf.function retracing. Tracing is expensive and the excessive number of tracings is likely due to passing python objects instead of tensors. Also, tf.function has experimental_relax_shapes=True option that relaxes argument shapes that can avoid unnecessary retracing. Please refer to https://www.tensorflow.org/beta/tutorials/eager/tf_function#python_or_tensor_args and https://www.tensorflow.org/api_docs/python/tf/function for more details.\n",
      "W1206 14:19:08.728425 140009638913792 def_function.py:474] 11 out of the last 11 calls to <function from_4D_image at 0x7f562630d620> triggered tf.function retracing. Tracing is expensive and the excessive number of tracings is likely due to passing python objects instead of tensors. Also, tf.function has experimental_relax_shapes=True option that relaxes argument shapes that can avoid unnecessary retracing. Please refer to https://www.tensorflow.org/beta/tutorials/eager/tf_function#python_or_tensor_args and https://www.tensorflow.org/api_docs/python/tf/function for more details.\n",
      "W1206 14:19:08.733026 140009638913792 def_function.py:474] 10 out of the last 14 calls to <function transform at 0x7f562631db70> triggered tf.function retracing. Tracing is expensive and the excessive number of tracings is likely due to passing python objects instead of tensors. Also, tf.function has experimental_relax_shapes=True option that relaxes argument shapes that can avoid unnecessary retracing. Please refer to https://www.tensorflow.org/beta/tutorials/eager/tf_function#python_or_tensor_args and https://www.tensorflow.org/api_docs/python/tf/function for more details.\n",
      "W1206 14:19:08.751076 140009638913792 def_function.py:474] 7 out of the last 11 calls to <function translate at 0x7f5625b68d90> triggered tf.function retracing. Tracing is expensive and the excessive number of tracings is likely due to passing python objects instead of tensors. Also, tf.function has experimental_relax_shapes=True option that relaxes argument shapes that can avoid unnecessary retracing. Please refer to https://www.tensorflow.org/beta/tutorials/eager/tf_function#python_or_tensor_args and https://www.tensorflow.org/api_docs/python/tf/function for more details.\n"
     ]
    },
    {
     "name": "stdout",
     "output_type": "stream",
     "text": [
      "  266/10000 [..............................] - ETA: 1:27:44 - loss: 3.3356 - regression_loss: 2.2885 - classification_loss: 1.0471"
     ]
    },
    {
     "name": "stderr",
     "output_type": "stream",
     "text": [
      "W1206 14:19:10.639197 140009638913792 def_function.py:474] 11 out of the last 11 calls to <function to_4D_image at 0x7f562630d488> triggered tf.function retracing. Tracing is expensive and the excessive number of tracings is likely due to passing python objects instead of tensors. Also, tf.function has experimental_relax_shapes=True option that relaxes argument shapes that can avoid unnecessary retracing. Please refer to https://www.tensorflow.org/beta/tutorials/eager/tf_function#python_or_tensor_args and https://www.tensorflow.org/api_docs/python/tf/function for more details.\n",
      "W1206 14:19:10.655087 140009638913792 def_function.py:474] 11 out of the last 11 calls to <function from_4D_image at 0x7f562630d620> triggered tf.function retracing. Tracing is expensive and the excessive number of tracings is likely due to passing python objects instead of tensors. Also, tf.function has experimental_relax_shapes=True option that relaxes argument shapes that can avoid unnecessary retracing. Please refer to https://www.tensorflow.org/beta/tutorials/eager/tf_function#python_or_tensor_args and https://www.tensorflow.org/api_docs/python/tf/function for more details.\n",
      "W1206 14:19:10.667535 140009638913792 def_function.py:474] 8 out of the last 11 calls to <function transform at 0x7f562631db70> triggered tf.function retracing. Tracing is expensive and the excessive number of tracings is likely due to passing python objects instead of tensors. Also, tf.function has experimental_relax_shapes=True option that relaxes argument shapes that can avoid unnecessary retracing. Please refer to https://www.tensorflow.org/beta/tutorials/eager/tf_function#python_or_tensor_args and https://www.tensorflow.org/api_docs/python/tf/function for more details.\n",
      "W1206 14:19:10.695502 140009638913792 def_function.py:474] 11 out of the last 11 calls to <function to_4D_image at 0x7f562630d488> triggered tf.function retracing. Tracing is expensive and the excessive number of tracings is likely due to passing python objects instead of tensors. Also, tf.function has experimental_relax_shapes=True option that relaxes argument shapes that can avoid unnecessary retracing. Please refer to https://www.tensorflow.org/beta/tutorials/eager/tf_function#python_or_tensor_args and https://www.tensorflow.org/api_docs/python/tf/function for more details.\n",
      "W1206 14:19:10.711612 140009638913792 def_function.py:474] 11 out of the last 11 calls to <function from_4D_image at 0x7f562630d620> triggered tf.function retracing. Tracing is expensive and the excessive number of tracings is likely due to passing python objects instead of tensors. Also, tf.function has experimental_relax_shapes=True option that relaxes argument shapes that can avoid unnecessary retracing. Please refer to https://www.tensorflow.org/beta/tutorials/eager/tf_function#python_or_tensor_args and https://www.tensorflow.org/api_docs/python/tf/function for more details.\n",
      "W1206 14:19:10.723936 140009638913792 def_function.py:474] 8 out of the last 11 calls to <function transform at 0x7f562631db70> triggered tf.function retracing. Tracing is expensive and the excessive number of tracings is likely due to passing python objects instead of tensors. Also, tf.function has experimental_relax_shapes=True option that relaxes argument shapes that can avoid unnecessary retracing. Please refer to https://www.tensorflow.org/beta/tutorials/eager/tf_function#python_or_tensor_args and https://www.tensorflow.org/api_docs/python/tf/function for more details.\n",
      "W1206 14:19:10.750683 140009638913792 def_function.py:474] 11 out of the last 11 calls to <function to_4D_image at 0x7f562630d488> triggered tf.function retracing. Tracing is expensive and the excessive number of tracings is likely due to passing python objects instead of tensors. Also, tf.function has experimental_relax_shapes=True option that relaxes argument shapes that can avoid unnecessary retracing. Please refer to https://www.tensorflow.org/beta/tutorials/eager/tf_function#python_or_tensor_args and https://www.tensorflow.org/api_docs/python/tf/function for more details.\n",
      "W1206 14:19:10.765413 140009638913792 def_function.py:474] 11 out of the last 11 calls to <function from_4D_image at 0x7f562630d620> triggered tf.function retracing. Tracing is expensive and the excessive number of tracings is likely due to passing python objects instead of tensors. Also, tf.function has experimental_relax_shapes=True option that relaxes argument shapes that can avoid unnecessary retracing. Please refer to https://www.tensorflow.org/beta/tutorials/eager/tf_function#python_or_tensor_args and https://www.tensorflow.org/api_docs/python/tf/function for more details.\n",
      "W1206 14:19:10.777766 140009638913792 def_function.py:474] 8 out of the last 11 calls to <function transform at 0x7f562631db70> triggered tf.function retracing. Tracing is expensive and the excessive number of tracings is likely due to passing python objects instead of tensors. Also, tf.function has experimental_relax_shapes=True option that relaxes argument shapes that can avoid unnecessary retracing. Please refer to https://www.tensorflow.org/beta/tutorials/eager/tf_function#python_or_tensor_args and https://www.tensorflow.org/api_docs/python/tf/function for more details.\n",
      "W1206 14:19:10.815522 140009638913792 def_function.py:474] 11 out of the last 11 calls to <function to_4D_image at 0x7f562630d488> triggered tf.function retracing. Tracing is expensive and the excessive number of tracings is likely due to passing python objects instead of tensors. Also, tf.function has experimental_relax_shapes=True option that relaxes argument shapes that can avoid unnecessary retracing. Please refer to https://www.tensorflow.org/beta/tutorials/eager/tf_function#python_or_tensor_args and https://www.tensorflow.org/api_docs/python/tf/function for more details.\n",
      "W1206 14:19:10.830523 140009638913792 def_function.py:474] 11 out of the last 11 calls to <function from_4D_image at 0x7f562630d620> triggered tf.function retracing. Tracing is expensive and the excessive number of tracings is likely due to passing python objects instead of tensors. Also, tf.function has experimental_relax_shapes=True option that relaxes argument shapes that can avoid unnecessary retracing. Please refer to https://www.tensorflow.org/beta/tutorials/eager/tf_function#python_or_tensor_args and https://www.tensorflow.org/api_docs/python/tf/function for more details.\n",
      "W1206 14:19:10.843081 140009638913792 def_function.py:474] 8 out of the last 11 calls to <function transform at 0x7f562631db70> triggered tf.function retracing. Tracing is expensive and the excessive number of tracings is likely due to passing python objects instead of tensors. Also, tf.function has experimental_relax_shapes=True option that relaxes argument shapes that can avoid unnecessary retracing. Please refer to https://www.tensorflow.org/beta/tutorials/eager/tf_function#python_or_tensor_args and https://www.tensorflow.org/api_docs/python/tf/function for more details.\n",
      "W1206 14:19:10.911712 140009638913792 def_function.py:474] 11 out of the last 11 calls to <function to_4D_image at 0x7f562630d488> triggered tf.function retracing. Tracing is expensive and the excessive number of tracings is likely due to passing python objects instead of tensors. Also, tf.function has experimental_relax_shapes=True option that relaxes argument shapes that can avoid unnecessary retracing. Please refer to https://www.tensorflow.org/beta/tutorials/eager/tf_function#python_or_tensor_args and https://www.tensorflow.org/api_docs/python/tf/function for more details.\n",
      "W1206 14:19:10.924938 140009638913792 def_function.py:474] 11 out of the last 11 calls to <function from_4D_image at 0x7f562630d620> triggered tf.function retracing. Tracing is expensive and the excessive number of tracings is likely due to passing python objects instead of tensors. Also, tf.function has experimental_relax_shapes=True option that relaxes argument shapes that can avoid unnecessary retracing. Please refer to https://www.tensorflow.org/beta/tutorials/eager/tf_function#python_or_tensor_args and https://www.tensorflow.org/api_docs/python/tf/function for more details.\n",
      "W1206 14:19:10.929544 140009638913792 def_function.py:474] 8 out of the last 11 calls to <function transform at 0x7f562631db70> triggered tf.function retracing. Tracing is expensive and the excessive number of tracings is likely due to passing python objects instead of tensors. Also, tf.function has experimental_relax_shapes=True option that relaxes argument shapes that can avoid unnecessary retracing. Please refer to https://www.tensorflow.org/beta/tutorials/eager/tf_function#python_or_tensor_args and https://www.tensorflow.org/api_docs/python/tf/function for more details.\n"
     ]
    },
    {
     "name": "stderr",
     "output_type": "stream",
     "text": [
      "W1206 14:19:10.947533 140009638913792 def_function.py:474] 6 out of the last 11 calls to <function translate at 0x7f5625b68d90> triggered tf.function retracing. Tracing is expensive and the excessive number of tracings is likely due to passing python objects instead of tensors. Also, tf.function has experimental_relax_shapes=True option that relaxes argument shapes that can avoid unnecessary retracing. Please refer to https://www.tensorflow.org/beta/tutorials/eager/tf_function#python_or_tensor_args and https://www.tensorflow.org/api_docs/python/tf/function for more details.\n",
      "W1206 14:19:10.982463 140009638913792 def_function.py:474] 11 out of the last 11 calls to <function to_4D_image at 0x7f562630d488> triggered tf.function retracing. Tracing is expensive and the excessive number of tracings is likely due to passing python objects instead of tensors. Also, tf.function has experimental_relax_shapes=True option that relaxes argument shapes that can avoid unnecessary retracing. Please refer to https://www.tensorflow.org/beta/tutorials/eager/tf_function#python_or_tensor_args and https://www.tensorflow.org/api_docs/python/tf/function for more details.\n",
      "W1206 14:19:10.995525 140009638913792 def_function.py:474] 11 out of the last 11 calls to <function from_4D_image at 0x7f562630d620> triggered tf.function retracing. Tracing is expensive and the excessive number of tracings is likely due to passing python objects instead of tensors. Also, tf.function has experimental_relax_shapes=True option that relaxes argument shapes that can avoid unnecessary retracing. Please refer to https://www.tensorflow.org/beta/tutorials/eager/tf_function#python_or_tensor_args and https://www.tensorflow.org/api_docs/python/tf/function for more details.\n",
      "W1206 14:19:11.000074 140009638913792 def_function.py:474] 8 out of the last 11 calls to <function transform at 0x7f562631db70> triggered tf.function retracing. Tracing is expensive and the excessive number of tracings is likely due to passing python objects instead of tensors. Also, tf.function has experimental_relax_shapes=True option that relaxes argument shapes that can avoid unnecessary retracing. Please refer to https://www.tensorflow.org/beta/tutorials/eager/tf_function#python_or_tensor_args and https://www.tensorflow.org/api_docs/python/tf/function for more details.\n",
      "W1206 14:19:11.017566 140009638913792 def_function.py:474] 7 out of the last 12 calls to <function translate at 0x7f5625b68d90> triggered tf.function retracing. Tracing is expensive and the excessive number of tracings is likely due to passing python objects instead of tensors. Also, tf.function has experimental_relax_shapes=True option that relaxes argument shapes that can avoid unnecessary retracing. Please refer to https://www.tensorflow.org/beta/tutorials/eager/tf_function#python_or_tensor_args and https://www.tensorflow.org/api_docs/python/tf/function for more details.\n",
      "W1206 14:19:11.052622 140009638913792 def_function.py:474] 9 out of the last 12 calls to <function transform at 0x7f562631db70> triggered tf.function retracing. Tracing is expensive and the excessive number of tracings is likely due to passing python objects instead of tensors. Also, tf.function has experimental_relax_shapes=True option that relaxes argument shapes that can avoid unnecessary retracing. Please refer to https://www.tensorflow.org/beta/tutorials/eager/tf_function#python_or_tensor_args and https://www.tensorflow.org/api_docs/python/tf/function for more details.\n",
      "W1206 14:19:11.068124 140009638913792 def_function.py:474] 8 out of the last 13 calls to <function translate at 0x7f5625b68d90> triggered tf.function retracing. Tracing is expensive and the excessive number of tracings is likely due to passing python objects instead of tensors. Also, tf.function has experimental_relax_shapes=True option that relaxes argument shapes that can avoid unnecessary retracing. Please refer to https://www.tensorflow.org/beta/tutorials/eager/tf_function#python_or_tensor_args and https://www.tensorflow.org/api_docs/python/tf/function for more details.\n"
     ]
    },
    {
     "name": "stdout",
     "output_type": "stream",
     "text": [
      "\b\b\b\b\b\b\b\b\b\b\b\b\b\b\b\b\b\b\b\b\b\b\b\b\b\b\b\b\b\b\b\b\b\b\b\b\b\b\b\b\b\b\b\b\b\b\b\b\b\b\b\b\b\b\b\b\b\b\b\b\b\b\b\b\b\b\b\b\b\b\b\b\b\b\b\b\b\b\b\b\b\b\b\b\b\b\b\b\b\b\b\b\b\b\b\b\b\b\b\b\b\b\b\b\b\b\b\b\b\b\b\b\b\b\b\b\b\b\b\b\b\b\b\b\b\b\b\b\b\b\r",
      "  267/10000 [..............................] - ETA: 1:27:57 - loss: 3.3368 - regression_loss: 2.2899 - classification_loss: 1.0469"
     ]
    },
    {
     "name": "stderr",
     "output_type": "stream",
     "text": [
      "W1206 14:19:11.581484 140009638913792 def_function.py:474] 10 out of the last 11 calls to <function to_4D_image at 0x7f562630d488> triggered tf.function retracing. Tracing is expensive and the excessive number of tracings is likely due to passing python objects instead of tensors. Also, tf.function has experimental_relax_shapes=True option that relaxes argument shapes that can avoid unnecessary retracing. Please refer to https://www.tensorflow.org/beta/tutorials/eager/tf_function#python_or_tensor_args and https://www.tensorflow.org/api_docs/python/tf/function for more details.\n",
      "W1206 14:19:11.595174 140009638913792 def_function.py:474] 10 out of the last 11 calls to <function from_4D_image at 0x7f562630d620> triggered tf.function retracing. Tracing is expensive and the excessive number of tracings is likely due to passing python objects instead of tensors. Also, tf.function has experimental_relax_shapes=True option that relaxes argument shapes that can avoid unnecessary retracing. Please refer to https://www.tensorflow.org/beta/tutorials/eager/tf_function#python_or_tensor_args and https://www.tensorflow.org/api_docs/python/tf/function for more details.\n",
      "W1206 14:19:11.599714 140009638913792 def_function.py:474] 9 out of the last 12 calls to <function transform at 0x7f562631db70> triggered tf.function retracing. Tracing is expensive and the excessive number of tracings is likely due to passing python objects instead of tensors. Also, tf.function has experimental_relax_shapes=True option that relaxes argument shapes that can avoid unnecessary retracing. Please refer to https://www.tensorflow.org/beta/tutorials/eager/tf_function#python_or_tensor_args and https://www.tensorflow.org/api_docs/python/tf/function for more details.\n",
      "W1206 14:19:11.616850 140009638913792 def_function.py:474] 9 out of the last 14 calls to <function translate at 0x7f5625b68d90> triggered tf.function retracing. Tracing is expensive and the excessive number of tracings is likely due to passing python objects instead of tensors. Also, tf.function has experimental_relax_shapes=True option that relaxes argument shapes that can avoid unnecessary retracing. Please refer to https://www.tensorflow.org/beta/tutorials/eager/tf_function#python_or_tensor_args and https://www.tensorflow.org/api_docs/python/tf/function for more details.\n",
      "W1206 14:19:11.650662 140009638913792 def_function.py:474] 10 out of the last 11 calls to <function to_4D_image at 0x7f562630d488> triggered tf.function retracing. Tracing is expensive and the excessive number of tracings is likely due to passing python objects instead of tensors. Also, tf.function has experimental_relax_shapes=True option that relaxes argument shapes that can avoid unnecessary retracing. Please refer to https://www.tensorflow.org/beta/tutorials/eager/tf_function#python_or_tensor_args and https://www.tensorflow.org/api_docs/python/tf/function for more details.\n",
      "W1206 14:19:11.663854 140009638913792 def_function.py:474] 10 out of the last 11 calls to <function from_4D_image at 0x7f562630d620> triggered tf.function retracing. Tracing is expensive and the excessive number of tracings is likely due to passing python objects instead of tensors. Also, tf.function has experimental_relax_shapes=True option that relaxes argument shapes that can avoid unnecessary retracing. Please refer to https://www.tensorflow.org/beta/tutorials/eager/tf_function#python_or_tensor_args and https://www.tensorflow.org/api_docs/python/tf/function for more details.\n",
      "W1206 14:19:11.668319 140009638913792 def_function.py:474] 10 out of the last 13 calls to <function transform at 0x7f562631db70> triggered tf.function retracing. Tracing is expensive and the excessive number of tracings is likely due to passing python objects instead of tensors. Also, tf.function has experimental_relax_shapes=True option that relaxes argument shapes that can avoid unnecessary retracing. Please refer to https://www.tensorflow.org/beta/tutorials/eager/tf_function#python_or_tensor_args and https://www.tensorflow.org/api_docs/python/tf/function for more details.\n",
      "W1206 14:19:11.685813 140009638913792 def_function.py:474] 9 out of the last 11 calls to <function translate at 0x7f5625b68d90> triggered tf.function retracing. Tracing is expensive and the excessive number of tracings is likely due to passing python objects instead of tensors. Also, tf.function has experimental_relax_shapes=True option that relaxes argument shapes that can avoid unnecessary retracing. Please refer to https://www.tensorflow.org/beta/tutorials/eager/tf_function#python_or_tensor_args and https://www.tensorflow.org/api_docs/python/tf/function for more details.\n",
      "W1206 14:19:11.763398 140009638913792 def_function.py:474] 9 out of the last 11 calls to <function translate at 0x7f5625b68d90> triggered tf.function retracing. Tracing is expensive and the excessive number of tracings is likely due to passing python objects instead of tensors. Also, tf.function has experimental_relax_shapes=True option that relaxes argument shapes that can avoid unnecessary retracing. Please refer to https://www.tensorflow.org/beta/tutorials/eager/tf_function#python_or_tensor_args and https://www.tensorflow.org/api_docs/python/tf/function for more details.\n",
      "W1206 14:19:11.845974 140009638913792 def_function.py:474] 10 out of the last 11 calls to <function to_4D_image at 0x7f562630d488> triggered tf.function retracing. Tracing is expensive and the excessive number of tracings is likely due to passing python objects instead of tensors. Also, tf.function has experimental_relax_shapes=True option that relaxes argument shapes that can avoid unnecessary retracing. Please refer to https://www.tensorflow.org/beta/tutorials/eager/tf_function#python_or_tensor_args and https://www.tensorflow.org/api_docs/python/tf/function for more details.\n",
      "W1206 14:19:11.860039 140009638913792 def_function.py:474] 10 out of the last 11 calls to <function from_4D_image at 0x7f562630d620> triggered tf.function retracing. Tracing is expensive and the excessive number of tracings is likely due to passing python objects instead of tensors. Also, tf.function has experimental_relax_shapes=True option that relaxes argument shapes that can avoid unnecessary retracing. Please refer to https://www.tensorflow.org/beta/tutorials/eager/tf_function#python_or_tensor_args and https://www.tensorflow.org/api_docs/python/tf/function for more details.\n",
      "W1206 14:19:11.864671 140009638913792 def_function.py:474] 9 out of the last 11 calls to <function transform at 0x7f562631db70> triggered tf.function retracing. Tracing is expensive and the excessive number of tracings is likely due to passing python objects instead of tensors. Also, tf.function has experimental_relax_shapes=True option that relaxes argument shapes that can avoid unnecessary retracing. Please refer to https://www.tensorflow.org/beta/tutorials/eager/tf_function#python_or_tensor_args and https://www.tensorflow.org/api_docs/python/tf/function for more details.\n",
      "W1206 14:19:11.882303 140009638913792 def_function.py:474] 9 out of the last 11 calls to <function translate at 0x7f5625b68d90> triggered tf.function retracing. Tracing is expensive and the excessive number of tracings is likely due to passing python objects instead of tensors. Also, tf.function has experimental_relax_shapes=True option that relaxes argument shapes that can avoid unnecessary retracing. Please refer to https://www.tensorflow.org/beta/tutorials/eager/tf_function#python_or_tensor_args and https://www.tensorflow.org/api_docs/python/tf/function for more details.\n"
     ]
    },
    {
     "name": "stdout",
     "output_type": "stream",
     "text": [
      "\b\b\b\b\b\b\b\b\b\b\b\b\b\b\b\b\b\b\b\b\b\b\b\b\b\b\b\b\b\b\b\b\b\b\b\b\b\b\b\b\b\b\b\b\b\b\b\b\b\b\b\b\b\b\b\b\b\b\b\b\b\b\b\b\b\b\b\b\b\b\b\b\b\b\b\b\b\b\b\b\b\b\b\b\b\b\b\b\b\b\b\b\b\b\b\b\b\b\b\b\b\b\b\b\b\b\b\b\b\b\b\b\b\b\b\b\b\b\b\b\b\b\b\b\b\b\b\b\b\b\r",
      "  268/10000 [..............................] - ETA: 1:28:04 - loss: 3.3327 - regression_loss: 2.2863 - classification_loss: 1.0464"
     ]
    },
    {
     "name": "stderr",
     "output_type": "stream",
     "text": [
      "W1206 14:19:12.437117 140009638913792 def_function.py:474] 10 out of the last 11 calls to <function to_4D_image at 0x7f562630d488> triggered tf.function retracing. Tracing is expensive and the excessive number of tracings is likely due to passing python objects instead of tensors. Also, tf.function has experimental_relax_shapes=True option that relaxes argument shapes that can avoid unnecessary retracing. Please refer to https://www.tensorflow.org/beta/tutorials/eager/tf_function#python_or_tensor_args and https://www.tensorflow.org/api_docs/python/tf/function for more details.\n",
      "W1206 14:19:12.453134 140009638913792 def_function.py:474] 10 out of the last 11 calls to <function from_4D_image at 0x7f562630d620> triggered tf.function retracing. Tracing is expensive and the excessive number of tracings is likely due to passing python objects instead of tensors. Also, tf.function has experimental_relax_shapes=True option that relaxes argument shapes that can avoid unnecessary retracing. Please refer to https://www.tensorflow.org/beta/tutorials/eager/tf_function#python_or_tensor_args and https://www.tensorflow.org/api_docs/python/tf/function for more details.\n",
      "W1206 14:19:12.466225 140009638913792 def_function.py:474] 9 out of the last 11 calls to <function transform at 0x7f562631db70> triggered tf.function retracing. Tracing is expensive and the excessive number of tracings is likely due to passing python objects instead of tensors. Also, tf.function has experimental_relax_shapes=True option that relaxes argument shapes that can avoid unnecessary retracing. Please refer to https://www.tensorflow.org/beta/tutorials/eager/tf_function#python_or_tensor_args and https://www.tensorflow.org/api_docs/python/tf/function for more details.\n"
     ]
    },
    {
     "name": "stdout",
     "output_type": "stream",
     "text": [
      "------------------------------------------------\n",
      "tf.Tensor(0.296875, shape=(), dtype=float32)\n",
      "tf.Tensor(0.35, shape=(), dtype=float32)\n",
      "tf.Tensor(395, shape=(), dtype=int32)\n",
      "[<tf.Tensor: id=452589, shape=(), dtype=int32, numpy=140>, <tf.Tensor: id=452591, shape=(), dtype=int32, numpy=60>]\n",
      "------------------------------------------------\n"
     ]
    },
    {
     "name": "stderr",
     "output_type": "stream",
     "text": [
      "W1206 14:19:12.504237 140009638913792 def_function.py:474] 10 out of the last 11 calls to <function to_4D_image at 0x7f562630d488> triggered tf.function retracing. Tracing is expensive and the excessive number of tracings is likely due to passing python objects instead of tensors. Also, tf.function has experimental_relax_shapes=True option that relaxes argument shapes that can avoid unnecessary retracing. Please refer to https://www.tensorflow.org/beta/tutorials/eager/tf_function#python_or_tensor_args and https://www.tensorflow.org/api_docs/python/tf/function for more details.\n",
      "W1206 14:19:12.519098 140009638913792 def_function.py:474] 10 out of the last 11 calls to <function from_4D_image at 0x7f562630d620> triggered tf.function retracing. Tracing is expensive and the excessive number of tracings is likely due to passing python objects instead of tensors. Also, tf.function has experimental_relax_shapes=True option that relaxes argument shapes that can avoid unnecessary retracing. Please refer to https://www.tensorflow.org/beta/tutorials/eager/tf_function#python_or_tensor_args and https://www.tensorflow.org/api_docs/python/tf/function for more details.\n",
      "W1206 14:19:12.529962 140009638913792 def_function.py:474] 9 out of the last 11 calls to <function transform at 0x7f562631db70> triggered tf.function retracing. Tracing is expensive and the excessive number of tracings is likely due to passing python objects instead of tensors. Also, tf.function has experimental_relax_shapes=True option that relaxes argument shapes that can avoid unnecessary retracing. Please refer to https://www.tensorflow.org/beta/tutorials/eager/tf_function#python_or_tensor_args and https://www.tensorflow.org/api_docs/python/tf/function for more details.\n"
     ]
    },
    {
     "name": "stdout",
     "output_type": "stream",
     "text": [
      "  273/10000 [..............................] - ETA: 1:27:57 - loss: 3.3350 - regression_loss: 2.2880 - classification_loss: 1.0470"
     ]
    },
    {
     "name": "stderr",
     "output_type": "stream",
     "text": [
      "W1206 14:19:14.906766 140009638913792 def_function.py:474] 10 out of the last 11 calls to <function to_4D_image at 0x7f562630d488> triggered tf.function retracing. Tracing is expensive and the excessive number of tracings is likely due to passing python objects instead of tensors. Also, tf.function has experimental_relax_shapes=True option that relaxes argument shapes that can avoid unnecessary retracing. Please refer to https://www.tensorflow.org/beta/tutorials/eager/tf_function#python_or_tensor_args and https://www.tensorflow.org/api_docs/python/tf/function for more details.\n",
      "W1206 14:19:14.917855 140009638913792 def_function.py:474] 10 out of the last 11 calls to <function from_4D_image at 0x7f562630d620> triggered tf.function retracing. Tracing is expensive and the excessive number of tracings is likely due to passing python objects instead of tensors. Also, tf.function has experimental_relax_shapes=True option that relaxes argument shapes that can avoid unnecessary retracing. Please refer to https://www.tensorflow.org/beta/tutorials/eager/tf_function#python_or_tensor_args and https://www.tensorflow.org/api_docs/python/tf/function for more details.\n",
      "W1206 14:19:14.921949 140009638913792 def_function.py:474] 7 out of the last 12 calls to <function transform at 0x7f562631db70> triggered tf.function retracing. Tracing is expensive and the excessive number of tracings is likely due to passing python objects instead of tensors. Also, tf.function has experimental_relax_shapes=True option that relaxes argument shapes that can avoid unnecessary retracing. Please refer to https://www.tensorflow.org/beta/tutorials/eager/tf_function#python_or_tensor_args and https://www.tensorflow.org/api_docs/python/tf/function for more details.\n",
      "W1206 14:19:14.936615 140009638913792 def_function.py:474] 9 out of the last 11 calls to <function translate at 0x7f5625b68d90> triggered tf.function retracing. Tracing is expensive and the excessive number of tracings is likely due to passing python objects instead of tensors. Also, tf.function has experimental_relax_shapes=True option that relaxes argument shapes that can avoid unnecessary retracing. Please refer to https://www.tensorflow.org/beta/tutorials/eager/tf_function#python_or_tensor_args and https://www.tensorflow.org/api_docs/python/tf/function for more details.\n",
      "W1206 14:19:14.964047 140009638913792 def_function.py:474] 10 out of the last 11 calls to <function to_4D_image at 0x7f562630d488> triggered tf.function retracing. Tracing is expensive and the excessive number of tracings is likely due to passing python objects instead of tensors. Also, tf.function has experimental_relax_shapes=True option that relaxes argument shapes that can avoid unnecessary retracing. Please refer to https://www.tensorflow.org/beta/tutorials/eager/tf_function#python_or_tensor_args and https://www.tensorflow.org/api_docs/python/tf/function for more details.\n",
      "W1206 14:19:14.974987 140009638913792 def_function.py:474] 10 out of the last 11 calls to <function from_4D_image at 0x7f562630d620> triggered tf.function retracing. Tracing is expensive and the excessive number of tracings is likely due to passing python objects instead of tensors. Also, tf.function has experimental_relax_shapes=True option that relaxes argument shapes that can avoid unnecessary retracing. Please refer to https://www.tensorflow.org/beta/tutorials/eager/tf_function#python_or_tensor_args and https://www.tensorflow.org/api_docs/python/tf/function for more details.\n",
      "W1206 14:19:14.979185 140009638913792 def_function.py:474] 7 out of the last 11 calls to <function transform at 0x7f562631db70> triggered tf.function retracing. Tracing is expensive and the excessive number of tracings is likely due to passing python objects instead of tensors. Also, tf.function has experimental_relax_shapes=True option that relaxes argument shapes that can avoid unnecessary retracing. Please refer to https://www.tensorflow.org/beta/tutorials/eager/tf_function#python_or_tensor_args and https://www.tensorflow.org/api_docs/python/tf/function for more details.\n",
      "W1206 14:19:14.994435 140009638913792 def_function.py:474] 10 out of the last 12 calls to <function translate at 0x7f5625b68d90> triggered tf.function retracing. Tracing is expensive and the excessive number of tracings is likely due to passing python objects instead of tensors. Also, tf.function has experimental_relax_shapes=True option that relaxes argument shapes that can avoid unnecessary retracing. Please refer to https://www.tensorflow.org/beta/tutorials/eager/tf_function#python_or_tensor_args and https://www.tensorflow.org/api_docs/python/tf/function for more details.\n",
      "W1206 14:19:15.024547 140009638913792 def_function.py:474] 10 out of the last 11 calls to <function to_4D_image at 0x7f562630d488> triggered tf.function retracing. Tracing is expensive and the excessive number of tracings is likely due to passing python objects instead of tensors. Also, tf.function has experimental_relax_shapes=True option that relaxes argument shapes that can avoid unnecessary retracing. Please refer to https://www.tensorflow.org/beta/tutorials/eager/tf_function#python_or_tensor_args and https://www.tensorflow.org/api_docs/python/tf/function for more details.\n",
      "W1206 14:19:15.036426 140009638913792 def_function.py:474] 10 out of the last 11 calls to <function from_4D_image at 0x7f562630d620> triggered tf.function retracing. Tracing is expensive and the excessive number of tracings is likely due to passing python objects instead of tensors. Also, tf.function has experimental_relax_shapes=True option that relaxes argument shapes that can avoid unnecessary retracing. Please refer to https://www.tensorflow.org/beta/tutorials/eager/tf_function#python_or_tensor_args and https://www.tensorflow.org/api_docs/python/tf/function for more details.\n",
      "W1206 14:19:15.040638 140009638913792 def_function.py:474] 7 out of the last 11 calls to <function transform at 0x7f562631db70> triggered tf.function retracing. Tracing is expensive and the excessive number of tracings is likely due to passing python objects instead of tensors. Also, tf.function has experimental_relax_shapes=True option that relaxes argument shapes that can avoid unnecessary retracing. Please refer to https://www.tensorflow.org/beta/tutorials/eager/tf_function#python_or_tensor_args and https://www.tensorflow.org/api_docs/python/tf/function for more details.\n",
      "W1206 14:19:15.055871 140009638913792 def_function.py:474] 10 out of the last 11 calls to <function translate at 0x7f5625b68d90> triggered tf.function retracing. Tracing is expensive and the excessive number of tracings is likely due to passing python objects instead of tensors. Also, tf.function has experimental_relax_shapes=True option that relaxes argument shapes that can avoid unnecessary retracing. Please refer to https://www.tensorflow.org/beta/tutorials/eager/tf_function#python_or_tensor_args and https://www.tensorflow.org/api_docs/python/tf/function for more details.\n",
      "W1206 14:19:15.100203 140009638913792 def_function.py:474] 10 out of the last 11 calls to <function to_4D_image at 0x7f562630d488> triggered tf.function retracing. Tracing is expensive and the excessive number of tracings is likely due to passing python objects instead of tensors. Also, tf.function has experimental_relax_shapes=True option that relaxes argument shapes that can avoid unnecessary retracing. Please refer to https://www.tensorflow.org/beta/tutorials/eager/tf_function#python_or_tensor_args and https://www.tensorflow.org/api_docs/python/tf/function for more details.\n",
      "W1206 14:19:15.112474 140009638913792 def_function.py:474] 10 out of the last 11 calls to <function from_4D_image at 0x7f562630d620> triggered tf.function retracing. Tracing is expensive and the excessive number of tracings is likely due to passing python objects instead of tensors. Also, tf.function has experimental_relax_shapes=True option that relaxes argument shapes that can avoid unnecessary retracing. Please refer to https://www.tensorflow.org/beta/tutorials/eager/tf_function#python_or_tensor_args and https://www.tensorflow.org/api_docs/python/tf/function for more details.\n",
      "W1206 14:19:15.116710 140009638913792 def_function.py:474] 8 out of the last 12 calls to <function transform at 0x7f562631db70> triggered tf.function retracing. Tracing is expensive and the excessive number of tracings is likely due to passing python objects instead of tensors. Also, tf.function has experimental_relax_shapes=True option that relaxes argument shapes that can avoid unnecessary retracing. Please refer to https://www.tensorflow.org/beta/tutorials/eager/tf_function#python_or_tensor_args and https://www.tensorflow.org/api_docs/python/tf/function for more details.\n"
     ]
    },
    {
     "name": "stderr",
     "output_type": "stream",
     "text": [
      "W1206 14:19:15.133685 140009638913792 def_function.py:474] 10 out of the last 11 calls to <function translate at 0x7f5625b68d90> triggered tf.function retracing. Tracing is expensive and the excessive number of tracings is likely due to passing python objects instead of tensors. Also, tf.function has experimental_relax_shapes=True option that relaxes argument shapes that can avoid unnecessary retracing. Please refer to https://www.tensorflow.org/beta/tutorials/eager/tf_function#python_or_tensor_args and https://www.tensorflow.org/api_docs/python/tf/function for more details.\n"
     ]
    },
    {
     "name": "stdout",
     "output_type": "stream",
     "text": [
      "  275/10000 [..............................] - ETA: 1:28:01 - loss: 3.3379 - regression_loss: 2.2909 - classification_loss: 1.0470------------------------------------------------\n",
      "tf.Tensor(0.1375, shape=(), dtype=float32)\n",
      "tf.Tensor(0.3078125, shape=(), dtype=float32)\n",
      "tf.Tensor(388, shape=(), dtype=int32)\n",
      "[<tf.Tensor: id=466315, shape=(), dtype=int32, numpy=168>, <tf.Tensor: id=466317, shape=(), dtype=int32, numpy=188>]\n",
      "------------------------------------------------\n",
      "  276/10000 [..............................] - ETA: 1:27:57 - loss: 3.3366 - regression_loss: 2.2900 - classification_loss: 1.0466"
     ]
    },
    {
     "name": "stderr",
     "output_type": "stream",
     "text": [
      "W1206 14:19:16.578206 140009638913792 def_function.py:474] 11 out of the last 12 calls to <function to_4D_image at 0x7f562630d488> triggered tf.function retracing. Tracing is expensive and the excessive number of tracings is likely due to passing python objects instead of tensors. Also, tf.function has experimental_relax_shapes=True option that relaxes argument shapes that can avoid unnecessary retracing. Please refer to https://www.tensorflow.org/beta/tutorials/eager/tf_function#python_or_tensor_args and https://www.tensorflow.org/api_docs/python/tf/function for more details.\n",
      "W1206 14:19:16.600627 140009638913792 def_function.py:474] 11 out of the last 11 calls to <function to_4D_image at 0x7f562630d488> triggered tf.function retracing. Tracing is expensive and the excessive number of tracings is likely due to passing python objects instead of tensors. Also, tf.function has experimental_relax_shapes=True option that relaxes argument shapes that can avoid unnecessary retracing. Please refer to https://www.tensorflow.org/beta/tutorials/eager/tf_function#python_or_tensor_args and https://www.tensorflow.org/api_docs/python/tf/function for more details.\n",
      "W1206 14:19:16.610742 140009638913792 def_function.py:474] 11 out of the last 12 calls to <function from_4D_image at 0x7f562630d620> triggered tf.function retracing. Tracing is expensive and the excessive number of tracings is likely due to passing python objects instead of tensors. Also, tf.function has experimental_relax_shapes=True option that relaxes argument shapes that can avoid unnecessary retracing. Please refer to https://www.tensorflow.org/beta/tutorials/eager/tf_function#python_or_tensor_args and https://www.tensorflow.org/api_docs/python/tf/function for more details.\n",
      "W1206 14:19:16.614422 140009638913792 def_function.py:474] 8 out of the last 11 calls to <function transform at 0x7f562631db70> triggered tf.function retracing. Tracing is expensive and the excessive number of tracings is likely due to passing python objects instead of tensors. Also, tf.function has experimental_relax_shapes=True option that relaxes argument shapes that can avoid unnecessary retracing. Please refer to https://www.tensorflow.org/beta/tutorials/eager/tf_function#python_or_tensor_args and https://www.tensorflow.org/api_docs/python/tf/function for more details.\n",
      "W1206 14:19:16.621034 140009638913792 def_function.py:474] 11 out of the last 11 calls to <function from_4D_image at 0x7f562630d620> triggered tf.function retracing. Tracing is expensive and the excessive number of tracings is likely due to passing python objects instead of tensors. Also, tf.function has experimental_relax_shapes=True option that relaxes argument shapes that can avoid unnecessary retracing. Please refer to https://www.tensorflow.org/beta/tutorials/eager/tf_function#python_or_tensor_args and https://www.tensorflow.org/api_docs/python/tf/function for more details.\n",
      "W1206 14:19:16.661716 140009638913792 def_function.py:474] 11 out of the last 11 calls to <function to_4D_image at 0x7f562630d488> triggered tf.function retracing. Tracing is expensive and the excessive number of tracings is likely due to passing python objects instead of tensors. Also, tf.function has experimental_relax_shapes=True option that relaxes argument shapes that can avoid unnecessary retracing. Please refer to https://www.tensorflow.org/beta/tutorials/eager/tf_function#python_or_tensor_args and https://www.tensorflow.org/api_docs/python/tf/function for more details.\n",
      "W1206 14:19:16.682353 140009638913792 def_function.py:474] 11 out of the last 11 calls to <function to_4D_image at 0x7f562630d488> triggered tf.function retracing. Tracing is expensive and the excessive number of tracings is likely due to passing python objects instead of tensors. Also, tf.function has experimental_relax_shapes=True option that relaxes argument shapes that can avoid unnecessary retracing. Please refer to https://www.tensorflow.org/beta/tutorials/eager/tf_function#python_or_tensor_args and https://www.tensorflow.org/api_docs/python/tf/function for more details.\n",
      "W1206 14:19:16.692136 140009638913792 def_function.py:474] 11 out of the last 11 calls to <function from_4D_image at 0x7f562630d620> triggered tf.function retracing. Tracing is expensive and the excessive number of tracings is likely due to passing python objects instead of tensors. Also, tf.function has experimental_relax_shapes=True option that relaxes argument shapes that can avoid unnecessary retracing. Please refer to https://www.tensorflow.org/beta/tutorials/eager/tf_function#python_or_tensor_args and https://www.tensorflow.org/api_docs/python/tf/function for more details.\n",
      "W1206 14:19:16.695903 140009638913792 def_function.py:474] 8 out of the last 11 calls to <function transform at 0x7f562631db70> triggered tf.function retracing. Tracing is expensive and the excessive number of tracings is likely due to passing python objects instead of tensors. Also, tf.function has experimental_relax_shapes=True option that relaxes argument shapes that can avoid unnecessary retracing. Please refer to https://www.tensorflow.org/beta/tutorials/eager/tf_function#python_or_tensor_args and https://www.tensorflow.org/api_docs/python/tf/function for more details.\n",
      "W1206 14:19:16.703555 140009638913792 def_function.py:474] 11 out of the last 11 calls to <function from_4D_image at 0x7f562630d620> triggered tf.function retracing. Tracing is expensive and the excessive number of tracings is likely due to passing python objects instead of tensors. Also, tf.function has experimental_relax_shapes=True option that relaxes argument shapes that can avoid unnecessary retracing. Please refer to https://www.tensorflow.org/beta/tutorials/eager/tf_function#python_or_tensor_args and https://www.tensorflow.org/api_docs/python/tf/function for more details.\n",
      "W1206 14:19:16.835439 140009638913792 def_function.py:474] 11 out of the last 11 calls to <function to_4D_image at 0x7f562630d488> triggered tf.function retracing. Tracing is expensive and the excessive number of tracings is likely due to passing python objects instead of tensors. Also, tf.function has experimental_relax_shapes=True option that relaxes argument shapes that can avoid unnecessary retracing. Please refer to https://www.tensorflow.org/beta/tutorials/eager/tf_function#python_or_tensor_args and https://www.tensorflow.org/api_docs/python/tf/function for more details.\n",
      "W1206 14:19:16.847984 140009638913792 def_function.py:474] 11 out of the last 11 calls to <function from_4D_image at 0x7f562630d620> triggered tf.function retracing. Tracing is expensive and the excessive number of tracings is likely due to passing python objects instead of tensors. Also, tf.function has experimental_relax_shapes=True option that relaxes argument shapes that can avoid unnecessary retracing. Please refer to https://www.tensorflow.org/beta/tutorials/eager/tf_function#python_or_tensor_args and https://www.tensorflow.org/api_docs/python/tf/function for more details.\n",
      "W1206 14:19:16.858450 140009638913792 def_function.py:474] 8 out of the last 11 calls to <function transform at 0x7f562631db70> triggered tf.function retracing. Tracing is expensive and the excessive number of tracings is likely due to passing python objects instead of tensors. Also, tf.function has experimental_relax_shapes=True option that relaxes argument shapes that can avoid unnecessary retracing. Please refer to https://www.tensorflow.org/beta/tutorials/eager/tf_function#python_or_tensor_args and https://www.tensorflow.org/api_docs/python/tf/function for more details.\n",
      "W1206 14:19:16.881218 140009638913792 def_function.py:474] 11 out of the last 11 calls to <function to_4D_image at 0x7f562630d488> triggered tf.function retracing. Tracing is expensive and the excessive number of tracings is likely due to passing python objects instead of tensors. Also, tf.function has experimental_relax_shapes=True option that relaxes argument shapes that can avoid unnecessary retracing. Please refer to https://www.tensorflow.org/beta/tutorials/eager/tf_function#python_or_tensor_args and https://www.tensorflow.org/api_docs/python/tf/function for more details.\n",
      "W1206 14:19:16.892999 140009638913792 def_function.py:474] 11 out of the last 11 calls to <function from_4D_image at 0x7f562630d620> triggered tf.function retracing. Tracing is expensive and the excessive number of tracings is likely due to passing python objects instead of tensors. Also, tf.function has experimental_relax_shapes=True option that relaxes argument shapes that can avoid unnecessary retracing. Please refer to https://www.tensorflow.org/beta/tutorials/eager/tf_function#python_or_tensor_args and https://www.tensorflow.org/api_docs/python/tf/function for more details.\n"
     ]
    },
    {
     "name": "stderr",
     "output_type": "stream",
     "text": [
      "W1206 14:19:16.911762 140009638913792 def_function.py:474] 9 out of the last 12 calls to <function transform at 0x7f562631db70> triggered tf.function retracing. Tracing is expensive and the excessive number of tracings is likely due to passing python objects instead of tensors. Also, tf.function has experimental_relax_shapes=True option that relaxes argument shapes that can avoid unnecessary retracing. Please refer to https://www.tensorflow.org/beta/tutorials/eager/tf_function#python_or_tensor_args and https://www.tensorflow.org/api_docs/python/tf/function for more details.\n",
      "W1206 14:19:16.936514 140009638913792 def_function.py:474] 11 out of the last 11 calls to <function to_4D_image at 0x7f562630d488> triggered tf.function retracing. Tracing is expensive and the excessive number of tracings is likely due to passing python objects instead of tensors. Also, tf.function has experimental_relax_shapes=True option that relaxes argument shapes that can avoid unnecessary retracing. Please refer to https://www.tensorflow.org/beta/tutorials/eager/tf_function#python_or_tensor_args and https://www.tensorflow.org/api_docs/python/tf/function for more details.\n",
      "W1206 14:19:16.951652 140009638913792 def_function.py:474] 11 out of the last 11 calls to <function from_4D_image at 0x7f562630d620> triggered tf.function retracing. Tracing is expensive and the excessive number of tracings is likely due to passing python objects instead of tensors. Also, tf.function has experimental_relax_shapes=True option that relaxes argument shapes that can avoid unnecessary retracing. Please refer to https://www.tensorflow.org/beta/tutorials/eager/tf_function#python_or_tensor_args and https://www.tensorflow.org/api_docs/python/tf/function for more details.\n",
      "W1206 14:19:16.963589 140009638913792 def_function.py:474] 10 out of the last 13 calls to <function transform at 0x7f562631db70> triggered tf.function retracing. Tracing is expensive and the excessive number of tracings is likely due to passing python objects instead of tensors. Also, tf.function has experimental_relax_shapes=True option that relaxes argument shapes that can avoid unnecessary retracing. Please refer to https://www.tensorflow.org/beta/tutorials/eager/tf_function#python_or_tensor_args and https://www.tensorflow.org/api_docs/python/tf/function for more details.\n"
     ]
    },
    {
     "name": "stdout",
     "output_type": "stream",
     "text": [
      "\b\b\b\b\b\b\b\b\b\b\b\b\b\b\b\b\b\b\b\b\b\b\b\b\b\b\b\b\b\b\b\b\b\b\b\b\b\b\b\b\b\b\b\b\b\b\b\b\b\b\b\b\b\b\b\b\b\b\b\b\b\b\b\b\b\b\b\b\b\b\b\b\b\b\b\b\b\b\b\b\b\b\b\b\b\b\b\b\b\b\b\b\b\b\b\b\b\b\b\b\b\b\b\b\b\b\b\b\b\b\b\b\b\b\b\b\b\b\b\b\b\b\b\b\b\b\b\b\b\b\r",
      "  277/10000 [..............................] - ETA: 1:28:06 - loss: 3.3378 - regression_loss: 2.2914 - classification_loss: 1.0463"
     ]
    },
    {
     "name": "stderr",
     "output_type": "stream",
     "text": [
      "W1206 14:19:17.426571 140009638913792 def_function.py:474] 11 out of the last 11 calls to <function to_4D_image at 0x7f562630d488> triggered tf.function retracing. Tracing is expensive and the excessive number of tracings is likely due to passing python objects instead of tensors. Also, tf.function has experimental_relax_shapes=True option that relaxes argument shapes that can avoid unnecessary retracing. Please refer to https://www.tensorflow.org/beta/tutorials/eager/tf_function#python_or_tensor_args and https://www.tensorflow.org/api_docs/python/tf/function for more details.\n",
      "W1206 14:19:17.441498 140009638913792 def_function.py:474] 11 out of the last 11 calls to <function from_4D_image at 0x7f562630d620> triggered tf.function retracing. Tracing is expensive and the excessive number of tracings is likely due to passing python objects instead of tensors. Also, tf.function has experimental_relax_shapes=True option that relaxes argument shapes that can avoid unnecessary retracing. Please refer to https://www.tensorflow.org/beta/tutorials/eager/tf_function#python_or_tensor_args and https://www.tensorflow.org/api_docs/python/tf/function for more details.\n",
      "W1206 14:19:17.453157 140009638913792 def_function.py:474] 11 out of the last 14 calls to <function transform at 0x7f562631db70> triggered tf.function retracing. Tracing is expensive and the excessive number of tracings is likely due to passing python objects instead of tensors. Also, tf.function has experimental_relax_shapes=True option that relaxes argument shapes that can avoid unnecessary retracing. Please refer to https://www.tensorflow.org/beta/tutorials/eager/tf_function#python_or_tensor_args and https://www.tensorflow.org/api_docs/python/tf/function for more details.\n"
     ]
    },
    {
     "name": "stdout",
     "output_type": "stream",
     "text": [
      "  279/10000 [..............................] - ETA: 1:28:02 - loss: 3.3348 - regression_loss: 2.2893 - classification_loss: 1.0455"
     ]
    },
    {
     "name": "stderr",
     "output_type": "stream",
     "text": [
      "W1206 14:19:18.400882 140009638913792 def_function.py:474] 11 out of the last 11 calls to <function to_4D_image at 0x7f562630d488> triggered tf.function retracing. Tracing is expensive and the excessive number of tracings is likely due to passing python objects instead of tensors. Also, tf.function has experimental_relax_shapes=True option that relaxes argument shapes that can avoid unnecessary retracing. Please refer to https://www.tensorflow.org/beta/tutorials/eager/tf_function#python_or_tensor_args and https://www.tensorflow.org/api_docs/python/tf/function for more details.\n",
      "W1206 14:19:18.414107 140009638913792 def_function.py:474] 11 out of the last 11 calls to <function from_4D_image at 0x7f562630d620> triggered tf.function retracing. Tracing is expensive and the excessive number of tracings is likely due to passing python objects instead of tensors. Also, tf.function has experimental_relax_shapes=True option that relaxes argument shapes that can avoid unnecessary retracing. Please refer to https://www.tensorflow.org/beta/tutorials/eager/tf_function#python_or_tensor_args and https://www.tensorflow.org/api_docs/python/tf/function for more details.\n",
      "W1206 14:19:18.418846 140009638913792 def_function.py:474] 11 out of the last 11 calls to <function transform at 0x7f562631db70> triggered tf.function retracing. Tracing is expensive and the excessive number of tracings is likely due to passing python objects instead of tensors. Also, tf.function has experimental_relax_shapes=True option that relaxes argument shapes that can avoid unnecessary retracing. Please refer to https://www.tensorflow.org/beta/tutorials/eager/tf_function#python_or_tensor_args and https://www.tensorflow.org/api_docs/python/tf/function for more details.\n",
      "W1206 14:19:18.435518 140009638913792 def_function.py:474] 8 out of the last 11 calls to <function translate at 0x7f5625b68d90> triggered tf.function retracing. Tracing is expensive and the excessive number of tracings is likely due to passing python objects instead of tensors. Also, tf.function has experimental_relax_shapes=True option that relaxes argument shapes that can avoid unnecessary retracing. Please refer to https://www.tensorflow.org/beta/tutorials/eager/tf_function#python_or_tensor_args and https://www.tensorflow.org/api_docs/python/tf/function for more details.\n",
      "W1206 14:19:18.904973 140009638913792 def_function.py:474] 11 out of the last 11 calls to <function to_4D_image at 0x7f562630d488> triggered tf.function retracing. Tracing is expensive and the excessive number of tracings is likely due to passing python objects instead of tensors. Also, tf.function has experimental_relax_shapes=True option that relaxes argument shapes that can avoid unnecessary retracing. Please refer to https://www.tensorflow.org/beta/tutorials/eager/tf_function#python_or_tensor_args and https://www.tensorflow.org/api_docs/python/tf/function for more details.\n",
      "W1206 14:19:18.916328 140009638913792 def_function.py:474] 11 out of the last 11 calls to <function from_4D_image at 0x7f562630d620> triggered tf.function retracing. Tracing is expensive and the excessive number of tracings is likely due to passing python objects instead of tensors. Also, tf.function has experimental_relax_shapes=True option that relaxes argument shapes that can avoid unnecessary retracing. Please refer to https://www.tensorflow.org/beta/tutorials/eager/tf_function#python_or_tensor_args and https://www.tensorflow.org/api_docs/python/tf/function for more details.\n",
      "W1206 14:19:18.920303 140009638913792 def_function.py:474] 11 out of the last 11 calls to <function transform at 0x7f562631db70> triggered tf.function retracing. Tracing is expensive and the excessive number of tracings is likely due to passing python objects instead of tensors. Also, tf.function has experimental_relax_shapes=True option that relaxes argument shapes that can avoid unnecessary retracing. Please refer to https://www.tensorflow.org/beta/tutorials/eager/tf_function#python_or_tensor_args and https://www.tensorflow.org/api_docs/python/tf/function for more details.\n",
      "W1206 14:19:18.934458 140009638913792 def_function.py:474] 8 out of the last 11 calls to <function translate at 0x7f5625b68d90> triggered tf.function retracing. Tracing is expensive and the excessive number of tracings is likely due to passing python objects instead of tensors. Also, tf.function has experimental_relax_shapes=True option that relaxes argument shapes that can avoid unnecessary retracing. Please refer to https://www.tensorflow.org/beta/tutorials/eager/tf_function#python_or_tensor_args and https://www.tensorflow.org/api_docs/python/tf/function for more details.\n"
     ]
    },
    {
     "name": "stdout",
     "output_type": "stream",
     "text": [
      "\b\b\b\b\b\b\b\b\b\b\b\b\b\b\b\b\b\b\b\b\b\b\b\b\b\b\b\b\b\b\b\b\b\b\b\b\b\b\b\b\b\b\b\b\b\b\b\b\b\b\b\b\b\b\b\b\b\b\b\b\b\b\b\b\b\b\b\b\b\b\b\b\b\b\b\b\b\b\b\b\b\b\b\b\b\b\b\b\b\b\b\b\b\b\b\b\b\b\b\b\b\b\b\b\b\b\b\b\b\b\b\b\b\b\b\b\b\b\b\b\b\b\b\b\b\b\b\b\b\b\r",
      "  280/10000 [..............................] - ETA: 1:28:17 - loss: 3.3319 - regression_loss: 2.2867 - classification_loss: 1.0452"
     ]
    },
    {
     "name": "stderr",
     "output_type": "stream",
     "text": [
      "W1206 14:19:19.453042 140009638913792 def_function.py:474] 11 out of the last 11 calls to <function to_4D_image at 0x7f562630d488> triggered tf.function retracing. Tracing is expensive and the excessive number of tracings is likely due to passing python objects instead of tensors. Also, tf.function has experimental_relax_shapes=True option that relaxes argument shapes that can avoid unnecessary retracing. Please refer to https://www.tensorflow.org/beta/tutorials/eager/tf_function#python_or_tensor_args and https://www.tensorflow.org/api_docs/python/tf/function for more details.\n",
      "W1206 14:19:19.467604 140009638913792 def_function.py:474] 11 out of the last 11 calls to <function from_4D_image at 0x7f562630d620> triggered tf.function retracing. Tracing is expensive and the excessive number of tracings is likely due to passing python objects instead of tensors. Also, tf.function has experimental_relax_shapes=True option that relaxes argument shapes that can avoid unnecessary retracing. Please refer to https://www.tensorflow.org/beta/tutorials/eager/tf_function#python_or_tensor_args and https://www.tensorflow.org/api_docs/python/tf/function for more details.\n",
      "W1206 14:19:19.478955 140009638913792 def_function.py:474] 11 out of the last 11 calls to <function transform at 0x7f562631db70> triggered tf.function retracing. Tracing is expensive and the excessive number of tracings is likely due to passing python objects instead of tensors. Also, tf.function has experimental_relax_shapes=True option that relaxes argument shapes that can avoid unnecessary retracing. Please refer to https://www.tensorflow.org/beta/tutorials/eager/tf_function#python_or_tensor_args and https://www.tensorflow.org/api_docs/python/tf/function for more details.\n"
     ]
    },
    {
     "name": "stdout",
     "output_type": "stream",
     "text": [
      "  285/10000 [..............................] - ETA: 1:28:00 - loss: 3.3228 - regression_loss: 2.2777 - classification_loss: 1.0451"
     ]
    },
    {
     "name": "stderr",
     "output_type": "stream",
     "text": [
      "W1206 14:19:21.718216 140009638913792 def_function.py:474] 11 out of the last 11 calls to <function to_4D_image at 0x7f562630d488> triggered tf.function retracing. Tracing is expensive and the excessive number of tracings is likely due to passing python objects instead of tensors. Also, tf.function has experimental_relax_shapes=True option that relaxes argument shapes that can avoid unnecessary retracing. Please refer to https://www.tensorflow.org/beta/tutorials/eager/tf_function#python_or_tensor_args and https://www.tensorflow.org/api_docs/python/tf/function for more details.\n",
      "W1206 14:19:21.732774 140009638913792 def_function.py:474] 11 out of the last 11 calls to <function from_4D_image at 0x7f562630d620> triggered tf.function retracing. Tracing is expensive and the excessive number of tracings is likely due to passing python objects instead of tensors. Also, tf.function has experimental_relax_shapes=True option that relaxes argument shapes that can avoid unnecessary retracing. Please refer to https://www.tensorflow.org/beta/tutorials/eager/tf_function#python_or_tensor_args and https://www.tensorflow.org/api_docs/python/tf/function for more details.\n",
      "W1206 14:19:21.744067 140009638913792 def_function.py:474] 11 out of the last 11 calls to <function transform at 0x7f562631db70> triggered tf.function retracing. Tracing is expensive and the excessive number of tracings is likely due to passing python objects instead of tensors. Also, tf.function has experimental_relax_shapes=True option that relaxes argument shapes that can avoid unnecessary retracing. Please refer to https://www.tensorflow.org/beta/tutorials/eager/tf_function#python_or_tensor_args and https://www.tensorflow.org/api_docs/python/tf/function for more details.\n"
     ]
    },
    {
     "name": "stdout",
     "output_type": "stream",
     "text": [
      "  289/10000 [..............................] - ETA: 1:27:42 - loss: 3.3154 - regression_loss: 2.2701 - classification_loss: 1.0453"
     ]
    },
    {
     "name": "stderr",
     "output_type": "stream",
     "text": [
      "W1206 14:19:23.433133 140009638913792 def_function.py:474] 11 out of the last 11 calls to <function to_4D_image at 0x7f562630d488> triggered tf.function retracing. Tracing is expensive and the excessive number of tracings is likely due to passing python objects instead of tensors. Also, tf.function has experimental_relax_shapes=True option that relaxes argument shapes that can avoid unnecessary retracing. Please refer to https://www.tensorflow.org/beta/tutorials/eager/tf_function#python_or_tensor_args and https://www.tensorflow.org/api_docs/python/tf/function for more details.\n",
      "W1206 14:19:23.445871 140009638913792 def_function.py:474] 11 out of the last 11 calls to <function from_4D_image at 0x7f562630d620> triggered tf.function retracing. Tracing is expensive and the excessive number of tracings is likely due to passing python objects instead of tensors. Also, tf.function has experimental_relax_shapes=True option that relaxes argument shapes that can avoid unnecessary retracing. Please refer to https://www.tensorflow.org/beta/tutorials/eager/tf_function#python_or_tensor_args and https://www.tensorflow.org/api_docs/python/tf/function for more details.\n",
      "W1206 14:19:23.450492 140009638913792 def_function.py:474] 10 out of the last 11 calls to <function transform at 0x7f562631db70> triggered tf.function retracing. Tracing is expensive and the excessive number of tracings is likely due to passing python objects instead of tensors. Also, tf.function has experimental_relax_shapes=True option that relaxes argument shapes that can avoid unnecessary retracing. Please refer to https://www.tensorflow.org/beta/tutorials/eager/tf_function#python_or_tensor_args and https://www.tensorflow.org/api_docs/python/tf/function for more details.\n",
      "W1206 14:19:23.466711 140009638913792 def_function.py:474] 8 out of the last 12 calls to <function translate at 0x7f5625b68d90> triggered tf.function retracing. Tracing is expensive and the excessive number of tracings is likely due to passing python objects instead of tensors. Also, tf.function has experimental_relax_shapes=True option that relaxes argument shapes that can avoid unnecessary retracing. Please refer to https://www.tensorflow.org/beta/tutorials/eager/tf_function#python_or_tensor_args and https://www.tensorflow.org/api_docs/python/tf/function for more details.\n"
     ]
    },
    {
     "name": "stdout",
     "output_type": "stream",
     "text": [
      "\b\b\b\b\b\b\b\b\b\b\b\b\b\b\b\b\b\b\b\b\b\b\b\b\b\b\b\b\b\b\b\b\b\b\b\b\b\b\b\b\b\b\b\b\b\b\b\b\b\b\b\b\b\b\b\b\b\b\b\b\b\b\b\b\b\b\b\b\b\b\b\b\b\b\b\b\b\b\b\b\b\b\b\b\b\b\b\b\b\b\b\b\b\b\b\b\b\b\b\b\b\b\b\b\b\b\b\b\b\b\b\b\b\b\b\b\b\b\b\b\b\b\b\b\b\b\b\b\b\b\r",
      "  290/10000 [..............................] - ETA: 1:27:41 - loss: 3.3124 - regression_loss: 2.2677 - classification_loss: 1.0447"
     ]
    },
    {
     "name": "stderr",
     "output_type": "stream",
     "text": [
      "W1206 14:19:23.920979 140009638913792 def_function.py:474] 10 out of the last 11 calls to <function transform at 0x7f562631db70> triggered tf.function retracing. Tracing is expensive and the excessive number of tracings is likely due to passing python objects instead of tensors. Also, tf.function has experimental_relax_shapes=True option that relaxes argument shapes that can avoid unnecessary retracing. Please refer to https://www.tensorflow.org/beta/tutorials/eager/tf_function#python_or_tensor_args and https://www.tensorflow.org/api_docs/python/tf/function for more details.\n",
      "W1206 14:19:23.940760 140009638913792 def_function.py:474] 8 out of the last 11 calls to <function translate at 0x7f5625b68d90> triggered tf.function retracing. Tracing is expensive and the excessive number of tracings is likely due to passing python objects instead of tensors. Also, tf.function has experimental_relax_shapes=True option that relaxes argument shapes that can avoid unnecessary retracing. Please refer to https://www.tensorflow.org/beta/tutorials/eager/tf_function#python_or_tensor_args and https://www.tensorflow.org/api_docs/python/tf/function for more details.\n"
     ]
    },
    {
     "name": "stdout",
     "output_type": "stream",
     "text": [
      "  292/10000 [..............................] - ETA: 1:27:40 - loss: 3.3102 - regression_loss: 2.2664 - classification_loss: 1.0438"
     ]
    },
    {
     "name": "stderr",
     "output_type": "stream",
     "text": [
      "W1206 14:19:25.069063 140009638913792 def_function.py:474] 10 out of the last 11 calls to <function to_4D_image at 0x7f562630d488> triggered tf.function retracing. Tracing is expensive and the excessive number of tracings is likely due to passing python objects instead of tensors. Also, tf.function has experimental_relax_shapes=True option that relaxes argument shapes that can avoid unnecessary retracing. Please refer to https://www.tensorflow.org/beta/tutorials/eager/tf_function#python_or_tensor_args and https://www.tensorflow.org/api_docs/python/tf/function for more details.\n",
      "W1206 14:19:25.083722 140009638913792 def_function.py:474] 10 out of the last 11 calls to <function from_4D_image at 0x7f562630d620> triggered tf.function retracing. Tracing is expensive and the excessive number of tracings is likely due to passing python objects instead of tensors. Also, tf.function has experimental_relax_shapes=True option that relaxes argument shapes that can avoid unnecessary retracing. Please refer to https://www.tensorflow.org/beta/tutorials/eager/tf_function#python_or_tensor_args and https://www.tensorflow.org/api_docs/python/tf/function for more details.\n",
      "W1206 14:19:25.095278 140009638913792 def_function.py:474] 9 out of the last 11 calls to <function transform at 0x7f562631db70> triggered tf.function retracing. Tracing is expensive and the excessive number of tracings is likely due to passing python objects instead of tensors. Also, tf.function has experimental_relax_shapes=True option that relaxes argument shapes that can avoid unnecessary retracing. Please refer to https://www.tensorflow.org/beta/tutorials/eager/tf_function#python_or_tensor_args and https://www.tensorflow.org/api_docs/python/tf/function for more details.\n"
     ]
    },
    {
     "name": "stdout",
     "output_type": "stream",
     "text": [
      "\b\b\b\b\b\b\b\b\b\b\b\b\b\b\b\b\b\b\b\b\b\b\b\b\b\b\b\b\b\b\b\b\b\b\b\b\b\b\b\b\b\b\b\b\b\b\b\b\b\b\b\b\b\b\b\b\b\b\b\b\b\b\b\b\b\b\b\b\b\b\b\b\b\b\b\b\b\b\b\b\b\b\b\b\b\b\b\b\b\b\b\b\b\b\b\b\b\b\b\b\b\b\b\b\b\b\b\b\b\b\b\b\b\b\b\b\b\b\b\b\b\b\b\b\b\b\b\b\b\b\r",
      "  293/10000 [..............................] - ETA: 1:27:40 - loss: 3.3094 - regression_loss: 2.2661 - classification_loss: 1.0434"
     ]
    },
    {
     "name": "stderr",
     "output_type": "stream",
     "text": [
      "W1206 14:19:25.614632 140009638913792 def_function.py:474] 10 out of the last 11 calls to <function to_4D_image at 0x7f562630d488> triggered tf.function retracing. Tracing is expensive and the excessive number of tracings is likely due to passing python objects instead of tensors. Also, tf.function has experimental_relax_shapes=True option that relaxes argument shapes that can avoid unnecessary retracing. Please refer to https://www.tensorflow.org/beta/tutorials/eager/tf_function#python_or_tensor_args and https://www.tensorflow.org/api_docs/python/tf/function for more details.\n",
      "W1206 14:19:25.629275 140009638913792 def_function.py:474] 10 out of the last 11 calls to <function from_4D_image at 0x7f562630d620> triggered tf.function retracing. Tracing is expensive and the excessive number of tracings is likely due to passing python objects instead of tensors. Also, tf.function has experimental_relax_shapes=True option that relaxes argument shapes that can avoid unnecessary retracing. Please refer to https://www.tensorflow.org/beta/tutorials/eager/tf_function#python_or_tensor_args and https://www.tensorflow.org/api_docs/python/tf/function for more details.\n",
      "W1206 14:19:25.640791 140009638913792 def_function.py:474] 9 out of the last 11 calls to <function transform at 0x7f562631db70> triggered tf.function retracing. Tracing is expensive and the excessive number of tracings is likely due to passing python objects instead of tensors. Also, tf.function has experimental_relax_shapes=True option that relaxes argument shapes that can avoid unnecessary retracing. Please refer to https://www.tensorflow.org/beta/tutorials/eager/tf_function#python_or_tensor_args and https://www.tensorflow.org/api_docs/python/tf/function for more details.\n",
      "W1206 14:19:25.667529 140009638913792 def_function.py:474] 10 out of the last 11 calls to <function to_4D_image at 0x7f562630d488> triggered tf.function retracing. Tracing is expensive and the excessive number of tracings is likely due to passing python objects instead of tensors. Also, tf.function has experimental_relax_shapes=True option that relaxes argument shapes that can avoid unnecessary retracing. Please refer to https://www.tensorflow.org/beta/tutorials/eager/tf_function#python_or_tensor_args and https://www.tensorflow.org/api_docs/python/tf/function for more details.\n",
      "W1206 14:19:25.681931 140009638913792 def_function.py:474] 10 out of the last 11 calls to <function from_4D_image at 0x7f562630d620> triggered tf.function retracing. Tracing is expensive and the excessive number of tracings is likely due to passing python objects instead of tensors. Also, tf.function has experimental_relax_shapes=True option that relaxes argument shapes that can avoid unnecessary retracing. Please refer to https://www.tensorflow.org/beta/tutorials/eager/tf_function#python_or_tensor_args and https://www.tensorflow.org/api_docs/python/tf/function for more details.\n",
      "W1206 14:19:25.693573 140009638913792 def_function.py:474] 9 out of the last 11 calls to <function transform at 0x7f562631db70> triggered tf.function retracing. Tracing is expensive and the excessive number of tracings is likely due to passing python objects instead of tensors. Also, tf.function has experimental_relax_shapes=True option that relaxes argument shapes that can avoid unnecessary retracing. Please refer to https://www.tensorflow.org/beta/tutorials/eager/tf_function#python_or_tensor_args and https://www.tensorflow.org/api_docs/python/tf/function for more details.\n",
      "W1206 14:19:25.721146 140009638913792 def_function.py:474] 10 out of the last 11 calls to <function to_4D_image at 0x7f562630d488> triggered tf.function retracing. Tracing is expensive and the excessive number of tracings is likely due to passing python objects instead of tensors. Also, tf.function has experimental_relax_shapes=True option that relaxes argument shapes that can avoid unnecessary retracing. Please refer to https://www.tensorflow.org/beta/tutorials/eager/tf_function#python_or_tensor_args and https://www.tensorflow.org/api_docs/python/tf/function for more details.\n",
      "W1206 14:19:25.735482 140009638913792 def_function.py:474] 10 out of the last 11 calls to <function from_4D_image at 0x7f562630d620> triggered tf.function retracing. Tracing is expensive and the excessive number of tracings is likely due to passing python objects instead of tensors. Also, tf.function has experimental_relax_shapes=True option that relaxes argument shapes that can avoid unnecessary retracing. Please refer to https://www.tensorflow.org/beta/tutorials/eager/tf_function#python_or_tensor_args and https://www.tensorflow.org/api_docs/python/tf/function for more details.\n",
      "W1206 14:19:25.747180 140009638913792 def_function.py:474] 9 out of the last 11 calls to <function transform at 0x7f562631db70> triggered tf.function retracing. Tracing is expensive and the excessive number of tracings is likely due to passing python objects instead of tensors. Also, tf.function has experimental_relax_shapes=True option that relaxes argument shapes that can avoid unnecessary retracing. Please refer to https://www.tensorflow.org/beta/tutorials/eager/tf_function#python_or_tensor_args and https://www.tensorflow.org/api_docs/python/tf/function for more details.\n",
      "W1206 14:19:25.774181 140009638913792 def_function.py:474] 10 out of the last 11 calls to <function to_4D_image at 0x7f562630d488> triggered tf.function retracing. Tracing is expensive and the excessive number of tracings is likely due to passing python objects instead of tensors. Also, tf.function has experimental_relax_shapes=True option that relaxes argument shapes that can avoid unnecessary retracing. Please refer to https://www.tensorflow.org/beta/tutorials/eager/tf_function#python_or_tensor_args and https://www.tensorflow.org/api_docs/python/tf/function for more details.\n",
      "W1206 14:19:25.786353 140009638913792 def_function.py:474] 10 out of the last 11 calls to <function from_4D_image at 0x7f562630d620> triggered tf.function retracing. Tracing is expensive and the excessive number of tracings is likely due to passing python objects instead of tensors. Also, tf.function has experimental_relax_shapes=True option that relaxes argument shapes that can avoid unnecessary retracing. Please refer to https://www.tensorflow.org/beta/tutorials/eager/tf_function#python_or_tensor_args and https://www.tensorflow.org/api_docs/python/tf/function for more details.\n",
      "W1206 14:19:25.795922 140009638913792 def_function.py:474] 9 out of the last 11 calls to <function transform at 0x7f562631db70> triggered tf.function retracing. Tracing is expensive and the excessive number of tracings is likely due to passing python objects instead of tensors. Also, tf.function has experimental_relax_shapes=True option that relaxes argument shapes that can avoid unnecessary retracing. Please refer to https://www.tensorflow.org/beta/tutorials/eager/tf_function#python_or_tensor_args and https://www.tensorflow.org/api_docs/python/tf/function for more details.\n"
     ]
    },
    {
     "name": "stdout",
     "output_type": "stream",
     "text": [
      "  295/10000 [..............................] - ETA: 1:27:35 - loss: 3.3042 - regression_loss: 2.2604 - classification_loss: 1.0438"
     ]
    },
    {
     "name": "stderr",
     "output_type": "stream",
     "text": [
      "W1206 14:19:26.579912 140009638913792 def_function.py:474] 10 out of the last 11 calls to <function to_4D_image at 0x7f562630d488> triggered tf.function retracing. Tracing is expensive and the excessive number of tracings is likely due to passing python objects instead of tensors. Also, tf.function has experimental_relax_shapes=True option that relaxes argument shapes that can avoid unnecessary retracing. Please refer to https://www.tensorflow.org/beta/tutorials/eager/tf_function#python_or_tensor_args and https://www.tensorflow.org/api_docs/python/tf/function for more details.\n",
      "W1206 14:19:26.594590 140009638913792 def_function.py:474] 10 out of the last 11 calls to <function from_4D_image at 0x7f562630d620> triggered tf.function retracing. Tracing is expensive and the excessive number of tracings is likely due to passing python objects instead of tensors. Also, tf.function has experimental_relax_shapes=True option that relaxes argument shapes that can avoid unnecessary retracing. Please refer to https://www.tensorflow.org/beta/tutorials/eager/tf_function#python_or_tensor_args and https://www.tensorflow.org/api_docs/python/tf/function for more details.\n",
      "W1206 14:19:26.606709 140009638913792 def_function.py:474] 9 out of the last 11 calls to <function transform at 0x7f562631db70> triggered tf.function retracing. Tracing is expensive and the excessive number of tracings is likely due to passing python objects instead of tensors. Also, tf.function has experimental_relax_shapes=True option that relaxes argument shapes that can avoid unnecessary retracing. Please refer to https://www.tensorflow.org/beta/tutorials/eager/tf_function#python_or_tensor_args and https://www.tensorflow.org/api_docs/python/tf/function for more details.\n"
     ]
    },
    {
     "name": "stdout",
     "output_type": "stream",
     "text": [
      "  299/10000 [..............................] - ETA: 1:27:29 - loss: 3.3024 - regression_loss: 2.2593 - classification_loss: 1.0431------------------------------------------------\n",
      "tf.Tensor(0.4453125, shape=(), dtype=float32)\n",
      "tf.Tensor(0.496875, shape=(), dtype=float32)\n",
      "tf.Tensor(293, shape=(), dtype=int32)\n",
      "[<tf.Tensor: id=502654, shape=(), dtype=int32, numpy=24>, <tf.Tensor: id=502656, shape=(), dtype=int32, numpy=58>]\n",
      "------------------------------------------------\n",
      "  301/10000 [..............................] - ETA: 1:27:25 - loss: 3.3058 - regression_loss: 2.2630 - classification_loss: 1.0428"
     ]
    },
    {
     "name": "stderr",
     "output_type": "stream",
     "text": [
      "W1206 14:19:29.588358 140009638913792 def_function.py:474] 10 out of the last 11 calls to <function to_4D_image at 0x7f562630d488> triggered tf.function retracing. Tracing is expensive and the excessive number of tracings is likely due to passing python objects instead of tensors. Also, tf.function has experimental_relax_shapes=True option that relaxes argument shapes that can avoid unnecessary retracing. Please refer to https://www.tensorflow.org/beta/tutorials/eager/tf_function#python_or_tensor_args and https://www.tensorflow.org/api_docs/python/tf/function for more details.\n",
      "W1206 14:19:29.604960 140009638913792 def_function.py:474] 10 out of the last 11 calls to <function from_4D_image at 0x7f562630d620> triggered tf.function retracing. Tracing is expensive and the excessive number of tracings is likely due to passing python objects instead of tensors. Also, tf.function has experimental_relax_shapes=True option that relaxes argument shapes that can avoid unnecessary retracing. Please refer to https://www.tensorflow.org/beta/tutorials/eager/tf_function#python_or_tensor_args and https://www.tensorflow.org/api_docs/python/tf/function for more details.\n",
      "W1206 14:19:29.616620 140009638913792 def_function.py:474] 8 out of the last 12 calls to <function transform at 0x7f562631db70> triggered tf.function retracing. Tracing is expensive and the excessive number of tracings is likely due to passing python objects instead of tensors. Also, tf.function has experimental_relax_shapes=True option that relaxes argument shapes that can avoid unnecessary retracing. Please refer to https://www.tensorflow.org/beta/tutorials/eager/tf_function#python_or_tensor_args and https://www.tensorflow.org/api_docs/python/tf/function for more details.\n",
      "W1206 14:19:29.653068 140009638913792 def_function.py:474] 10 out of the last 11 calls to <function to_4D_image at 0x7f562630d488> triggered tf.function retracing. Tracing is expensive and the excessive number of tracings is likely due to passing python objects instead of tensors. Also, tf.function has experimental_relax_shapes=True option that relaxes argument shapes that can avoid unnecessary retracing. Please refer to https://www.tensorflow.org/beta/tutorials/eager/tf_function#python_or_tensor_args and https://www.tensorflow.org/api_docs/python/tf/function for more details.\n",
      "W1206 14:19:29.669300 140009638913792 def_function.py:474] 10 out of the last 11 calls to <function from_4D_image at 0x7f562630d620> triggered tf.function retracing. Tracing is expensive and the excessive number of tracings is likely due to passing python objects instead of tensors. Also, tf.function has experimental_relax_shapes=True option that relaxes argument shapes that can avoid unnecessary retracing. Please refer to https://www.tensorflow.org/beta/tutorials/eager/tf_function#python_or_tensor_args and https://www.tensorflow.org/api_docs/python/tf/function for more details.\n",
      "W1206 14:19:29.682132 140009638913792 def_function.py:474] 8 out of the last 11 calls to <function transform at 0x7f562631db70> triggered tf.function retracing. Tracing is expensive and the excessive number of tracings is likely due to passing python objects instead of tensors. Also, tf.function has experimental_relax_shapes=True option that relaxes argument shapes that can avoid unnecessary retracing. Please refer to https://www.tensorflow.org/beta/tutorials/eager/tf_function#python_or_tensor_args and https://www.tensorflow.org/api_docs/python/tf/function for more details.\n"
     ]
    },
    {
     "name": "stdout",
     "output_type": "stream",
     "text": [
      "  304/10000 [..............................] - ETA: 1:27:27 - loss: 3.3086 - regression_loss: 2.2670 - classification_loss: 1.0416"
     ]
    },
    {
     "name": "stderr",
     "output_type": "stream",
     "text": [
      "W1206 14:19:31.299522 140009638913792 def_function.py:474] 10 out of the last 11 calls to <function to_4D_image at 0x7f562630d488> triggered tf.function retracing. Tracing is expensive and the excessive number of tracings is likely due to passing python objects instead of tensors. Also, tf.function has experimental_relax_shapes=True option that relaxes argument shapes that can avoid unnecessary retracing. Please refer to https://www.tensorflow.org/beta/tutorials/eager/tf_function#python_or_tensor_args and https://www.tensorflow.org/api_docs/python/tf/function for more details.\n",
      "W1206 14:19:31.314977 140009638913792 def_function.py:474] 10 out of the last 11 calls to <function from_4D_image at 0x7f562630d620> triggered tf.function retracing. Tracing is expensive and the excessive number of tracings is likely due to passing python objects instead of tensors. Also, tf.function has experimental_relax_shapes=True option that relaxes argument shapes that can avoid unnecessary retracing. Please refer to https://www.tensorflow.org/beta/tutorials/eager/tf_function#python_or_tensor_args and https://www.tensorflow.org/api_docs/python/tf/function for more details.\n",
      "W1206 14:19:31.326830 140009638913792 def_function.py:474] 7 out of the last 11 calls to <function transform at 0x7f562631db70> triggered tf.function retracing. Tracing is expensive and the excessive number of tracings is likely due to passing python objects instead of tensors. Also, tf.function has experimental_relax_shapes=True option that relaxes argument shapes that can avoid unnecessary retracing. Please refer to https://www.tensorflow.org/beta/tutorials/eager/tf_function#python_or_tensor_args and https://www.tensorflow.org/api_docs/python/tf/function for more details.\n",
      "W1206 14:19:31.443272 140009638913792 def_function.py:474] 11 out of the last 12 calls to <function to_4D_image at 0x7f562630d488> triggered tf.function retracing. Tracing is expensive and the excessive number of tracings is likely due to passing python objects instead of tensors. Also, tf.function has experimental_relax_shapes=True option that relaxes argument shapes that can avoid unnecessary retracing. Please refer to https://www.tensorflow.org/beta/tutorials/eager/tf_function#python_or_tensor_args and https://www.tensorflow.org/api_docs/python/tf/function for more details.\n",
      "W1206 14:19:31.455139 140009638913792 def_function.py:474] 11 out of the last 12 calls to <function from_4D_image at 0x7f562630d620> triggered tf.function retracing. Tracing is expensive and the excessive number of tracings is likely due to passing python objects instead of tensors. Also, tf.function has experimental_relax_shapes=True option that relaxes argument shapes that can avoid unnecessary retracing. Please refer to https://www.tensorflow.org/beta/tutorials/eager/tf_function#python_or_tensor_args and https://www.tensorflow.org/api_docs/python/tf/function for more details.\n",
      "W1206 14:19:31.459306 140009638913792 def_function.py:474] 7 out of the last 11 calls to <function transform at 0x7f562631db70> triggered tf.function retracing. Tracing is expensive and the excessive number of tracings is likely due to passing python objects instead of tensors. Also, tf.function has experimental_relax_shapes=True option that relaxes argument shapes that can avoid unnecessary retracing. Please refer to https://www.tensorflow.org/beta/tutorials/eager/tf_function#python_or_tensor_args and https://www.tensorflow.org/api_docs/python/tf/function for more details.\n",
      "W1206 14:19:31.474797 140009638913792 def_function.py:474] 6 out of the last 11 calls to <function translate at 0x7f5625b68d90> triggered tf.function retracing. Tracing is expensive and the excessive number of tracings is likely due to passing python objects instead of tensors. Also, tf.function has experimental_relax_shapes=True option that relaxes argument shapes that can avoid unnecessary retracing. Please refer to https://www.tensorflow.org/beta/tutorials/eager/tf_function#python_or_tensor_args and https://www.tensorflow.org/api_docs/python/tf/function for more details.\n"
     ]
    },
    {
     "name": "stdout",
     "output_type": "stream",
     "text": [
      "  306/10000 [..............................] - ETA: 1:27:27 - loss: 3.3026 - regression_loss: 2.2619 - classification_loss: 1.0407"
     ]
    },
    {
     "name": "stderr",
     "output_type": "stream",
     "text": [
      "W1206 14:19:32.492276 140009638913792 def_function.py:474] 11 out of the last 11 calls to <function to_4D_image at 0x7f562630d488> triggered tf.function retracing. Tracing is expensive and the excessive number of tracings is likely due to passing python objects instead of tensors. Also, tf.function has experimental_relax_shapes=True option that relaxes argument shapes that can avoid unnecessary retracing. Please refer to https://www.tensorflow.org/beta/tutorials/eager/tf_function#python_or_tensor_args and https://www.tensorflow.org/api_docs/python/tf/function for more details.\n",
      "W1206 14:19:32.504923 140009638913792 def_function.py:474] 11 out of the last 11 calls to <function from_4D_image at 0x7f562630d620> triggered tf.function retracing. Tracing is expensive and the excessive number of tracings is likely due to passing python objects instead of tensors. Also, tf.function has experimental_relax_shapes=True option that relaxes argument shapes that can avoid unnecessary retracing. Please refer to https://www.tensorflow.org/beta/tutorials/eager/tf_function#python_or_tensor_args and https://www.tensorflow.org/api_docs/python/tf/function for more details.\n",
      "W1206 14:19:32.508995 140009638913792 def_function.py:474] 6 out of the last 11 calls to <function transform at 0x7f562631db70> triggered tf.function retracing. Tracing is expensive and the excessive number of tracings is likely due to passing python objects instead of tensors. Also, tf.function has experimental_relax_shapes=True option that relaxes argument shapes that can avoid unnecessary retracing. Please refer to https://www.tensorflow.org/beta/tutorials/eager/tf_function#python_or_tensor_args and https://www.tensorflow.org/api_docs/python/tf/function for more details.\n",
      "W1206 14:19:32.526133 140009638913792 def_function.py:474] 7 out of the last 12 calls to <function translate at 0x7f5625b68d90> triggered tf.function retracing. Tracing is expensive and the excessive number of tracings is likely due to passing python objects instead of tensors. Also, tf.function has experimental_relax_shapes=True option that relaxes argument shapes that can avoid unnecessary retracing. Please refer to https://www.tensorflow.org/beta/tutorials/eager/tf_function#python_or_tensor_args and https://www.tensorflow.org/api_docs/python/tf/function for more details.\n"
     ]
    },
    {
     "name": "stdout",
     "output_type": "stream",
     "text": [
      "  309/10000 [..............................] - ETA: 1:27:22 - loss: 3.3049 - regression_loss: 2.2650 - classification_loss: 1.0400------------------------------------------------\n",
      "tf.Tensor(0.8078125, shape=(), dtype=float32)\n",
      "tf.Tensor(0.99375, shape=(), dtype=float32)\n",
      "tf.Tensor(5, shape=(), dtype=int32)\n",
      "[<tf.Tensor: id=521344, shape=(), dtype=int32, numpy=158>, <tf.Tensor: id=521346, shape=(), dtype=int32, numpy=206>]\n",
      "------------------------------------------------\n",
      "  310/10000 [..............................] - ETA: 1:27:19 - loss: 3.3065 - regression_loss: 2.2672 - classification_loss: 1.0394"
     ]
    },
    {
     "name": "stderr",
     "output_type": "stream",
     "text": [
      "W1206 14:19:34.482653 140009638913792 def_function.py:474] 11 out of the last 11 calls to <function to_4D_image at 0x7f562630d488> triggered tf.function retracing. Tracing is expensive and the excessive number of tracings is likely due to passing python objects instead of tensors. Also, tf.function has experimental_relax_shapes=True option that relaxes argument shapes that can avoid unnecessary retracing. Please refer to https://www.tensorflow.org/beta/tutorials/eager/tf_function#python_or_tensor_args and https://www.tensorflow.org/api_docs/python/tf/function for more details.\n",
      "W1206 14:19:34.498280 140009638913792 def_function.py:474] 11 out of the last 11 calls to <function from_4D_image at 0x7f562630d620> triggered tf.function retracing. Tracing is expensive and the excessive number of tracings is likely due to passing python objects instead of tensors. Also, tf.function has experimental_relax_shapes=True option that relaxes argument shapes that can avoid unnecessary retracing. Please refer to https://www.tensorflow.org/beta/tutorials/eager/tf_function#python_or_tensor_args and https://www.tensorflow.org/api_docs/python/tf/function for more details.\n",
      "W1206 14:19:34.509304 140009638913792 def_function.py:474] 7 out of the last 14 calls to <function transform at 0x7f562631db70> triggered tf.function retracing. Tracing is expensive and the excessive number of tracings is likely due to passing python objects instead of tensors. Also, tf.function has experimental_relax_shapes=True option that relaxes argument shapes that can avoid unnecessary retracing. Please refer to https://www.tensorflow.org/beta/tutorials/eager/tf_function#python_or_tensor_args and https://www.tensorflow.org/api_docs/python/tf/function for more details.\n"
     ]
    },
    {
     "name": "stdout",
     "output_type": "stream",
     "text": [
      "  316/10000 [..............................] - ETA: 1:27:08 - loss: 3.3053 - regression_loss: 2.2685 - classification_loss: 1.0368"
     ]
    },
    {
     "name": "stderr",
     "output_type": "stream",
     "text": [
      "W1206 14:19:37.451315 140009638913792 def_function.py:474] 11 out of the last 11 calls to <function to_4D_image at 0x7f562630d488> triggered tf.function retracing. Tracing is expensive and the excessive number of tracings is likely due to passing python objects instead of tensors. Also, tf.function has experimental_relax_shapes=True option that relaxes argument shapes that can avoid unnecessary retracing. Please refer to https://www.tensorflow.org/beta/tutorials/eager/tf_function#python_or_tensor_args and https://www.tensorflow.org/api_docs/python/tf/function for more details.\n",
      "W1206 14:19:37.473499 140009638913792 def_function.py:474] 11 out of the last 11 calls to <function to_4D_image at 0x7f562630d488> triggered tf.function retracing. Tracing is expensive and the excessive number of tracings is likely due to passing python objects instead of tensors. Also, tf.function has experimental_relax_shapes=True option that relaxes argument shapes that can avoid unnecessary retracing. Please refer to https://www.tensorflow.org/beta/tutorials/eager/tf_function#python_or_tensor_args and https://www.tensorflow.org/api_docs/python/tf/function for more details.\n",
      "W1206 14:19:37.483339 140009638913792 def_function.py:474] 11 out of the last 11 calls to <function from_4D_image at 0x7f562630d620> triggered tf.function retracing. Tracing is expensive and the excessive number of tracings is likely due to passing python objects instead of tensors. Also, tf.function has experimental_relax_shapes=True option that relaxes argument shapes that can avoid unnecessary retracing. Please refer to https://www.tensorflow.org/beta/tutorials/eager/tf_function#python_or_tensor_args and https://www.tensorflow.org/api_docs/python/tf/function for more details.\n",
      "W1206 14:19:37.486763 140009638913792 def_function.py:474] 6 out of the last 11 calls to <function transform at 0x7f562631db70> triggered tf.function retracing. Tracing is expensive and the excessive number of tracings is likely due to passing python objects instead of tensors. Also, tf.function has experimental_relax_shapes=True option that relaxes argument shapes that can avoid unnecessary retracing. Please refer to https://www.tensorflow.org/beta/tutorials/eager/tf_function#python_or_tensor_args and https://www.tensorflow.org/api_docs/python/tf/function for more details.\n",
      "W1206 14:19:37.492921 140009638913792 def_function.py:474] 11 out of the last 11 calls to <function from_4D_image at 0x7f562630d620> triggered tf.function retracing. Tracing is expensive and the excessive number of tracings is likely due to passing python objects instead of tensors. Also, tf.function has experimental_relax_shapes=True option that relaxes argument shapes that can avoid unnecessary retracing. Please refer to https://www.tensorflow.org/beta/tutorials/eager/tf_function#python_or_tensor_args and https://www.tensorflow.org/api_docs/python/tf/function for more details.\n"
     ]
    },
    {
     "name": "stdout",
     "output_type": "stream",
     "text": [
      "  319/10000 [..............................] - ETA: 1:27:03 - loss: 3.3026 - regression_loss: 2.2670 - classification_loss: 1.0357"
     ]
    },
    {
     "name": "stderr",
     "output_type": "stream",
     "text": [
      "W1206 14:19:39.000483 140009638913792 def_function.py:474] 11 out of the last 11 calls to <function to_4D_image at 0x7f562630d488> triggered tf.function retracing. Tracing is expensive and the excessive number of tracings is likely due to passing python objects instead of tensors. Also, tf.function has experimental_relax_shapes=True option that relaxes argument shapes that can avoid unnecessary retracing. Please refer to https://www.tensorflow.org/beta/tutorials/eager/tf_function#python_or_tensor_args and https://www.tensorflow.org/api_docs/python/tf/function for more details.\n",
      "W1206 14:19:39.028350 140009638913792 def_function.py:474] 11 out of the last 11 calls to <function to_4D_image at 0x7f562630d488> triggered tf.function retracing. Tracing is expensive and the excessive number of tracings is likely due to passing python objects instead of tensors. Also, tf.function has experimental_relax_shapes=True option that relaxes argument shapes that can avoid unnecessary retracing. Please refer to https://www.tensorflow.org/beta/tutorials/eager/tf_function#python_or_tensor_args and https://www.tensorflow.org/api_docs/python/tf/function for more details.\n",
      "W1206 14:19:39.040818 140009638913792 def_function.py:474] 11 out of the last 11 calls to <function from_4D_image at 0x7f562630d620> triggered tf.function retracing. Tracing is expensive and the excessive number of tracings is likely due to passing python objects instead of tensors. Also, tf.function has experimental_relax_shapes=True option that relaxes argument shapes that can avoid unnecessary retracing. Please refer to https://www.tensorflow.org/beta/tutorials/eager/tf_function#python_or_tensor_args and https://www.tensorflow.org/api_docs/python/tf/function for more details.\n",
      "W1206 14:19:39.045135 140009638913792 def_function.py:474] 5 out of the last 11 calls to <function transform at 0x7f562631db70> triggered tf.function retracing. Tracing is expensive and the excessive number of tracings is likely due to passing python objects instead of tensors. Also, tf.function has experimental_relax_shapes=True option that relaxes argument shapes that can avoid unnecessary retracing. Please refer to https://www.tensorflow.org/beta/tutorials/eager/tf_function#python_or_tensor_args and https://www.tensorflow.org/api_docs/python/tf/function for more details.\n",
      "W1206 14:19:39.053017 140009638913792 def_function.py:474] 11 out of the last 11 calls to <function from_4D_image at 0x7f562630d620> triggered tf.function retracing. Tracing is expensive and the excessive number of tracings is likely due to passing python objects instead of tensors. Also, tf.function has experimental_relax_shapes=True option that relaxes argument shapes that can avoid unnecessary retracing. Please refer to https://www.tensorflow.org/beta/tutorials/eager/tf_function#python_or_tensor_args and https://www.tensorflow.org/api_docs/python/tf/function for more details.\n"
     ]
    },
    {
     "name": "stdout",
     "output_type": "stream",
     "text": [
      "  320/10000 [..............................] - ETA: 1:27:04 - loss: 3.2996 - regression_loss: 2.2643 - classification_loss: 1.0354------------------------------------------------\n",
      "tf.Tensor(0.3125, shape=(), dtype=float32)\n",
      "tf.Tensor(0.384375, shape=(), dtype=float32)\n",
      "tf.Tensor(394, shape=(), dtype=int32)\n",
      "[<tf.Tensor: id=539370, shape=(), dtype=int32, numpy=28>, <tf.Tensor: id=539372, shape=(), dtype=int32, numpy=80>]\n",
      "------------------------------------------------\n",
      "  321/10000 [..............................] - ETA: 1:27:02 - loss: 3.3021 - regression_loss: 2.2670 - classification_loss: 1.0351"
     ]
    },
    {
     "name": "stderr",
     "output_type": "stream",
     "text": [
      "W1206 14:19:40.005463 140009638913792 def_function.py:474] 11 out of the last 11 calls to <function to_4D_image at 0x7f562630d488> triggered tf.function retracing. Tracing is expensive and the excessive number of tracings is likely due to passing python objects instead of tensors. Also, tf.function has experimental_relax_shapes=True option that relaxes argument shapes that can avoid unnecessary retracing. Please refer to https://www.tensorflow.org/beta/tutorials/eager/tf_function#python_or_tensor_args and https://www.tensorflow.org/api_docs/python/tf/function for more details.\n",
      "W1206 14:19:40.020588 140009638913792 def_function.py:474] 11 out of the last 11 calls to <function from_4D_image at 0x7f562630d620> triggered tf.function retracing. Tracing is expensive and the excessive number of tracings is likely due to passing python objects instead of tensors. Also, tf.function has experimental_relax_shapes=True option that relaxes argument shapes that can avoid unnecessary retracing. Please refer to https://www.tensorflow.org/beta/tutorials/eager/tf_function#python_or_tensor_args and https://www.tensorflow.org/api_docs/python/tf/function for more details.\n",
      "W1206 14:19:40.032474 140009638913792 def_function.py:474] 5 out of the last 12 calls to <function transform at 0x7f562631db70> triggered tf.function retracing. Tracing is expensive and the excessive number of tracings is likely due to passing python objects instead of tensors. Also, tf.function has experimental_relax_shapes=True option that relaxes argument shapes that can avoid unnecessary retracing. Please refer to https://www.tensorflow.org/beta/tutorials/eager/tf_function#python_or_tensor_args and https://www.tensorflow.org/api_docs/python/tf/function for more details.\n",
      "W1206 14:19:40.060948 140009638913792 def_function.py:474] 11 out of the last 11 calls to <function to_4D_image at 0x7f562630d488> triggered tf.function retracing. Tracing is expensive and the excessive number of tracings is likely due to passing python objects instead of tensors. Also, tf.function has experimental_relax_shapes=True option that relaxes argument shapes that can avoid unnecessary retracing. Please refer to https://www.tensorflow.org/beta/tutorials/eager/tf_function#python_or_tensor_args and https://www.tensorflow.org/api_docs/python/tf/function for more details.\n",
      "W1206 14:19:40.075678 140009638913792 def_function.py:474] 11 out of the last 11 calls to <function from_4D_image at 0x7f562630d620> triggered tf.function retracing. Tracing is expensive and the excessive number of tracings is likely due to passing python objects instead of tensors. Also, tf.function has experimental_relax_shapes=True option that relaxes argument shapes that can avoid unnecessary retracing. Please refer to https://www.tensorflow.org/beta/tutorials/eager/tf_function#python_or_tensor_args and https://www.tensorflow.org/api_docs/python/tf/function for more details.\n",
      "W1206 14:19:40.088347 140009638913792 def_function.py:474] 6 out of the last 13 calls to <function transform at 0x7f562631db70> triggered tf.function retracing. Tracing is expensive and the excessive number of tracings is likely due to passing python objects instead of tensors. Also, tf.function has experimental_relax_shapes=True option that relaxes argument shapes that can avoid unnecessary retracing. Please refer to https://www.tensorflow.org/beta/tutorials/eager/tf_function#python_or_tensor_args and https://www.tensorflow.org/api_docs/python/tf/function for more details.\n"
     ]
    },
    {
     "name": "stdout",
     "output_type": "stream",
     "text": [
      "  325/10000 [..............................] - ETA: 1:26:56 - loss: 3.3022 - regression_loss: 2.2686 - classification_loss: 1.0337"
     ]
    },
    {
     "name": "stderr",
     "output_type": "stream",
     "text": [
      "W1206 14:19:42.040099 140009638913792 def_function.py:474] 11 out of the last 11 calls to <function to_4D_image at 0x7f562630d488> triggered tf.function retracing. Tracing is expensive and the excessive number of tracings is likely due to passing python objects instead of tensors. Also, tf.function has experimental_relax_shapes=True option that relaxes argument shapes that can avoid unnecessary retracing. Please refer to https://www.tensorflow.org/beta/tutorials/eager/tf_function#python_or_tensor_args and https://www.tensorflow.org/api_docs/python/tf/function for more details.\n",
      "W1206 14:19:42.065390 140009638913792 def_function.py:474] 11 out of the last 11 calls to <function to_4D_image at 0x7f562630d488> triggered tf.function retracing. Tracing is expensive and the excessive number of tracings is likely due to passing python objects instead of tensors. Also, tf.function has experimental_relax_shapes=True option that relaxes argument shapes that can avoid unnecessary retracing. Please refer to https://www.tensorflow.org/beta/tutorials/eager/tf_function#python_or_tensor_args and https://www.tensorflow.org/api_docs/python/tf/function for more details.\n",
      "W1206 14:19:42.077500 140009638913792 def_function.py:474] 11 out of the last 11 calls to <function from_4D_image at 0x7f562630d620> triggered tf.function retracing. Tracing is expensive and the excessive number of tracings is likely due to passing python objects instead of tensors. Also, tf.function has experimental_relax_shapes=True option that relaxes argument shapes that can avoid unnecessary retracing. Please refer to https://www.tensorflow.org/beta/tutorials/eager/tf_function#python_or_tensor_args and https://www.tensorflow.org/api_docs/python/tf/function for more details.\n",
      "W1206 14:19:42.081858 140009638913792 def_function.py:474] 5 out of the last 11 calls to <function transform at 0x7f562631db70> triggered tf.function retracing. Tracing is expensive and the excessive number of tracings is likely due to passing python objects instead of tensors. Also, tf.function has experimental_relax_shapes=True option that relaxes argument shapes that can avoid unnecessary retracing. Please refer to https://www.tensorflow.org/beta/tutorials/eager/tf_function#python_or_tensor_args and https://www.tensorflow.org/api_docs/python/tf/function for more details.\n",
      "W1206 14:19:42.090380 140009638913792 def_function.py:474] 11 out of the last 11 calls to <function from_4D_image at 0x7f562630d620> triggered tf.function retracing. Tracing is expensive and the excessive number of tracings is likely due to passing python objects instead of tensors. Also, tf.function has experimental_relax_shapes=True option that relaxes argument shapes that can avoid unnecessary retracing. Please refer to https://www.tensorflow.org/beta/tutorials/eager/tf_function#python_or_tensor_args and https://www.tensorflow.org/api_docs/python/tf/function for more details.\n"
     ]
    },
    {
     "name": "stdout",
     "output_type": "stream",
     "text": [
      "  331/10000 [..............................] - ETA: 1:26:41 - loss: 3.2962 - regression_loss: 2.2631 - classification_loss: 1.0330"
     ]
    },
    {
     "name": "stderr",
     "output_type": "stream",
     "text": [
      "W1206 14:19:44.859200 140009638913792 def_function.py:474] 11 out of the last 11 calls to <function to_4D_image at 0x7f562630d488> triggered tf.function retracing. Tracing is expensive and the excessive number of tracings is likely due to passing python objects instead of tensors. Also, tf.function has experimental_relax_shapes=True option that relaxes argument shapes that can avoid unnecessary retracing. Please refer to https://www.tensorflow.org/beta/tutorials/eager/tf_function#python_or_tensor_args and https://www.tensorflow.org/api_docs/python/tf/function for more details.\n",
      "W1206 14:19:44.875405 140009638913792 def_function.py:474] 11 out of the last 11 calls to <function from_4D_image at 0x7f562630d620> triggered tf.function retracing. Tracing is expensive and the excessive number of tracings is likely due to passing python objects instead of tensors. Also, tf.function has experimental_relax_shapes=True option that relaxes argument shapes that can avoid unnecessary retracing. Please refer to https://www.tensorflow.org/beta/tutorials/eager/tf_function#python_or_tensor_args and https://www.tensorflow.org/api_docs/python/tf/function for more details.\n",
      "W1206 14:19:44.887071 140009638913792 def_function.py:474] 6 out of the last 13 calls to <function transform at 0x7f562631db70> triggered tf.function retracing. Tracing is expensive and the excessive number of tracings is likely due to passing python objects instead of tensors. Also, tf.function has experimental_relax_shapes=True option that relaxes argument shapes that can avoid unnecessary retracing. Please refer to https://www.tensorflow.org/beta/tutorials/eager/tf_function#python_or_tensor_args and https://www.tensorflow.org/api_docs/python/tf/function for more details.\n"
     ]
    },
    {
     "name": "stdout",
     "output_type": "stream",
     "text": [
      "\b\b\b\b\b\b\b\b\b\b\b\b\b\b\b\b\b\b\b\b\b\b\b\b\b\b\b\b\b\b\b\b\b\b\b\b\b\b\b\b\b\b\b\b\b\b\b\b\b\b\b\b\b\b\b\b\b\b\b\b\b\b\b\b\b\b\b\b\b\b\b\b\b\b\b\b\b\b\b\b\b\b\b\b\b\b\b\b\b\b\b\b\b\b\b\b\b\b\b\b\b\b\b\b\b\b\b\b\b\b\b\b\b\b\b\b\b\b\b\b\b\b\b\b\b\b\b\b\b\b\r",
      "  332/10000 [..............................] - ETA: 1:26:42 - loss: 3.2965 - regression_loss: 2.2641 - classification_loss: 1.0324"
     ]
    },
    {
     "name": "stderr",
     "output_type": "stream",
     "text": [
      "W1206 14:19:45.549366 140009638913792 def_function.py:474] 11 out of the last 11 calls to <function to_4D_image at 0x7f562630d488> triggered tf.function retracing. Tracing is expensive and the excessive number of tracings is likely due to passing python objects instead of tensors. Also, tf.function has experimental_relax_shapes=True option that relaxes argument shapes that can avoid unnecessary retracing. Please refer to https://www.tensorflow.org/beta/tutorials/eager/tf_function#python_or_tensor_args and https://www.tensorflow.org/api_docs/python/tf/function for more details.\n",
      "W1206 14:19:45.565062 140009638913792 def_function.py:474] 11 out of the last 11 calls to <function from_4D_image at 0x7f562630d620> triggered tf.function retracing. Tracing is expensive and the excessive number of tracings is likely due to passing python objects instead of tensors. Also, tf.function has experimental_relax_shapes=True option that relaxes argument shapes that can avoid unnecessary retracing. Please refer to https://www.tensorflow.org/beta/tutorials/eager/tf_function#python_or_tensor_args and https://www.tensorflow.org/api_docs/python/tf/function for more details.\n",
      "W1206 14:19:45.577318 140009638913792 def_function.py:474] 6 out of the last 11 calls to <function transform at 0x7f562631db70> triggered tf.function retracing. Tracing is expensive and the excessive number of tracings is likely due to passing python objects instead of tensors. Also, tf.function has experimental_relax_shapes=True option that relaxes argument shapes that can avoid unnecessary retracing. Please refer to https://www.tensorflow.org/beta/tutorials/eager/tf_function#python_or_tensor_args and https://www.tensorflow.org/api_docs/python/tf/function for more details.\n"
     ]
    },
    {
     "name": "stdout",
     "output_type": "stream",
     "text": [
      "  335/10000 [>.............................] - ETA: 1:26:42 - loss: 3.2952 - regression_loss: 2.2630 - classification_loss: 1.0323"
     ]
    },
    {
     "name": "stderr",
     "output_type": "stream",
     "text": [
      "W1206 14:19:47.101076 140009638913792 def_function.py:474] 11 out of the last 11 calls to <function to_4D_image at 0x7f562630d488> triggered tf.function retracing. Tracing is expensive and the excessive number of tracings is likely due to passing python objects instead of tensors. Also, tf.function has experimental_relax_shapes=True option that relaxes argument shapes that can avoid unnecessary retracing. Please refer to https://www.tensorflow.org/beta/tutorials/eager/tf_function#python_or_tensor_args and https://www.tensorflow.org/api_docs/python/tf/function for more details.\n",
      "W1206 14:19:47.130019 140009638913792 def_function.py:474] 11 out of the last 11 calls to <function to_4D_image at 0x7f562630d488> triggered tf.function retracing. Tracing is expensive and the excessive number of tracings is likely due to passing python objects instead of tensors. Also, tf.function has experimental_relax_shapes=True option that relaxes argument shapes that can avoid unnecessary retracing. Please refer to https://www.tensorflow.org/beta/tutorials/eager/tf_function#python_or_tensor_args and https://www.tensorflow.org/api_docs/python/tf/function for more details.\n",
      "W1206 14:19:47.142526 140009638913792 def_function.py:474] 11 out of the last 11 calls to <function from_4D_image at 0x7f562630d620> triggered tf.function retracing. Tracing is expensive and the excessive number of tracings is likely due to passing python objects instead of tensors. Also, tf.function has experimental_relax_shapes=True option that relaxes argument shapes that can avoid unnecessary retracing. Please refer to https://www.tensorflow.org/beta/tutorials/eager/tf_function#python_or_tensor_args and https://www.tensorflow.org/api_docs/python/tf/function for more details.\n",
      "W1206 14:19:47.147077 140009638913792 def_function.py:474] 6 out of the last 11 calls to <function transform at 0x7f562631db70> triggered tf.function retracing. Tracing is expensive and the excessive number of tracings is likely due to passing python objects instead of tensors. Also, tf.function has experimental_relax_shapes=True option that relaxes argument shapes that can avoid unnecessary retracing. Please refer to https://www.tensorflow.org/beta/tutorials/eager/tf_function#python_or_tensor_args and https://www.tensorflow.org/api_docs/python/tf/function for more details.\n",
      "W1206 14:19:47.155009 140009638913792 def_function.py:474] 11 out of the last 11 calls to <function from_4D_image at 0x7f562630d620> triggered tf.function retracing. Tracing is expensive and the excessive number of tracings is likely due to passing python objects instead of tensors. Also, tf.function has experimental_relax_shapes=True option that relaxes argument shapes that can avoid unnecessary retracing. Please refer to https://www.tensorflow.org/beta/tutorials/eager/tf_function#python_or_tensor_args and https://www.tensorflow.org/api_docs/python/tf/function for more details.\n",
      "W1206 14:19:47.176915 140009638913792 def_function.py:474] 5 out of the last 14 calls to <function rotate at 0x7f5625b68378> triggered tf.function retracing. Tracing is expensive and the excessive number of tracings is likely due to passing python objects instead of tensors. Also, tf.function has experimental_relax_shapes=True option that relaxes argument shapes that can avoid unnecessary retracing. Please refer to https://www.tensorflow.org/beta/tutorials/eager/tf_function#python_or_tensor_args and https://www.tensorflow.org/api_docs/python/tf/function for more details.\n",
      "W1206 14:19:47.204935 140009638913792 def_function.py:474] 11 out of the last 11 calls to <function to_4D_image at 0x7f562630d488> triggered tf.function retracing. Tracing is expensive and the excessive number of tracings is likely due to passing python objects instead of tensors. Also, tf.function has experimental_relax_shapes=True option that relaxes argument shapes that can avoid unnecessary retracing. Please refer to https://www.tensorflow.org/beta/tutorials/eager/tf_function#python_or_tensor_args and https://www.tensorflow.org/api_docs/python/tf/function for more details.\n",
      "W1206 14:19:47.232891 140009638913792 def_function.py:474] 11 out of the last 11 calls to <function to_4D_image at 0x7f562630d488> triggered tf.function retracing. Tracing is expensive and the excessive number of tracings is likely due to passing python objects instead of tensors. Also, tf.function has experimental_relax_shapes=True option that relaxes argument shapes that can avoid unnecessary retracing. Please refer to https://www.tensorflow.org/beta/tutorials/eager/tf_function#python_or_tensor_args and https://www.tensorflow.org/api_docs/python/tf/function for more details.\n",
      "W1206 14:19:47.245214 140009638913792 def_function.py:474] 11 out of the last 11 calls to <function from_4D_image at 0x7f562630d620> triggered tf.function retracing. Tracing is expensive and the excessive number of tracings is likely due to passing python objects instead of tensors. Also, tf.function has experimental_relax_shapes=True option that relaxes argument shapes that can avoid unnecessary retracing. Please refer to https://www.tensorflow.org/beta/tutorials/eager/tf_function#python_or_tensor_args and https://www.tensorflow.org/api_docs/python/tf/function for more details.\n",
      "W1206 14:19:47.249624 140009638913792 def_function.py:474] 6 out of the last 11 calls to <function transform at 0x7f562631db70> triggered tf.function retracing. Tracing is expensive and the excessive number of tracings is likely due to passing python objects instead of tensors. Also, tf.function has experimental_relax_shapes=True option that relaxes argument shapes that can avoid unnecessary retracing. Please refer to https://www.tensorflow.org/beta/tutorials/eager/tf_function#python_or_tensor_args and https://www.tensorflow.org/api_docs/python/tf/function for more details.\n",
      "W1206 14:19:47.257610 140009638913792 def_function.py:474] 11 out of the last 11 calls to <function from_4D_image at 0x7f562630d620> triggered tf.function retracing. Tracing is expensive and the excessive number of tracings is likely due to passing python objects instead of tensors. Also, tf.function has experimental_relax_shapes=True option that relaxes argument shapes that can avoid unnecessary retracing. Please refer to https://www.tensorflow.org/beta/tutorials/eager/tf_function#python_or_tensor_args and https://www.tensorflow.org/api_docs/python/tf/function for more details.\n",
      "W1206 14:19:47.280374 140009638913792 def_function.py:474] 6 out of the last 15 calls to <function rotate at 0x7f5625b68378> triggered tf.function retracing. Tracing is expensive and the excessive number of tracings is likely due to passing python objects instead of tensors. Also, tf.function has experimental_relax_shapes=True option that relaxes argument shapes that can avoid unnecessary retracing. Please refer to https://www.tensorflow.org/beta/tutorials/eager/tf_function#python_or_tensor_args and https://www.tensorflow.org/api_docs/python/tf/function for more details.\n"
     ]
    },
    {
     "name": "stdout",
     "output_type": "stream",
     "text": [
      "  341/10000 [>.............................] - ETA: 1:26:36 - loss: 3.2927 - regression_loss: 2.2639 - classification_loss: 1.0288"
     ]
    },
    {
     "name": "stderr",
     "output_type": "stream",
     "text": [
      "W1206 14:19:50.358990 140009638913792 def_function.py:474] 11 out of the last 11 calls to <function to_4D_image at 0x7f562630d488> triggered tf.function retracing. Tracing is expensive and the excessive number of tracings is likely due to passing python objects instead of tensors. Also, tf.function has experimental_relax_shapes=True option that relaxes argument shapes that can avoid unnecessary retracing. Please refer to https://www.tensorflow.org/beta/tutorials/eager/tf_function#python_or_tensor_args and https://www.tensorflow.org/api_docs/python/tf/function for more details.\n",
      "W1206 14:19:50.371910 140009638913792 def_function.py:474] 11 out of the last 11 calls to <function from_4D_image at 0x7f562630d620> triggered tf.function retracing. Tracing is expensive and the excessive number of tracings is likely due to passing python objects instead of tensors. Also, tf.function has experimental_relax_shapes=True option that relaxes argument shapes that can avoid unnecessary retracing. Please refer to https://www.tensorflow.org/beta/tutorials/eager/tf_function#python_or_tensor_args and https://www.tensorflow.org/api_docs/python/tf/function for more details.\n",
      "W1206 14:19:50.376087 140009638913792 def_function.py:474] 6 out of the last 11 calls to <function transform at 0x7f562631db70> triggered tf.function retracing. Tracing is expensive and the excessive number of tracings is likely due to passing python objects instead of tensors. Also, tf.function has experimental_relax_shapes=True option that relaxes argument shapes that can avoid unnecessary retracing. Please refer to https://www.tensorflow.org/beta/tutorials/eager/tf_function#python_or_tensor_args and https://www.tensorflow.org/api_docs/python/tf/function for more details.\n",
      "W1206 14:19:50.421572 140009638913792 def_function.py:474] 11 out of the last 11 calls to <function to_4D_image at 0x7f562630d488> triggered tf.function retracing. Tracing is expensive and the excessive number of tracings is likely due to passing python objects instead of tensors. Also, tf.function has experimental_relax_shapes=True option that relaxes argument shapes that can avoid unnecessary retracing. Please refer to https://www.tensorflow.org/beta/tutorials/eager/tf_function#python_or_tensor_args and https://www.tensorflow.org/api_docs/python/tf/function for more details.\n",
      "W1206 14:19:50.435619 140009638913792 def_function.py:474] 11 out of the last 11 calls to <function from_4D_image at 0x7f562630d620> triggered tf.function retracing. Tracing is expensive and the excessive number of tracings is likely due to passing python objects instead of tensors. Also, tf.function has experimental_relax_shapes=True option that relaxes argument shapes that can avoid unnecessary retracing. Please refer to https://www.tensorflow.org/beta/tutorials/eager/tf_function#python_or_tensor_args and https://www.tensorflow.org/api_docs/python/tf/function for more details.\n",
      "W1206 14:19:50.440032 140009638913792 def_function.py:474] 7 out of the last 12 calls to <function transform at 0x7f562631db70> triggered tf.function retracing. Tracing is expensive and the excessive number of tracings is likely due to passing python objects instead of tensors. Also, tf.function has experimental_relax_shapes=True option that relaxes argument shapes that can avoid unnecessary retracing. Please refer to https://www.tensorflow.org/beta/tutorials/eager/tf_function#python_or_tensor_args and https://www.tensorflow.org/api_docs/python/tf/function for more details.\n",
      "W1206 14:19:50.486827 140009638913792 def_function.py:474] 11 out of the last 11 calls to <function to_4D_image at 0x7f562630d488> triggered tf.function retracing. Tracing is expensive and the excessive number of tracings is likely due to passing python objects instead of tensors. Also, tf.function has experimental_relax_shapes=True option that relaxes argument shapes that can avoid unnecessary retracing. Please refer to https://www.tensorflow.org/beta/tutorials/eager/tf_function#python_or_tensor_args and https://www.tensorflow.org/api_docs/python/tf/function for more details.\n",
      "W1206 14:19:50.497819 140009638913792 def_function.py:474] 11 out of the last 11 calls to <function from_4D_image at 0x7f562630d620> triggered tf.function retracing. Tracing is expensive and the excessive number of tracings is likely due to passing python objects instead of tensors. Also, tf.function has experimental_relax_shapes=True option that relaxes argument shapes that can avoid unnecessary retracing. Please refer to https://www.tensorflow.org/beta/tutorials/eager/tf_function#python_or_tensor_args and https://www.tensorflow.org/api_docs/python/tf/function for more details.\n",
      "W1206 14:19:50.501641 140009638913792 def_function.py:474] 7 out of the last 11 calls to <function transform at 0x7f562631db70> triggered tf.function retracing. Tracing is expensive and the excessive number of tracings is likely due to passing python objects instead of tensors. Also, tf.function has experimental_relax_shapes=True option that relaxes argument shapes that can avoid unnecessary retracing. Please refer to https://www.tensorflow.org/beta/tutorials/eager/tf_function#python_or_tensor_args and https://www.tensorflow.org/api_docs/python/tf/function for more details.\n",
      "W1206 14:19:50.542284 140009638913792 def_function.py:474] 11 out of the last 11 calls to <function to_4D_image at 0x7f562630d488> triggered tf.function retracing. Tracing is expensive and the excessive number of tracings is likely due to passing python objects instead of tensors. Also, tf.function has experimental_relax_shapes=True option that relaxes argument shapes that can avoid unnecessary retracing. Please refer to https://www.tensorflow.org/beta/tutorials/eager/tf_function#python_or_tensor_args and https://www.tensorflow.org/api_docs/python/tf/function for more details.\n",
      "W1206 14:19:50.553184 140009638913792 def_function.py:474] 11 out of the last 11 calls to <function from_4D_image at 0x7f562630d620> triggered tf.function retracing. Tracing is expensive and the excessive number of tracings is likely due to passing python objects instead of tensors. Also, tf.function has experimental_relax_shapes=True option that relaxes argument shapes that can avoid unnecessary retracing. Please refer to https://www.tensorflow.org/beta/tutorials/eager/tf_function#python_or_tensor_args and https://www.tensorflow.org/api_docs/python/tf/function for more details.\n",
      "W1206 14:19:50.557000 140009638913792 def_function.py:474] 7 out of the last 11 calls to <function transform at 0x7f562631db70> triggered tf.function retracing. Tracing is expensive and the excessive number of tracings is likely due to passing python objects instead of tensors. Also, tf.function has experimental_relax_shapes=True option that relaxes argument shapes that can avoid unnecessary retracing. Please refer to https://www.tensorflow.org/beta/tutorials/eager/tf_function#python_or_tensor_args and https://www.tensorflow.org/api_docs/python/tf/function for more details.\n",
      "W1206 14:19:50.571227 140009638913792 def_function.py:474] 5 out of the last 12 calls to <function translate at 0x7f5625b68d90> triggered tf.function retracing. Tracing is expensive and the excessive number of tracings is likely due to passing python objects instead of tensors. Also, tf.function has experimental_relax_shapes=True option that relaxes argument shapes that can avoid unnecessary retracing. Please refer to https://www.tensorflow.org/beta/tutorials/eager/tf_function#python_or_tensor_args and https://www.tensorflow.org/api_docs/python/tf/function for more details.\n"
     ]
    },
    {
     "name": "stdout",
     "output_type": "stream",
     "text": [
      "  346/10000 [>.............................] - ETA: 1:26:35 - loss: 3.2892 - regression_loss: 2.2626 - classification_loss: 1.0265"
     ]
    },
    {
     "name": "stderr",
     "output_type": "stream",
     "text": [
      "W1206 14:19:53.064039 140009638913792 def_function.py:474] 11 out of the last 11 calls to <function to_4D_image at 0x7f562630d488> triggered tf.function retracing. Tracing is expensive and the excessive number of tracings is likely due to passing python objects instead of tensors. Also, tf.function has experimental_relax_shapes=True option that relaxes argument shapes that can avoid unnecessary retracing. Please refer to https://www.tensorflow.org/beta/tutorials/eager/tf_function#python_or_tensor_args and https://www.tensorflow.org/api_docs/python/tf/function for more details.\n",
      "W1206 14:19:53.077187 140009638913792 def_function.py:474] 11 out of the last 11 calls to <function from_4D_image at 0x7f562630d620> triggered tf.function retracing. Tracing is expensive and the excessive number of tracings is likely due to passing python objects instead of tensors. Also, tf.function has experimental_relax_shapes=True option that relaxes argument shapes that can avoid unnecessary retracing. Please refer to https://www.tensorflow.org/beta/tutorials/eager/tf_function#python_or_tensor_args and https://www.tensorflow.org/api_docs/python/tf/function for more details.\n",
      "W1206 14:19:53.081497 140009638913792 def_function.py:474] 8 out of the last 13 calls to <function transform at 0x7f562631db70> triggered tf.function retracing. Tracing is expensive and the excessive number of tracings is likely due to passing python objects instead of tensors. Also, tf.function has experimental_relax_shapes=True option that relaxes argument shapes that can avoid unnecessary retracing. Please refer to https://www.tensorflow.org/beta/tutorials/eager/tf_function#python_or_tensor_args and https://www.tensorflow.org/api_docs/python/tf/function for more details.\n",
      "W1206 14:19:53.097467 140009638913792 def_function.py:474] 6 out of the last 15 calls to <function translate at 0x7f5625b68d90> triggered tf.function retracing. Tracing is expensive and the excessive number of tracings is likely due to passing python objects instead of tensors. Also, tf.function has experimental_relax_shapes=True option that relaxes argument shapes that can avoid unnecessary retracing. Please refer to https://www.tensorflow.org/beta/tutorials/eager/tf_function#python_or_tensor_args and https://www.tensorflow.org/api_docs/python/tf/function for more details.\n"
     ]
    },
    {
     "name": "stdout",
     "output_type": "stream",
     "text": [
      "\b\b\b\b\b\b\b\b\b\b\b\b\b\b\b\b\b\b\b\b\b\b\b\b\b\b\b\b\b\b\b\b\b\b\b\b\b\b\b\b\b\b\b\b\b\b\b\b\b\b\b\b\b\b\b\b\b\b\b\b\b\b\b\b\b\b\b\b\b\b\b\b\b\b\b\b\b\b\b\b\b\b\b\b\b\b\b\b\b\b\b\b\b\b\b\b\b\b\b\b\b\b\b\b\b\b\b\b\b\b\b\b\b\b\b\b\b\b\b\b\b\b\b\b\b\b\b\b\b\b\r",
      "  347/10000 [>.............................] - ETA: 1:26:35 - loss: 3.2875 - regression_loss: 2.2617 - classification_loss: 1.0257"
     ]
    },
    {
     "name": "stderr",
     "output_type": "stream",
     "text": [
      "W1206 14:19:53.683629 140009638913792 def_function.py:474] 11 out of the last 11 calls to <function to_4D_image at 0x7f562630d488> triggered tf.function retracing. Tracing is expensive and the excessive number of tracings is likely due to passing python objects instead of tensors. Also, tf.function has experimental_relax_shapes=True option that relaxes argument shapes that can avoid unnecessary retracing. Please refer to https://www.tensorflow.org/beta/tutorials/eager/tf_function#python_or_tensor_args and https://www.tensorflow.org/api_docs/python/tf/function for more details.\n",
      "W1206 14:19:53.700046 140009638913792 def_function.py:474] 11 out of the last 11 calls to <function from_4D_image at 0x7f562630d620> triggered tf.function retracing. Tracing is expensive and the excessive number of tracings is likely due to passing python objects instead of tensors. Also, tf.function has experimental_relax_shapes=True option that relaxes argument shapes that can avoid unnecessary retracing. Please refer to https://www.tensorflow.org/beta/tutorials/eager/tf_function#python_or_tensor_args and https://www.tensorflow.org/api_docs/python/tf/function for more details.\n",
      "W1206 14:19:53.716834 140009638913792 def_function.py:474] 8 out of the last 11 calls to <function transform at 0x7f562631db70> triggered tf.function retracing. Tracing is expensive and the excessive number of tracings is likely due to passing python objects instead of tensors. Also, tf.function has experimental_relax_shapes=True option that relaxes argument shapes that can avoid unnecessary retracing. Please refer to https://www.tensorflow.org/beta/tutorials/eager/tf_function#python_or_tensor_args and https://www.tensorflow.org/api_docs/python/tf/function for more details.\n"
     ]
    },
    {
     "name": "stdout",
     "output_type": "stream",
     "text": [
      "  351/10000 [>.............................] - ETA: 1:26:25 - loss: 3.2829 - regression_loss: 2.2543 - classification_loss: 1.0286------------------------------------------------\n",
      "tf.Tensor(0.0375, shape=(), dtype=float32)\n",
      "tf.Tensor(0.159375, shape=(), dtype=float32)\n",
      "tf.Tensor(506, shape=(), dtype=int32)\n",
      "[<tf.Tensor: id=587598, shape=(), dtype=int32, numpy=376>, <tf.Tensor: id=587600, shape=(), dtype=int32, numpy=134>]\n",
      "------------------------------------------------\n",
      "  352/10000 [>.............................] - ETA: 1:26:19 - loss: 3.2792 - regression_loss: 2.2479 - classification_loss: 1.0313"
     ]
    },
    {
     "name": "stderr",
     "output_type": "stream",
     "text": [
      "W1206 14:19:55.767124 140009638913792 def_function.py:474] 11 out of the last 11 calls to <function to_4D_image at 0x7f562630d488> triggered tf.function retracing. Tracing is expensive and the excessive number of tracings is likely due to passing python objects instead of tensors. Also, tf.function has experimental_relax_shapes=True option that relaxes argument shapes that can avoid unnecessary retracing. Please refer to https://www.tensorflow.org/beta/tutorials/eager/tf_function#python_or_tensor_args and https://www.tensorflow.org/api_docs/python/tf/function for more details.\n",
      "W1206 14:19:55.782540 140009638913792 def_function.py:474] 11 out of the last 11 calls to <function from_4D_image at 0x7f562630d620> triggered tf.function retracing. Tracing is expensive and the excessive number of tracings is likely due to passing python objects instead of tensors. Also, tf.function has experimental_relax_shapes=True option that relaxes argument shapes that can avoid unnecessary retracing. Please refer to https://www.tensorflow.org/beta/tutorials/eager/tf_function#python_or_tensor_args and https://www.tensorflow.org/api_docs/python/tf/function for more details.\n",
      "W1206 14:19:55.793873 140009638913792 def_function.py:474] 8 out of the last 12 calls to <function transform at 0x7f562631db70> triggered tf.function retracing. Tracing is expensive and the excessive number of tracings is likely due to passing python objects instead of tensors. Also, tf.function has experimental_relax_shapes=True option that relaxes argument shapes that can avoid unnecessary retracing. Please refer to https://www.tensorflow.org/beta/tutorials/eager/tf_function#python_or_tensor_args and https://www.tensorflow.org/api_docs/python/tf/function for more details.\n",
      "W1206 14:19:55.821835 140009638913792 def_function.py:474] 11 out of the last 11 calls to <function to_4D_image at 0x7f562630d488> triggered tf.function retracing. Tracing is expensive and the excessive number of tracings is likely due to passing python objects instead of tensors. Also, tf.function has experimental_relax_shapes=True option that relaxes argument shapes that can avoid unnecessary retracing. Please refer to https://www.tensorflow.org/beta/tutorials/eager/tf_function#python_or_tensor_args and https://www.tensorflow.org/api_docs/python/tf/function for more details.\n",
      "W1206 14:19:55.836319 140009638913792 def_function.py:474] 11 out of the last 11 calls to <function from_4D_image at 0x7f562630d620> triggered tf.function retracing. Tracing is expensive and the excessive number of tracings is likely due to passing python objects instead of tensors. Also, tf.function has experimental_relax_shapes=True option that relaxes argument shapes that can avoid unnecessary retracing. Please refer to https://www.tensorflow.org/beta/tutorials/eager/tf_function#python_or_tensor_args and https://www.tensorflow.org/api_docs/python/tf/function for more details.\n",
      "W1206 14:19:55.848471 140009638913792 def_function.py:474] 9 out of the last 13 calls to <function transform at 0x7f562631db70> triggered tf.function retracing. Tracing is expensive and the excessive number of tracings is likely due to passing python objects instead of tensors. Also, tf.function has experimental_relax_shapes=True option that relaxes argument shapes that can avoid unnecessary retracing. Please refer to https://www.tensorflow.org/beta/tutorials/eager/tf_function#python_or_tensor_args and https://www.tensorflow.org/api_docs/python/tf/function for more details.\n"
     ]
    },
    {
     "name": "stdout",
     "output_type": "stream",
     "text": [
      "  355/10000 [>.............................] - ETA: 1:26:19 - loss: 3.2784 - regression_loss: 2.2479 - classification_loss: 1.0305"
     ]
    },
    {
     "name": "stderr",
     "output_type": "stream",
     "text": [
      "W1206 14:19:57.483780 140009638913792 def_function.py:474] 11 out of the last 11 calls to <function to_4D_image at 0x7f562630d488> triggered tf.function retracing. Tracing is expensive and the excessive number of tracings is likely due to passing python objects instead of tensors. Also, tf.function has experimental_relax_shapes=True option that relaxes argument shapes that can avoid unnecessary retracing. Please refer to https://www.tensorflow.org/beta/tutorials/eager/tf_function#python_or_tensor_args and https://www.tensorflow.org/api_docs/python/tf/function for more details.\n",
      "W1206 14:19:57.497080 140009638913792 def_function.py:474] 11 out of the last 11 calls to <function from_4D_image at 0x7f562630d620> triggered tf.function retracing. Tracing is expensive and the excessive number of tracings is likely due to passing python objects instead of tensors. Also, tf.function has experimental_relax_shapes=True option that relaxes argument shapes that can avoid unnecessary retracing. Please refer to https://www.tensorflow.org/beta/tutorials/eager/tf_function#python_or_tensor_args and https://www.tensorflow.org/api_docs/python/tf/function for more details.\n",
      "W1206 14:19:57.501471 140009638913792 def_function.py:474] 6 out of the last 11 calls to <function transform at 0x7f562631db70> triggered tf.function retracing. Tracing is expensive and the excessive number of tracings is likely due to passing python objects instead of tensors. Also, tf.function has experimental_relax_shapes=True option that relaxes argument shapes that can avoid unnecessary retracing. Please refer to https://www.tensorflow.org/beta/tutorials/eager/tf_function#python_or_tensor_args and https://www.tensorflow.org/api_docs/python/tf/function for more details.\n",
      "W1206 14:19:57.519025 140009638913792 def_function.py:474] 5 out of the last 11 calls to <function translate at 0x7f5625b68d90> triggered tf.function retracing. Tracing is expensive and the excessive number of tracings is likely due to passing python objects instead of tensors. Also, tf.function has experimental_relax_shapes=True option that relaxes argument shapes that can avoid unnecessary retracing. Please refer to https://www.tensorflow.org/beta/tutorials/eager/tf_function#python_or_tensor_args and https://www.tensorflow.org/api_docs/python/tf/function for more details.\n"
     ]
    },
    {
     "name": "stdout",
     "output_type": "stream",
     "text": [
      "  357/10000 [>.............................] - ETA: 1:26:18 - loss: 3.2775 - regression_loss: 2.2481 - classification_loss: 1.0294"
     ]
    },
    {
     "name": "stderr",
     "output_type": "stream",
     "text": [
      "W1206 14:19:58.501260 140009638913792 def_function.py:474] 11 out of the last 11 calls to <function to_4D_image at 0x7f562630d488> triggered tf.function retracing. Tracing is expensive and the excessive number of tracings is likely due to passing python objects instead of tensors. Also, tf.function has experimental_relax_shapes=True option that relaxes argument shapes that can avoid unnecessary retracing. Please refer to https://www.tensorflow.org/beta/tutorials/eager/tf_function#python_or_tensor_args and https://www.tensorflow.org/api_docs/python/tf/function for more details.\n",
      "W1206 14:19:58.516577 140009638913792 def_function.py:474] 11 out of the last 11 calls to <function from_4D_image at 0x7f562630d620> triggered tf.function retracing. Tracing is expensive and the excessive number of tracings is likely due to passing python objects instead of tensors. Also, tf.function has experimental_relax_shapes=True option that relaxes argument shapes that can avoid unnecessary retracing. Please refer to https://www.tensorflow.org/beta/tutorials/eager/tf_function#python_or_tensor_args and https://www.tensorflow.org/api_docs/python/tf/function for more details.\n",
      "W1206 14:19:58.528386 140009638913792 def_function.py:474] 6 out of the last 11 calls to <function transform at 0x7f562631db70> triggered tf.function retracing. Tracing is expensive and the excessive number of tracings is likely due to passing python objects instead of tensors. Also, tf.function has experimental_relax_shapes=True option that relaxes argument shapes that can avoid unnecessary retracing. Please refer to https://www.tensorflow.org/beta/tutorials/eager/tf_function#python_or_tensor_args and https://www.tensorflow.org/api_docs/python/tf/function for more details.\n"
     ]
    },
    {
     "name": "stdout",
     "output_type": "stream",
     "text": [
      "  358/10000 [>.............................] - ETA: 1:26:18 - loss: 3.2762 - regression_loss: 2.2475 - classification_loss: 1.0287------------------------------------------------\n",
      "tf.Tensor(0.125, shape=(), dtype=float32)\n",
      "tf.Tensor(0.2140625, shape=(), dtype=float32)\n",
      "tf.Tensor(486, shape=(), dtype=int32)\n",
      "[<tf.Tensor: id=600304, shape=(), dtype=int32, numpy=44>, <tf.Tensor: id=600306, shape=(), dtype=int32, numpy=100>]\n",
      "------------------------------------------------\n",
      "  361/10000 [>.............................] - ETA: 1:26:12 - loss: 3.2734 - regression_loss: 2.2459 - classification_loss: 1.0274"
     ]
    },
    {
     "name": "stderr",
     "output_type": "stream",
     "text": [
      "W1206 14:20:00.632170 140009638913792 def_function.py:474] 11 out of the last 11 calls to <function to_4D_image at 0x7f562630d488> triggered tf.function retracing. Tracing is expensive and the excessive number of tracings is likely due to passing python objects instead of tensors. Also, tf.function has experimental_relax_shapes=True option that relaxes argument shapes that can avoid unnecessary retracing. Please refer to https://www.tensorflow.org/beta/tutorials/eager/tf_function#python_or_tensor_args and https://www.tensorflow.org/api_docs/python/tf/function for more details.\n",
      "W1206 14:20:00.645182 140009638913792 def_function.py:474] 11 out of the last 11 calls to <function from_4D_image at 0x7f562630d620> triggered tf.function retracing. Tracing is expensive and the excessive number of tracings is likely due to passing python objects instead of tensors. Also, tf.function has experimental_relax_shapes=True option that relaxes argument shapes that can avoid unnecessary retracing. Please refer to https://www.tensorflow.org/beta/tutorials/eager/tf_function#python_or_tensor_args and https://www.tensorflow.org/api_docs/python/tf/function for more details.\n",
      "W1206 14:20:00.649566 140009638913792 def_function.py:474] 6 out of the last 12 calls to <function transform at 0x7f562631db70> triggered tf.function retracing. Tracing is expensive and the excessive number of tracings is likely due to passing python objects instead of tensors. Also, tf.function has experimental_relax_shapes=True option that relaxes argument shapes that can avoid unnecessary retracing. Please refer to https://www.tensorflow.org/beta/tutorials/eager/tf_function#python_or_tensor_args and https://www.tensorflow.org/api_docs/python/tf/function for more details.\n",
      "W1206 14:20:00.666455 140009638913792 def_function.py:474] 5 out of the last 11 calls to <function translate at 0x7f5625b68d90> triggered tf.function retracing. Tracing is expensive and the excessive number of tracings is likely due to passing python objects instead of tensors. Also, tf.function has experimental_relax_shapes=True option that relaxes argument shapes that can avoid unnecessary retracing. Please refer to https://www.tensorflow.org/beta/tutorials/eager/tf_function#python_or_tensor_args and https://www.tensorflow.org/api_docs/python/tf/function for more details.\n"
     ]
    },
    {
     "name": "stdout",
     "output_type": "stream",
     "text": [
      "  365/10000 [>.............................] - ETA: 1:26:06 - loss: 3.2732 - regression_loss: 2.2461 - classification_loss: 1.0271"
     ]
    },
    {
     "name": "stderr",
     "output_type": "stream",
     "text": [
      "W1206 14:20:02.532305 140009638913792 def_function.py:474] 11 out of the last 11 calls to <function to_4D_image at 0x7f562630d488> triggered tf.function retracing. Tracing is expensive and the excessive number of tracings is likely due to passing python objects instead of tensors. Also, tf.function has experimental_relax_shapes=True option that relaxes argument shapes that can avoid unnecessary retracing. Please refer to https://www.tensorflow.org/beta/tutorials/eager/tf_function#python_or_tensor_args and https://www.tensorflow.org/api_docs/python/tf/function for more details.\n",
      "W1206 14:20:02.547094 140009638913792 def_function.py:474] 11 out of the last 11 calls to <function from_4D_image at 0x7f562630d620> triggered tf.function retracing. Tracing is expensive and the excessive number of tracings is likely due to passing python objects instead of tensors. Also, tf.function has experimental_relax_shapes=True option that relaxes argument shapes that can avoid unnecessary retracing. Please refer to https://www.tensorflow.org/beta/tutorials/eager/tf_function#python_or_tensor_args and https://www.tensorflow.org/api_docs/python/tf/function for more details.\n",
      "W1206 14:20:02.551793 140009638913792 def_function.py:474] 6 out of the last 11 calls to <function transform at 0x7f562631db70> triggered tf.function retracing. Tracing is expensive and the excessive number of tracings is likely due to passing python objects instead of tensors. Also, tf.function has experimental_relax_shapes=True option that relaxes argument shapes that can avoid unnecessary retracing. Please refer to https://www.tensorflow.org/beta/tutorials/eager/tf_function#python_or_tensor_args and https://www.tensorflow.org/api_docs/python/tf/function for more details.\n",
      "W1206 14:20:02.570168 140009638913792 def_function.py:474] 5 out of the last 12 calls to <function translate at 0x7f5625b68d90> triggered tf.function retracing. Tracing is expensive and the excessive number of tracings is likely due to passing python objects instead of tensors. Also, tf.function has experimental_relax_shapes=True option that relaxes argument shapes that can avoid unnecessary retracing. Please refer to https://www.tensorflow.org/beta/tutorials/eager/tf_function#python_or_tensor_args and https://www.tensorflow.org/api_docs/python/tf/function for more details.\n",
      "W1206 14:20:02.633612 140009638913792 def_function.py:474] 11 out of the last 11 calls to <function to_4D_image at 0x7f562630d488> triggered tf.function retracing. Tracing is expensive and the excessive number of tracings is likely due to passing python objects instead of tensors. Also, tf.function has experimental_relax_shapes=True option that relaxes argument shapes that can avoid unnecessary retracing. Please refer to https://www.tensorflow.org/beta/tutorials/eager/tf_function#python_or_tensor_args and https://www.tensorflow.org/api_docs/python/tf/function for more details.\n",
      "W1206 14:20:02.660635 140009638913792 def_function.py:474] 11 out of the last 11 calls to <function to_4D_image at 0x7f562630d488> triggered tf.function retracing. Tracing is expensive and the excessive number of tracings is likely due to passing python objects instead of tensors. Also, tf.function has experimental_relax_shapes=True option that relaxes argument shapes that can avoid unnecessary retracing. Please refer to https://www.tensorflow.org/beta/tutorials/eager/tf_function#python_or_tensor_args and https://www.tensorflow.org/api_docs/python/tf/function for more details.\n",
      "W1206 14:20:02.673138 140009638913792 def_function.py:474] 11 out of the last 11 calls to <function from_4D_image at 0x7f562630d620> triggered tf.function retracing. Tracing is expensive and the excessive number of tracings is likely due to passing python objects instead of tensors. Also, tf.function has experimental_relax_shapes=True option that relaxes argument shapes that can avoid unnecessary retracing. Please refer to https://www.tensorflow.org/beta/tutorials/eager/tf_function#python_or_tensor_args and https://www.tensorflow.org/api_docs/python/tf/function for more details.\n",
      "W1206 14:20:02.677498 140009638913792 def_function.py:474] 6 out of the last 11 calls to <function transform at 0x7f562631db70> triggered tf.function retracing. Tracing is expensive and the excessive number of tracings is likely due to passing python objects instead of tensors. Also, tf.function has experimental_relax_shapes=True option that relaxes argument shapes that can avoid unnecessary retracing. Please refer to https://www.tensorflow.org/beta/tutorials/eager/tf_function#python_or_tensor_args and https://www.tensorflow.org/api_docs/python/tf/function for more details.\n",
      "W1206 14:20:02.685417 140009638913792 def_function.py:474] 11 out of the last 11 calls to <function from_4D_image at 0x7f562630d620> triggered tf.function retracing. Tracing is expensive and the excessive number of tracings is likely due to passing python objects instead of tensors. Also, tf.function has experimental_relax_shapes=True option that relaxes argument shapes that can avoid unnecessary retracing. Please refer to https://www.tensorflow.org/beta/tutorials/eager/tf_function#python_or_tensor_args and https://www.tensorflow.org/api_docs/python/tf/function for more details.\n"
     ]
    },
    {
     "name": "stdout",
     "output_type": "stream",
     "text": [
      "  369/10000 [>.............................] - ETA: 1:26:05 - loss: 3.2659 - regression_loss: 2.2407 - classification_loss: 1.0252"
     ]
    },
    {
     "name": "stderr",
     "output_type": "stream",
     "text": [
      "W1206 14:20:04.740261 140009638913792 def_function.py:474] 11 out of the last 11 calls to <function to_4D_image at 0x7f562630d488> triggered tf.function retracing. Tracing is expensive and the excessive number of tracings is likely due to passing python objects instead of tensors. Also, tf.function has experimental_relax_shapes=True option that relaxes argument shapes that can avoid unnecessary retracing. Please refer to https://www.tensorflow.org/beta/tutorials/eager/tf_function#python_or_tensor_args and https://www.tensorflow.org/api_docs/python/tf/function for more details.\n",
      "W1206 14:20:04.755735 140009638913792 def_function.py:474] 11 out of the last 11 calls to <function from_4D_image at 0x7f562630d620> triggered tf.function retracing. Tracing is expensive and the excessive number of tracings is likely due to passing python objects instead of tensors. Also, tf.function has experimental_relax_shapes=True option that relaxes argument shapes that can avoid unnecessary retracing. Please refer to https://www.tensorflow.org/beta/tutorials/eager/tf_function#python_or_tensor_args and https://www.tensorflow.org/api_docs/python/tf/function for more details.\n",
      "W1206 14:20:04.768118 140009638913792 def_function.py:474] 7 out of the last 13 calls to <function transform at 0x7f562631db70> triggered tf.function retracing. Tracing is expensive and the excessive number of tracings is likely due to passing python objects instead of tensors. Also, tf.function has experimental_relax_shapes=True option that relaxes argument shapes that can avoid unnecessary retracing. Please refer to https://www.tensorflow.org/beta/tutorials/eager/tf_function#python_or_tensor_args and https://www.tensorflow.org/api_docs/python/tf/function for more details.\n",
      "W1206 14:20:04.798430 140009638913792 def_function.py:474] 11 out of the last 11 calls to <function to_4D_image at 0x7f562630d488> triggered tf.function retracing. Tracing is expensive and the excessive number of tracings is likely due to passing python objects instead of tensors. Also, tf.function has experimental_relax_shapes=True option that relaxes argument shapes that can avoid unnecessary retracing. Please refer to https://www.tensorflow.org/beta/tutorials/eager/tf_function#python_or_tensor_args and https://www.tensorflow.org/api_docs/python/tf/function for more details.\n",
      "W1206 14:20:04.812990 140009638913792 def_function.py:474] 11 out of the last 11 calls to <function from_4D_image at 0x7f562630d620> triggered tf.function retracing. Tracing is expensive and the excessive number of tracings is likely due to passing python objects instead of tensors. Also, tf.function has experimental_relax_shapes=True option that relaxes argument shapes that can avoid unnecessary retracing. Please refer to https://www.tensorflow.org/beta/tutorials/eager/tf_function#python_or_tensor_args and https://www.tensorflow.org/api_docs/python/tf/function for more details.\n",
      "W1206 14:20:04.824944 140009638913792 def_function.py:474] 8 out of the last 14 calls to <function transform at 0x7f562631db70> triggered tf.function retracing. Tracing is expensive and the excessive number of tracings is likely due to passing python objects instead of tensors. Also, tf.function has experimental_relax_shapes=True option that relaxes argument shapes that can avoid unnecessary retracing. Please refer to https://www.tensorflow.org/beta/tutorials/eager/tf_function#python_or_tensor_args and https://www.tensorflow.org/api_docs/python/tf/function for more details.\n",
      "W1206 14:20:04.900997 140009638913792 def_function.py:474] 8 out of the last 11 calls to <function transform at 0x7f562631db70> triggered tf.function retracing. Tracing is expensive and the excessive number of tracings is likely due to passing python objects instead of tensors. Also, tf.function has experimental_relax_shapes=True option that relaxes argument shapes that can avoid unnecessary retracing. Please refer to https://www.tensorflow.org/beta/tutorials/eager/tf_function#python_or_tensor_args and https://www.tensorflow.org/api_docs/python/tf/function for more details.\n",
      "W1206 14:20:04.917870 140009638913792 def_function.py:474] 5 out of the last 11 calls to <function translate at 0x7f5625b68d90> triggered tf.function retracing. Tracing is expensive and the excessive number of tracings is likely due to passing python objects instead of tensors. Also, tf.function has experimental_relax_shapes=True option that relaxes argument shapes that can avoid unnecessary retracing. Please refer to https://www.tensorflow.org/beta/tutorials/eager/tf_function#python_or_tensor_args and https://www.tensorflow.org/api_docs/python/tf/function for more details.\n"
     ]
    },
    {
     "name": "stdout",
     "output_type": "stream",
     "text": [
      "  374/10000 [>.............................] - ETA: 1:26:05 - loss: 3.2650 - regression_loss: 2.2421 - classification_loss: 1.0229"
     ]
    },
    {
     "name": "stderr",
     "output_type": "stream",
     "text": [
      "W1206 14:20:07.488215 140009638913792 def_function.py:474] 10 out of the last 11 calls to <function to_4D_image at 0x7f562630d488> triggered tf.function retracing. Tracing is expensive and the excessive number of tracings is likely due to passing python objects instead of tensors. Also, tf.function has experimental_relax_shapes=True option that relaxes argument shapes that can avoid unnecessary retracing. Please refer to https://www.tensorflow.org/beta/tutorials/eager/tf_function#python_or_tensor_args and https://www.tensorflow.org/api_docs/python/tf/function for more details.\n",
      "W1206 14:20:07.501452 140009638913792 def_function.py:474] 10 out of the last 11 calls to <function from_4D_image at 0x7f562630d620> triggered tf.function retracing. Tracing is expensive and the excessive number of tracings is likely due to passing python objects instead of tensors. Also, tf.function has experimental_relax_shapes=True option that relaxes argument shapes that can avoid unnecessary retracing. Please refer to https://www.tensorflow.org/beta/tutorials/eager/tf_function#python_or_tensor_args and https://www.tensorflow.org/api_docs/python/tf/function for more details.\n",
      "W1206 14:20:07.511598 140009638913792 def_function.py:474] 7 out of the last 11 calls to <function transform at 0x7f562631db70> triggered tf.function retracing. Tracing is expensive and the excessive number of tracings is likely due to passing python objects instead of tensors. Also, tf.function has experimental_relax_shapes=True option that relaxes argument shapes that can avoid unnecessary retracing. Please refer to https://www.tensorflow.org/beta/tutorials/eager/tf_function#python_or_tensor_args and https://www.tensorflow.org/api_docs/python/tf/function for more details.\n",
      "W1206 14:20:07.611944 140009638913792 def_function.py:474] 10 out of the last 11 calls to <function to_4D_image at 0x7f562630d488> triggered tf.function retracing. Tracing is expensive and the excessive number of tracings is likely due to passing python objects instead of tensors. Also, tf.function has experimental_relax_shapes=True option that relaxes argument shapes that can avoid unnecessary retracing. Please refer to https://www.tensorflow.org/beta/tutorials/eager/tf_function#python_or_tensor_args and https://www.tensorflow.org/api_docs/python/tf/function for more details.\n",
      "W1206 14:20:07.624799 140009638913792 def_function.py:474] 10 out of the last 11 calls to <function from_4D_image at 0x7f562630d620> triggered tf.function retracing. Tracing is expensive and the excessive number of tracings is likely due to passing python objects instead of tensors. Also, tf.function has experimental_relax_shapes=True option that relaxes argument shapes that can avoid unnecessary retracing. Please refer to https://www.tensorflow.org/beta/tutorials/eager/tf_function#python_or_tensor_args and https://www.tensorflow.org/api_docs/python/tf/function for more details.\n",
      "W1206 14:20:07.629347 140009638913792 def_function.py:474] 7 out of the last 11 calls to <function transform at 0x7f562631db70> triggered tf.function retracing. Tracing is expensive and the excessive number of tracings is likely due to passing python objects instead of tensors. Also, tf.function has experimental_relax_shapes=True option that relaxes argument shapes that can avoid unnecessary retracing. Please refer to https://www.tensorflow.org/beta/tutorials/eager/tf_function#python_or_tensor_args and https://www.tensorflow.org/api_docs/python/tf/function for more details.\n",
      "W1206 14:20:07.646196 140009638913792 def_function.py:474] 6 out of the last 12 calls to <function translate at 0x7f5625b68d90> triggered tf.function retracing. Tracing is expensive and the excessive number of tracings is likely due to passing python objects instead of tensors. Also, tf.function has experimental_relax_shapes=True option that relaxes argument shapes that can avoid unnecessary retracing. Please refer to https://www.tensorflow.org/beta/tutorials/eager/tf_function#python_or_tensor_args and https://www.tensorflow.org/api_docs/python/tf/function for more details.\n",
      "W1206 14:20:07.681408 140009638913792 def_function.py:474] 10 out of the last 11 calls to <function to_4D_image at 0x7f562630d488> triggered tf.function retracing. Tracing is expensive and the excessive number of tracings is likely due to passing python objects instead of tensors. Also, tf.function has experimental_relax_shapes=True option that relaxes argument shapes that can avoid unnecessary retracing. Please refer to https://www.tensorflow.org/beta/tutorials/eager/tf_function#python_or_tensor_args and https://www.tensorflow.org/api_docs/python/tf/function for more details.\n",
      "W1206 14:20:07.694209 140009638913792 def_function.py:474] 10 out of the last 11 calls to <function from_4D_image at 0x7f562630d620> triggered tf.function retracing. Tracing is expensive and the excessive number of tracings is likely due to passing python objects instead of tensors. Also, tf.function has experimental_relax_shapes=True option that relaxes argument shapes that can avoid unnecessary retracing. Please refer to https://www.tensorflow.org/beta/tutorials/eager/tf_function#python_or_tensor_args and https://www.tensorflow.org/api_docs/python/tf/function for more details.\n",
      "W1206 14:20:07.698663 140009638913792 def_function.py:474] 7 out of the last 11 calls to <function transform at 0x7f562631db70> triggered tf.function retracing. Tracing is expensive and the excessive number of tracings is likely due to passing python objects instead of tensors. Also, tf.function has experimental_relax_shapes=True option that relaxes argument shapes that can avoid unnecessary retracing. Please refer to https://www.tensorflow.org/beta/tutorials/eager/tf_function#python_or_tensor_args and https://www.tensorflow.org/api_docs/python/tf/function for more details.\n",
      "W1206 14:20:07.715769 140009638913792 def_function.py:474] 7 out of the last 13 calls to <function translate at 0x7f5625b68d90> triggered tf.function retracing. Tracing is expensive and the excessive number of tracings is likely due to passing python objects instead of tensors. Also, tf.function has experimental_relax_shapes=True option that relaxes argument shapes that can avoid unnecessary retracing. Please refer to https://www.tensorflow.org/beta/tutorials/eager/tf_function#python_or_tensor_args and https://www.tensorflow.org/api_docs/python/tf/function for more details.\n"
     ]
    },
    {
     "name": "stdout",
     "output_type": "stream",
     "text": [
      "  376/10000 [>.............................] - ETA: 1:26:06 - loss: 3.2590 - regression_loss: 2.2374 - classification_loss: 1.0216"
     ]
    },
    {
     "name": "stderr",
     "output_type": "stream",
     "text": [
      "W1206 14:20:08.689598 140009638913792 def_function.py:474] 10 out of the last 11 calls to <function to_4D_image at 0x7f562630d488> triggered tf.function retracing. Tracing is expensive and the excessive number of tracings is likely due to passing python objects instead of tensors. Also, tf.function has experimental_relax_shapes=True option that relaxes argument shapes that can avoid unnecessary retracing. Please refer to https://www.tensorflow.org/beta/tutorials/eager/tf_function#python_or_tensor_args and https://www.tensorflow.org/api_docs/python/tf/function for more details.\n",
      "W1206 14:20:08.700998 140009638913792 def_function.py:474] 10 out of the last 11 calls to <function from_4D_image at 0x7f562630d620> triggered tf.function retracing. Tracing is expensive and the excessive number of tracings is likely due to passing python objects instead of tensors. Also, tf.function has experimental_relax_shapes=True option that relaxes argument shapes that can avoid unnecessary retracing. Please refer to https://www.tensorflow.org/beta/tutorials/eager/tf_function#python_or_tensor_args and https://www.tensorflow.org/api_docs/python/tf/function for more details.\n",
      "W1206 14:20:08.704895 140009638913792 def_function.py:474] 8 out of the last 12 calls to <function transform at 0x7f562631db70> triggered tf.function retracing. Tracing is expensive and the excessive number of tracings is likely due to passing python objects instead of tensors. Also, tf.function has experimental_relax_shapes=True option that relaxes argument shapes that can avoid unnecessary retracing. Please refer to https://www.tensorflow.org/beta/tutorials/eager/tf_function#python_or_tensor_args and https://www.tensorflow.org/api_docs/python/tf/function for more details.\n",
      "W1206 14:20:08.718882 140009638913792 def_function.py:474] 7 out of the last 11 calls to <function translate at 0x7f5625b68d90> triggered tf.function retracing. Tracing is expensive and the excessive number of tracings is likely due to passing python objects instead of tensors. Also, tf.function has experimental_relax_shapes=True option that relaxes argument shapes that can avoid unnecessary retracing. Please refer to https://www.tensorflow.org/beta/tutorials/eager/tf_function#python_or_tensor_args and https://www.tensorflow.org/api_docs/python/tf/function for more details.\n"
     ]
    },
    {
     "name": "stdout",
     "output_type": "stream",
     "text": [
      "  382/10000 [>.............................] - ETA: 1:25:55 - loss: 3.2550 - regression_loss: 2.2355 - classification_loss: 1.0195"
     ]
    },
    {
     "name": "stderr",
     "output_type": "stream",
     "text": [
      "W1206 14:20:11.662404 140009638913792 def_function.py:474] 10 out of the last 11 calls to <function to_4D_image at 0x7f562630d488> triggered tf.function retracing. Tracing is expensive and the excessive number of tracings is likely due to passing python objects instead of tensors. Also, tf.function has experimental_relax_shapes=True option that relaxes argument shapes that can avoid unnecessary retracing. Please refer to https://www.tensorflow.org/beta/tutorials/eager/tf_function#python_or_tensor_args and https://www.tensorflow.org/api_docs/python/tf/function for more details.\n",
      "W1206 14:20:11.676234 140009638913792 def_function.py:474] 10 out of the last 11 calls to <function from_4D_image at 0x7f562630d620> triggered tf.function retracing. Tracing is expensive and the excessive number of tracings is likely due to passing python objects instead of tensors. Also, tf.function has experimental_relax_shapes=True option that relaxes argument shapes that can avoid unnecessary retracing. Please refer to https://www.tensorflow.org/beta/tutorials/eager/tf_function#python_or_tensor_args and https://www.tensorflow.org/api_docs/python/tf/function for more details.\n",
      "W1206 14:20:11.681298 140009638913792 def_function.py:474] 8 out of the last 11 calls to <function transform at 0x7f562631db70> triggered tf.function retracing. Tracing is expensive and the excessive number of tracings is likely due to passing python objects instead of tensors. Also, tf.function has experimental_relax_shapes=True option that relaxes argument shapes that can avoid unnecessary retracing. Please refer to https://www.tensorflow.org/beta/tutorials/eager/tf_function#python_or_tensor_args and https://www.tensorflow.org/api_docs/python/tf/function for more details.\n",
      "W1206 14:20:11.698824 140009638913792 def_function.py:474] 6 out of the last 11 calls to <function translate at 0x7f5625b68d90> triggered tf.function retracing. Tracing is expensive and the excessive number of tracings is likely due to passing python objects instead of tensors. Also, tf.function has experimental_relax_shapes=True option that relaxes argument shapes that can avoid unnecessary retracing. Please refer to https://www.tensorflow.org/beta/tutorials/eager/tf_function#python_or_tensor_args and https://www.tensorflow.org/api_docs/python/tf/function for more details.\n",
      "W1206 14:20:11.764630 140009638913792 def_function.py:474] 10 out of the last 11 calls to <function to_4D_image at 0x7f562630d488> triggered tf.function retracing. Tracing is expensive and the excessive number of tracings is likely due to passing python objects instead of tensors. Also, tf.function has experimental_relax_shapes=True option that relaxes argument shapes that can avoid unnecessary retracing. Please refer to https://www.tensorflow.org/beta/tutorials/eager/tf_function#python_or_tensor_args and https://www.tensorflow.org/api_docs/python/tf/function for more details.\n",
      "W1206 14:20:11.792821 140009638913792 def_function.py:474] 10 out of the last 11 calls to <function to_4D_image at 0x7f562630d488> triggered tf.function retracing. Tracing is expensive and the excessive number of tracings is likely due to passing python objects instead of tensors. Also, tf.function has experimental_relax_shapes=True option that relaxes argument shapes that can avoid unnecessary retracing. Please refer to https://www.tensorflow.org/beta/tutorials/eager/tf_function#python_or_tensor_args and https://www.tensorflow.org/api_docs/python/tf/function for more details.\n",
      "W1206 14:20:11.803482 140009638913792 def_function.py:474] 10 out of the last 11 calls to <function from_4D_image at 0x7f562630d620> triggered tf.function retracing. Tracing is expensive and the excessive number of tracings is likely due to passing python objects instead of tensors. Also, tf.function has experimental_relax_shapes=True option that relaxes argument shapes that can avoid unnecessary retracing. Please refer to https://www.tensorflow.org/beta/tutorials/eager/tf_function#python_or_tensor_args and https://www.tensorflow.org/api_docs/python/tf/function for more details.\n",
      "W1206 14:20:11.807177 140009638913792 def_function.py:474] 8 out of the last 11 calls to <function transform at 0x7f562631db70> triggered tf.function retracing. Tracing is expensive and the excessive number of tracings is likely due to passing python objects instead of tensors. Also, tf.function has experimental_relax_shapes=True option that relaxes argument shapes that can avoid unnecessary retracing. Please refer to https://www.tensorflow.org/beta/tutorials/eager/tf_function#python_or_tensor_args and https://www.tensorflow.org/api_docs/python/tf/function for more details.\n",
      "W1206 14:20:11.814158 140009638913792 def_function.py:474] 10 out of the last 11 calls to <function from_4D_image at 0x7f562630d620> triggered tf.function retracing. Tracing is expensive and the excessive number of tracings is likely due to passing python objects instead of tensors. Also, tf.function has experimental_relax_shapes=True option that relaxes argument shapes that can avoid unnecessary retracing. Please refer to https://www.tensorflow.org/beta/tutorials/eager/tf_function#python_or_tensor_args and https://www.tensorflow.org/api_docs/python/tf/function for more details.\n"
     ]
    },
    {
     "name": "stdout",
     "output_type": "stream",
     "text": [
      "  383/10000 [>.............................] - ETA: 1:25:59 - loss: 3.2525 - regression_loss: 2.2336 - classification_loss: 1.0189------------------------------------------------\n",
      "tf.Tensor(0.4328125, shape=(), dtype=float32)\n",
      "tf.Tensor(0.509375, shape=(), dtype=float32)\n",
      "tf.Tensor(318, shape=(), dtype=int32)\n",
      "[<tf.Tensor: id=642230, shape=(), dtype=int32, numpy=100>, <tf.Tensor: id=642232, shape=(), dtype=int32, numpy=86>]\n",
      "------------------------------------------------\n",
      "  384/10000 [>.............................] - ETA: 1:25:58 - loss: 3.2516 - regression_loss: 2.2328 - classification_loss: 1.0188------------------------------------------------\n",
      "tf.Tensor(0.64375, shape=(), dtype=float32)\n",
      "tf.Tensor(0.753125, shape=(), dtype=float32)\n",
      "tf.Tensor(147, shape=(), dtype=int32)\n",
      "[<tf.Tensor: id=643420, shape=(), dtype=int32, numpy=72>, <tf.Tensor: id=643422, shape=(), dtype=int32, numpy=122>]\n",
      "------------------------------------------------\n",
      "  385/10000 [>.............................] - ETA: 1:25:56 - loss: 3.2517 - regression_loss: 2.2333 - classification_loss: 1.0184"
     ]
    },
    {
     "name": "stderr",
     "output_type": "stream",
     "text": [
      "W1206 14:20:13.272786 140009638913792 def_function.py:474] 10 out of the last 11 calls to <function to_4D_image at 0x7f562630d488> triggered tf.function retracing. Tracing is expensive and the excessive number of tracings is likely due to passing python objects instead of tensors. Also, tf.function has experimental_relax_shapes=True option that relaxes argument shapes that can avoid unnecessary retracing. Please refer to https://www.tensorflow.org/beta/tutorials/eager/tf_function#python_or_tensor_args and https://www.tensorflow.org/api_docs/python/tf/function for more details.\n",
      "W1206 14:20:13.300221 140009638913792 def_function.py:474] 10 out of the last 11 calls to <function to_4D_image at 0x7f562630d488> triggered tf.function retracing. Tracing is expensive and the excessive number of tracings is likely due to passing python objects instead of tensors. Also, tf.function has experimental_relax_shapes=True option that relaxes argument shapes that can avoid unnecessary retracing. Please refer to https://www.tensorflow.org/beta/tutorials/eager/tf_function#python_or_tensor_args and https://www.tensorflow.org/api_docs/python/tf/function for more details.\n",
      "W1206 14:20:13.312567 140009638913792 def_function.py:474] 10 out of the last 11 calls to <function from_4D_image at 0x7f562630d620> triggered tf.function retracing. Tracing is expensive and the excessive number of tracings is likely due to passing python objects instead of tensors. Also, tf.function has experimental_relax_shapes=True option that relaxes argument shapes that can avoid unnecessary retracing. Please refer to https://www.tensorflow.org/beta/tutorials/eager/tf_function#python_or_tensor_args and https://www.tensorflow.org/api_docs/python/tf/function for more details.\n",
      "W1206 14:20:13.316825 140009638913792 def_function.py:474] 8 out of the last 11 calls to <function transform at 0x7f562631db70> triggered tf.function retracing. Tracing is expensive and the excessive number of tracings is likely due to passing python objects instead of tensors. Also, tf.function has experimental_relax_shapes=True option that relaxes argument shapes that can avoid unnecessary retracing. Please refer to https://www.tensorflow.org/beta/tutorials/eager/tf_function#python_or_tensor_args and https://www.tensorflow.org/api_docs/python/tf/function for more details.\n",
      "W1206 14:20:13.324674 140009638913792 def_function.py:474] 10 out of the last 11 calls to <function from_4D_image at 0x7f562630d620> triggered tf.function retracing. Tracing is expensive and the excessive number of tracings is likely due to passing python objects instead of tensors. Also, tf.function has experimental_relax_shapes=True option that relaxes argument shapes that can avoid unnecessary retracing. Please refer to https://www.tensorflow.org/beta/tutorials/eager/tf_function#python_or_tensor_args and https://www.tensorflow.org/api_docs/python/tf/function for more details.\n"
     ]
    },
    {
     "name": "stdout",
     "output_type": "stream",
     "text": [
      "\b\b\b\b\b\b\b\b\b\b\b\b\b\b\b\b\b\b\b\b\b\b\b\b\b\b\b\b\b\b\b\b\b\b\b\b\b\b\b\b\b\b\b\b\b\b\b\b\b\b\b\b\b\b\b\b\b\b\b\b\b\b\b\b\b\b\b\b\b\b\b\b\b\b\b\b\b\b\b\b\b\b\b\b\b\b\b\b\b\b\b\b\b\b\b\b\b\b\b\b\b\b\b\b\b\b\b\b\b\b\b\b\b\b\b\b\b\b\b\b\b\b\b\b\b\b\b\b\b\b\r",
      "  386/10000 [>.............................] - ETA: 1:25:57 - loss: 3.2511 - regression_loss: 2.2327 - classification_loss: 1.0184"
     ]
    },
    {
     "name": "stderr",
     "output_type": "stream",
     "text": [
      "W1206 14:20:13.869972 140009638913792 def_function.py:474] 11 out of the last 12 calls to <function to_4D_image at 0x7f562630d488> triggered tf.function retracing. Tracing is expensive and the excessive number of tracings is likely due to passing python objects instead of tensors. Also, tf.function has experimental_relax_shapes=True option that relaxes argument shapes that can avoid unnecessary retracing. Please refer to https://www.tensorflow.org/beta/tutorials/eager/tf_function#python_or_tensor_args and https://www.tensorflow.org/api_docs/python/tf/function for more details.\n",
      "W1206 14:20:13.884552 140009638913792 def_function.py:474] 11 out of the last 12 calls to <function from_4D_image at 0x7f562630d620> triggered tf.function retracing. Tracing is expensive and the excessive number of tracings is likely due to passing python objects instead of tensors. Also, tf.function has experimental_relax_shapes=True option that relaxes argument shapes that can avoid unnecessary retracing. Please refer to https://www.tensorflow.org/beta/tutorials/eager/tf_function#python_or_tensor_args and https://www.tensorflow.org/api_docs/python/tf/function for more details.\n",
      "W1206 14:20:13.895510 140009638913792 def_function.py:474] 9 out of the last 12 calls to <function transform at 0x7f562631db70> triggered tf.function retracing. Tracing is expensive and the excessive number of tracings is likely due to passing python objects instead of tensors. Also, tf.function has experimental_relax_shapes=True option that relaxes argument shapes that can avoid unnecessary retracing. Please refer to https://www.tensorflow.org/beta/tutorials/eager/tf_function#python_or_tensor_args and https://www.tensorflow.org/api_docs/python/tf/function for more details.\n"
     ]
    },
    {
     "name": "stdout",
     "output_type": "stream",
     "text": [
      "  392/10000 [>.............................] - ETA: 1:25:46 - loss: 3.2450 - regression_loss: 2.2255 - classification_loss: 1.0195"
     ]
    },
    {
     "name": "stderr",
     "output_type": "stream",
     "text": [
      "W1206 14:20:16.734296 140009638913792 def_function.py:474] 11 out of the last 11 calls to <function to_4D_image at 0x7f562630d488> triggered tf.function retracing. Tracing is expensive and the excessive number of tracings is likely due to passing python objects instead of tensors. Also, tf.function has experimental_relax_shapes=True option that relaxes argument shapes that can avoid unnecessary retracing. Please refer to https://www.tensorflow.org/beta/tutorials/eager/tf_function#python_or_tensor_args and https://www.tensorflow.org/api_docs/python/tf/function for more details.\n",
      "W1206 14:20:16.749434 140009638913792 def_function.py:474] 11 out of the last 11 calls to <function from_4D_image at 0x7f562630d620> triggered tf.function retracing. Tracing is expensive and the excessive number of tracings is likely due to passing python objects instead of tensors. Also, tf.function has experimental_relax_shapes=True option that relaxes argument shapes that can avoid unnecessary retracing. Please refer to https://www.tensorflow.org/beta/tutorials/eager/tf_function#python_or_tensor_args and https://www.tensorflow.org/api_docs/python/tf/function for more details.\n",
      "W1206 14:20:16.754285 140009638913792 def_function.py:474] 8 out of the last 11 calls to <function transform at 0x7f562631db70> triggered tf.function retracing. Tracing is expensive and the excessive number of tracings is likely due to passing python objects instead of tensors. Also, tf.function has experimental_relax_shapes=True option that relaxes argument shapes that can avoid unnecessary retracing. Please refer to https://www.tensorflow.org/beta/tutorials/eager/tf_function#python_or_tensor_args and https://www.tensorflow.org/api_docs/python/tf/function for more details.\n",
      "W1206 14:20:16.808100 140009638913792 def_function.py:474] 11 out of the last 11 calls to <function to_4D_image at 0x7f562630d488> triggered tf.function retracing. Tracing is expensive and the excessive number of tracings is likely due to passing python objects instead of tensors. Also, tf.function has experimental_relax_shapes=True option that relaxes argument shapes that can avoid unnecessary retracing. Please refer to https://www.tensorflow.org/beta/tutorials/eager/tf_function#python_or_tensor_args and https://www.tensorflow.org/api_docs/python/tf/function for more details.\n",
      "W1206 14:20:16.822233 140009638913792 def_function.py:474] 11 out of the last 11 calls to <function from_4D_image at 0x7f562630d620> triggered tf.function retracing. Tracing is expensive and the excessive number of tracings is likely due to passing python objects instead of tensors. Also, tf.function has experimental_relax_shapes=True option that relaxes argument shapes that can avoid unnecessary retracing. Please refer to https://www.tensorflow.org/beta/tutorials/eager/tf_function#python_or_tensor_args and https://www.tensorflow.org/api_docs/python/tf/function for more details.\n",
      "W1206 14:20:16.826764 140009638913792 def_function.py:474] 8 out of the last 11 calls to <function transform at 0x7f562631db70> triggered tf.function retracing. Tracing is expensive and the excessive number of tracings is likely due to passing python objects instead of tensors. Also, tf.function has experimental_relax_shapes=True option that relaxes argument shapes that can avoid unnecessary retracing. Please refer to https://www.tensorflow.org/beta/tutorials/eager/tf_function#python_or_tensor_args and https://www.tensorflow.org/api_docs/python/tf/function for more details.\n",
      "W1206 14:20:16.845324 140009638913792 def_function.py:474] 5 out of the last 13 calls to <function translate at 0x7f5625b68d90> triggered tf.function retracing. Tracing is expensive and the excessive number of tracings is likely due to passing python objects instead of tensors. Also, tf.function has experimental_relax_shapes=True option that relaxes argument shapes that can avoid unnecessary retracing. Please refer to https://www.tensorflow.org/beta/tutorials/eager/tf_function#python_or_tensor_args and https://www.tensorflow.org/api_docs/python/tf/function for more details.\n",
      "W1206 14:20:16.880082 140009638913792 def_function.py:474] 11 out of the last 11 calls to <function to_4D_image at 0x7f562630d488> triggered tf.function retracing. Tracing is expensive and the excessive number of tracings is likely due to passing python objects instead of tensors. Also, tf.function has experimental_relax_shapes=True option that relaxes argument shapes that can avoid unnecessary retracing. Please refer to https://www.tensorflow.org/beta/tutorials/eager/tf_function#python_or_tensor_args and https://www.tensorflow.org/api_docs/python/tf/function for more details.\n",
      "W1206 14:20:16.894181 140009638913792 def_function.py:474] 11 out of the last 11 calls to <function from_4D_image at 0x7f562630d620> triggered tf.function retracing. Tracing is expensive and the excessive number of tracings is likely due to passing python objects instead of tensors. Also, tf.function has experimental_relax_shapes=True option that relaxes argument shapes that can avoid unnecessary retracing. Please refer to https://www.tensorflow.org/beta/tutorials/eager/tf_function#python_or_tensor_args and https://www.tensorflow.org/api_docs/python/tf/function for more details.\n",
      "W1206 14:20:16.898832 140009638913792 def_function.py:474] 8 out of the last 11 calls to <function transform at 0x7f562631db70> triggered tf.function retracing. Tracing is expensive and the excessive number of tracings is likely due to passing python objects instead of tensors. Also, tf.function has experimental_relax_shapes=True option that relaxes argument shapes that can avoid unnecessary retracing. Please refer to https://www.tensorflow.org/beta/tutorials/eager/tf_function#python_or_tensor_args and https://www.tensorflow.org/api_docs/python/tf/function for more details.\n",
      "W1206 14:20:16.917363 140009638913792 def_function.py:474] 5 out of the last 11 calls to <function translate at 0x7f5625b68d90> triggered tf.function retracing. Tracing is expensive and the excessive number of tracings is likely due to passing python objects instead of tensors. Also, tf.function has experimental_relax_shapes=True option that relaxes argument shapes that can avoid unnecessary retracing. Please refer to https://www.tensorflow.org/beta/tutorials/eager/tf_function#python_or_tensor_args and https://www.tensorflow.org/api_docs/python/tf/function for more details.\n"
     ]
    },
    {
     "name": "stdout",
     "output_type": "stream",
     "text": [
      "  393/10000 [>.............................] - ETA: 1:25:49 - loss: 3.2427 - regression_loss: 2.2236 - classification_loss: 1.0191------------------------------------------------\n",
      "tf.Tensor(0.228125, shape=(), dtype=float32)\n",
      "tf.Tensor(0.3984375, shape=(), dtype=float32)\n",
      "tf.Tensor(368, shape=(), dtype=int32)\n",
      "[<tf.Tensor: id=658462, shape=(), dtype=int32, numpy=200>, <tf.Tensor: id=658464, shape=(), dtype=int32, numpy=188>]\n",
      "------------------------------------------------\n",
      "  394/10000 [>.............................] - ETA: 1:25:48 - loss: 3.2431 - regression_loss: 2.2243 - classification_loss: 1.0188------------------------------------------------\n",
      "tf.Tensor(0.0, shape=(), dtype=float32)\n",
      "tf.Tensor(0.05, shape=(), dtype=float32)\n",
      "tf.Tensor(608, shape=(), dtype=int32)\n",
      "[<tf.Tensor: id=660588, shape=(), dtype=int32, numpy=40>, <tf.Tensor: id=660590, shape=(), dtype=int32, numpy=32>]\n",
      "------------------------------------------------\n",
      "  401/10000 [>.............................] - ETA: 1:25:38 - loss: 3.2323 - regression_loss: 2.2140 - classification_loss: 1.0183------------------------------------------------\n",
      "tf.Tensor(0.334375, shape=(), dtype=float32)\n",
      "tf.Tensor(0.3828125, shape=(), dtype=float32)\n",
      "tf.Tensor(372, shape=(), dtype=int32)\n",
      "[<tf.Tensor: id=671386, shape=(), dtype=int32, numpy=48>, <tf.Tensor: id=671388, shape=(), dtype=int32, numpy=54>]\n",
      "------------------------------------------------\n",
      "  403/10000 [>.............................] - ETA: 1:25:35 - loss: 3.2307 - regression_loss: 2.2132 - classification_loss: 1.0175"
     ]
    },
    {
     "name": "stderr",
     "output_type": "stream",
     "text": [
      "W1206 14:20:22.416786 139998726452992 def_function.py:474] 11 out of the last 11 calls to <function to_4D_image at 0x7f562630d488> triggered tf.function retracing. Tracing is expensive and the excessive number of tracings is likely due to passing python objects instead of tensors. Also, tf.function has experimental_relax_shapes=True option that relaxes argument shapes that can avoid unnecessary retracing. Please refer to https://www.tensorflow.org/beta/tutorials/eager/tf_function#python_or_tensor_args and https://www.tensorflow.org/api_docs/python/tf/function for more details.\n",
      "W1206 14:20:22.444457 139998726452992 def_function.py:474] 11 out of the last 11 calls to <function to_4D_image at 0x7f562630d488> triggered tf.function retracing. Tracing is expensive and the excessive number of tracings is likely due to passing python objects instead of tensors. Also, tf.function has experimental_relax_shapes=True option that relaxes argument shapes that can avoid unnecessary retracing. Please refer to https://www.tensorflow.org/beta/tutorials/eager/tf_function#python_or_tensor_args and https://www.tensorflow.org/api_docs/python/tf/function for more details.\n",
      "W1206 14:20:22.463035 139998726452992 def_function.py:474] 11 out of the last 11 calls to <function from_4D_image at 0x7f562630d620> triggered tf.function retracing. Tracing is expensive and the excessive number of tracings is likely due to passing python objects instead of tensors. Also, tf.function has experimental_relax_shapes=True option that relaxes argument shapes that can avoid unnecessary retracing. Please refer to https://www.tensorflow.org/beta/tutorials/eager/tf_function#python_or_tensor_args and https://www.tensorflow.org/api_docs/python/tf/function for more details.\n",
      "W1206 14:20:22.470052 139998726452992 def_function.py:474] 5 out of the last 11 calls to <function transform at 0x7f562631db70> triggered tf.function retracing. Tracing is expensive and the excessive number of tracings is likely due to passing python objects instead of tensors. Also, tf.function has experimental_relax_shapes=True option that relaxes argument shapes that can avoid unnecessary retracing. Please refer to https://www.tensorflow.org/beta/tutorials/eager/tf_function#python_or_tensor_args and https://www.tensorflow.org/api_docs/python/tf/function for more details.\n",
      "W1206 14:20:22.481445 139998726452992 def_function.py:474] 11 out of the last 11 calls to <function from_4D_image at 0x7f562630d620> triggered tf.function retracing. Tracing is expensive and the excessive number of tracings is likely due to passing python objects instead of tensors. Also, tf.function has experimental_relax_shapes=True option that relaxes argument shapes that can avoid unnecessary retracing. Please refer to https://www.tensorflow.org/beta/tutorials/eager/tf_function#python_or_tensor_args and https://www.tensorflow.org/api_docs/python/tf/function for more details.\n",
      "W1206 14:20:22.503581 139998726452992 def_function.py:474] 5 out of the last 15 calls to <function rotate at 0x7f5625b68378> triggered tf.function retracing. Tracing is expensive and the excessive number of tracings is likely due to passing python objects instead of tensors. Also, tf.function has experimental_relax_shapes=True option that relaxes argument shapes that can avoid unnecessary retracing. Please refer to https://www.tensorflow.org/beta/tutorials/eager/tf_function#python_or_tensor_args and https://www.tensorflow.org/api_docs/python/tf/function for more details.\n",
      "W1206 14:20:22.566535 139998726452992 def_function.py:474] 11 out of the last 11 calls to <function to_4D_image at 0x7f562630d488> triggered tf.function retracing. Tracing is expensive and the excessive number of tracings is likely due to passing python objects instead of tensors. Also, tf.function has experimental_relax_shapes=True option that relaxes argument shapes that can avoid unnecessary retracing. Please refer to https://www.tensorflow.org/beta/tutorials/eager/tf_function#python_or_tensor_args and https://www.tensorflow.org/api_docs/python/tf/function for more details.\n",
      "W1206 14:20:22.586004 139998726452992 def_function.py:474] 11 out of the last 11 calls to <function from_4D_image at 0x7f562630d620> triggered tf.function retracing. Tracing is expensive and the excessive number of tracings is likely due to passing python objects instead of tensors. Also, tf.function has experimental_relax_shapes=True option that relaxes argument shapes that can avoid unnecessary retracing. Please refer to https://www.tensorflow.org/beta/tutorials/eager/tf_function#python_or_tensor_args and https://www.tensorflow.org/api_docs/python/tf/function for more details.\n",
      "W1206 14:20:22.599199 139998726452992 def_function.py:474] 6 out of the last 12 calls to <function transform at 0x7f562631db70> triggered tf.function retracing. Tracing is expensive and the excessive number of tracings is likely due to passing python objects instead of tensors. Also, tf.function has experimental_relax_shapes=True option that relaxes argument shapes that can avoid unnecessary retracing. Please refer to https://www.tensorflow.org/beta/tutorials/eager/tf_function#python_or_tensor_args and https://www.tensorflow.org/api_docs/python/tf/function for more details.\n"
     ]
    },
    {
     "name": "stdout",
     "output_type": "stream",
     "text": [
      "  408/10000 [>.............................] - ETA: 1:25:28 - loss: 3.2309 - regression_loss: 2.2120 - classification_loss: 1.0190------------------------------------------------\n",
      "tf.Tensor(0.3578125, shape=(), dtype=float32)\n",
      "tf.Tensor(0.4109375, shape=(), dtype=float32)\n",
      "tf.Tensor(359, shape=(), dtype=int32)\n",
      "[<tf.Tensor: id=680590, shape=(), dtype=int32, numpy=56>, <tf.Tensor: id=680592, shape=(), dtype=int32, numpy=60>]\n",
      "------------------------------------------------\n",
      "  409/10000 [>.............................] - ETA: 1:25:26 - loss: 3.2310 - regression_loss: 2.2125 - classification_loss: 1.0185"
     ]
    },
    {
     "name": "stderr",
     "output_type": "stream",
     "text": [
      "W1206 14:20:25.381841 139998726452992 def_function.py:474] 11 out of the last 11 calls to <function to_4D_image at 0x7f562630d488> triggered tf.function retracing. Tracing is expensive and the excessive number of tracings is likely due to passing python objects instead of tensors. Also, tf.function has experimental_relax_shapes=True option that relaxes argument shapes that can avoid unnecessary retracing. Please refer to https://www.tensorflow.org/beta/tutorials/eager/tf_function#python_or_tensor_args and https://www.tensorflow.org/api_docs/python/tf/function for more details.\n",
      "W1206 14:20:25.405166 139998726452992 def_function.py:474] 11 out of the last 11 calls to <function to_4D_image at 0x7f562630d488> triggered tf.function retracing. Tracing is expensive and the excessive number of tracings is likely due to passing python objects instead of tensors. Also, tf.function has experimental_relax_shapes=True option that relaxes argument shapes that can avoid unnecessary retracing. Please refer to https://www.tensorflow.org/beta/tutorials/eager/tf_function#python_or_tensor_args and https://www.tensorflow.org/api_docs/python/tf/function for more details.\n",
      "W1206 14:20:25.416564 139998726452992 def_function.py:474] 11 out of the last 11 calls to <function from_4D_image at 0x7f562630d620> triggered tf.function retracing. Tracing is expensive and the excessive number of tracings is likely due to passing python objects instead of tensors. Also, tf.function has experimental_relax_shapes=True option that relaxes argument shapes that can avoid unnecessary retracing. Please refer to https://www.tensorflow.org/beta/tutorials/eager/tf_function#python_or_tensor_args and https://www.tensorflow.org/api_docs/python/tf/function for more details.\n",
      "W1206 14:20:25.420219 139998726452992 def_function.py:474] 7 out of the last 14 calls to <function transform at 0x7f562631db70> triggered tf.function retracing. Tracing is expensive and the excessive number of tracings is likely due to passing python objects instead of tensors. Also, tf.function has experimental_relax_shapes=True option that relaxes argument shapes that can avoid unnecessary retracing. Please refer to https://www.tensorflow.org/beta/tutorials/eager/tf_function#python_or_tensor_args and https://www.tensorflow.org/api_docs/python/tf/function for more details.\n",
      "W1206 14:20:25.427233 139998726452992 def_function.py:474] 11 out of the last 11 calls to <function from_4D_image at 0x7f562630d620> triggered tf.function retracing. Tracing is expensive and the excessive number of tracings is likely due to passing python objects instead of tensors. Also, tf.function has experimental_relax_shapes=True option that relaxes argument shapes that can avoid unnecessary retracing. Please refer to https://www.tensorflow.org/beta/tutorials/eager/tf_function#python_or_tensor_args and https://www.tensorflow.org/api_docs/python/tf/function for more details.\n",
      "W1206 14:20:25.445859 139998726452992 def_function.py:474] 6 out of the last 16 calls to <function rotate at 0x7f5625b68378> triggered tf.function retracing. Tracing is expensive and the excessive number of tracings is likely due to passing python objects instead of tensors. Also, tf.function has experimental_relax_shapes=True option that relaxes argument shapes that can avoid unnecessary retracing. Please refer to https://www.tensorflow.org/beta/tutorials/eager/tf_function#python_or_tensor_args and https://www.tensorflow.org/api_docs/python/tf/function for more details.\n",
      "W1206 14:20:25.558904 139998726452992 def_function.py:474] 11 out of the last 11 calls to <function to_4D_image at 0x7f562630d488> triggered tf.function retracing. Tracing is expensive and the excessive number of tracings is likely due to passing python objects instead of tensors. Also, tf.function has experimental_relax_shapes=True option that relaxes argument shapes that can avoid unnecessary retracing. Please refer to https://www.tensorflow.org/beta/tutorials/eager/tf_function#python_or_tensor_args and https://www.tensorflow.org/api_docs/python/tf/function for more details.\n",
      "W1206 14:20:25.571037 139998726452992 def_function.py:474] 11 out of the last 11 calls to <function from_4D_image at 0x7f562630d620> triggered tf.function retracing. Tracing is expensive and the excessive number of tracings is likely due to passing python objects instead of tensors. Also, tf.function has experimental_relax_shapes=True option that relaxes argument shapes that can avoid unnecessary retracing. Please refer to https://www.tensorflow.org/beta/tutorials/eager/tf_function#python_or_tensor_args and https://www.tensorflow.org/api_docs/python/tf/function for more details.\n",
      "W1206 14:20:25.574869 139998726452992 def_function.py:474] 7 out of the last 11 calls to <function transform at 0x7f562631db70> triggered tf.function retracing. Tracing is expensive and the excessive number of tracings is likely due to passing python objects instead of tensors. Also, tf.function has experimental_relax_shapes=True option that relaxes argument shapes that can avoid unnecessary retracing. Please refer to https://www.tensorflow.org/beta/tutorials/eager/tf_function#python_or_tensor_args and https://www.tensorflow.org/api_docs/python/tf/function for more details.\n",
      "W1206 14:20:25.589951 139998726452992 def_function.py:474] 5 out of the last 14 calls to <function translate at 0x7f5625b68d90> triggered tf.function retracing. Tracing is expensive and the excessive number of tracings is likely due to passing python objects instead of tensors. Also, tf.function has experimental_relax_shapes=True option that relaxes argument shapes that can avoid unnecessary retracing. Please refer to https://www.tensorflow.org/beta/tutorials/eager/tf_function#python_or_tensor_args and https://www.tensorflow.org/api_docs/python/tf/function for more details.\n",
      "W1206 14:20:25.623908 139998726452992 def_function.py:474] 11 out of the last 11 calls to <function to_4D_image at 0x7f562630d488> triggered tf.function retracing. Tracing is expensive and the excessive number of tracings is likely due to passing python objects instead of tensors. Also, tf.function has experimental_relax_shapes=True option that relaxes argument shapes that can avoid unnecessary retracing. Please refer to https://www.tensorflow.org/beta/tutorials/eager/tf_function#python_or_tensor_args and https://www.tensorflow.org/api_docs/python/tf/function for more details.\n",
      "W1206 14:20:25.634846 139998726452992 def_function.py:474] 11 out of the last 11 calls to <function from_4D_image at 0x7f562630d620> triggered tf.function retracing. Tracing is expensive and the excessive number of tracings is likely due to passing python objects instead of tensors. Also, tf.function has experimental_relax_shapes=True option that relaxes argument shapes that can avoid unnecessary retracing. Please refer to https://www.tensorflow.org/beta/tutorials/eager/tf_function#python_or_tensor_args and https://www.tensorflow.org/api_docs/python/tf/function for more details.\n",
      "W1206 14:20:25.638803 139998726452992 def_function.py:474] 7 out of the last 11 calls to <function transform at 0x7f562631db70> triggered tf.function retracing. Tracing is expensive and the excessive number of tracings is likely due to passing python objects instead of tensors. Also, tf.function has experimental_relax_shapes=True option that relaxes argument shapes that can avoid unnecessary retracing. Please refer to https://www.tensorflow.org/beta/tutorials/eager/tf_function#python_or_tensor_args and https://www.tensorflow.org/api_docs/python/tf/function for more details.\n",
      "W1206 14:20:25.653703 139998726452992 def_function.py:474] 6 out of the last 15 calls to <function translate at 0x7f5625b68d90> triggered tf.function retracing. Tracing is expensive and the excessive number of tracings is likely due to passing python objects instead of tensors. Also, tf.function has experimental_relax_shapes=True option that relaxes argument shapes that can avoid unnecessary retracing. Please refer to https://www.tensorflow.org/beta/tutorials/eager/tf_function#python_or_tensor_args and https://www.tensorflow.org/api_docs/python/tf/function for more details.\n",
      "W1206 14:20:25.680665 139998726452992 def_function.py:474] 11 out of the last 11 calls to <function to_4D_image at 0x7f562630d488> triggered tf.function retracing. Tracing is expensive and the excessive number of tracings is likely due to passing python objects instead of tensors. Also, tf.function has experimental_relax_shapes=True option that relaxes argument shapes that can avoid unnecessary retracing. Please refer to https://www.tensorflow.org/beta/tutorials/eager/tf_function#python_or_tensor_args and https://www.tensorflow.org/api_docs/python/tf/function for more details.\n"
     ]
    },
    {
     "name": "stderr",
     "output_type": "stream",
     "text": [
      "W1206 14:20:25.691581 139998726452992 def_function.py:474] 11 out of the last 11 calls to <function from_4D_image at 0x7f562630d620> triggered tf.function retracing. Tracing is expensive and the excessive number of tracings is likely due to passing python objects instead of tensors. Also, tf.function has experimental_relax_shapes=True option that relaxes argument shapes that can avoid unnecessary retracing. Please refer to https://www.tensorflow.org/beta/tutorials/eager/tf_function#python_or_tensor_args and https://www.tensorflow.org/api_docs/python/tf/function for more details.\n",
      "W1206 14:20:25.695585 139998726452992 def_function.py:474] 7 out of the last 11 calls to <function transform at 0x7f562631db70> triggered tf.function retracing. Tracing is expensive and the excessive number of tracings is likely due to passing python objects instead of tensors. Also, tf.function has experimental_relax_shapes=True option that relaxes argument shapes that can avoid unnecessary retracing. Please refer to https://www.tensorflow.org/beta/tutorials/eager/tf_function#python_or_tensor_args and https://www.tensorflow.org/api_docs/python/tf/function for more details.\n",
      "W1206 14:20:25.710958 139998726452992 def_function.py:474] 6 out of the last 11 calls to <function translate at 0x7f5625b68d90> triggered tf.function retracing. Tracing is expensive and the excessive number of tracings is likely due to passing python objects instead of tensors. Also, tf.function has experimental_relax_shapes=True option that relaxes argument shapes that can avoid unnecessary retracing. Please refer to https://www.tensorflow.org/beta/tutorials/eager/tf_function#python_or_tensor_args and https://www.tensorflow.org/api_docs/python/tf/function for more details.\n"
     ]
    },
    {
     "name": "stdout",
     "output_type": "stream",
     "text": [
      "\b\b\b\b\b\b\b\b\b\b\b\b\b\b\b\b\b\b\b\b\b\b\b\b\b\b\b\b\b\b\b\b\b\b\b\b\b\b\b\b\b\b\b\b\b\b\b\b\b\b\b\b\b\b\b\b\b\b\b\b\b\b\b\b\b\b\b\b\b\b\b\b\b\b\b\b\b\b\b\b\b\b\b\b\b\b\b\b\b\b\b\b\b\b\b\b\b\b\b\b\b\b\b\b\b\b\b\b\b\b\b\b\b\b\b\b\b\b\b\b\b\b\b\b\b\b\b\b\b\b\r",
      "  410/10000 [>.............................] - ETA: 1:25:30 - loss: 3.2300 - regression_loss: 2.2119 - classification_loss: 1.0182"
     ]
    },
    {
     "name": "stderr",
     "output_type": "stream",
     "text": [
      "W1206 14:20:26.134786 139998726452992 def_function.py:474] 11 out of the last 11 calls to <function to_4D_image at 0x7f562630d488> triggered tf.function retracing. Tracing is expensive and the excessive number of tracings is likely due to passing python objects instead of tensors. Also, tf.function has experimental_relax_shapes=True option that relaxes argument shapes that can avoid unnecessary retracing. Please refer to https://www.tensorflow.org/beta/tutorials/eager/tf_function#python_or_tensor_args and https://www.tensorflow.org/api_docs/python/tf/function for more details.\n",
      "W1206 14:20:26.146973 139998726452992 def_function.py:474] 11 out of the last 11 calls to <function from_4D_image at 0x7f562630d620> triggered tf.function retracing. Tracing is expensive and the excessive number of tracings is likely due to passing python objects instead of tensors. Also, tf.function has experimental_relax_shapes=True option that relaxes argument shapes that can avoid unnecessary retracing. Please refer to https://www.tensorflow.org/beta/tutorials/eager/tf_function#python_or_tensor_args and https://www.tensorflow.org/api_docs/python/tf/function for more details.\n",
      "W1206 14:20:26.156667 139998726452992 def_function.py:474] 8 out of the last 12 calls to <function transform at 0x7f562631db70> triggered tf.function retracing. Tracing is expensive and the excessive number of tracings is likely due to passing python objects instead of tensors. Also, tf.function has experimental_relax_shapes=True option that relaxes argument shapes that can avoid unnecessary retracing. Please refer to https://www.tensorflow.org/beta/tutorials/eager/tf_function#python_or_tensor_args and https://www.tensorflow.org/api_docs/python/tf/function for more details.\n",
      "W1206 14:20:26.185613 139998726452992 def_function.py:474] 11 out of the last 11 calls to <function to_4D_image at 0x7f562630d488> triggered tf.function retracing. Tracing is expensive and the excessive number of tracings is likely due to passing python objects instead of tensors. Also, tf.function has experimental_relax_shapes=True option that relaxes argument shapes that can avoid unnecessary retracing. Please refer to https://www.tensorflow.org/beta/tutorials/eager/tf_function#python_or_tensor_args and https://www.tensorflow.org/api_docs/python/tf/function for more details.\n",
      "W1206 14:20:26.198099 139998726452992 def_function.py:474] 11 out of the last 11 calls to <function from_4D_image at 0x7f562630d620> triggered tf.function retracing. Tracing is expensive and the excessive number of tracings is likely due to passing python objects instead of tensors. Also, tf.function has experimental_relax_shapes=True option that relaxes argument shapes that can avoid unnecessary retracing. Please refer to https://www.tensorflow.org/beta/tutorials/eager/tf_function#python_or_tensor_args and https://www.tensorflow.org/api_docs/python/tf/function for more details.\n",
      "W1206 14:20:26.208383 139998726452992 def_function.py:474] 9 out of the last 13 calls to <function transform at 0x7f562631db70> triggered tf.function retracing. Tracing is expensive and the excessive number of tracings is likely due to passing python objects instead of tensors. Also, tf.function has experimental_relax_shapes=True option that relaxes argument shapes that can avoid unnecessary retracing. Please refer to https://www.tensorflow.org/beta/tutorials/eager/tf_function#python_or_tensor_args and https://www.tensorflow.org/api_docs/python/tf/function for more details.\n"
     ]
    },
    {
     "name": "stdout",
     "output_type": "stream",
     "text": [
      "  413/10000 [>.............................] - ETA: 1:25:25 - loss: 3.2291 - regression_loss: 2.2114 - classification_loss: 1.0176"
     ]
    },
    {
     "name": "stderr",
     "output_type": "stream",
     "text": [
      "W1206 14:20:27.614627 139998726452992 def_function.py:474] 11 out of the last 11 calls to <function to_4D_image at 0x7f562630d488> triggered tf.function retracing. Tracing is expensive and the excessive number of tracings is likely due to passing python objects instead of tensors. Also, tf.function has experimental_relax_shapes=True option that relaxes argument shapes that can avoid unnecessary retracing. Please refer to https://www.tensorflow.org/beta/tutorials/eager/tf_function#python_or_tensor_args and https://www.tensorflow.org/api_docs/python/tf/function for more details.\n",
      "W1206 14:20:27.630954 139998726452992 def_function.py:474] 11 out of the last 11 calls to <function from_4D_image at 0x7f562630d620> triggered tf.function retracing. Tracing is expensive and the excessive number of tracings is likely due to passing python objects instead of tensors. Also, tf.function has experimental_relax_shapes=True option that relaxes argument shapes that can avoid unnecessary retracing. Please refer to https://www.tensorflow.org/beta/tutorials/eager/tf_function#python_or_tensor_args and https://www.tensorflow.org/api_docs/python/tf/function for more details.\n",
      "W1206 14:20:27.642570 139998726452992 def_function.py:474] 10 out of the last 14 calls to <function transform at 0x7f562631db70> triggered tf.function retracing. Tracing is expensive and the excessive number of tracings is likely due to passing python objects instead of tensors. Also, tf.function has experimental_relax_shapes=True option that relaxes argument shapes that can avoid unnecessary retracing. Please refer to https://www.tensorflow.org/beta/tutorials/eager/tf_function#python_or_tensor_args and https://www.tensorflow.org/api_docs/python/tf/function for more details.\n"
     ]
    },
    {
     "name": "stdout",
     "output_type": "stream",
     "text": [
      "  416/10000 [>.............................] - ETA: 1:25:22 - loss: 3.2293 - regression_loss: 2.2127 - classification_loss: 1.0166"
     ]
    },
    {
     "name": "stderr",
     "output_type": "stream",
     "text": [
      "W1206 14:20:29.107648 139998726452992 def_function.py:474] 11 out of the last 11 calls to <function to_4D_image at 0x7f562630d488> triggered tf.function retracing. Tracing is expensive and the excessive number of tracings is likely due to passing python objects instead of tensors. Also, tf.function has experimental_relax_shapes=True option that relaxes argument shapes that can avoid unnecessary retracing. Please refer to https://www.tensorflow.org/beta/tutorials/eager/tf_function#python_or_tensor_args and https://www.tensorflow.org/api_docs/python/tf/function for more details.\n",
      "W1206 14:20:29.120785 139998726452992 def_function.py:474] 11 out of the last 11 calls to <function from_4D_image at 0x7f562630d620> triggered tf.function retracing. Tracing is expensive and the excessive number of tracings is likely due to passing python objects instead of tensors. Also, tf.function has experimental_relax_shapes=True option that relaxes argument shapes that can avoid unnecessary retracing. Please refer to https://www.tensorflow.org/beta/tutorials/eager/tf_function#python_or_tensor_args and https://www.tensorflow.org/api_docs/python/tf/function for more details.\n",
      "W1206 14:20:29.130934 139998726452992 def_function.py:474] 9 out of the last 11 calls to <function transform at 0x7f562631db70> triggered tf.function retracing. Tracing is expensive and the excessive number of tracings is likely due to passing python objects instead of tensors. Also, tf.function has experimental_relax_shapes=True option that relaxes argument shapes that can avoid unnecessary retracing. Please refer to https://www.tensorflow.org/beta/tutorials/eager/tf_function#python_or_tensor_args and https://www.tensorflow.org/api_docs/python/tf/function for more details.\n"
     ]
    },
    {
     "name": "stdout",
     "output_type": "stream",
     "text": [
      "  420/10000 [>.............................] - ETA: 1:25:22 - loss: 3.2235 - regression_loss: 2.2083 - classification_loss: 1.0152"
     ]
    },
    {
     "name": "stderr",
     "output_type": "stream",
     "text": [
      "W1206 14:20:31.465067 139998726452992 def_function.py:474] 11 out of the last 11 calls to <function to_4D_image at 0x7f562630d488> triggered tf.function retracing. Tracing is expensive and the excessive number of tracings is likely due to passing python objects instead of tensors. Also, tf.function has experimental_relax_shapes=True option that relaxes argument shapes that can avoid unnecessary retracing. Please refer to https://www.tensorflow.org/beta/tutorials/eager/tf_function#python_or_tensor_args and https://www.tensorflow.org/api_docs/python/tf/function for more details.\n",
      "W1206 14:20:31.476946 139998726452992 def_function.py:474] 11 out of the last 11 calls to <function from_4D_image at 0x7f562630d620> triggered tf.function retracing. Tracing is expensive and the excessive number of tracings is likely due to passing python objects instead of tensors. Also, tf.function has experimental_relax_shapes=True option that relaxes argument shapes that can avoid unnecessary retracing. Please refer to https://www.tensorflow.org/beta/tutorials/eager/tf_function#python_or_tensor_args and https://www.tensorflow.org/api_docs/python/tf/function for more details.\n",
      "W1206 14:20:31.486688 139998726452992 def_function.py:474] 8 out of the last 11 calls to <function transform at 0x7f562631db70> triggered tf.function retracing. Tracing is expensive and the excessive number of tracings is likely due to passing python objects instead of tensors. Also, tf.function has experimental_relax_shapes=True option that relaxes argument shapes that can avoid unnecessary retracing. Please refer to https://www.tensorflow.org/beta/tutorials/eager/tf_function#python_or_tensor_args and https://www.tensorflow.org/api_docs/python/tf/function for more details.\n",
      "W1206 14:20:31.508059 139998726452992 def_function.py:474] 11 out of the last 11 calls to <function to_4D_image at 0x7f562630d488> triggered tf.function retracing. Tracing is expensive and the excessive number of tracings is likely due to passing python objects instead of tensors. Also, tf.function has experimental_relax_shapes=True option that relaxes argument shapes that can avoid unnecessary retracing. Please refer to https://www.tensorflow.org/beta/tutorials/eager/tf_function#python_or_tensor_args and https://www.tensorflow.org/api_docs/python/tf/function for more details.\n",
      "W1206 14:20:31.521858 139998726452992 def_function.py:474] 11 out of the last 11 calls to <function from_4D_image at 0x7f562630d620> triggered tf.function retracing. Tracing is expensive and the excessive number of tracings is likely due to passing python objects instead of tensors. Also, tf.function has experimental_relax_shapes=True option that relaxes argument shapes that can avoid unnecessary retracing. Please refer to https://www.tensorflow.org/beta/tutorials/eager/tf_function#python_or_tensor_args and https://www.tensorflow.org/api_docs/python/tf/function for more details.\n",
      "W1206 14:20:31.532722 139998726452992 def_function.py:474] 8 out of the last 11 calls to <function transform at 0x7f562631db70> triggered tf.function retracing. Tracing is expensive and the excessive number of tracings is likely due to passing python objects instead of tensors. Also, tf.function has experimental_relax_shapes=True option that relaxes argument shapes that can avoid unnecessary retracing. Please refer to https://www.tensorflow.org/beta/tutorials/eager/tf_function#python_or_tensor_args and https://www.tensorflow.org/api_docs/python/tf/function for more details.\n"
     ]
    },
    {
     "name": "stdout",
     "output_type": "stream",
     "text": [
      "\b\b\b\b\b\b\b\b\b\b\b\b\b\b\b\b\b\b\b\b\b\b\b\b\b\b\b\b\b\b\b\b\b\b\b\b\b\b\b\b\b\b\b\b\b\b\b\b\b\b\b\b\b\b\b\b\b\b\b\b\b\b\b\b\b\b\b\b\b\b\b\b\b\b\b\b\b\b\b\b\b\b\b\b\b\b\b\b\b\b\b\b\b\b\b\b\b\b\b\b\b\b\b\b\b\b\b\b\b\b\b\b\b\b\b\b\b\b\b\b\b\b\b\b\b\b\b\b\b\b\r",
      "  421/10000 [>.............................] - ETA: 1:25:23 - loss: 3.2218 - regression_loss: 2.2067 - classification_loss: 1.0151"
     ]
    },
    {
     "name": "stderr",
     "output_type": "stream",
     "text": [
      "W1206 14:20:31.998001 139998726452992 def_function.py:474] 11 out of the last 11 calls to <function to_4D_image at 0x7f562630d488> triggered tf.function retracing. Tracing is expensive and the excessive number of tracings is likely due to passing python objects instead of tensors. Also, tf.function has experimental_relax_shapes=True option that relaxes argument shapes that can avoid unnecessary retracing. Please refer to https://www.tensorflow.org/beta/tutorials/eager/tf_function#python_or_tensor_args and https://www.tensorflow.org/api_docs/python/tf/function for more details.\n",
      "W1206 14:20:32.011218 139998726452992 def_function.py:474] 11 out of the last 11 calls to <function from_4D_image at 0x7f562630d620> triggered tf.function retracing. Tracing is expensive and the excessive number of tracings is likely due to passing python objects instead of tensors. Also, tf.function has experimental_relax_shapes=True option that relaxes argument shapes that can avoid unnecessary retracing. Please refer to https://www.tensorflow.org/beta/tutorials/eager/tf_function#python_or_tensor_args and https://www.tensorflow.org/api_docs/python/tf/function for more details.\n",
      "W1206 14:20:32.015623 139998726452992 def_function.py:474] 8 out of the last 11 calls to <function transform at 0x7f562631db70> triggered tf.function retracing. Tracing is expensive and the excessive number of tracings is likely due to passing python objects instead of tensors. Also, tf.function has experimental_relax_shapes=True option that relaxes argument shapes that can avoid unnecessary retracing. Please refer to https://www.tensorflow.org/beta/tutorials/eager/tf_function#python_or_tensor_args and https://www.tensorflow.org/api_docs/python/tf/function for more details.\n",
      "W1206 14:20:32.033026 139998726452992 def_function.py:474] 5 out of the last 13 calls to <function translate at 0x7f5625b68d90> triggered tf.function retracing. Tracing is expensive and the excessive number of tracings is likely due to passing python objects instead of tensors. Also, tf.function has experimental_relax_shapes=True option that relaxes argument shapes that can avoid unnecessary retracing. Please refer to https://www.tensorflow.org/beta/tutorials/eager/tf_function#python_or_tensor_args and https://www.tensorflow.org/api_docs/python/tf/function for more details.\n"
     ]
    },
    {
     "name": "stdout",
     "output_type": "stream",
     "text": [
      "  425/10000 [>.............................] - ETA: 1:25:21 - loss: 3.2191 - regression_loss: 2.2046 - classification_loss: 1.0145"
     ]
    },
    {
     "name": "stderr",
     "output_type": "stream",
     "text": [
      "W1206 14:20:34.198410 139998726452992 def_function.py:474] 11 out of the last 11 calls to <function to_4D_image at 0x7f562630d488> triggered tf.function retracing. Tracing is expensive and the excessive number of tracings is likely due to passing python objects instead of tensors. Also, tf.function has experimental_relax_shapes=True option that relaxes argument shapes that can avoid unnecessary retracing. Please refer to https://www.tensorflow.org/beta/tutorials/eager/tf_function#python_or_tensor_args and https://www.tensorflow.org/api_docs/python/tf/function for more details.\n",
      "W1206 14:20:34.211488 139998726452992 def_function.py:474] 11 out of the last 11 calls to <function from_4D_image at 0x7f562630d620> triggered tf.function retracing. Tracing is expensive and the excessive number of tracings is likely due to passing python objects instead of tensors. Also, tf.function has experimental_relax_shapes=True option that relaxes argument shapes that can avoid unnecessary retracing. Please refer to https://www.tensorflow.org/beta/tutorials/eager/tf_function#python_or_tensor_args and https://www.tensorflow.org/api_docs/python/tf/function for more details.\n",
      "W1206 14:20:34.221535 139998726452992 def_function.py:474] 6 out of the last 11 calls to <function transform at 0x7f562631db70> triggered tf.function retracing. Tracing is expensive and the excessive number of tracings is likely due to passing python objects instead of tensors. Also, tf.function has experimental_relax_shapes=True option that relaxes argument shapes that can avoid unnecessary retracing. Please refer to https://www.tensorflow.org/beta/tutorials/eager/tf_function#python_or_tensor_args and https://www.tensorflow.org/api_docs/python/tf/function for more details.\n"
     ]
    },
    {
     "name": "stdout",
     "output_type": "stream",
     "text": [
      "  431/10000 [>.............................] - ETA: 1:25:15 - loss: 3.2108 - regression_loss: 2.1999 - classification_loss: 1.0109"
     ]
    },
    {
     "name": "stderr",
     "output_type": "stream",
     "text": [
      "W1206 14:20:37.279847 139998726452992 def_function.py:474] 11 out of the last 11 calls to <function to_4D_image at 0x7f562630d488> triggered tf.function retracing. Tracing is expensive and the excessive number of tracings is likely due to passing python objects instead of tensors. Also, tf.function has experimental_relax_shapes=True option that relaxes argument shapes that can avoid unnecessary retracing. Please refer to https://www.tensorflow.org/beta/tutorials/eager/tf_function#python_or_tensor_args and https://www.tensorflow.org/api_docs/python/tf/function for more details.\n",
      "W1206 14:20:37.294649 139998726452992 def_function.py:474] 11 out of the last 11 calls to <function from_4D_image at 0x7f562630d620> triggered tf.function retracing. Tracing is expensive and the excessive number of tracings is likely due to passing python objects instead of tensors. Also, tf.function has experimental_relax_shapes=True option that relaxes argument shapes that can avoid unnecessary retracing. Please refer to https://www.tensorflow.org/beta/tutorials/eager/tf_function#python_or_tensor_args and https://www.tensorflow.org/api_docs/python/tf/function for more details.\n",
      "W1206 14:20:37.311567 139998726452992 def_function.py:474] 7 out of the last 12 calls to <function transform at 0x7f562631db70> triggered tf.function retracing. Tracing is expensive and the excessive number of tracings is likely due to passing python objects instead of tensors. Also, tf.function has experimental_relax_shapes=True option that relaxes argument shapes that can avoid unnecessary retracing. Please refer to https://www.tensorflow.org/beta/tutorials/eager/tf_function#python_or_tensor_args and https://www.tensorflow.org/api_docs/python/tf/function for more details.\n"
     ]
    },
    {
     "name": "stdout",
     "output_type": "stream",
     "text": [
      "  434/10000 [>.............................] - ETA: 1:25:10 - loss: 3.2096 - regression_loss: 2.1996 - classification_loss: 1.0100------------------------------------------------\n",
      "tf.Tensor(0.071875, shape=(), dtype=float32)\n",
      "tf.Tensor(0.23125, shape=(), dtype=float32)\n",
      "tf.Tensor(470, shape=(), dtype=int32)\n",
      "[<tf.Tensor: id=722461, shape=(), dtype=int32, numpy=222>, <tf.Tensor: id=722463, shape=(), dtype=int32, numpy=170>]\n",
      "------------------------------------------------\n",
      "  436/10000 [>.............................] - ETA: 1:25:06 - loss: 3.2061 - regression_loss: 2.1976 - classification_loss: 1.0085"
     ]
    },
    {
     "name": "stderr",
     "output_type": "stream",
     "text": [
      "W1206 14:20:39.604616 139998726452992 def_function.py:474] 11 out of the last 11 calls to <function to_4D_image at 0x7f562630d488> triggered tf.function retracing. Tracing is expensive and the excessive number of tracings is likely due to passing python objects instead of tensors. Also, tf.function has experimental_relax_shapes=True option that relaxes argument shapes that can avoid unnecessary retracing. Please refer to https://www.tensorflow.org/beta/tutorials/eager/tf_function#python_or_tensor_args and https://www.tensorflow.org/api_docs/python/tf/function for more details.\n",
      "W1206 14:20:39.620982 139998726452992 def_function.py:474] 11 out of the last 11 calls to <function from_4D_image at 0x7f562630d620> triggered tf.function retracing. Tracing is expensive and the excessive number of tracings is likely due to passing python objects instead of tensors. Also, tf.function has experimental_relax_shapes=True option that relaxes argument shapes that can avoid unnecessary retracing. Please refer to https://www.tensorflow.org/beta/tutorials/eager/tf_function#python_or_tensor_args and https://www.tensorflow.org/api_docs/python/tf/function for more details.\n",
      "W1206 14:20:39.632970 139998726452992 def_function.py:474] 7 out of the last 11 calls to <function transform at 0x7f562631db70> triggered tf.function retracing. Tracing is expensive and the excessive number of tracings is likely due to passing python objects instead of tensors. Also, tf.function has experimental_relax_shapes=True option that relaxes argument shapes that can avoid unnecessary retracing. Please refer to https://www.tensorflow.org/beta/tutorials/eager/tf_function#python_or_tensor_args and https://www.tensorflow.org/api_docs/python/tf/function for more details.\n"
     ]
    },
    {
     "name": "stdout",
     "output_type": "stream",
     "text": [
      "  438/10000 [>.............................] - ETA: 1:25:05 - loss: 3.2063 - regression_loss: 2.1973 - classification_loss: 1.0091"
     ]
    }
   ],
   "source": [
    "for experiment in opt.get_experiments():\n",
    "    N = experiment.get_parameter('N')\n",
    "    M = experiment.get_parameter('M')\n",
    "    train_generator = create_train_generator(N, M)\n",
    "    model = create_model()\n",
    "    history = model.fit_generator(generator=train_generator, steps_per_epoch=10000, epochs=5, verbose=1)\n",
    "    test_results = test_model(model, create_test_generator(), 0.3)\n",
    "    experiment.log_metric(\"mAP\", -test_results[2][0])\n",
    "    K.clear_session()\n",
    "    "
   ]
  }
 ],
 "metadata": {
  "kernelspec": {
   "display_name": "Python 3",
   "language": "python",
   "name": "python3"
  },
  "language_info": {
   "codemirror_mode": {
    "name": "ipython",
    "version": 3
   },
   "file_extension": ".py",
   "mimetype": "text/x-python",
   "name": "python",
   "nbconvert_exporter": "python",
   "pygments_lexer": "ipython3",
   "version": "3.7.3"
  }
 },
 "nbformat": 4,
 "nbformat_minor": 2
}

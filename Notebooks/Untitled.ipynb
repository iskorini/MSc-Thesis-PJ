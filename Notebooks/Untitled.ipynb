{
 "cells": [
  {
   "cell_type": "code",
   "execution_count": 12,
   "metadata": {},
   "outputs": [
    {
     "name": "stdout",
     "output_type": "stream",
     "text": [
      "2 Physical GPUs, 1 Logical GPUs\n"
     ]
    }
   ],
   "source": [
    "%matplotlib inline\n",
    "\n",
    "# import keras\n",
    "import keras\n",
    "from keras import backend as K \n",
    "\n",
    "# import keras_retinanet\n",
    "from keras_retinanet import models\n",
    "from keras_retinanet.utils.image import read_image_bgr, preprocess_image, resize_image\n",
    "from keras_retinanet.utils.visualization import draw_box, draw_caption\n",
    "from keras_retinanet.utils.colors import label_color\n",
    "from keras_retinanet.utils.gpu import setup_gpu\n",
    "from keras_retinanet.losses import smooth_l1, focal\n",
    "from keras_retinanet.preprocessing import csv_generator\n",
    "from keras_retinanet.utils.eval import evaluate\n",
    "\n",
    "# import hyperopts\n",
    "from hyperopt import fmin, tpe, hp, anneal, Trials\n",
    "\n",
    "# other imports\n",
    "from pathlib import Path\n",
    "import numpy as np\n",
    "import matplotlib.pyplot as plt\n",
    "\n",
    "setup_gpu(1)"
   ]
  },
  {
   "cell_type": "code",
   "execution_count": 3,
   "metadata": {},
   "outputs": [],
   "source": [
    "default_params = {\n",
    "    N: 3,\n",
    "    M: 10\n",
    "}\n",
    "val_annotations = Path('/data/students_home/fschipani/thesis/MSc-Thesis-PJ/Dataset/KAIST_MPD/imageSets/csv_files_NO_PEOPLE/lwir/val-all-01-no-people.csv')\n",
    "validation_generator = csv_generator.CSVGenerator(\n",
    "    val_annotations,\n",
    "    classes,\n",
    "    shuffle_groups=False,\n",
    "    auto_augment=None,\n",
    "    rand_augment=None,\n",
    "    config=None\n",
    "            )\n",
    "def create_train_generator(N, M):\n",
    "    train_generator = csv_generator.CSVGenerator(\n",
    "        annotations,\n",
    "        classes,\n",
    "        transform_generator=None,\n",
    "        visual_effect_generator=None,\n",
    "        image_min_side=800,\n",
    "        image_max_side=1333,\n",
    "        auto_augment=None,\n",
    "        rand_augment=(N,M),\n",
    "        config=None\n",
    "        )\n",
    "    return train_generator\n",
    "train_generator = create_train_generator(default_params[N], default_params[M])"
   ]
  },
  {
   "cell_type": "code",
   "execution_count": 5,
   "metadata": {},
   "outputs": [],
   "source": [
    "def create_model():\n",
    "    model_path = Path('/data/students_home/fschipani/thesis/keras-retinanet/snapshots/resnet50_coco_best_v2.1.0.h5')\n",
    "    model = models.backbone('resnet50').retinanet(num_classes=train_generator.num_classes())\n",
    "    model.load_weights(model_path, by_name=True, skip_mismatch=True)\n",
    "    model.compile(\n",
    "        loss={\n",
    "            'regression'    : smooth_l1(),\n",
    "            'classification': focal()\n",
    "        },\n",
    "        optimizer=keras.optimizers.adam(lr=1e-5, clipnorm=0.001)\n",
    "    )\n",
    "    return model"
   ]
  },
  {
   "cell_type": "code",
   "execution_count": 7,
   "metadata": {},
   "outputs": [
    {
     "data": {
      "text/plain": [
       "3"
      ]
     },
     "execution_count": 7,
     "metadata": {},
     "output_type": "execute_result"
    }
   ],
   "source": [
    "def test_model(model):\n",
    "    result = evaluate(\n",
    "        validation_generator,\n",
    "        model,\n",
    "        score_threshold=0.3,\n",
    "        iou_threshold=0.5,\n",
    "        max_detections=100,\n",
    "        save_path=None\n",
    "    )\n",
    "    return result[result.keys()[-2]]\n",
    "\n",
    "    "
   ]
  },
  {
   "cell_type": "code",
   "execution_count": 13,
   "metadata": {},
   "outputs": [],
   "source": [
    "search_space = {\n",
    "    'N': hp.choice('N', np.arange(1, 3, 1)), #[1-3]\n",
    "    'M': hp.quniform('M', low=5, high=30, q=1), #[5-30]\n",
    "}\n",
    "def fcn_to_optimize(params):\n",
    "    model = create_model()\n",
    "    train_generator = create_train_generator(params['N'], params['M'])\n",
    "    mAP = test_model(model)\n",
    "    K.clear_session()\n",
    "    return {\n",
    "        'mAP': -mAP,\n",
    "        'status': STATUS_OK\n",
    "    }\n"
   ]
  },
  {
   "cell_type": "code",
   "execution_count": null,
   "metadata": {},
   "outputs": [],
   "source": [
    "trials = Trials()\n",
    "best = fmin(fcn_to_optimize, search_space, algo=tpe.suggest, max_evals=1)\n"
   ]
  },
  {
   "cell_type": "code",
   "execution_count": null,
   "metadata": {},
   "outputs": [],
   "source": [
    "plt.figure()\n",
    "xs = [t['tid'] for t in trials.trials]\n",
    "ys = [-t['result']['mAP'] for t in trials.trials]\n",
    "plt.xlim(xs[0]-1, xs[-1]+1)\n",
    "plt.scatter(xs, ys, s=20, linewidth=0.01, alpha=0.75)\n",
    "plt.xlabel('Iteration', fontsize=16)\n",
    "plt.ylabel('Accuracy', fontsize=16)\n",
    "plt.show()"
   ]
  }
 ],
 "metadata": {
  "kernelspec": {
   "display_name": "Python 3",
   "language": "python",
   "name": "python3"
  },
  "language_info": {
   "codemirror_mode": {
    "name": "ipython",
    "version": 3
   },
   "file_extension": ".py",
   "mimetype": "text/x-python",
   "name": "python",
   "nbconvert_exporter": "python",
   "pygments_lexer": "ipython3",
   "version": "3.7.3"
  }
 },
 "nbformat": 4,
 "nbformat_minor": 2
}
